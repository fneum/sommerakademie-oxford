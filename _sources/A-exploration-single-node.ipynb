{
 "cells": [
  {
   "cell_type": "markdown",
   "id": "65d21713",
   "metadata": {},
   "source": [
    "# Models without Networks"
   ]
  },
  {
   "cell_type": "code",
   "execution_count": null,
   "id": "ff92a0c4",
   "metadata": {},
   "outputs": [],
   "source": []
  },
  {
   "cell_type": "markdown",
   "id": "458f9f02",
   "metadata": {},
   "source": [
    "## Exploration\n",
    "\n",
    "**Metrics:**\n",
    "\n",
    "### Dimensions\n",
    "\n",
    "- "
   ]
  },
  {
   "cell_type": "markdown",
   "id": "67a4cadc",
   "metadata": {},
   "source": []
  },
  {
   "cell_type": "markdown",
   "id": "9fcd2e42",
   "metadata": {},
   "source": []
  }
 ],
 "metadata": {
  "language_info": {
   "name": "python"
  }
 },
 "nbformat": 4,
 "nbformat_minor": 5
}
