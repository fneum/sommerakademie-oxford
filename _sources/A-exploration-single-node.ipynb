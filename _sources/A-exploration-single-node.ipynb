{
 "cells": [
  {
   "cell_type": "markdown",
   "id": "65d21713",
   "metadata": {},
   "source": [
    "# Models without Networks"
   ]
  },
  {
   "cell_type": "markdown",
   "id": "ff92a0c4",
   "metadata": {},
   "source": [
    "This section builds a simple country-scale energy system model without any networks (\"copperplate\") to explore the role of different generation, conversion, storage and flexibility technologies, as well as the impact of different policy constraints, such as carbon budgets, carbon pricing, and/or renewable capacity targets.\n",
    " \n",
    "\n",
    "![network-model](_assets/single-node.png)\n",
    "\n",
    "## Model Foundation\n",
    "\n"
   ]
  },
  {
   "cell_type": "code",
   "execution_count": null,
   "id": "c389e43c",
   "metadata": {},
   "outputs": [],
   "source": [
    "import pandas as pd\n",
    "import pypsa\n",
    "\n",
    "RESOLUTION = 3  # hours\n",
    "SOLVER = \"highs\" # or 'gurobi'\n",
    "CO2_PRICE = 0"
   ]
  },
  {
   "cell_type": "markdown",
   "id": "59007564",
   "metadata": {},
   "source": [
    "### Cost Assumptions"
   ]
  },
  {
   "cell_type": "markdown",
   "id": "c0566383",
   "metadata": {},
   "source": [
    "We take techno-economic assumptions from the [technology-data](https://github.com/PyPSA/technology-data) repository which collects assumptions on costs and efficiencies:"
   ]
  },
  {
   "cell_type": "code",
   "execution_count": 140,
   "id": "9d399db1",
   "metadata": {},
   "outputs": [],
   "source": [
    "YEAR = 2030\n",
    "url = f\"https://raw.githubusercontent.com/PyPSA/technology-data/master/outputs/costs_{YEAR}.csv\"\n",
    "costs = pd.read_csv(url, index_col=[0, 1])\n",
    "costs.loc[costs.unit.str.contains(\"/kW\"), \"value\"] *= 1e3\n",
    "costs = costs.value.unstack().fillna({\"discount rate\": 0.07, \"lifetime\": 20, \"FOM\": 0})\n",
    "costs.loc[[\"OCGT\", \"CCGT\"], \"CO2 intensity\"] = costs.at[\"gas\", \"CO2 intensity\"]\n",
    "costs.loc[[\"OCGT\", \"CCGT\"], \"fuel\"] = costs.at[\"gas\", \"fuel\"]"
   ]
  },
  {
   "cell_type": "markdown",
   "id": "763e0cee",
   "metadata": {},
   "source": [
    "We calculate the capital costs (i.e. annualised investment costs, €/MW/a or €/MWh/a for storage), using the discount rate and lifetime."
   ]
  },
  {
   "cell_type": "code",
   "execution_count": 141,
   "id": "f7eb0b3c",
   "metadata": {},
   "outputs": [],
   "source": [
    "def annuity(r, n):\n",
    "    return r / (1.0 - 1.0 / (1.0 + r) ** n)\n",
    "\n",
    "\n",
    "a = costs.apply(lambda x: annuity(x[\"discount rate\"], x[\"lifetime\"]), axis=1)\n",
    "costs[\"capital_cost\"] = (a + costs[\"FOM\"] / 100) * costs[\"investment\"]"
   ]
  },
  {
   "cell_type": "markdown",
   "id": "9d5aff5d",
   "metadata": {},
   "source": [
    "### Time Series"
   ]
  },
  {
   "cell_type": "markdown",
   "id": "7ea32947",
   "metadata": {},
   "source": [
    "The wind and solar capacity factor time series have been retrieved from [model.energy](https://model.energy). Go there to find more time series for other countries and plug them in here."
   ]
  },
  {
   "cell_type": "code",
   "execution_count": 142,
   "id": "5630f010",
   "metadata": {},
   "outputs": [
    {
     "data": {
      "text/html": [
       "<div>\n",
       "<style scoped>\n",
       "    .dataframe tbody tr th:only-of-type {\n",
       "        vertical-align: middle;\n",
       "    }\n",
       "\n",
       "    .dataframe tbody tr th {\n",
       "        vertical-align: top;\n",
       "    }\n",
       "\n",
       "    .dataframe thead th {\n",
       "        text-align: right;\n",
       "    }\n",
       "</style>\n",
       "<table border=\"1\" class=\"dataframe\">\n",
       "  <thead>\n",
       "    <tr style=\"text-align: right;\">\n",
       "      <th></th>\n",
       "      <th>onwind</th>\n",
       "      <th>solar</th>\n",
       "    </tr>\n",
       "  </thead>\n",
       "  <tbody>\n",
       "    <tr>\n",
       "      <th>2013-01-01 00:00:00</th>\n",
       "      <td>0.848</td>\n",
       "      <td>0.0</td>\n",
       "    </tr>\n",
       "    <tr>\n",
       "      <th>2013-01-01 01:00:00</th>\n",
       "      <td>0.846</td>\n",
       "      <td>0.0</td>\n",
       "    </tr>\n",
       "    <tr>\n",
       "      <th>2013-01-01 02:00:00</th>\n",
       "      <td>0.831</td>\n",
       "      <td>0.0</td>\n",
       "    </tr>\n",
       "  </tbody>\n",
       "</table>\n",
       "</div>"
      ],
      "text/plain": [
       "                     onwind  solar\n",
       "2013-01-01 00:00:00   0.848    0.0\n",
       "2013-01-01 01:00:00   0.846    0.0\n",
       "2013-01-01 02:00:00   0.831    0.0"
      ]
     },
     "execution_count": 142,
     "metadata": {},
     "output_type": "execute_result"
    }
   ],
   "source": [
    "url = \"https://model.energy/data/time-series-dd07c6bb61a102ba3399f062230a24fc.csv\"\n",
    "ts = pd.read_csv(url, index_col=0, parse_dates=True)\n",
    "ts.head(3)"
   ]
  },
  {
   "cell_type": "markdown",
   "id": "945c756d",
   "metadata": {},
   "source": [
    "The demand time series are exported from the [ENTSO-E Transparency Platform](https://transparency.entsoe.eu/)."
   ]
  },
  {
   "cell_type": "code",
   "execution_count": 143,
   "id": "27d4192f",
   "metadata": {},
   "outputs": [
    {
     "data": {
      "text/plain": [
       "2013-01-01 00:00:00    38617.5824\n",
       "2013-01-01 01:00:00    37058.2418\n",
       "2013-01-01 02:00:00    35576.9231\n",
       "Name: DE, dtype: float64"
      ]
     },
     "execution_count": 143,
     "metadata": {},
     "output_type": "execute_result"
    }
   ],
   "source": [
    "url = \"https://tubcloud.tu-berlin.de/s/5ZcfnfC7mEwEGWt/download/electricity-demand.csv\"\n",
    "demand = pd.read_csv(url, index_col=0, parse_dates=True)[\"DE\"]\n",
    "demand.head(3)"
   ]
  },
  {
   "cell_type": "markdown",
   "id": "c41f9b4b",
   "metadata": {},
   "source": [
    "### Model Initialisation\n",
    "\n",
    "Add buses, carriers with their associated emissions and set snapshots."
   ]
  },
  {
   "cell_type": "code",
   "execution_count": 144,
   "id": "4e795829",
   "metadata": {},
   "outputs": [],
   "source": [
    "n = pypsa.Network()\n",
    "n.add(\"Bus\", \"electricity\")\n",
    "\n",
    "n.set_snapshots(ts.index)\n",
    "\n",
    "carriers = {\n",
    "    \"wind\": \"dodgerblue\",\n",
    "    \"solar\": \"gold\",\n",
    "    \"AC\": \"navy\",\n",
    "    \"electricity demand\": \"navy\",\n",
    "    \"electrified heating\": \"steelblue\",\n",
    "    \"oil\": \"black\",\n",
    "    \"coal\": \"darkgray\",\n",
    "    \"lignite\": \"sienna\",\n",
    "    \"OCGT\": \"indianred\",\n",
    "    \"CCGT\": \"firebrick\",\n",
    "    \"biomass\": \"olivedrab\",\n",
    "    \"nuclear\": \"orange\",\n",
    "    \"battery storage 1h\": \"lightgreen\",\n",
    "    \"battery storage 3h\": \"lightgreen\",\n",
    "    \"battery storage 6h\": \"lightgreen\",\n",
    "    \"hydrogen turbine\": \"blueviolet\",\n",
    "    \"hydrogen import\": \"lavenderblush\",\n",
    "    \"electrolysis\": \"orchid\",\n",
    "    \"hydrogen storage\": \"hotpink\",\n",
    "    \"hydrogen\": \"hotpink\",\n",
    "    \"EV\": \"cadetblue\",\n",
    "    \"EV demand\": \"cadetblue\",\n",
    "    \"EV charger\": \"limegreen\",\n",
    "    \"V2G\": \"limegreen\",\n",
    "    \"EV battery\": \"teal\",\n",
    "}\n",
    "\n",
    "emissions = {\n",
    "    \"wind\": 0,\n",
    "    \"solar\": 0,\n",
    "    \"AC\": 0,\n",
    "    \"electricity demand\": 0,\n",
    "    \"electrified heating\": 0,\n",
    "    \"oil\": 0.257,\n",
    "    \"coal\": 0.336,\n",
    "    \"lignite\": 0.407,\n",
    "    \"OCGT\": 0.198,\n",
    "    \"CCGT\": 0.198,\n",
    "    \"biomass\": 0,\n",
    "    \"nuclear\": 0,\n",
    "    \"battery storage 1h\": 0,\n",
    "    \"battery storage 3h\": 0,\n",
    "    \"battery storage 6h\": 0,\n",
    "    \"hydrogen import\": 0,\n",
    "    \"hydrogen turbine\": 0,\n",
    "    \"electrolysis\": 0,\n",
    "    \"hydrogen storage\": 0,\n",
    "    \"hydrogen\": 0,\n",
    "    \"EV\": 0,\n",
    "    \"EV demand\": 0,\n",
    "    \"EV charger\": 0,\n",
    "    \"V2G\": 0,\n",
    "    \"EV battery\": 0,\n",
    "}\n",
    "n.add(\"Carrier\", carriers.keys(), color=carriers.values(), co2_emissions=emissions);"
   ]
  },
  {
   "cell_type": "markdown",
   "id": "23675cf9",
   "metadata": {},
   "source": [
    "### Demand\n",
    "\n",
    "We add an electricity demand time series with a total annual demand of around 500 TWh/a for Germany."
   ]
  },
  {
   "cell_type": "code",
   "execution_count": 145,
   "id": "1fa193c1",
   "metadata": {},
   "outputs": [],
   "source": [
    "n.add(\n",
    "    \"Load\",\n",
    "    \"electricity demand\",\n",
    "    bus=\"electricity\",\n",
    "    p_set=demand,\n",
    "    carrier=\"electricity\",\n",
    ");"
   ]
  },
  {
   "cell_type": "markdown",
   "id": "3ea806be",
   "metadata": {},
   "source": [
    "### Fossil Power Plants\n",
    "\n",
    "Here, we add fossil power plants with their respective investment costs, marginal costs, efficiencies, and CO2 emissions."
   ]
  },
  {
   "cell_type": "code",
   "execution_count": 146,
   "id": "de65fbbd",
   "metadata": {},
   "outputs": [],
   "source": [
    "for fossil in [\"coal\", \"lignite\", \"OCGT\", \"CCGT\", \"oil\"]:\n",
    "\n",
    "    marginal_cost = (\n",
    "        costs.at[fossil, \"fuel\"] / costs.at[fossil, \"efficiency\"]\n",
    "        + costs.at[fossil, \"VOM\"]\n",
    "        + CO2_PRICE * costs.at[fossil, \"CO2 intensity\"] / costs.at[fossil, \"efficiency\"]\n",
    "    )\n",
    "\n",
    "    n.add(\n",
    "        \"Generator\",\n",
    "        fossil,\n",
    "        bus=\"electricity\",\n",
    "        p_nom_extendable=True,\n",
    "        efficiency=costs.at[fossil, \"efficiency\"],\n",
    "        marginal_cost=marginal_cost,\n",
    "        capital_cost=costs.at[fossil, \"capital_cost\"],\n",
    "        carrier=fossil,\n",
    "    );"
   ]
  },
  {
   "cell_type": "markdown",
   "id": "0f05e30f",
   "metadata": {},
   "source": [
    "### Nuclear Power Plant\n",
    "\n",
    "Here, we set `p_min_pu=1` to force the plant to always run at full capacity. This is a simplification, as in reality nuclear plants can be ramped down, but not very flexibly."
   ]
  },
  {
   "cell_type": "code",
   "execution_count": 147,
   "id": "5e06e1a1",
   "metadata": {},
   "outputs": [],
   "source": [
    "marginal_cost = (\n",
    "    costs.at[\"nuclear\", \"fuel\"] / costs.at[\"nuclear\", \"efficiency\"]\n",
    "    + costs.at[\"nuclear\", \"VOM\"]\n",
    ")\n",
    "\n",
    "n.add(\n",
    "    \"Generator\",\n",
    "    \"nuclear\",\n",
    "    bus=\"electricity\",\n",
    "    p_nom_extendable=True,\n",
    "    efficiency=costs.at[\"nuclear\", \"efficiency\"],\n",
    "    marginal_cost=marginal_cost,\n",
    "    capital_cost=costs.at[\"nuclear\", \"capital_cost\"],\n",
    "    carrier=\"nuclear\",\n",
    "    p_min_pu=1,  # forced baseload operation\n",
    ");"
   ]
  },
  {
   "cell_type": "markdown",
   "id": "d28ebd94",
   "metadata": {},
   "source": [
    "### Biomass Power Plant\n",
    "\n",
    "Here, we limit the total energy output of the biomass plant by setting `e_sum_max` to represent a limited sustainable biomass potential, e.g. 50 TWh/a."
   ]
  },
  {
   "cell_type": "code",
   "execution_count": 148,
   "id": "7a02b823",
   "metadata": {},
   "outputs": [],
   "source": [
    "marginal_cost = costs.at[\"biomass\", \"fuel\"] / costs.at[\"biomass\", \"efficiency\"]\n",
    "\n",
    "n.add(\n",
    "    \"Generator\",\n",
    "    \"biomass\",\n",
    "    bus=\"electricity\",\n",
    "    p_nom_extendable=True,\n",
    "    efficiency=costs.at[\"biomass\", \"efficiency\"],\n",
    "    marginal_cost=marginal_cost,\n",
    "    capital_cost=costs.at[\"biomass\", \"capital_cost\"],\n",
    "    carrier=\"biomass\",\n",
    "    e_sum_max=50e6, # limit\n",
    ");"
   ]
  },
  {
   "cell_type": "markdown",
   "id": "a32c9339",
   "metadata": {},
   "source": [
    "### Wind and Solar\n",
    "\n",
    "Here, we set `p_max_pu` to the time series of the renewable capacity factors."
   ]
  },
  {
   "cell_type": "code",
   "execution_count": 149,
   "id": "b7564d62",
   "metadata": {},
   "outputs": [],
   "source": [
    "n.add(\n",
    "    \"Generator\",\n",
    "    \"wind\",\n",
    "    bus=\"electricity\",\n",
    "    carrier=\"wind\",\n",
    "    p_max_pu=ts.onwind,\n",
    "    capital_cost=costs.at[\"onwind\", \"capital_cost\"],\n",
    "    p_nom_extendable=True,\n",
    ")\n",
    "\n",
    "n.add(\n",
    "    \"Generator\",\n",
    "    \"solar\",\n",
    "    bus=\"electricity\",\n",
    "    carrier=\"solar\",\n",
    "    p_max_pu=ts.solar,\n",
    "    capital_cost=costs.at[\"solar\", \"capital_cost\"],\n",
    "    p_nom_extendable=True,\n",
    ");"
   ]
  },
  {
   "cell_type": "markdown",
   "id": "7d795029",
   "metadata": {},
   "source": [
    "### Batteries\n",
    "\n",
    "Here, we add batteries with energy-to-power ratios of 1, 3, and 6 hours."
   ]
  },
  {
   "cell_type": "code",
   "execution_count": 150,
   "id": "42d08b04",
   "metadata": {},
   "outputs": [],
   "source": [
    "for max_hours in [1, 3, 6]:\n",
    "    n.add(\n",
    "        \"StorageUnit\",\n",
    "        f\"battery storage {max_hours}h\",\n",
    "        bus=\"electricity\",\n",
    "        carrier=f\"battery storage {max_hours}h\",\n",
    "        max_hours=max_hours,\n",
    "        capital_cost=costs.at[\"battery inverter\", \"capital_cost\"]\n",
    "        + max_hours * costs.at[\"battery storage\", \"capital_cost\"],\n",
    "        efficiency_store=costs.at[\"battery inverter\", \"efficiency\"],\n",
    "        efficiency_dispatch=costs.at[\"battery inverter\", \"efficiency\"],\n",
    "        p_nom_extendable=True,\n",
    "        cyclic_state_of_charge=True,\n",
    "    )"
   ]
  },
  {
   "cell_type": "markdown",
   "id": "3145e0e6",
   "metadata": {},
   "source": [
    "### Hydrogen\n",
    "\n",
    "Here, we add a hydrogen storage system with electrolysers, underground storage, and a hydrogen turbine. Additionally, there is a constant hydrogen demand in the order of 50% of the average electricity demand. There is also the option to import hydrogen at high cost."
   ]
  },
  {
   "cell_type": "code",
   "execution_count": 151,
   "id": "d4ca9042",
   "metadata": {},
   "outputs": [],
   "source": [
    "n.add(\"Bus\", \"hydrogen\", carrier=\"hydrogen\")\n",
    "\n",
    "n.add(\n",
    "    \"Load\",\n",
    "    \"hydrogen demand\",\n",
    "    bus=\"hydrogen\",\n",
    "    p_set=demand.mean() / 2,\n",
    "    carrier=\"hydrogen\",\n",
    ")\n",
    "\n",
    "n.add(\n",
    "    \"Link\",\n",
    "    \"electrolysis\",\n",
    "    bus0=\"electricity\",\n",
    "    bus1=\"hydrogen\",\n",
    "    carrier=\"electrolysis\",\n",
    "    p_nom_extendable=True,\n",
    "    efficiency=costs.at[\"electrolysis\", \"efficiency\"],\n",
    "    capital_cost=costs.at[\"electrolysis\", \"capital_cost\"],\n",
    ")\n",
    "n.add(\n",
    "    \"Link\",\n",
    "    \"hydrogen turbine\",\n",
    "    bus0=\"hydrogen\",\n",
    "    bus1=\"electricity\",\n",
    "    carrier=\"hydrogen turbine\",\n",
    "    p_nom_extendable=True,\n",
    "    efficiency=costs.at[\"OCGT\", \"efficiency\"],\n",
    "    capital_cost=costs.at[\"OCGT\", \"capital_cost\"] / costs.at[\"OCGT\", \"efficiency\"],\n",
    ")\n",
    "\n",
    "tech = \"hydrogen storage tank type 1 including compressor\"\n",
    "tech = \"hydrogen storage underground\"\n",
    "\n",
    "n.add(\n",
    "    \"Store\",\n",
    "    \"hydrogen storage\",\n",
    "    bus=\"hydrogen\",\n",
    "    carrier=\"hydrogen storage\",\n",
    "    capital_cost=costs.at[tech, \"capital_cost\"],\n",
    "    e_nom_extendable=True,\n",
    "    e_cyclic=True,\n",
    ");\n",
    "\n",
    "n.add(\n",
    "    \"Generator\",\n",
    "    \"hydrogen import\",\n",
    "    bus=\"hydrogen\",\n",
    "    p_nom=10_000,  # large value\n",
    "    marginal_cost=200,\n",
    "    carrier=\"hydrogen import\",\n",
    ");\n"
   ]
  },
  {
   "cell_type": "markdown",
   "id": "b847d467",
   "metadata": {},
   "source": [
    "### Electric Vehicles\n",
    "\n",
    "Here, we add electric vehicles (EV) as previously shown in the sector-coupling tutorial. Electric vehicles have an availability profile for when they are connected to the grid, and a requirement profile for the minimum state of charge they should have at certain times of the day (e.g. 75% at 6 AM). Fractions of the total fleet participate in smart charging and vehicle-to-grid (V2G). The charging power and battery sizes are based on a total of 40 million EVs with 50 kWh batteries and a maximum charging power of 11 kW."
   ]
  },
  {
   "cell_type": "code",
   "execution_count": 152,
   "id": "51e2b7e7",
   "metadata": {},
   "outputs": [],
   "source": [
    "number_cars = 40e6  #  number of EV cars\n",
    "bev_charger_rate = 0.011  # 3-phase EV charger with 11 kW\n",
    "p_nom = number_cars * bev_charger_rate\n",
    "\n",
    "bev_energy = 0.05  # average battery size of EV in MWh\n",
    "bev_dsm_participants = 0.5  # share of cars that do smart charging\n",
    "e_nom = number_cars * bev_energy * bev_dsm_participants\n",
    "\n",
    "url = \"https://tubcloud.tu-berlin.de/s/9r5bMSbzzQiqG7H/download/electric-vehicle-profile-example.csv\"\n",
    "p_set = pd.read_csv(url, index_col=0, parse_dates=True).squeeze()\n",
    "p_set = p_set.resample(\"1h\").mean().interpolate()\n",
    "p_set.index = p_set.index.shift(-(2 * 365), freq=\"D\")\n",
    "p_set = p_set.reindex(n.snapshots).ffill()\n",
    "\n",
    "url = \"https://tubcloud.tu-berlin.de/s/E3PBWPfYaWwCq7a/download/electric-vehicle-availability-example.csv\"\n",
    "available = pd.read_csv(url, index_col=0, parse_dates=True).squeeze()\n",
    "available = available.resample(\"1h\").mean().interpolate()\n",
    "available.index = available.index.shift(-(2 * 365), freq=\"D\")\n",
    "available = available.reindex(n.snapshots).ffill()\n",
    "\n",
    "n.add(\"Bus\", \"EV\", carrier=\"EV\")\n",
    "\n",
    "n.add(\"Load\", \"EV demand\", bus=\"EV\", carrier=\"EV demand\", p_set=p_set)\n",
    "\n",
    "n.add(\n",
    "    \"Link\",\n",
    "    \"EV charger\",\n",
    "    bus0=\"electricity\",\n",
    "    bus1=\"EV\",\n",
    "    p_nom=p_nom,\n",
    "    carrier=\"EV charger\",\n",
    "    p_max_pu=available,\n",
    "    efficiency=0.9,\n",
    ")\n",
    "\n",
    "n.add(\n",
    "    \"Link\",\n",
    "    \"V2G\",\n",
    "    bus0=\"EV\",\n",
    "    bus1=\"electricity\",\n",
    "    p_nom=p_nom,\n",
    "    carrier=\"V2G\",\n",
    "    p_max_pu=available,\n",
    "    efficiency=0.9,\n",
    ")\n",
    "\n",
    "requirement = pd.Series(0., index=n.snapshots)\n",
    "requirement.where(requirement.index.hour != 6, 0.75, inplace=True)\n",
    "\n",
    "n.add(\n",
    "    \"Store\",\n",
    "    \"EV battery\",\n",
    "    bus=\"EV\",\n",
    "    carrier=\"EV battery\",\n",
    "    e_cyclic=True,  # state of charge at beginning = state of charge at the end\n",
    "    e_nom=e_nom,\n",
    "    e_min_pu=requirement,\n",
    ");"
   ]
  },
  {
   "cell_type": "markdown",
   "id": "14d2deda",
   "metadata": {},
   "source": [
    "### Emission Limit\n",
    "\n",
    "Here, we could set a CO2 emission limit for the whole system, e.g. 100 MtCO2/a."
   ]
  },
  {
   "cell_type": "code",
   "execution_count": 153,
   "id": "56addd9e",
   "metadata": {},
   "outputs": [],
   "source": [
    "# n.add(\n",
    "#     \"GlobalConstraint\",\n",
    "#     \"emission_limit\",\n",
    "#     carrier_attribute=\"co2_emissions\",\n",
    "#     sense=\"<=\",\n",
    "#     constant=0,\n",
    "# );"
   ]
  },
  {
   "cell_type": "markdown",
   "id": "19c83789",
   "metadata": {},
   "source": [
    "### Electrified Heating\n",
    "\n",
    "Here, we could add an additional load representing electricity demand from electrified heating (e.g. heat pumps) with a seasonal profile."
   ]
  },
  {
   "cell_type": "code",
   "execution_count": 154,
   "id": "08164374",
   "metadata": {},
   "outputs": [],
   "source": [
    "# url = \"https://tubcloud.tu-berlin.de/s/8KWqTAHEM9m8dFj/download/heat-demand.csv\"\n",
    "# p_set = pd.read_csv(url, index_col=0, parse_dates=True).squeeze()\n",
    "# p_set = p_set / p_set.max() * demand.mean() / 2\n",
    "# n.add(\n",
    "#     \"Load\",\n",
    "#     \"electrified heating\",\n",
    "#     bus=\"electricity\",\n",
    "#     p_set=p_set,\n",
    "#     carrier=\"electrified heating\",\n",
    "# );"
   ]
  },
  {
   "cell_type": "markdown",
   "id": "cf6bd4ee",
   "metadata": {},
   "source": [
    "### Temporal Clustering"
   ]
  },
  {
   "cell_type": "markdown",
   "id": "7c050873",
   "metadata": {},
   "source": [
    "To save some computation time, we only sample every third snapshot, which corresponds to a temporal resolution of 3 hours. Note that the snapshot weightings (the duration each time step represents) have to be adjusted accordingly."
   ]
  },
  {
   "cell_type": "code",
   "execution_count": 155,
   "id": "648ebb3f",
   "metadata": {},
   "outputs": [],
   "source": [
    "n.set_snapshots(n.snapshots[::RESOLUTION])\n",
    "n.snapshot_weightings.loc[:, :] = RESOLUTION\n"
   ]
  },
  {
   "cell_type": "markdown",
   "id": "ac6d740f",
   "metadata": {},
   "source": [
    "## Exploration\n",
    "\n",
    "We could now already run the optimisation and look at a first set of results."
   ]
  },
  {
   "cell_type": "code",
   "execution_count": 156,
   "id": "40633f4e",
   "metadata": {},
   "outputs": [
    {
     "name": "stderr",
     "output_type": "stream",
     "text": [
      "WARNING:pypsa.consistency:The following loads have carriers which are not defined:\n",
      "Index(['electricity demand'], dtype='object', name='Load')\n",
      "INFO:linopy.model: Solve problem using Gurobi solver\n",
      "INFO:linopy.model:Solver options:\n",
      " - log_to_console: False\n",
      "INFO:linopy.io:Writing objective.\n",
      "Writing constraints.: 100%|\u001b[38;2;128;191;255m██████████\u001b[0m| 30/30 [00:00<00:00, 34.25it/s]\n",
      "Writing continuous variables.: 100%|\u001b[38;2;128;191;255m██████████\u001b[0m| 11/11 [00:00<00:00, 78.29it/s]\n",
      "INFO:linopy.io: Writing time: 1.06s\n"
     ]
    },
    {
     "name": "stdout",
     "output_type": "stream",
     "text": [
      "Set parameter TokenServer to value \"gurobi-license.pypsa.org\"\n"
     ]
    },
    {
     "name": "stderr",
     "output_type": "stream",
     "text": [
      "INFO:gurobipy:Set parameter TokenServer to value \"gurobi-license.pypsa.org\"\n"
     ]
    },
    {
     "name": "stdout",
     "output_type": "stream",
     "text": [
      "Read LP format model from file /tmp/linopy-problem-_c60ry4g.lp\n"
     ]
    },
    {
     "name": "stderr",
     "output_type": "stream",
     "text": [
      "INFO:gurobipy:Read LP format model from file /tmp/linopy-problem-_c60ry4g.lp\n"
     ]
    },
    {
     "name": "stdout",
     "output_type": "stream",
     "text": [
      "Reading time = 0.21 seconds\n"
     ]
    },
    {
     "name": "stderr",
     "output_type": "stream",
     "text": [
      "INFO:gurobipy:Reading time = 0.21 seconds\n"
     ]
    },
    {
     "name": "stdout",
     "output_type": "stream",
     "text": [
      "obj: 169376 rows, 78855 columns, 340188 nonzeros\n"
     ]
    },
    {
     "name": "stderr",
     "output_type": "stream",
     "text": [
      "INFO:gurobipy:obj: 169376 rows, 78855 columns, 340188 nonzeros\n"
     ]
    },
    {
     "name": "stdout",
     "output_type": "stream",
     "text": [
      "Set parameter LogToConsole to value 0\n"
     ]
    },
    {
     "name": "stderr",
     "output_type": "stream",
     "text": [
      "INFO:gurobipy:Set parameter LogToConsole to value 0\n",
      "INFO:gurobipy:Gurobi Optimizer version 12.0.3 build v12.0.3rc0 (linux64 - \"Ubuntu 24.10\")\n",
      "INFO:gurobipy:\n",
      "INFO:gurobipy:CPU model: AMD Ryzen 7 PRO 7840U w/ Radeon 780M Graphics, instruction set [SSE2|AVX|AVX2|AVX512]\n",
      "INFO:gurobipy:Thread count: 8 physical cores, 16 logical processors, using up to 16 threads\n",
      "INFO:gurobipy:\n",
      "INFO:gurobipy:Non-default parameters:\n",
      "INFO:gurobipy:LogToConsole  0\n",
      "INFO:gurobipy:\n",
      "INFO:gurobipy:Optimize a model with 169376 rows, 78855 columns and 340188 nonzeros\n",
      "INFO:gurobipy:Model fingerprint: 0x23ccacb3\n",
      "INFO:gurobipy:Coefficient statistics:\n",
      "INFO:gurobipy:  Matrix range     [1e-03, 6e+00]\n",
      "INFO:gurobipy:  Objective range  [4e+01, 8e+05]\n",
      "INFO:gurobipy:  Bounds range     [0e+00, 0e+00]\n",
      "INFO:gurobipy:  RHS range        [2e+03, 5e+07]\n",
      "INFO:gurobipy:Presolve removed 94922 rows and 10227 columns\n",
      "INFO:gurobipy:Presolve time: 0.28s\n",
      "INFO:gurobipy:Presolved: 74454 rows, 68628 columns, 232119 nonzeros\n",
      "INFO:gurobipy:\n",
      "INFO:gurobipy:Concurrent LP optimizer: primal simplex, dual simplex, and barrier\n",
      "INFO:gurobipy:Showing barrier log only...\n",
      "INFO:gurobipy:\n",
      "INFO:gurobipy:Ordering time: 0.05s\n",
      "INFO:gurobipy:\n",
      "INFO:gurobipy:Barrier statistics:\n",
      "INFO:gurobipy: Dense cols : 15\n",
      "INFO:gurobipy: AA' NZ     : 1.869e+05\n",
      "INFO:gurobipy: Factor NZ  : 8.790e+05 (roughly 70 MB of memory)\n",
      "INFO:gurobipy: Factor Ops : 1.732e+07 (less than 1 second per iteration)\n",
      "INFO:gurobipy: Threads    : 6\n",
      "INFO:gurobipy:\n",
      "INFO:gurobipy:                  Objective                Residual\n",
      "INFO:gurobipy:Iter       Primal          Dual         Primal    Dual     Compl     Time\n",
      "INFO:gurobipy:   0   9.18909941e+12 -5.29509868e+13  5.52e+09 1.20e+02  2.01e+10     1s\n",
      "INFO:gurobipy:   1   9.06240463e+12 -4.63210919e+13  5.05e+09 1.58e+03  7.57e+09     1s\n",
      "INFO:gurobipy:   2   1.12636667e+13 -3.97834184e+13  7.00e+08 4.37e+02  1.87e+09     1s\n",
      "INFO:gurobipy:   3   7.83211937e+12 -8.91560047e+12  3.44e+05 8.16e+00  1.40e+08     1s\n",
      "INFO:gurobipy:   4   2.31674373e+12 -1.71552242e+12  6.52e+04 1.45e+00  3.13e+07     1s\n",
      "INFO:gurobipy:   5   1.08122715e+12 -5.69832892e+11  2.83e+04 4.80e-01  1.24e+07     1s\n",
      "INFO:gurobipy:   6   4.79952709e+11 -2.70749040e+11  1.17e+04 2.19e-01  5.56e+06     1s\n",
      "INFO:gurobipy:   7   3.04605266e+11 -9.83505819e+10  6.98e+03 8.18e-02  2.96e+06     1s\n",
      "INFO:gurobipy:   8   2.35036540e+11 -2.50041013e+10  4.91e+03 3.66e-02  1.90e+06     1s\n",
      "INFO:gurobipy:   9   1.26922340e+11  3.26379625e+10  1.51e+03 1.14e-13  6.89e+05     2s\n",
      "INFO:gurobipy:  10   8.99083008e+10  5.45864776e+10  5.43e+02 1.14e-13  2.58e+05     2s\n",
      "INFO:gurobipy:  11   7.99663920e+10  5.82200377e+10  3.25e+02 1.14e-13  1.59e+05     2s\n",
      "INFO:gurobipy:  12   7.44201607e+10  6.06103761e+10  2.11e+02 1.14e-13  1.01e+05     2s\n",
      "INFO:gurobipy:  13   7.01571523e+10  6.16981393e+10  1.22e+02 1.14e-13  6.17e+04     2s\n",
      "INFO:gurobipy:  14   6.82657683e+10  6.25628306e+10  8.29e+01 1.14e-13  4.16e+04     2s\n",
      "INFO:gurobipy:  15   6.71069172e+10  6.29803163e+10  5.82e+01 1.14e-13  3.01e+04     2s\n",
      "INFO:gurobipy:  16   6.62162277e+10  6.34123137e+10  3.93e+01 1.14e-13  2.04e+04     2s\n",
      "INFO:gurobipy:  17   6.54971142e+10  6.37474804e+10  2.43e+01 1.14e-13  1.28e+04     2s\n",
      "INFO:gurobipy:  18   6.50745946e+10  6.39603171e+10  1.53e+01 1.14e-13  8.12e+03     2s\n",
      "INFO:gurobipy:  19   6.48273371e+10  6.40431940e+10  1.01e+01 1.14e-13  5.71e+03     3s\n",
      "INFO:gurobipy:  20   6.46321778e+10  6.41301083e+10  6.03e+00 1.14e-13  3.66e+03     3s\n",
      "INFO:gurobipy:  21   6.44953015e+10  6.41679172e+10  3.22e+00 6.82e-14  2.39e+03     3s\n",
      "INFO:gurobipy:  22   6.44040054e+10  6.42790848e+10  1.43e+00 1.14e-13  9.10e+02     3s\n",
      "INFO:gurobipy:  23   6.43876232e+10  6.42876546e+10  1.13e+00 1.14e-13  7.29e+02     3s\n",
      "INFO:gurobipy:  24   6.43609830e+10  6.42985455e+10  6.38e-01 1.14e-13  4.55e+02     3s\n",
      "INFO:gurobipy:  25   6.43456311e+10  6.43038100e+10  3.61e-01 1.14e-13  3.05e+02     3s\n",
      "INFO:gurobipy:  26   6.43375516e+10  6.43126877e+10  2.23e-01 1.14e-13  1.81e+02     3s\n",
      "INFO:gurobipy:  27   6.43318167e+10  6.43195810e+10  1.24e-01 1.14e-13  8.92e+01     3s\n",
      "INFO:gurobipy:  28   6.43307689e+10  6.43230062e+10  1.07e-01 1.14e-13  5.66e+01     3s\n",
      "INFO:gurobipy:  29   6.43259191e+10  6.43239595e+10  2.89e-02 1.14e-13  1.43e+01     4s\n",
      "INFO:gurobipy:  30   6.43241075e+10  6.43241053e+10  5.99e-06 1.82e-10  1.55e-02     4s\n",
      "INFO:gurobipy:  31   6.43241056e+10  6.43241056e+10  5.96e-08 3.20e-10  1.56e-05     4s\n",
      "INFO:gurobipy:  32   6.43241056e+10  6.43241056e+10  8.94e-08 1.28e-09  1.56e-08     4s\n",
      "INFO:gurobipy:  33   6.43241056e+10  6.43241056e+10  2.31e-07 8.73e-10  3.91e-13     4s\n",
      "INFO:gurobipy:\n",
      "INFO:gurobipy:Barrier solved model in 33 iterations and 4.01 seconds (1.17 work units)\n",
      "INFO:gurobipy:Optimal objective 6.43241056e+10\n",
      "INFO:gurobipy:\n",
      "INFO:gurobipy:Crossover log...\n",
      "INFO:gurobipy:\n",
      "INFO:gurobipy:   45265 DPushes remaining with DInf 0.0000000e+00                 4s\n",
      "INFO:gurobipy:       0 DPushes remaining with DInf 0.0000000e+00                 4s\n",
      "INFO:gurobipy:Warning: Markowitz tolerance tightened to 0.5\n",
      "INFO:gurobipy:\n",
      "INFO:gurobipy:    4228 PPushes remaining with PInf 0.0000000e+00                 4s\n",
      "INFO:gurobipy:       0 PPushes remaining with PInf 0.0000000e+00                 5s\n",
      "INFO:gurobipy:\n",
      "INFO:gurobipy:  Push phase complete: Pinf 0.0000000e+00, Dinf 1.0349524e-08      5s\n",
      "INFO:gurobipy:\n",
      "INFO:gurobipy:\n",
      "INFO:gurobipy:Solved with barrier\n",
      "INFO:gurobipy:Iteration    Objective       Primal Inf.    Dual Inf.      Time\n",
      "INFO:gurobipy:   22200    6.4324106e+10   0.000000e+00   0.000000e+00      5s\n",
      "INFO:gurobipy:\n",
      "INFO:gurobipy:Solved in 22200 iterations and 4.92 seconds (2.06 work units)\n",
      "INFO:gurobipy:Optimal objective  6.432410565e+10\n",
      "INFO:linopy.constants: Optimization successful: \n",
      "Status: ok\n",
      "Termination condition: optimal\n",
      "Solution: 78855 primals, 169376 duals\n",
      "Objective: 6.43e+10\n",
      "Solver model: available\n",
      "Solver message: 2\n",
      "\n",
      "INFO:pypsa.optimization.optimize:The shadow-prices of the constraints Generator-fix-p-lower, Generator-fix-p-upper, Generator-ext-p-lower, Generator-ext-p-upper, Link-fix-p-lower, Link-fix-p-upper, Link-ext-p-lower, Link-ext-p-upper, Store-fix-e-lower, Store-fix-e-upper, Store-ext-e-lower, Store-ext-e-upper, StorageUnit-ext-p_dispatch-lower, StorageUnit-ext-p_dispatch-upper, StorageUnit-ext-p_store-lower, StorageUnit-ext-p_store-upper, StorageUnit-ext-state_of_charge-lower, StorageUnit-ext-state_of_charge-upper, StorageUnit-energy_balance, Store-energy_balance were not assigned to the network.\n"
     ]
    },
    {
     "data": {
      "text/plain": [
       "('ok', 'optimal')"
      ]
     },
     "execution_count": 156,
     "metadata": {},
     "output_type": "execute_result"
    }
   ],
   "source": [
    "n.optimize(\n",
    "    solver_name=SOLVER,\n",
    "    log_to_console=False,\n",
    ")"
   ]
  },
  {
   "cell_type": "markdown",
   "id": "1a43af54",
   "metadata": {},
   "source": [
    "\n",
    "But the exploration is left to you! Here are some ideas for sensitivities to explore and metrics to look at:\n",
    "\n",
    "**Metrics:**\n",
    "\n",
    "- Total annual system **costs** and breakdown by technology (billion €/a and % of total cost). This can be built from `n.statistics.opex()` and `n.statistics.capex()`.\n",
    "- Installed **capacities** of the different technologies (fossil power plants, wind, solar, battery, electrolysis, etc.). This can be accessed from `n.statistics.optimal_capacity()`.\n",
    "- **Energy mix** and balances of different carrier as time series. This can be accessed from `n.statistics.energy_balance(groupby=[\"bus\", \"carrier\"])` and plotted intereactively with `n.statistics.energy_balance.iplot.area(bus_carrier=\"AC\")`.\n",
    "- Electricity **prices** (average and duration curve). These can be accessed under `n.buses_t.marginal_price`.\n",
    "- Level of CO2 **emissions**. This can be calculated using `n.generators_t.p / n.generators.efficiency * n.generators.carrier.map(n.carriers.co2_emissions)`.\n",
    "- Storage **filling levels** per technology over time. This can be accessed from `n.stores_t.e`.\n",
    "\n",
    "**Sensitivities:**\n",
    "\n",
    "- Choose a different **country** for demand and renewables time series. This can be done by exchanging the data inputs at the top.\n",
    "- Vary the **cost** assumptions by changing the overall projection year (e.g. 2030, 2040, 2050). This can be done when loading the cost data.\n",
    "- Successively increase/decrease the investment cost of **nuclear** power. This can be done by modifying `n.generators.loc[\"nuclear\", \"capital_cost\"]`.\n",
    "- Limit the **flexibility of nuclear power plants**, e.g. by requiring a minimum part load of 90%. This can be done by setting `n.generators.loc[\"nuclear\", \"p_min_pu\"] = 0.9`. You can also set ramp limits for other fossil generators (`ramp_limit_up` and `ramp_limit_down`).\n",
    "- Vary the **cost of individual technologies** along their learning curves (solar, battery, electrolysis, hydrogen storage, etc.). This can be done by changing their `capital_cost` attribute and/or their `efficiency` attribute.\n",
    "- Add a **new storage technology** with cost, efficiency and loss parameters.  This can be done with `n.add(\"StorageUnit\", ...)`. Look how it's done for batteries.\n",
    "- Successively increase the **CO2 price** and observe the emissions. This can be done by modifying the marginal cost of emitting generators, `n.generators.loc[\"hard coal\", \"marginal_cost\"]`.\n",
    "- Successively constrain the **CO2 emission limit**. This can be done by modifying the constant in `n.global_constraints`. The endogenous CO2 price can be found under `n.global_constraints.mu` (negative).\n",
    "- Enforce **renewable capacity targets** for wind and/or solar. This can be done by setting the `p_nom_min` attribute of the respective generators, e.g. `n.generators.loc[\"wind\", \"p_nom\"] = 100e3` for 100 GW.\n",
    "- Vary the **gas price**. This can be done by modifying the marginal cost of gas generators, `n.generators.loc[\"OCGT\", \"marginal_cost\"]` and `n.generators.loc[\"CCGT\", \"marginal_cost\"]`.\n",
    "- Constrain the availability of **sustainable biomass**. This can be done by setting the `e_sum_max` attribute of the biomass generator `n.generators.loc[\"biomass\", \"e_sum_max\"]`.\n",
    "- Add **upstream emissions** for the biomass (so that it is not fully carbon-neutral). You can set this in `n.carriers.loc[\"biomass\", \"co2_emissions\"]`.\n",
    "- Allow the **import of green hydrogen** at a given price, e.g. 100 €/MWh. You can also set a volume limit be setting `e_sum_max` (as for the biomass generator).\n",
    "- Vary the **hydrogen demand** relative to the electricity demand. This can be done by modifying `n.loads.loc[\"hydrogen demand\", \"p_set\"]`.\n",
    "- Add electricity demand from the **electrification of heating** with strong seasonal demand variation. This can be done with the commented-out code cell above.\n",
    "- Vary the **charging power** of the electric vehicles.\n",
    "- Vary the **battery size** of the electric vehicles.\n",
    "- Vary the **total number** of electric vehicles.\n",
    "- Vary the **electric vehicle state-of-charge** requirements for the mornings.\n",
    "- Vary the **share** of electric vehicles participating in smart charging and vehicle-to-grid.\n",
    "- Run the optimisation for different **weather years**. You can retrieve 44 years of wind and solar capacity factor time series for European countries from [renewables.ninja](https://renewables.ninja).\n",
    "\n",
    "\n",
    "**Feel free to explore other ideas as well!**"
   ]
  },
  {
   "cell_type": "markdown",
   "id": "62884a86",
   "metadata": {},
   "source": []
  }
 ],
 "metadata": {
  "kernelspec": {
   "display_name": "sommerakademie-oxford (3.12.7)",
   "language": "python",
   "name": "python3"
  },
  "language_info": {
   "codemirror_mode": {
    "name": "ipython",
    "version": 3
   },
   "file_extension": ".py",
   "mimetype": "text/x-python",
   "name": "python",
   "nbconvert_exporter": "python",
   "pygments_lexer": "ipython3",
   "version": "3.12.7"
  }
 },
 "nbformat": 4,
 "nbformat_minor": 5
}
