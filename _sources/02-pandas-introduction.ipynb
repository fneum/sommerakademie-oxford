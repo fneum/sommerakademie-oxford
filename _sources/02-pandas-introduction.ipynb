{
 "cells": [
  {
   "cell_type": "markdown",
   "metadata": {},
   "source": [
    "# Annex: Intro to `pandas`"
   ]
  },
  {
   "cell_type": "markdown",
   "metadata": {},
   "source": [
    ":::{note}\n",
    "If you have not yet set up Python on your computer, you can execute this tutorial in your browser via [Google Colab](https://colab.research.google.com/). Click on the rocket in the top right corner and launch \"Colab\". If that doesn't work download the `.ipynb` file and import it in [Google Colab](https://colab.research.google.com/).\n",
    "Then install `pandas` and `numpy` by executing the following command in a Jupyter cell at the top of the notebook.\n",
    "\n",
    "```sh\n",
    "!pip install -q pandas numpy\n",
    "```\n",
    ":::"
   ]
  },
  {
   "cell_type": "markdown",
   "metadata": {},
   "source": [
    "[Pandas](http://pandas.pydata.org/) is a an open source library providing tabular data structures and data analysis tools.In other words, if you can imagine the data in an Excel spreadsheet, then Pandas is the tool for the job."
   ]
  },
  {
   "cell_type": "markdown",
   "metadata": {},
   "source": [
    "<img src=\"https://media.geeksforgeeks.org/wp-content/cdn-uploads/creating_dataframe1.png\" width=\"720px\" />"
   ]
  },
  {
   "cell_type": "markdown",
   "metadata": {},
   "source": [
    ":::{note}\n",
    "Documentation for this package is available at https://pandas.pydata.org/docs/.\n",
    ":::"
   ]
  },
  {
   "cell_type": "markdown",
   "metadata": {},
   "source": [
    "## Package Imports\n",
    "\n",
    "This will be our first experience with _importing_ a package.\n",
    "\n",
    "Usually we import `pandas` with the _alias_ `pd`.\n",
    "\n",
    "We might also need `numpy`, Python's main library for numerical computations."
   ]
  },
  {
   "cell_type": "code",
   "execution_count": 1,
   "metadata": {},
   "outputs": [],
   "source": [
    "import pandas as pd\n",
    "import numpy as np"
   ]
  },
  {
   "cell_type": "markdown",
   "metadata": {
    "tags": []
   },
   "source": [
    "## Series\n",
    "\n",
    "A Series represents a one-dimensional array of data. It is similar to a dictionary consisting of an **index** and **values**, but has more functions. \n",
    "\n",
    ":::{note}\n",
    "Example data on Germany's final six nuclear power plants is from [Wikipedia](https://en.wikipedia.org/wiki/List_of_power_stations_in_Germany#Nuclear).\n",
    ":::"
   ]
  },
  {
   "cell_type": "code",
   "execution_count": 2,
   "metadata": {},
   "outputs": [
    {
     "data": {
      "text/plain": [
       "Neckarwestheim    1269\n",
       "Isar 2            1365\n",
       "Emsland           1290\n",
       "dtype: int64"
      ]
     },
     "execution_count": 2,
     "metadata": {},
     "output_type": "execute_result"
    }
   ],
   "source": [
    "names = [\"Neckarwestheim\", \"Isar 2\", \"Emsland\"]\n",
    "values = [1269, 1365, 1290]\n",
    "s = pd.Series(values, index=names)\n",
    "s"
   ]
  },
  {
   "cell_type": "code",
   "execution_count": 3,
   "metadata": {},
   "outputs": [
    {
     "data": {
      "text/plain": [
       "Neckarwestheim    1269\n",
       "Isar 2            1365\n",
       "Emsland           1290\n",
       "dtype: int64"
      ]
     },
     "execution_count": 3,
     "metadata": {},
     "output_type": "execute_result"
    }
   ],
   "source": [
    "dictionary = {\n",
    "    \"Neckarwestheim\": 1269,\n",
    "    \"Isar 2\": 1365,\n",
    "    \"Emsland\": 1290,\n",
    "}\n",
    "s = pd.Series(dictionary)\n",
    "s"
   ]
  },
  {
   "cell_type": "markdown",
   "metadata": {},
   "source": [
    "Arithmetic operations can be applied to the whole `pd.Series`."
   ]
  },
  {
   "cell_type": "code",
   "execution_count": 4,
   "metadata": {},
   "outputs": [
    {
     "data": {
      "text/plain": [
       "Neckarwestheim    35.623026\n",
       "Isar 2            36.945906\n",
       "Emsland           35.916570\n",
       "dtype: float64"
      ]
     },
     "execution_count": 4,
     "metadata": {},
     "output_type": "execute_result"
    }
   ],
   "source": [
    "s**0.5"
   ]
  },
  {
   "cell_type": "markdown",
   "metadata": {},
   "source": [
    "We can access the underlying index object if we need to:"
   ]
  },
  {
   "cell_type": "code",
   "execution_count": 5,
   "metadata": {},
   "outputs": [
    {
     "data": {
      "text/plain": [
       "Index(['Neckarwestheim', 'Isar 2', 'Emsland'], dtype='object')"
      ]
     },
     "execution_count": 5,
     "metadata": {},
     "output_type": "execute_result"
    }
   ],
   "source": [
    "s.index"
   ]
  },
  {
   "cell_type": "markdown",
   "metadata": {},
   "source": [
    "We can get values back out using the index via the `.loc` attribute"
   ]
  },
  {
   "cell_type": "code",
   "execution_count": 6,
   "metadata": {},
   "outputs": [
    {
     "data": {
      "text/plain": [
       "1365"
      ]
     },
     "execution_count": 6,
     "metadata": {},
     "output_type": "execute_result"
    }
   ],
   "source": [
    "s.loc[\"Isar 2\"]"
   ]
  },
  {
   "cell_type": "markdown",
   "metadata": {},
   "source": [
    "Or by raw position using `.iloc`"
   ]
  },
  {
   "cell_type": "code",
   "execution_count": 7,
   "metadata": {},
   "outputs": [
    {
     "data": {
      "text/plain": [
       "1290"
      ]
     },
     "execution_count": 7,
     "metadata": {},
     "output_type": "execute_result"
    }
   ],
   "source": [
    "s.iloc[2]"
   ]
  },
  {
   "cell_type": "markdown",
   "metadata": {},
   "source": [
    "We can pass a list or array to loc to get multiple rows back:"
   ]
  },
  {
   "cell_type": "code",
   "execution_count": 8,
   "metadata": {},
   "outputs": [
    {
     "data": {
      "text/plain": [
       "Neckarwestheim    1269\n",
       "Emsland           1290\n",
       "dtype: int64"
      ]
     },
     "execution_count": 8,
     "metadata": {},
     "output_type": "execute_result"
    }
   ],
   "source": [
    "s.loc[[\"Neckarwestheim\", \"Emsland\"]]"
   ]
  },
  {
   "cell_type": "markdown",
   "metadata": {},
   "source": [
    "## DataFrame\n",
    "\n",
    "Series are limited to a single **column**. A more useful Pandas data structure is the **DataFrame**. A DataFrame is basically a bunch of series that share the same index."
   ]
  },
  {
   "cell_type": "code",
   "execution_count": 9,
   "metadata": {},
   "outputs": [
    {
     "data": {
      "text/html": [
       "<div>\n",
       "<style scoped>\n",
       "    .dataframe tbody tr th:only-of-type {\n",
       "        vertical-align: middle;\n",
       "    }\n",
       "\n",
       "    .dataframe tbody tr th {\n",
       "        vertical-align: top;\n",
       "    }\n",
       "\n",
       "    .dataframe thead th {\n",
       "        text-align: right;\n",
       "    }\n",
       "</style>\n",
       "<table border=\"1\" class=\"dataframe\">\n",
       "  <thead>\n",
       "    <tr style=\"text-align: right;\">\n",
       "      <th></th>\n",
       "      <th>capacity</th>\n",
       "      <th>type</th>\n",
       "      <th>start_year</th>\n",
       "      <th>end_year</th>\n",
       "    </tr>\n",
       "  </thead>\n",
       "  <tbody>\n",
       "    <tr>\n",
       "      <th>Neckarwestheim</th>\n",
       "      <td>1269</td>\n",
       "      <td>PWR</td>\n",
       "      <td>1989</td>\n",
       "      <td>NaN</td>\n",
       "    </tr>\n",
       "    <tr>\n",
       "      <th>Isar 2</th>\n",
       "      <td>1365</td>\n",
       "      <td>PWR</td>\n",
       "      <td>1988</td>\n",
       "      <td>NaN</td>\n",
       "    </tr>\n",
       "    <tr>\n",
       "      <th>Emsland</th>\n",
       "      <td>1290</td>\n",
       "      <td>PWR</td>\n",
       "      <td>1988</td>\n",
       "      <td>NaN</td>\n",
       "    </tr>\n",
       "  </tbody>\n",
       "</table>\n",
       "</div>"
      ],
      "text/plain": [
       "                capacity type  start_year  end_year\n",
       "Neckarwestheim      1269  PWR        1989       NaN\n",
       "Isar 2              1365  PWR        1988       NaN\n",
       "Emsland             1290  PWR        1988       NaN"
      ]
     },
     "execution_count": 9,
     "metadata": {},
     "output_type": "execute_result"
    }
   ],
   "source": [
    "data = {\n",
    "    \"capacity\": [1269, 1365, 1290],  # MW\n",
    "    \"type\": [\"PWR\", \"PWR\", \"PWR\"],\n",
    "    \"start_year\": [1989, 1988, 1988],\n",
    "    \"end_year\": [np.nan, np.nan, np.nan],\n",
    "}\n",
    "df = pd.DataFrame(data, index=[\"Neckarwestheim\", \"Isar 2\", \"Emsland\"])\n",
    "df"
   ]
  },
  {
   "cell_type": "markdown",
   "metadata": {},
   "source": [
    "A wide range of statistical functions are available on both Series and DataFrames."
   ]
  },
  {
   "cell_type": "code",
   "execution_count": 10,
   "metadata": {},
   "outputs": [
    {
     "data": {
      "text/plain": [
       "capacity      1269\n",
       "type           PWR\n",
       "start_year    1988\n",
       "end_year       NaN\n",
       "dtype: object"
      ]
     },
     "execution_count": 10,
     "metadata": {},
     "output_type": "execute_result"
    }
   ],
   "source": [
    "df.min()"
   ]
  },
  {
   "cell_type": "code",
   "execution_count": 11,
   "metadata": {},
   "outputs": [
    {
     "data": {
      "text/plain": [
       "capacity      1308.000000\n",
       "start_year    1988.333333\n",
       "end_year              NaN\n",
       "dtype: float64"
      ]
     },
     "execution_count": 11,
     "metadata": {},
     "output_type": "execute_result"
    }
   ],
   "source": [
    "df.mean(numeric_only=True)"
   ]
  },
  {
   "cell_type": "markdown",
   "metadata": {},
   "source": [
    "We can get a single column as a Series using python's getitem syntax on the DataFrame object."
   ]
  },
  {
   "cell_type": "code",
   "execution_count": 12,
   "metadata": {},
   "outputs": [
    {
     "data": {
      "text/plain": [
       "Neckarwestheim    1269\n",
       "Isar 2            1365\n",
       "Emsland           1290\n",
       "Name: capacity, dtype: int64"
      ]
     },
     "execution_count": 12,
     "metadata": {},
     "output_type": "execute_result"
    }
   ],
   "source": [
    "df[\"capacity\"]"
   ]
  },
  {
   "cell_type": "markdown",
   "metadata": {},
   "source": [
    "Indexing works very similar to series"
   ]
  },
  {
   "cell_type": "code",
   "execution_count": 13,
   "metadata": {},
   "outputs": [
    {
     "data": {
      "text/plain": [
       "capacity      1290\n",
       "type           PWR\n",
       "start_year    1988\n",
       "end_year       NaN\n",
       "Name: Emsland, dtype: object"
      ]
     },
     "execution_count": 13,
     "metadata": {},
     "output_type": "execute_result"
    }
   ],
   "source": [
    "df.loc[\"Emsland\"]"
   ]
  },
  {
   "cell_type": "markdown",
   "metadata": {},
   "source": [
    "But we can also specify the column(s) and row(s) we want to access"
   ]
  },
  {
   "cell_type": "code",
   "execution_count": 14,
   "metadata": {},
   "outputs": [
    {
     "data": {
      "text/plain": [
       "1988"
      ]
     },
     "execution_count": 14,
     "metadata": {},
     "output_type": "execute_result"
    }
   ],
   "source": [
    "df.at[\"Emsland\", \"start_year\"]"
   ]
  },
  {
   "cell_type": "markdown",
   "metadata": {},
   "source": [
    "We can also add new columns to the DataFrame:"
   ]
  },
  {
   "cell_type": "code",
   "execution_count": 15,
   "metadata": {},
   "outputs": [
    {
     "data": {
      "text/html": [
       "<div>\n",
       "<style scoped>\n",
       "    .dataframe tbody tr th:only-of-type {\n",
       "        vertical-align: middle;\n",
       "    }\n",
       "\n",
       "    .dataframe tbody tr th {\n",
       "        vertical-align: top;\n",
       "    }\n",
       "\n",
       "    .dataframe thead th {\n",
       "        text-align: right;\n",
       "    }\n",
       "</style>\n",
       "<table border=\"1\" class=\"dataframe\">\n",
       "  <thead>\n",
       "    <tr style=\"text-align: right;\">\n",
       "      <th></th>\n",
       "      <th>capacity</th>\n",
       "      <th>type</th>\n",
       "      <th>start_year</th>\n",
       "      <th>end_year</th>\n",
       "      <th>reduced_capacity</th>\n",
       "    </tr>\n",
       "  </thead>\n",
       "  <tbody>\n",
       "    <tr>\n",
       "      <th>Neckarwestheim</th>\n",
       "      <td>1269</td>\n",
       "      <td>PWR</td>\n",
       "      <td>1989</td>\n",
       "      <td>NaN</td>\n",
       "      <td>1015.2</td>\n",
       "    </tr>\n",
       "    <tr>\n",
       "      <th>Isar 2</th>\n",
       "      <td>1365</td>\n",
       "      <td>PWR</td>\n",
       "      <td>1988</td>\n",
       "      <td>NaN</td>\n",
       "      <td>1092.0</td>\n",
       "    </tr>\n",
       "    <tr>\n",
       "      <th>Emsland</th>\n",
       "      <td>1290</td>\n",
       "      <td>PWR</td>\n",
       "      <td>1988</td>\n",
       "      <td>NaN</td>\n",
       "      <td>1032.0</td>\n",
       "    </tr>\n",
       "  </tbody>\n",
       "</table>\n",
       "</div>"
      ],
      "text/plain": [
       "                capacity type  start_year  end_year  reduced_capacity\n",
       "Neckarwestheim      1269  PWR        1989       NaN            1015.2\n",
       "Isar 2              1365  PWR        1988       NaN            1092.0\n",
       "Emsland             1290  PWR        1988       NaN            1032.0"
      ]
     },
     "execution_count": 15,
     "metadata": {},
     "output_type": "execute_result"
    }
   ],
   "source": [
    "df[\"reduced_capacity\"] = df.capacity * 0.8\n",
    "df"
   ]
  },
  {
   "cell_type": "markdown",
   "metadata": {},
   "source": [
    "We can also remove columns or rows from a DataFrame:\n",
    "\n",
    ":::{note}\n",
    "This operation needs to be an **inplace** operation to be permanent.\n",
    ":::"
   ]
  },
  {
   "cell_type": "code",
   "execution_count": 16,
   "metadata": {},
   "outputs": [
    {
     "data": {
      "text/plain": [
       "<bound method DataFrame.min of                 capacity type  start_year  end_year  reduced_capacity\n",
       "Neckarwestheim      1269  PWR        1989       NaN            1015.2\n",
       "Isar 2              1365  PWR        1988       NaN            1092.0\n",
       "Emsland             1290  PWR        1988       NaN            1032.0>"
      ]
     },
     "execution_count": 16,
     "metadata": {},
     "output_type": "execute_result"
    }
   ],
   "source": [
    "df.min"
   ]
  },
  {
   "cell_type": "markdown",
   "metadata": {},
   "source": [
    "We can also drop columns with only NaN values"
   ]
  },
  {
   "cell_type": "code",
   "execution_count": 17,
   "metadata": {},
   "outputs": [
    {
     "data": {
      "text/html": [
       "<div>\n",
       "<style scoped>\n",
       "    .dataframe tbody tr th:only-of-type {\n",
       "        vertical-align: middle;\n",
       "    }\n",
       "\n",
       "    .dataframe tbody tr th {\n",
       "        vertical-align: top;\n",
       "    }\n",
       "\n",
       "    .dataframe thead th {\n",
       "        text-align: right;\n",
       "    }\n",
       "</style>\n",
       "<table border=\"1\" class=\"dataframe\">\n",
       "  <thead>\n",
       "    <tr style=\"text-align: right;\">\n",
       "      <th></th>\n",
       "      <th>capacity</th>\n",
       "      <th>type</th>\n",
       "      <th>start_year</th>\n",
       "      <th>reduced_capacity</th>\n",
       "    </tr>\n",
       "  </thead>\n",
       "  <tbody>\n",
       "    <tr>\n",
       "      <th>Neckarwestheim</th>\n",
       "      <td>1269</td>\n",
       "      <td>PWR</td>\n",
       "      <td>1989</td>\n",
       "      <td>1015.2</td>\n",
       "    </tr>\n",
       "    <tr>\n",
       "      <th>Isar 2</th>\n",
       "      <td>1365</td>\n",
       "      <td>PWR</td>\n",
       "      <td>1988</td>\n",
       "      <td>1092.0</td>\n",
       "    </tr>\n",
       "    <tr>\n",
       "      <th>Emsland</th>\n",
       "      <td>1290</td>\n",
       "      <td>PWR</td>\n",
       "      <td>1988</td>\n",
       "      <td>1032.0</td>\n",
       "    </tr>\n",
       "  </tbody>\n",
       "</table>\n",
       "</div>"
      ],
      "text/plain": [
       "                capacity type  start_year  reduced_capacity\n",
       "Neckarwestheim      1269  PWR        1989            1015.2\n",
       "Isar 2              1365  PWR        1988            1092.0\n",
       "Emsland             1290  PWR        1988            1032.0"
      ]
     },
     "execution_count": 17,
     "metadata": {},
     "output_type": "execute_result"
    }
   ],
   "source": [
    "df.dropna(axis=1)"
   ]
  },
  {
   "cell_type": "markdown",
   "metadata": {},
   "source": [
    "Or fill it up with default \"fallback\" data:"
   ]
  },
  {
   "cell_type": "code",
   "execution_count": 18,
   "metadata": {},
   "outputs": [
    {
     "data": {
      "text/html": [
       "<div>\n",
       "<style scoped>\n",
       "    .dataframe tbody tr th:only-of-type {\n",
       "        vertical-align: middle;\n",
       "    }\n",
       "\n",
       "    .dataframe tbody tr th {\n",
       "        vertical-align: top;\n",
       "    }\n",
       "\n",
       "    .dataframe thead th {\n",
       "        text-align: right;\n",
       "    }\n",
       "</style>\n",
       "<table border=\"1\" class=\"dataframe\">\n",
       "  <thead>\n",
       "    <tr style=\"text-align: right;\">\n",
       "      <th></th>\n",
       "      <th>capacity</th>\n",
       "      <th>type</th>\n",
       "      <th>start_year</th>\n",
       "      <th>end_year</th>\n",
       "      <th>reduced_capacity</th>\n",
       "    </tr>\n",
       "  </thead>\n",
       "  <tbody>\n",
       "    <tr>\n",
       "      <th>Neckarwestheim</th>\n",
       "      <td>1269</td>\n",
       "      <td>PWR</td>\n",
       "      <td>1989</td>\n",
       "      <td>2023.0</td>\n",
       "      <td>1015.2</td>\n",
       "    </tr>\n",
       "    <tr>\n",
       "      <th>Isar 2</th>\n",
       "      <td>1365</td>\n",
       "      <td>PWR</td>\n",
       "      <td>1988</td>\n",
       "      <td>2023.0</td>\n",
       "      <td>1092.0</td>\n",
       "    </tr>\n",
       "    <tr>\n",
       "      <th>Emsland</th>\n",
       "      <td>1290</td>\n",
       "      <td>PWR</td>\n",
       "      <td>1988</td>\n",
       "      <td>2023.0</td>\n",
       "      <td>1032.0</td>\n",
       "    </tr>\n",
       "  </tbody>\n",
       "</table>\n",
       "</div>"
      ],
      "text/plain": [
       "                capacity type  start_year  end_year  reduced_capacity\n",
       "Neckarwestheim      1269  PWR        1989    2023.0            1015.2\n",
       "Isar 2              1365  PWR        1988    2023.0            1092.0\n",
       "Emsland             1290  PWR        1988    2023.0            1032.0"
      ]
     },
     "execution_count": 18,
     "metadata": {},
     "output_type": "execute_result"
    }
   ],
   "source": [
    "df.fillna(2023)"
   ]
  },
  {
   "cell_type": "markdown",
   "metadata": {},
   "source": [
    "## Sorting Data"
   ]
  },
  {
   "cell_type": "markdown",
   "metadata": {},
   "source": [
    "We can also sort the entries in dataframes, e.g. alphabetically by index or numerically by column values"
   ]
  },
  {
   "cell_type": "code",
   "execution_count": 19,
   "metadata": {},
   "outputs": [
    {
     "data": {
      "text/html": [
       "<div>\n",
       "<style scoped>\n",
       "    .dataframe tbody tr th:only-of-type {\n",
       "        vertical-align: middle;\n",
       "    }\n",
       "\n",
       "    .dataframe tbody tr th {\n",
       "        vertical-align: top;\n",
       "    }\n",
       "\n",
       "    .dataframe thead th {\n",
       "        text-align: right;\n",
       "    }\n",
       "</style>\n",
       "<table border=\"1\" class=\"dataframe\">\n",
       "  <thead>\n",
       "    <tr style=\"text-align: right;\">\n",
       "      <th></th>\n",
       "      <th>capacity</th>\n",
       "      <th>type</th>\n",
       "      <th>start_year</th>\n",
       "      <th>end_year</th>\n",
       "      <th>reduced_capacity</th>\n",
       "    </tr>\n",
       "  </thead>\n",
       "  <tbody>\n",
       "    <tr>\n",
       "      <th>Emsland</th>\n",
       "      <td>1290</td>\n",
       "      <td>PWR</td>\n",
       "      <td>1988</td>\n",
       "      <td>NaN</td>\n",
       "      <td>1032.0</td>\n",
       "    </tr>\n",
       "    <tr>\n",
       "      <th>Isar 2</th>\n",
       "      <td>1365</td>\n",
       "      <td>PWR</td>\n",
       "      <td>1988</td>\n",
       "      <td>NaN</td>\n",
       "      <td>1092.0</td>\n",
       "    </tr>\n",
       "    <tr>\n",
       "      <th>Neckarwestheim</th>\n",
       "      <td>1269</td>\n",
       "      <td>PWR</td>\n",
       "      <td>1989</td>\n",
       "      <td>NaN</td>\n",
       "      <td>1015.2</td>\n",
       "    </tr>\n",
       "  </tbody>\n",
       "</table>\n",
       "</div>"
      ],
      "text/plain": [
       "                capacity type  start_year  end_year  reduced_capacity\n",
       "Emsland             1290  PWR        1988       NaN            1032.0\n",
       "Isar 2              1365  PWR        1988       NaN            1092.0\n",
       "Neckarwestheim      1269  PWR        1989       NaN            1015.2"
      ]
     },
     "execution_count": 19,
     "metadata": {},
     "output_type": "execute_result"
    }
   ],
   "source": [
    "df.sort_index()"
   ]
  },
  {
   "cell_type": "code",
   "execution_count": 20,
   "metadata": {},
   "outputs": [
    {
     "data": {
      "text/html": [
       "<div>\n",
       "<style scoped>\n",
       "    .dataframe tbody tr th:only-of-type {\n",
       "        vertical-align: middle;\n",
       "    }\n",
       "\n",
       "    .dataframe tbody tr th {\n",
       "        vertical-align: top;\n",
       "    }\n",
       "\n",
       "    .dataframe thead th {\n",
       "        text-align: right;\n",
       "    }\n",
       "</style>\n",
       "<table border=\"1\" class=\"dataframe\">\n",
       "  <thead>\n",
       "    <tr style=\"text-align: right;\">\n",
       "      <th></th>\n",
       "      <th>capacity</th>\n",
       "      <th>type</th>\n",
       "      <th>start_year</th>\n",
       "      <th>end_year</th>\n",
       "      <th>reduced_capacity</th>\n",
       "    </tr>\n",
       "  </thead>\n",
       "  <tbody>\n",
       "    <tr>\n",
       "      <th>Neckarwestheim</th>\n",
       "      <td>1269</td>\n",
       "      <td>PWR</td>\n",
       "      <td>1989</td>\n",
       "      <td>NaN</td>\n",
       "      <td>1015.2</td>\n",
       "    </tr>\n",
       "    <tr>\n",
       "      <th>Emsland</th>\n",
       "      <td>1290</td>\n",
       "      <td>PWR</td>\n",
       "      <td>1988</td>\n",
       "      <td>NaN</td>\n",
       "      <td>1032.0</td>\n",
       "    </tr>\n",
       "    <tr>\n",
       "      <th>Isar 2</th>\n",
       "      <td>1365</td>\n",
       "      <td>PWR</td>\n",
       "      <td>1988</td>\n",
       "      <td>NaN</td>\n",
       "      <td>1092.0</td>\n",
       "    </tr>\n",
       "  </tbody>\n",
       "</table>\n",
       "</div>"
      ],
      "text/plain": [
       "                capacity type  start_year  end_year  reduced_capacity\n",
       "Neckarwestheim      1269  PWR        1989       NaN            1015.2\n",
       "Emsland             1290  PWR        1988       NaN            1032.0\n",
       "Isar 2              1365  PWR        1988       NaN            1092.0"
      ]
     },
     "execution_count": 20,
     "metadata": {},
     "output_type": "execute_result"
    }
   ],
   "source": [
    "df.sort_values(by=\"capacity\", ascending=True)"
   ]
  },
  {
   "cell_type": "markdown",
   "metadata": {
    "tags": []
   },
   "source": [
    "## Filtering Data"
   ]
  },
  {
   "cell_type": "markdown",
   "metadata": {},
   "source": [
    "We can also filter a DataFrame using a boolean series obtained from a condition. This is very useful to build subsets of the DataFrame."
   ]
  },
  {
   "cell_type": "code",
   "execution_count": 21,
   "metadata": {},
   "outputs": [
    {
     "data": {
      "text/plain": [
       "Neckarwestheim    False\n",
       "Isar 2             True\n",
       "Emsland           False\n",
       "Name: capacity, dtype: bool"
      ]
     },
     "execution_count": 21,
     "metadata": {},
     "output_type": "execute_result"
    }
   ],
   "source": [
    "df.capacity > 1300"
   ]
  },
  {
   "cell_type": "code",
   "execution_count": 22,
   "metadata": {},
   "outputs": [
    {
     "data": {
      "text/html": [
       "<div>\n",
       "<style scoped>\n",
       "    .dataframe tbody tr th:only-of-type {\n",
       "        vertical-align: middle;\n",
       "    }\n",
       "\n",
       "    .dataframe tbody tr th {\n",
       "        vertical-align: top;\n",
       "    }\n",
       "\n",
       "    .dataframe thead th {\n",
       "        text-align: right;\n",
       "    }\n",
       "</style>\n",
       "<table border=\"1\" class=\"dataframe\">\n",
       "  <thead>\n",
       "    <tr style=\"text-align: right;\">\n",
       "      <th></th>\n",
       "      <th>capacity</th>\n",
       "      <th>type</th>\n",
       "      <th>start_year</th>\n",
       "      <th>end_year</th>\n",
       "      <th>reduced_capacity</th>\n",
       "    </tr>\n",
       "  </thead>\n",
       "  <tbody>\n",
       "    <tr>\n",
       "      <th>Isar 2</th>\n",
       "      <td>1365</td>\n",
       "      <td>PWR</td>\n",
       "      <td>1988</td>\n",
       "      <td>NaN</td>\n",
       "      <td>1092.0</td>\n",
       "    </tr>\n",
       "  </tbody>\n",
       "</table>\n",
       "</div>"
      ],
      "text/plain": [
       "        capacity type  start_year  end_year  reduced_capacity\n",
       "Isar 2      1365  PWR        1988       NaN            1092.0"
      ]
     },
     "execution_count": 22,
     "metadata": {},
     "output_type": "execute_result"
    }
   ],
   "source": [
    "df[df.capacity > 1300]"
   ]
  },
  {
   "cell_type": "markdown",
   "metadata": {},
   "source": [
    "We can also combine multiple conditions, but we need to wrap the conditions with brackets!"
   ]
  },
  {
   "cell_type": "code",
   "execution_count": 23,
   "metadata": {},
   "outputs": [
    {
     "data": {
      "text/html": [
       "<div>\n",
       "<style scoped>\n",
       "    .dataframe tbody tr th:only-of-type {\n",
       "        vertical-align: middle;\n",
       "    }\n",
       "\n",
       "    .dataframe tbody tr th {\n",
       "        vertical-align: top;\n",
       "    }\n",
       "\n",
       "    .dataframe thead th {\n",
       "        text-align: right;\n",
       "    }\n",
       "</style>\n",
       "<table border=\"1\" class=\"dataframe\">\n",
       "  <thead>\n",
       "    <tr style=\"text-align: right;\">\n",
       "      <th></th>\n",
       "      <th>capacity</th>\n",
       "      <th>type</th>\n",
       "      <th>start_year</th>\n",
       "      <th>end_year</th>\n",
       "      <th>reduced_capacity</th>\n",
       "    </tr>\n",
       "  </thead>\n",
       "  <tbody>\n",
       "    <tr>\n",
       "      <th>Isar 2</th>\n",
       "      <td>1365</td>\n",
       "      <td>PWR</td>\n",
       "      <td>1988</td>\n",
       "      <td>NaN</td>\n",
       "      <td>1092.0</td>\n",
       "    </tr>\n",
       "  </tbody>\n",
       "</table>\n",
       "</div>"
      ],
      "text/plain": [
       "        capacity type  start_year  end_year  reduced_capacity\n",
       "Isar 2      1365  PWR        1988       NaN            1092.0"
      ]
     },
     "execution_count": 23,
     "metadata": {},
     "output_type": "execute_result"
    }
   ],
   "source": [
    "df[(df.capacity > 1300) & (df.start_year >= 1988)]"
   ]
  },
  {
   "cell_type": "markdown",
   "metadata": {},
   "source": [
    "Or we make [SQL-like](https://en.wikipedia.org/wiki/SQL) queries:"
   ]
  },
  {
   "cell_type": "code",
   "execution_count": 24,
   "metadata": {},
   "outputs": [
    {
     "data": {
      "text/html": [
       "<div>\n",
       "<style scoped>\n",
       "    .dataframe tbody tr th:only-of-type {\n",
       "        vertical-align: middle;\n",
       "    }\n",
       "\n",
       "    .dataframe tbody tr th {\n",
       "        vertical-align: top;\n",
       "    }\n",
       "\n",
       "    .dataframe thead th {\n",
       "        text-align: right;\n",
       "    }\n",
       "</style>\n",
       "<table border=\"1\" class=\"dataframe\">\n",
       "  <thead>\n",
       "    <tr style=\"text-align: right;\">\n",
       "      <th></th>\n",
       "      <th>capacity</th>\n",
       "      <th>type</th>\n",
       "      <th>start_year</th>\n",
       "      <th>end_year</th>\n",
       "      <th>reduced_capacity</th>\n",
       "    </tr>\n",
       "  </thead>\n",
       "  <tbody>\n",
       "    <tr>\n",
       "      <th>Isar 2</th>\n",
       "      <td>1365</td>\n",
       "      <td>PWR</td>\n",
       "      <td>1988</td>\n",
       "      <td>NaN</td>\n",
       "      <td>1092.0</td>\n",
       "    </tr>\n",
       "    <tr>\n",
       "      <th>Emsland</th>\n",
       "      <td>1290</td>\n",
       "      <td>PWR</td>\n",
       "      <td>1988</td>\n",
       "      <td>NaN</td>\n",
       "      <td>1032.0</td>\n",
       "    </tr>\n",
       "  </tbody>\n",
       "</table>\n",
       "</div>"
      ],
      "text/plain": [
       "         capacity type  start_year  end_year  reduced_capacity\n",
       "Isar 2       1365  PWR        1988       NaN            1092.0\n",
       "Emsland      1290  PWR        1988       NaN            1032.0"
      ]
     },
     "execution_count": 24,
     "metadata": {},
     "output_type": "execute_result"
    }
   ],
   "source": [
    "df.query(\"start_year == 1988\")"
   ]
  },
  {
   "cell_type": "code",
   "execution_count": 25,
   "metadata": {},
   "outputs": [
    {
     "data": {
      "text/html": [
       "<div>\n",
       "<style scoped>\n",
       "    .dataframe tbody tr th:only-of-type {\n",
       "        vertical-align: middle;\n",
       "    }\n",
       "\n",
       "    .dataframe tbody tr th {\n",
       "        vertical-align: top;\n",
       "    }\n",
       "\n",
       "    .dataframe thead th {\n",
       "        text-align: right;\n",
       "    }\n",
       "</style>\n",
       "<table border=\"1\" class=\"dataframe\">\n",
       "  <thead>\n",
       "    <tr style=\"text-align: right;\">\n",
       "      <th></th>\n",
       "      <th>capacity</th>\n",
       "      <th>type</th>\n",
       "      <th>start_year</th>\n",
       "      <th>end_year</th>\n",
       "      <th>reduced_capacity</th>\n",
       "    </tr>\n",
       "  </thead>\n",
       "  <tbody>\n",
       "    <tr>\n",
       "      <th>Isar 2</th>\n",
       "      <td>1365</td>\n",
       "      <td>PWR</td>\n",
       "      <td>1988</td>\n",
       "      <td>NaN</td>\n",
       "      <td>1092.0</td>\n",
       "    </tr>\n",
       "  </tbody>\n",
       "</table>\n",
       "</div>"
      ],
      "text/plain": [
       "        capacity type  start_year  end_year  reduced_capacity\n",
       "Isar 2      1365  PWR        1988       NaN            1092.0"
      ]
     },
     "execution_count": 25,
     "metadata": {},
     "output_type": "execute_result"
    }
   ],
   "source": [
    "threshold = 1300\n",
    "df.query(\"start_year == 1988 and capacity > @threshold\")"
   ]
  },
  {
   "cell_type": "markdown",
   "metadata": {},
   "source": [
    "## Modifying Values\n",
    "\n",
    "In many cases, we want to modify values in a dataframe based on some rule. To modify values, we need to use `.loc` or `.iloc`"
   ]
  },
  {
   "cell_type": "code",
   "execution_count": 26,
   "metadata": {},
   "outputs": [
    {
     "data": {
      "text/html": [
       "<div>\n",
       "<style scoped>\n",
       "    .dataframe tbody tr th:only-of-type {\n",
       "        vertical-align: middle;\n",
       "    }\n",
       "\n",
       "    .dataframe tbody tr th {\n",
       "        vertical-align: top;\n",
       "    }\n",
       "\n",
       "    .dataframe thead th {\n",
       "        text-align: right;\n",
       "    }\n",
       "</style>\n",
       "<table border=\"1\" class=\"dataframe\">\n",
       "  <thead>\n",
       "    <tr style=\"text-align: right;\">\n",
       "      <th></th>\n",
       "      <th>capacity</th>\n",
       "      <th>type</th>\n",
       "      <th>start_year</th>\n",
       "      <th>end_year</th>\n",
       "      <th>reduced_capacity</th>\n",
       "    </tr>\n",
       "  </thead>\n",
       "  <tbody>\n",
       "    <tr>\n",
       "      <th>Neckarwestheim</th>\n",
       "      <td>1269</td>\n",
       "      <td>PWR</td>\n",
       "      <td>1989</td>\n",
       "      <td>NaN</td>\n",
       "      <td>1015.2</td>\n",
       "    </tr>\n",
       "    <tr>\n",
       "      <th>Isar 2</th>\n",
       "      <td>1366</td>\n",
       "      <td>PWR</td>\n",
       "      <td>1988</td>\n",
       "      <td>NaN</td>\n",
       "      <td>1092.0</td>\n",
       "    </tr>\n",
       "    <tr>\n",
       "      <th>Emsland</th>\n",
       "      <td>1290</td>\n",
       "      <td>PWR</td>\n",
       "      <td>1988</td>\n",
       "      <td>NaN</td>\n",
       "      <td>1032.0</td>\n",
       "    </tr>\n",
       "  </tbody>\n",
       "</table>\n",
       "</div>"
      ],
      "text/plain": [
       "                capacity type  start_year  end_year  reduced_capacity\n",
       "Neckarwestheim      1269  PWR        1989       NaN            1015.2\n",
       "Isar 2              1366  PWR        1988       NaN            1092.0\n",
       "Emsland             1290  PWR        1988       NaN            1032.0"
      ]
     },
     "execution_count": 26,
     "metadata": {},
     "output_type": "execute_result"
    }
   ],
   "source": [
    "df.loc[\"Isar 2\", \"capacity\"] = 1366\n",
    "df"
   ]
  },
  {
   "cell_type": "markdown",
   "metadata": {},
   "source": [
    "Sometimes it can be useful to rename columns:"
   ]
  },
  {
   "cell_type": "code",
   "execution_count": 27,
   "metadata": {},
   "outputs": [
    {
     "data": {
      "text/html": [
       "<div>\n",
       "<style scoped>\n",
       "    .dataframe tbody tr th:only-of-type {\n",
       "        vertical-align: middle;\n",
       "    }\n",
       "\n",
       "    .dataframe tbody tr th {\n",
       "        vertical-align: top;\n",
       "    }\n",
       "\n",
       "    .dataframe thead th {\n",
       "        text-align: right;\n",
       "    }\n",
       "</style>\n",
       "<table border=\"1\" class=\"dataframe\">\n",
       "  <thead>\n",
       "    <tr style=\"text-align: right;\">\n",
       "      <th></th>\n",
       "      <th>capacity</th>\n",
       "      <th>reactor</th>\n",
       "      <th>start_year</th>\n",
       "      <th>end_year</th>\n",
       "      <th>reduced_capacity</th>\n",
       "    </tr>\n",
       "  </thead>\n",
       "  <tbody>\n",
       "    <tr>\n",
       "      <th>Neckarwestheim</th>\n",
       "      <td>1269</td>\n",
       "      <td>PWR</td>\n",
       "      <td>1989</td>\n",
       "      <td>NaN</td>\n",
       "      <td>1015.2</td>\n",
       "    </tr>\n",
       "    <tr>\n",
       "      <th>Isar 2</th>\n",
       "      <td>1366</td>\n",
       "      <td>PWR</td>\n",
       "      <td>1988</td>\n",
       "      <td>NaN</td>\n",
       "      <td>1092.0</td>\n",
       "    </tr>\n",
       "    <tr>\n",
       "      <th>Emsland</th>\n",
       "      <td>1290</td>\n",
       "      <td>PWR</td>\n",
       "      <td>1988</td>\n",
       "      <td>NaN</td>\n",
       "      <td>1032.0</td>\n",
       "    </tr>\n",
       "  </tbody>\n",
       "</table>\n",
       "</div>"
      ],
      "text/plain": [
       "                capacity reactor  start_year  end_year  reduced_capacity\n",
       "Neckarwestheim      1269     PWR        1989       NaN            1015.2\n",
       "Isar 2              1366     PWR        1988       NaN            1092.0\n",
       "Emsland             1290     PWR        1988       NaN            1032.0"
      ]
     },
     "execution_count": 27,
     "metadata": {},
     "output_type": "execute_result"
    }
   ],
   "source": [
    "df.rename(columns=dict(type=\"reactor\"))"
   ]
  },
  {
   "cell_type": "markdown",
   "metadata": {},
   "source": [
    "Sometimes it can be useful to replace values:"
   ]
  },
  {
   "cell_type": "code",
   "execution_count": 28,
   "metadata": {},
   "outputs": [
    {
     "data": {
      "text/html": [
       "<div>\n",
       "<style scoped>\n",
       "    .dataframe tbody tr th:only-of-type {\n",
       "        vertical-align: middle;\n",
       "    }\n",
       "\n",
       "    .dataframe tbody tr th {\n",
       "        vertical-align: top;\n",
       "    }\n",
       "\n",
       "    .dataframe thead th {\n",
       "        text-align: right;\n",
       "    }\n",
       "</style>\n",
       "<table border=\"1\" class=\"dataframe\">\n",
       "  <thead>\n",
       "    <tr style=\"text-align: right;\">\n",
       "      <th></th>\n",
       "      <th>capacity</th>\n",
       "      <th>type</th>\n",
       "      <th>start_year</th>\n",
       "      <th>end_year</th>\n",
       "      <th>reduced_capacity</th>\n",
       "    </tr>\n",
       "  </thead>\n",
       "  <tbody>\n",
       "    <tr>\n",
       "      <th>Neckarwestheim</th>\n",
       "      <td>1269</td>\n",
       "      <td>Pressurized water reactor</td>\n",
       "      <td>1989</td>\n",
       "      <td>NaN</td>\n",
       "      <td>1015.2</td>\n",
       "    </tr>\n",
       "    <tr>\n",
       "      <th>Isar 2</th>\n",
       "      <td>1366</td>\n",
       "      <td>Pressurized water reactor</td>\n",
       "      <td>1988</td>\n",
       "      <td>NaN</td>\n",
       "      <td>1092.0</td>\n",
       "    </tr>\n",
       "    <tr>\n",
       "      <th>Emsland</th>\n",
       "      <td>1290</td>\n",
       "      <td>Pressurized water reactor</td>\n",
       "      <td>1988</td>\n",
       "      <td>NaN</td>\n",
       "      <td>1032.0</td>\n",
       "    </tr>\n",
       "  </tbody>\n",
       "</table>\n",
       "</div>"
      ],
      "text/plain": [
       "                capacity                       type  start_year  end_year  \\\n",
       "Neckarwestheim      1269  Pressurized water reactor        1989       NaN   \n",
       "Isar 2              1366  Pressurized water reactor        1988       NaN   \n",
       "Emsland             1290  Pressurized water reactor        1988       NaN   \n",
       "\n",
       "                reduced_capacity  \n",
       "Neckarwestheim            1015.2  \n",
       "Isar 2                    1092.0  \n",
       "Emsland                   1032.0  "
      ]
     },
     "execution_count": 28,
     "metadata": {},
     "output_type": "execute_result"
    }
   ],
   "source": [
    "df.replace({\"PWR\": \"Pressurized water reactor\"})"
   ]
  },
  {
   "cell_type": "markdown",
   "metadata": {},
   "source": [
    "## Time Series\n",
    "\n",
    "Time indexes are great when handling time-dependent data.\n",
    "\n",
    "Let's first read some time series data, using the `pd.read_csv()` function, which takes a local file path ora link to an online resource.\n",
    "\n",
    "The example data hourly time series for Germany in 2015 for:\n",
    "    \n",
    "1. electricity demand from [OPSD](https://open-power-system-data.org/) in GW\n",
    "2. onshore wind capacity factors from [renewables.ninja](https://www.renewables.ninja/) in per-unit of installed capacity\n",
    "3. offshore wind capacity factors from [renewables.ninja](https://www.renewables.ninja/) in per-unit of installed capacity\n",
    "4. solar PV capacity factors from [renewables.ninja](https://www.renewables.ninja/) in per-unit of installed capacity\n",
    "5. electricity day-ahead spot market prices in €/MWh from EPEX Spot zone DE/AT/LU retrieved via [SMARD platform](https://www.smard.de/home)"
   ]
  },
  {
   "cell_type": "code",
   "execution_count": 29,
   "metadata": {},
   "outputs": [
    {
     "data": {
      "text/plain": [
       "DatetimeIndex(['2015-01-01 00:00:00', '2015-01-01 01:00:00',\n",
       "               '2015-01-01 02:00:00', '2015-01-01 03:00:00',\n",
       "               '2015-01-01 04:00:00', '2015-01-01 05:00:00',\n",
       "               '2015-01-01 06:00:00', '2015-01-01 07:00:00',\n",
       "               '2015-01-01 08:00:00', '2015-01-01 09:00:00',\n",
       "               ...\n",
       "               '2015-12-31 14:00:00', '2015-12-31 15:00:00',\n",
       "               '2015-12-31 16:00:00', '2015-12-31 17:00:00',\n",
       "               '2015-12-31 18:00:00', '2015-12-31 19:00:00',\n",
       "               '2015-12-31 20:00:00', '2015-12-31 21:00:00',\n",
       "               '2015-12-31 22:00:00', '2015-12-31 23:00:00'],\n",
       "              dtype='datetime64[ns]', length=8760, freq=None)"
      ]
     },
     "execution_count": 29,
     "metadata": {},
     "output_type": "execute_result"
    }
   ],
   "source": [
    "url = \"https://tubcloud.tu-berlin.de/s/pKttFadrbTKSJKF/download/time-series-lecture-2.csv\"\n",
    "ts = pd.read_csv(url, index_col=0, parse_dates=True)\n",
    "ts.index"
   ]
  },
  {
   "cell_type": "markdown",
   "metadata": {},
   "source": [
    "We can use Python's _slicing_ notation inside `.loc` to select a date range, and then use the built-in plotting feature of Pandas:"
   ]
  },
  {
   "cell_type": "code",
   "execution_count": 30,
   "metadata": {},
   "outputs": [
    {
     "data": {
      "text/plain": [
       "<Axes: >"
      ]
     },
     "execution_count": 30,
     "metadata": {},
     "output_type": "execute_result"
    },
    {
     "data": {
      "image/png": "[encoded data removed]",
      "text/plain": [
       "<Figure size 640x480 with 1 Axes>"
      ]
     },
     "metadata": {},
     "output_type": "display_data"
    }
   ],
   "source": [
    "ts.loc[\"2015-01-01\":\"2015-03-01\", \"load\"].plot()"
   ]
  },
  {
   "cell_type": "code",
   "execution_count": 31,
   "metadata": {},
   "outputs": [
    {
     "data": {
      "text/plain": [
       "<Axes: >"
      ]
     },
     "execution_count": 31,
     "metadata": {},
     "output_type": "execute_result"
    },
    {
     "data": {
      "image/png": "[encoded data removed]",
      "text/plain": [
       "<Figure size 640x480 with 1 Axes>"
      ]
     },
     "metadata": {},
     "output_type": "display_data"
    }
   ],
   "source": [
    "ts.loc[\"2015-05-01\", \"solar\"].plot()"
   ]
  },
  {
   "cell_type": "markdown",
   "metadata": {},
   "source": [
    "A common operation is to change the resolution of a dataset by resampling in time, which Pandas exposes through the [resample](http://pandas.pydata.org/pandas-docs/stable/timeseries.html#resampling) function.\n",
    "\n",
    ":::{note}\n",
    "The resample periods are specified using pandas [offset index](http://pandas.pydata.org/pandas-docs/stable/timeseries.html#offset-aliases) syntax.\n",
    ":::"
   ]
  },
  {
   "cell_type": "code",
   "execution_count": 32,
   "metadata": {},
   "outputs": [
    {
     "data": {
      "text/plain": [
       "<Axes: >"
      ]
     },
     "execution_count": 32,
     "metadata": {},
     "output_type": "execute_result"
    },
    {
     "data": {
      "image/png": "[encoded data removed]",
      "text/plain": [
       "<Figure size 640x480 with 1 Axes>"
      ]
     },
     "metadata": {},
     "output_type": "display_data"
    }
   ],
   "source": [
    "ts[\"onwind\"].plot()"
   ]
  },
  {
   "cell_type": "markdown",
   "metadata": {},
   "source": [
    "## Groupby Functionality"
   ]
  },
  {
   "cell_type": "markdown",
   "metadata": {},
   "source": [
    "`DataFrame` objects have a `groupby` method. The simplest way to think about it is that you pass another series, whose values are used to split the original object into different groups.\n",
    "\n",
    "Here's an example which retrieves the total generation capacity per country:"
   ]
  },
  {
   "cell_type": "code",
   "execution_count": 33,
   "metadata": {},
   "outputs": [],
   "source": [
    "fn = \"https://raw.githubusercontent.com/PyPSA/powerplantmatching/master/powerplants.csv\""
   ]
  },
  {
   "cell_type": "code",
   "execution_count": 34,
   "metadata": {},
   "outputs": [
    {
     "data": {
      "text/html": [
       "<div>\n",
       "<style scoped>\n",
       "    .dataframe tbody tr th:only-of-type {\n",
       "        vertical-align: middle;\n",
       "    }\n",
       "\n",
       "    .dataframe tbody tr th {\n",
       "        vertical-align: top;\n",
       "    }\n",
       "\n",
       "    .dataframe thead th {\n",
       "        text-align: right;\n",
       "    }\n",
       "</style>\n",
       "<table border=\"1\" class=\"dataframe\">\n",
       "  <thead>\n",
       "    <tr style=\"text-align: right;\">\n",
       "      <th></th>\n",
       "      <th>Name</th>\n",
       "      <th>Fueltype</th>\n",
       "      <th>Technology</th>\n",
       "      <th>Set</th>\n",
       "      <th>Country</th>\n",
       "      <th>Capacity</th>\n",
       "      <th>Efficiency</th>\n",
       "      <th>DateIn</th>\n",
       "      <th>DateRetrofit</th>\n",
       "      <th>DateOut</th>\n",
       "    </tr>\n",
       "    <tr>\n",
       "      <th>id</th>\n",
       "      <th></th>\n",
       "      <th></th>\n",
       "      <th></th>\n",
       "      <th></th>\n",
       "      <th></th>\n",
       "      <th></th>\n",
       "      <th></th>\n",
       "      <th></th>\n",
       "      <th></th>\n",
       "      <th></th>\n",
       "    </tr>\n",
       "  </thead>\n",
       "  <tbody>\n",
       "    <tr>\n",
       "      <th>0</th>\n",
       "      <td>Kernkraftwerk Emsland</td>\n",
       "      <td>Nuclear</td>\n",
       "      <td>Steam Turbine</td>\n",
       "      <td>PP</td>\n",
       "      <td>Germany</td>\n",
       "      <td>1336.0</td>\n",
       "      <td>0.33</td>\n",
       "      <td>1988.0</td>\n",
       "      <td>1988.0</td>\n",
       "      <td>2023.0</td>\n",
       "    </tr>\n",
       "    <tr>\n",
       "      <th>1</th>\n",
       "      <td>Brokdorf</td>\n",
       "      <td>Nuclear</td>\n",
       "      <td>Steam Turbine</td>\n",
       "      <td>PP</td>\n",
       "      <td>Germany</td>\n",
       "      <td>1410.0</td>\n",
       "      <td>0.33</td>\n",
       "      <td>1986.0</td>\n",
       "      <td>1986.0</td>\n",
       "      <td>2021.0</td>\n",
       "    </tr>\n",
       "    <tr>\n",
       "      <th>2</th>\n",
       "      <td>Borssele</td>\n",
       "      <td>Hard Coal</td>\n",
       "      <td>Steam Turbine</td>\n",
       "      <td>PP</td>\n",
       "      <td>Netherlands</td>\n",
       "      <td>485.0</td>\n",
       "      <td>NaN</td>\n",
       "      <td>1973.0</td>\n",
       "      <td>NaN</td>\n",
       "      <td>2034.0</td>\n",
       "    </tr>\n",
       "    <tr>\n",
       "      <th>3</th>\n",
       "      <td>Gemeinschaftskernkraftwerk Neckarwestheim</td>\n",
       "      <td>Nuclear</td>\n",
       "      <td>Steam Turbine</td>\n",
       "      <td>PP</td>\n",
       "      <td>Germany</td>\n",
       "      <td>1310.0</td>\n",
       "      <td>0.33</td>\n",
       "      <td>1976.0</td>\n",
       "      <td>1989.0</td>\n",
       "      <td>2023.0</td>\n",
       "    </tr>\n",
       "    <tr>\n",
       "      <th>4</th>\n",
       "      <td>Isar</td>\n",
       "      <td>Nuclear</td>\n",
       "      <td>Steam Turbine</td>\n",
       "      <td>PP</td>\n",
       "      <td>Germany</td>\n",
       "      <td>1410.0</td>\n",
       "      <td>0.33</td>\n",
       "      <td>1979.0</td>\n",
       "      <td>1988.0</td>\n",
       "      <td>2023.0</td>\n",
       "    </tr>\n",
       "  </tbody>\n",
       "</table>\n",
       "</div>"
      ],
      "text/plain": [
       "                                         Name   Fueltype     Technology Set  \\\n",
       "id                                                                            \n",
       "0                       Kernkraftwerk Emsland    Nuclear  Steam Turbine  PP   \n",
       "1                                    Brokdorf    Nuclear  Steam Turbine  PP   \n",
       "2                                    Borssele  Hard Coal  Steam Turbine  PP   \n",
       "3   Gemeinschaftskernkraftwerk Neckarwestheim    Nuclear  Steam Turbine  PP   \n",
       "4                                        Isar    Nuclear  Steam Turbine  PP   \n",
       "\n",
       "        Country  Capacity  Efficiency  DateIn  DateRetrofit  DateOut  \n",
       "id                                                                    \n",
       "0       Germany    1336.0        0.33  1988.0        1988.0   2023.0  \n",
       "1       Germany    1410.0        0.33  1986.0        1986.0   2021.0  \n",
       "2   Netherlands     485.0         NaN  1973.0           NaN   2034.0  \n",
       "3       Germany    1310.0        0.33  1976.0        1989.0   2023.0  \n",
       "4       Germany    1410.0        0.33  1979.0        1988.0   2023.0  "
      ]
     },
     "execution_count": 34,
     "metadata": {},
     "output_type": "execute_result"
    }
   ],
   "source": [
    "df = pd.read_csv(fn, index_col=0)\n",
    "df.iloc[:5, :10]"
   ]
  },
  {
   "cell_type": "code",
   "execution_count": 35,
   "metadata": {},
   "outputs": [
    {
     "data": {
      "text/plain": [
       "Country\n",
       "Albania                    2370.400000\n",
       "Austria                   24643.200368\n",
       "Belgium                   21443.151009\n",
       "Bosnia and Herzegovina     4827.195964\n",
       "Bulgaria                  15699.186363\n",
       "Name: Capacity, dtype: float64"
      ]
     },
     "execution_count": 35,
     "metadata": {},
     "output_type": "execute_result"
    }
   ],
   "source": [
    "grouped = df.groupby(\"Country\").Capacity.sum()\n",
    "grouped.head()"
   ]
  },
  {
   "cell_type": "markdown",
   "metadata": {},
   "source": [
    "Let's break apart this operation a bit. The workflow with `groupby` can be divided into three general steps:\n",
    "\n",
    "1. **Split**: Partition the data into different groups based on some criterion.\n",
    "2. **Apply**: Do some caclulation within each group, e.g. minimum, maximum, sums.\n",
    "3. **Combine**: Put the results back together into a single object.\n",
    "\n",
    "<img src=\"https://miro.medium.com/max/1840/1*JbF6nhrQsn4f-TaSF6IR9g.png\" width=\"720px\" />"
   ]
  },
  {
   "cell_type": "markdown",
   "metadata": {},
   "source": [
    "Grouping is not only possible on a single columns, but also on multiple columns. For instance,\n",
    "we might want to group the capacities by country **and** fuel type. To achieve this, we pass a list of functions to the `groupby` functions."
   ]
  },
  {
   "cell_type": "code",
   "execution_count": 36,
   "metadata": {},
   "outputs": [
    {
     "data": {
      "text/plain": [
       "Country         Fueltype     \n",
       "Albania         Hydro             1743.9\n",
       "                Other               98.0\n",
       "                Solar              294.5\n",
       "                Wind               234.0\n",
       "Austria         Hard Coal         1331.4\n",
       "                                  ...   \n",
       "United Kingdom  Other               55.0\n",
       "                Solar            11668.6\n",
       "                Solid Biomass     4919.0\n",
       "                Waste              288.9\n",
       "                Wind             38670.3\n",
       "Name: Capacity, Length: 242, dtype: float64"
      ]
     },
     "execution_count": 36,
     "metadata": {},
     "output_type": "execute_result"
    }
   ],
   "source": [
    "capacities = df.groupby([\"Country\", \"Fueltype\"]).Capacity.sum()\n",
    "capacities"
   ]
  },
  {
   "cell_type": "markdown",
   "metadata": {},
   "source": [
    "By grouping by multiple attributes, our index becomes a `pd.MultiIndex` (a hierarchical index with multiple *levels*."
   ]
  },
  {
   "cell_type": "code",
   "execution_count": 37,
   "metadata": {},
   "outputs": [
    {
     "data": {
      "text/plain": [
       "MultiIndex([('Albania',     'Hydro'),\n",
       "            ('Albania',     'Other'),\n",
       "            ('Albania',     'Solar'),\n",
       "            ('Albania',      'Wind'),\n",
       "            ('Austria', 'Hard Coal')],\n",
       "           names=['Country', 'Fueltype'])"
      ]
     },
     "execution_count": 37,
     "metadata": {},
     "output_type": "execute_result"
    }
   ],
   "source": [
    "capacities.index[:5]"
   ]
  },
  {
   "cell_type": "markdown",
   "metadata": {},
   "source": [
    "We can use the `.unstack` function to reshape the multi-indexed `pd.Series` into a `pd.DataFrame` which has the second index level as columns. "
   ]
  },
  {
   "cell_type": "code",
   "execution_count": 38,
   "metadata": {},
   "outputs": [
    {
     "data": {
      "text/html": [
       "<div>\n",
       "<style scoped>\n",
       "    .dataframe tbody tr th:only-of-type {\n",
       "        vertical-align: middle;\n",
       "    }\n",
       "\n",
       "    .dataframe tbody tr th {\n",
       "        vertical-align: top;\n",
       "    }\n",
       "\n",
       "    .dataframe thead th {\n",
       "        text-align: right;\n",
       "    }\n",
       "</style>\n",
       "<table border=\"1\" class=\"dataframe\">\n",
       "  <thead>\n",
       "    <tr style=\"text-align: right;\">\n",
       "      <th>Country</th>\n",
       "      <th>Spain</th>\n",
       "      <th>Sweden</th>\n",
       "      <th>Switzerland</th>\n",
       "      <th>Ukraine</th>\n",
       "      <th>United Kingdom</th>\n",
       "    </tr>\n",
       "    <tr>\n",
       "      <th>Fueltype</th>\n",
       "      <th></th>\n",
       "      <th></th>\n",
       "      <th></th>\n",
       "      <th></th>\n",
       "      <th></th>\n",
       "    </tr>\n",
       "  </thead>\n",
       "  <tbody>\n",
       "    <tr>\n",
       "      <th>Biogas</th>\n",
       "      <td>NaN</td>\n",
       "      <td>NaN</td>\n",
       "      <td>NaN</td>\n",
       "      <td>NaN</td>\n",
       "      <td>31.000000</td>\n",
       "    </tr>\n",
       "    <tr>\n",
       "      <th>Geothermal</th>\n",
       "      <td>NaN</td>\n",
       "      <td>NaN</td>\n",
       "      <td>NaN</td>\n",
       "      <td>NaN</td>\n",
       "      <td>NaN</td>\n",
       "    </tr>\n",
       "    <tr>\n",
       "      <th>Hard Coal</th>\n",
       "      <td>11904.878478</td>\n",
       "      <td>291.000000</td>\n",
       "      <td>NaN</td>\n",
       "      <td>24474.0</td>\n",
       "      <td>33823.617061</td>\n",
       "    </tr>\n",
       "    <tr>\n",
       "      <th>Hydro</th>\n",
       "      <td>26069.861248</td>\n",
       "      <td>14273.686625</td>\n",
       "      <td>20115.0408</td>\n",
       "      <td>6590.0</td>\n",
       "      <td>4576.175000</td>\n",
       "    </tr>\n",
       "    <tr>\n",
       "      <th>Lignite</th>\n",
       "      <td>1831.400000</td>\n",
       "      <td>NaN</td>\n",
       "      <td>NaN</td>\n",
       "      <td>NaN</td>\n",
       "      <td>NaN</td>\n",
       "    </tr>\n",
       "    <tr>\n",
       "      <th>Natural Gas</th>\n",
       "      <td>28394.244000</td>\n",
       "      <td>2358.000000</td>\n",
       "      <td>55.0000</td>\n",
       "      <td>4687.9</td>\n",
       "      <td>36366.400000</td>\n",
       "    </tr>\n",
       "    <tr>\n",
       "      <th>Nuclear</th>\n",
       "      <td>7733.200000</td>\n",
       "      <td>9859.000000</td>\n",
       "      <td>3355.0000</td>\n",
       "      <td>17635.0</td>\n",
       "      <td>19181.000000</td>\n",
       "    </tr>\n",
       "    <tr>\n",
       "      <th>Oil</th>\n",
       "      <td>1854.371000</td>\n",
       "      <td>1685.000000</td>\n",
       "      <td>NaN</td>\n",
       "      <td>NaN</td>\n",
       "      <td>100.000000</td>\n",
       "    </tr>\n",
       "    <tr>\n",
       "      <th>Other</th>\n",
       "      <td>NaN</td>\n",
       "      <td>NaN</td>\n",
       "      <td>NaN</td>\n",
       "      <td>NaN</td>\n",
       "      <td>55.000000</td>\n",
       "    </tr>\n",
       "    <tr>\n",
       "      <th>Solar</th>\n",
       "      <td>36998.200000</td>\n",
       "      <td>281.800000</td>\n",
       "      <td>96.8000</td>\n",
       "      <td>5628.7</td>\n",
       "      <td>11668.600000</td>\n",
       "    </tr>\n",
       "    <tr>\n",
       "      <th>Solid Biomass</th>\n",
       "      <td>563.000000</td>\n",
       "      <td>2432.600000</td>\n",
       "      <td>NaN</td>\n",
       "      <td>NaN</td>\n",
       "      <td>4919.000000</td>\n",
       "    </tr>\n",
       "    <tr>\n",
       "      <th>Waste</th>\n",
       "      <td>388.054000</td>\n",
       "      <td>NaN</td>\n",
       "      <td>NaN</td>\n",
       "      <td>NaN</td>\n",
       "      <td>288.900000</td>\n",
       "    </tr>\n",
       "    <tr>\n",
       "      <th>Wind</th>\n",
       "      <td>34371.650000</td>\n",
       "      <td>16958.800000</td>\n",
       "      <td>55.0000</td>\n",
       "      <td>461.4</td>\n",
       "      <td>38670.300000</td>\n",
       "    </tr>\n",
       "  </tbody>\n",
       "</table>\n",
       "</div>"
      ],
      "text/plain": [
       "Country               Spain        Sweden  Switzerland  Ukraine  \\\n",
       "Fueltype                                                          \n",
       "Biogas                  NaN           NaN          NaN      NaN   \n",
       "Geothermal              NaN           NaN          NaN      NaN   \n",
       "Hard Coal      11904.878478    291.000000          NaN  24474.0   \n",
       "Hydro          26069.861248  14273.686625   20115.0408   6590.0   \n",
       "Lignite         1831.400000           NaN          NaN      NaN   \n",
       "Natural Gas    28394.244000   2358.000000      55.0000   4687.9   \n",
       "Nuclear         7733.200000   9859.000000    3355.0000  17635.0   \n",
       "Oil             1854.371000   1685.000000          NaN      NaN   \n",
       "Other                   NaN           NaN          NaN      NaN   \n",
       "Solar          36998.200000    281.800000      96.8000   5628.7   \n",
       "Solid Biomass    563.000000   2432.600000          NaN      NaN   \n",
       "Waste            388.054000           NaN          NaN      NaN   \n",
       "Wind           34371.650000  16958.800000      55.0000    461.4   \n",
       "\n",
       "Country        United Kingdom  \n",
       "Fueltype                       \n",
       "Biogas              31.000000  \n",
       "Geothermal                NaN  \n",
       "Hard Coal        33823.617061  \n",
       "Hydro             4576.175000  \n",
       "Lignite                   NaN  \n",
       "Natural Gas      36366.400000  \n",
       "Nuclear          19181.000000  \n",
       "Oil                100.000000  \n",
       "Other               55.000000  \n",
       "Solar            11668.600000  \n",
       "Solid Biomass     4919.000000  \n",
       "Waste              288.900000  \n",
       "Wind             38670.300000  "
      ]
     },
     "execution_count": 38,
     "metadata": {},
     "output_type": "execute_result"
    }
   ],
   "source": [
    "capacities.unstack().tail().T"
   ]
  },
  {
   "cell_type": "markdown",
   "metadata": {},
   "source": [
    "## Exercises"
   ]
  },
  {
   "cell_type": "markdown",
   "metadata": {},
   "source": [
    "**Task 1:** Provide a list of unique fuel types included in the power plants dataset."
   ]
  },
  {
   "cell_type": "code",
   "execution_count": 39,
   "metadata": {
    "tags": [
     "hide-cell"
    ]
   },
   "outputs": [
    {
     "data": {
      "text/plain": [
       "array(['Nuclear', 'Hard Coal', 'Hydro', 'Lignite', 'Natural Gas', 'Oil',\n",
       "       'Solid Biomass', 'Wind', 'Solar', 'Other', 'Biogas', 'Waste',\n",
       "       'Geothermal'], dtype=object)"
      ]
     },
     "execution_count": 39,
     "metadata": {},
     "output_type": "execute_result"
    }
   ],
   "source": [
    "df.Fueltype.unique()"
   ]
  },
  {
   "cell_type": "markdown",
   "metadata": {},
   "source": [
    "**Task 2:** Filter the dataset by power plants with the fuel type \"Hard Coal\". How many hard coal power plants are there?"
   ]
  },
  {
   "cell_type": "code",
   "execution_count": 40,
   "metadata": {
    "tags": [
     "hide-cell"
    ]
   },
   "outputs": [
    {
     "data": {
      "text/html": [
       "<div>\n",
       "<style scoped>\n",
       "    .dataframe tbody tr th:only-of-type {\n",
       "        vertical-align: middle;\n",
       "    }\n",
       "\n",
       "    .dataframe tbody tr th {\n",
       "        vertical-align: top;\n",
       "    }\n",
       "\n",
       "    .dataframe thead th {\n",
       "        text-align: right;\n",
       "    }\n",
       "</style>\n",
       "<table border=\"1\" class=\"dataframe\">\n",
       "  <thead>\n",
       "    <tr style=\"text-align: right;\">\n",
       "      <th></th>\n",
       "      <th>Name</th>\n",
       "      <th>Fueltype</th>\n",
       "      <th>Technology</th>\n",
       "      <th>Set</th>\n",
       "      <th>Country</th>\n",
       "      <th>Capacity</th>\n",
       "      <th>Efficiency</th>\n",
       "      <th>DateIn</th>\n",
       "      <th>DateRetrofit</th>\n",
       "      <th>DateOut</th>\n",
       "      <th>lat</th>\n",
       "      <th>lon</th>\n",
       "      <th>Duration</th>\n",
       "      <th>Volume_Mm3</th>\n",
       "      <th>DamHeight_m</th>\n",
       "      <th>StorageCapacity_MWh</th>\n",
       "      <th>EIC</th>\n",
       "      <th>projectID</th>\n",
       "    </tr>\n",
       "    <tr>\n",
       "      <th>id</th>\n",
       "      <th></th>\n",
       "      <th></th>\n",
       "      <th></th>\n",
       "      <th></th>\n",
       "      <th></th>\n",
       "      <th></th>\n",
       "      <th></th>\n",
       "      <th></th>\n",
       "      <th></th>\n",
       "      <th></th>\n",
       "      <th></th>\n",
       "      <th></th>\n",
       "      <th></th>\n",
       "      <th></th>\n",
       "      <th></th>\n",
       "      <th></th>\n",
       "      <th></th>\n",
       "      <th></th>\n",
       "    </tr>\n",
       "  </thead>\n",
       "  <tbody>\n",
       "    <tr>\n",
       "      <th>2</th>\n",
       "      <td>Borssele</td>\n",
       "      <td>Hard Coal</td>\n",
       "      <td>Steam Turbine</td>\n",
       "      <td>PP</td>\n",
       "      <td>Netherlands</td>\n",
       "      <td>485.000000</td>\n",
       "      <td>NaN</td>\n",
       "      <td>1973.0</td>\n",
       "      <td>NaN</td>\n",
       "      <td>2034.0</td>\n",
       "      <td>51.433200</td>\n",
       "      <td>3.716000</td>\n",
       "      <td>NaN</td>\n",
       "      <td>0.0</td>\n",
       "      <td>0.0</td>\n",
       "      <td>0.0</td>\n",
       "      <td>{'49W000000000054X'}</td>\n",
       "      <td>{'BEYONDCOAL': {'BEYOND-NL-2'}, 'ENTSOE': {'49...</td>\n",
       "    </tr>\n",
       "    <tr>\n",
       "      <th>98</th>\n",
       "      <td>Didcot</td>\n",
       "      <td>Hard Coal</td>\n",
       "      <td>CCGT</td>\n",
       "      <td>PP</td>\n",
       "      <td>United Kingdom</td>\n",
       "      <td>1490.000000</td>\n",
       "      <td>0.550000</td>\n",
       "      <td>1970.0</td>\n",
       "      <td>1998.0</td>\n",
       "      <td>2013.0</td>\n",
       "      <td>51.622300</td>\n",
       "      <td>-1.260800</td>\n",
       "      <td>NaN</td>\n",
       "      <td>0.0</td>\n",
       "      <td>0.0</td>\n",
       "      <td>0.0</td>\n",
       "      <td>{'48WSTN0000DIDCBC'}</td>\n",
       "      <td>{'BEYONDCOAL': {'BEYOND-UK-22'}, 'ENTSOE': {'4...</td>\n",
       "    </tr>\n",
       "    <tr>\n",
       "      <th>129</th>\n",
       "      <td>Mellach</td>\n",
       "      <td>Hard Coal</td>\n",
       "      <td>Steam Turbine</td>\n",
       "      <td>CHP</td>\n",
       "      <td>Austria</td>\n",
       "      <td>200.000000</td>\n",
       "      <td>NaN</td>\n",
       "      <td>1986.0</td>\n",
       "      <td>1986.0</td>\n",
       "      <td>2020.0</td>\n",
       "      <td>46.911700</td>\n",
       "      <td>15.488300</td>\n",
       "      <td>NaN</td>\n",
       "      <td>0.0</td>\n",
       "      <td>0.0</td>\n",
       "      <td>0.0</td>\n",
       "      <td>{'14W-WML-KW-----0'}</td>\n",
       "      <td>{'BEYONDCOAL': {'BEYOND-AT-11'}, 'ENTSOE': {'1...</td>\n",
       "    </tr>\n",
       "    <tr>\n",
       "      <th>150</th>\n",
       "      <td>Emile Huchet</td>\n",
       "      <td>Hard Coal</td>\n",
       "      <td>CCGT</td>\n",
       "      <td>PP</td>\n",
       "      <td>France</td>\n",
       "      <td>596.493211</td>\n",
       "      <td>NaN</td>\n",
       "      <td>1958.0</td>\n",
       "      <td>2010.0</td>\n",
       "      <td>2022.0</td>\n",
       "      <td>49.152500</td>\n",
       "      <td>6.698100</td>\n",
       "      <td>NaN</td>\n",
       "      <td>0.0</td>\n",
       "      <td>0.0</td>\n",
       "      <td>0.0</td>\n",
       "      <td>{'17W100P100P0344D', '17W100P100P0345B'}</td>\n",
       "      <td>{'BEYONDCOAL': {'BEYOND-FR-67'}, 'ENTSOE': {'1...</td>\n",
       "    </tr>\n",
       "    <tr>\n",
       "      <th>151</th>\n",
       "      <td>Amercoeur</td>\n",
       "      <td>Hard Coal</td>\n",
       "      <td>CCGT</td>\n",
       "      <td>PP</td>\n",
       "      <td>Belgium</td>\n",
       "      <td>451.000000</td>\n",
       "      <td>0.187765</td>\n",
       "      <td>1968.0</td>\n",
       "      <td>NaN</td>\n",
       "      <td>2009.0</td>\n",
       "      <td>50.431000</td>\n",
       "      <td>4.395500</td>\n",
       "      <td>NaN</td>\n",
       "      <td>0.0</td>\n",
       "      <td>0.0</td>\n",
       "      <td>0.0</td>\n",
       "      <td>{'22WAMERCO000010Y'}</td>\n",
       "      <td>{'BEYONDCOAL': {'BEYOND-BE-27'}, 'ENTSOE': {'2...</td>\n",
       "    </tr>\n",
       "    <tr>\n",
       "      <th>...</th>\n",
       "      <td>...</td>\n",
       "      <td>...</td>\n",
       "      <td>...</td>\n",
       "      <td>...</td>\n",
       "      <td>...</td>\n",
       "      <td>...</td>\n",
       "      <td>...</td>\n",
       "      <td>...</td>\n",
       "      <td>...</td>\n",
       "      <td>...</td>\n",
       "      <td>...</td>\n",
       "      <td>...</td>\n",
       "      <td>...</td>\n",
       "      <td>...</td>\n",
       "      <td>...</td>\n",
       "      <td>...</td>\n",
       "      <td>...</td>\n",
       "      <td>...</td>\n",
       "    </tr>\n",
       "    <tr>\n",
       "      <th>29779</th>\n",
       "      <td>St</td>\n",
       "      <td>Hard Coal</td>\n",
       "      <td>NaN</td>\n",
       "      <td>CHP</td>\n",
       "      <td>Germany</td>\n",
       "      <td>21.645000</td>\n",
       "      <td>NaN</td>\n",
       "      <td>1982.0</td>\n",
       "      <td>NaN</td>\n",
       "      <td>NaN</td>\n",
       "      <td>49.976593</td>\n",
       "      <td>9.068953</td>\n",
       "      <td>NaN</td>\n",
       "      <td>0.0</td>\n",
       "      <td>0.0</td>\n",
       "      <td>0.0</td>\n",
       "      <td>{nan}</td>\n",
       "      <td>{'MASTR': {'MASTR-SEE971943692655'}}</td>\n",
       "    </tr>\n",
       "    <tr>\n",
       "      <th>29804</th>\n",
       "      <td>Uer</td>\n",
       "      <td>Hard Coal</td>\n",
       "      <td>NaN</td>\n",
       "      <td>CHP</td>\n",
       "      <td>Germany</td>\n",
       "      <td>15.200000</td>\n",
       "      <td>NaN</td>\n",
       "      <td>1964.0</td>\n",
       "      <td>NaN</td>\n",
       "      <td>NaN</td>\n",
       "      <td>51.368132</td>\n",
       "      <td>6.662350</td>\n",
       "      <td>NaN</td>\n",
       "      <td>0.0</td>\n",
       "      <td>0.0</td>\n",
       "      <td>0.0</td>\n",
       "      <td>{nan}</td>\n",
       "      <td>{'MASTR': {'MASTR-SEE988421065542'}}</td>\n",
       "    </tr>\n",
       "    <tr>\n",
       "      <th>29813</th>\n",
       "      <td>Walheim</td>\n",
       "      <td>Hard Coal</td>\n",
       "      <td>NaN</td>\n",
       "      <td>PP</td>\n",
       "      <td>Germany</td>\n",
       "      <td>244.000000</td>\n",
       "      <td>NaN</td>\n",
       "      <td>1964.0</td>\n",
       "      <td>NaN</td>\n",
       "      <td>NaN</td>\n",
       "      <td>49.017585</td>\n",
       "      <td>9.157690</td>\n",
       "      <td>NaN</td>\n",
       "      <td>0.0</td>\n",
       "      <td>0.0</td>\n",
       "      <td>0.0</td>\n",
       "      <td>{nan, nan}</td>\n",
       "      <td>{'MASTR': {'MASTR-SEE937157344278', 'MASTR-SEE...</td>\n",
       "    </tr>\n",
       "    <tr>\n",
       "      <th>29830</th>\n",
       "      <td>Wd Ffw</td>\n",
       "      <td>Hard Coal</td>\n",
       "      <td>NaN</td>\n",
       "      <td>CHP</td>\n",
       "      <td>Germany</td>\n",
       "      <td>123.000000</td>\n",
       "      <td>NaN</td>\n",
       "      <td>1990.0</td>\n",
       "      <td>NaN</td>\n",
       "      <td>NaN</td>\n",
       "      <td>50.099000</td>\n",
       "      <td>8.653000</td>\n",
       "      <td>NaN</td>\n",
       "      <td>0.0</td>\n",
       "      <td>0.0</td>\n",
       "      <td>0.0</td>\n",
       "      <td>{nan, nan}</td>\n",
       "      <td>{'MASTR': {'MASTR-SEE915289541482', 'MASTR-SEE...</td>\n",
       "    </tr>\n",
       "    <tr>\n",
       "      <th>29835</th>\n",
       "      <td>West</td>\n",
       "      <td>Hard Coal</td>\n",
       "      <td>NaN</td>\n",
       "      <td>CHP</td>\n",
       "      <td>Germany</td>\n",
       "      <td>277.000000</td>\n",
       "      <td>NaN</td>\n",
       "      <td>1985.0</td>\n",
       "      <td>NaN</td>\n",
       "      <td>NaN</td>\n",
       "      <td>52.442456</td>\n",
       "      <td>10.762681</td>\n",
       "      <td>NaN</td>\n",
       "      <td>0.0</td>\n",
       "      <td>0.0</td>\n",
       "      <td>0.0</td>\n",
       "      <td>{nan, nan}</td>\n",
       "      <td>{'MASTR': {'MASTR-SEE917432813484', 'MASTR-SEE...</td>\n",
       "    </tr>\n",
       "  </tbody>\n",
       "</table>\n",
       "<p>332 rows × 18 columns</p>\n",
       "</div>"
      ],
      "text/plain": [
       "               Name   Fueltype     Technology  Set         Country  \\\n",
       "id                                                                   \n",
       "2          Borssele  Hard Coal  Steam Turbine   PP     Netherlands   \n",
       "98           Didcot  Hard Coal           CCGT   PP  United Kingdom   \n",
       "129         Mellach  Hard Coal  Steam Turbine  CHP         Austria   \n",
       "150    Emile Huchet  Hard Coal           CCGT   PP          France   \n",
       "151       Amercoeur  Hard Coal           CCGT   PP         Belgium   \n",
       "...             ...        ...            ...  ...             ...   \n",
       "29779            St  Hard Coal            NaN  CHP         Germany   \n",
       "29804           Uer  Hard Coal            NaN  CHP         Germany   \n",
       "29813       Walheim  Hard Coal            NaN   PP         Germany   \n",
       "29830        Wd Ffw  Hard Coal            NaN  CHP         Germany   \n",
       "29835          West  Hard Coal            NaN  CHP         Germany   \n",
       "\n",
       "          Capacity  Efficiency  DateIn  DateRetrofit  DateOut        lat  \\\n",
       "id                                                                         \n",
       "2       485.000000         NaN  1973.0           NaN   2034.0  51.433200   \n",
       "98     1490.000000    0.550000  1970.0        1998.0   2013.0  51.622300   \n",
       "129     200.000000         NaN  1986.0        1986.0   2020.0  46.911700   \n",
       "150     596.493211         NaN  1958.0        2010.0   2022.0  49.152500   \n",
       "151     451.000000    0.187765  1968.0           NaN   2009.0  50.431000   \n",
       "...            ...         ...     ...           ...      ...        ...   \n",
       "29779    21.645000         NaN  1982.0           NaN      NaN  49.976593   \n",
       "29804    15.200000         NaN  1964.0           NaN      NaN  51.368132   \n",
       "29813   244.000000         NaN  1964.0           NaN      NaN  49.017585   \n",
       "29830   123.000000         NaN  1990.0           NaN      NaN  50.099000   \n",
       "29835   277.000000         NaN  1985.0           NaN      NaN  52.442456   \n",
       "\n",
       "             lon  Duration  Volume_Mm3  DamHeight_m  StorageCapacity_MWh  \\\n",
       "id                                                                         \n",
       "2       3.716000       NaN         0.0          0.0                  0.0   \n",
       "98     -1.260800       NaN         0.0          0.0                  0.0   \n",
       "129    15.488300       NaN         0.0          0.0                  0.0   \n",
       "150     6.698100       NaN         0.0          0.0                  0.0   \n",
       "151     4.395500       NaN         0.0          0.0                  0.0   \n",
       "...          ...       ...         ...          ...                  ...   \n",
       "29779   9.068953       NaN         0.0          0.0                  0.0   \n",
       "29804   6.662350       NaN         0.0          0.0                  0.0   \n",
       "29813   9.157690       NaN         0.0          0.0                  0.0   \n",
       "29830   8.653000       NaN         0.0          0.0                  0.0   \n",
       "29835  10.762681       NaN         0.0          0.0                  0.0   \n",
       "\n",
       "                                            EIC  \\\n",
       "id                                                \n",
       "2                          {'49W000000000054X'}   \n",
       "98                         {'48WSTN0000DIDCBC'}   \n",
       "129                        {'14W-WML-KW-----0'}   \n",
       "150    {'17W100P100P0344D', '17W100P100P0345B'}   \n",
       "151                        {'22WAMERCO000010Y'}   \n",
       "...                                         ...   \n",
       "29779                                     {nan}   \n",
       "29804                                     {nan}   \n",
       "29813                                {nan, nan}   \n",
       "29830                                {nan, nan}   \n",
       "29835                                {nan, nan}   \n",
       "\n",
       "                                               projectID  \n",
       "id                                                        \n",
       "2      {'BEYONDCOAL': {'BEYOND-NL-2'}, 'ENTSOE': {'49...  \n",
       "98     {'BEYONDCOAL': {'BEYOND-UK-22'}, 'ENTSOE': {'4...  \n",
       "129    {'BEYONDCOAL': {'BEYOND-AT-11'}, 'ENTSOE': {'1...  \n",
       "150    {'BEYONDCOAL': {'BEYOND-FR-67'}, 'ENTSOE': {'1...  \n",
       "151    {'BEYONDCOAL': {'BEYOND-BE-27'}, 'ENTSOE': {'2...  \n",
       "...                                                  ...  \n",
       "29779               {'MASTR': {'MASTR-SEE971943692655'}}  \n",
       "29804               {'MASTR': {'MASTR-SEE988421065542'}}  \n",
       "29813  {'MASTR': {'MASTR-SEE937157344278', 'MASTR-SEE...  \n",
       "29830  {'MASTR': {'MASTR-SEE915289541482', 'MASTR-SEE...  \n",
       "29835  {'MASTR': {'MASTR-SEE917432813484', 'MASTR-SEE...  \n",
       "\n",
       "[332 rows x 18 columns]"
      ]
     },
     "execution_count": 40,
     "metadata": {},
     "output_type": "execute_result"
    }
   ],
   "source": [
    "coal = df.loc[df.Fueltype == \"Hard Coal\"]\n",
    "coal"
   ]
  },
  {
   "cell_type": "markdown",
   "metadata": {},
   "source": [
    "**Task 3:** Identify the three largest coal power plants. In which countries are they located? When were they built?"
   ]
  },
  {
   "cell_type": "code",
   "execution_count": 41,
   "metadata": {
    "tags": [
     "hide-cell"
    ]
   },
   "outputs": [
    {
     "data": {
      "text/html": [
       "<div>\n",
       "<style scoped>\n",
       "    .dataframe tbody tr th:only-of-type {\n",
       "        vertical-align: middle;\n",
       "    }\n",
       "\n",
       "    .dataframe tbody tr th {\n",
       "        vertical-align: top;\n",
       "    }\n",
       "\n",
       "    .dataframe thead th {\n",
       "        text-align: right;\n",
       "    }\n",
       "</style>\n",
       "<table border=\"1\" class=\"dataframe\">\n",
       "  <thead>\n",
       "    <tr style=\"text-align: right;\">\n",
       "      <th></th>\n",
       "      <th>Name</th>\n",
       "      <th>Fueltype</th>\n",
       "      <th>Technology</th>\n",
       "      <th>Set</th>\n",
       "      <th>Country</th>\n",
       "      <th>Capacity</th>\n",
       "      <th>Efficiency</th>\n",
       "      <th>DateIn</th>\n",
       "      <th>DateRetrofit</th>\n",
       "      <th>DateOut</th>\n",
       "      <th>lat</th>\n",
       "      <th>lon</th>\n",
       "      <th>Duration</th>\n",
       "      <th>Volume_Mm3</th>\n",
       "      <th>DamHeight_m</th>\n",
       "      <th>StorageCapacity_MWh</th>\n",
       "      <th>EIC</th>\n",
       "      <th>projectID</th>\n",
       "    </tr>\n",
       "    <tr>\n",
       "      <th>id</th>\n",
       "      <th></th>\n",
       "      <th></th>\n",
       "      <th></th>\n",
       "      <th></th>\n",
       "      <th></th>\n",
       "      <th></th>\n",
       "      <th></th>\n",
       "      <th></th>\n",
       "      <th></th>\n",
       "      <th></th>\n",
       "      <th></th>\n",
       "      <th></th>\n",
       "      <th></th>\n",
       "      <th></th>\n",
       "      <th></th>\n",
       "      <th></th>\n",
       "      <th></th>\n",
       "      <th></th>\n",
       "    </tr>\n",
       "  </thead>\n",
       "  <tbody>\n",
       "    <tr>\n",
       "      <th>194</th>\n",
       "      <td>Kozienice</td>\n",
       "      <td>Hard Coal</td>\n",
       "      <td>Steam Turbine</td>\n",
       "      <td>PP</td>\n",
       "      <td>Poland</td>\n",
       "      <td>3682.216205</td>\n",
       "      <td>NaN</td>\n",
       "      <td>1972.0</td>\n",
       "      <td>NaN</td>\n",
       "      <td>2042.0</td>\n",
       "      <td>51.6647</td>\n",
       "      <td>21.4667</td>\n",
       "      <td>NaN</td>\n",
       "      <td>0.0</td>\n",
       "      <td>0.0</td>\n",
       "      <td>0.0</td>\n",
       "      <td>{'19W000000000104I', '19W000000000095U'}</td>\n",
       "      <td>{'BEYONDCOAL': {'BEYOND-PL-96'}, 'ENTSOE': {'1...</td>\n",
       "    </tr>\n",
       "    <tr>\n",
       "      <th>3652</th>\n",
       "      <td>Vuglegirska</td>\n",
       "      <td>Hard Coal</td>\n",
       "      <td>CCGT</td>\n",
       "      <td>PP</td>\n",
       "      <td>Ukraine</td>\n",
       "      <td>3600.000000</td>\n",
       "      <td>NaN</td>\n",
       "      <td>1972.0</td>\n",
       "      <td>NaN</td>\n",
       "      <td>NaN</td>\n",
       "      <td>48.4652</td>\n",
       "      <td>38.2027</td>\n",
       "      <td>NaN</td>\n",
       "      <td>0.0</td>\n",
       "      <td>0.0</td>\n",
       "      <td>0.0</td>\n",
       "      <td>{nan}</td>\n",
       "      <td>{'GPD': {'WRI1005107'}, 'GEO': {'GEO-43001'}}</td>\n",
       "    </tr>\n",
       "    <tr>\n",
       "      <th>767</th>\n",
       "      <td>Opole</td>\n",
       "      <td>Hard Coal</td>\n",
       "      <td>Steam Turbine</td>\n",
       "      <td>PP</td>\n",
       "      <td>Poland</td>\n",
       "      <td>3071.893939</td>\n",
       "      <td>NaN</td>\n",
       "      <td>1993.0</td>\n",
       "      <td>NaN</td>\n",
       "      <td>2020.0</td>\n",
       "      <td>50.7518</td>\n",
       "      <td>17.8820</td>\n",
       "      <td>NaN</td>\n",
       "      <td>0.0</td>\n",
       "      <td>0.0</td>\n",
       "      <td>0.0</td>\n",
       "      <td>{'19W0000000001292'}</td>\n",
       "      <td>{'BEYONDCOAL': {'BEYOND-PL-16'}, 'ENTSOE': {'1...</td>\n",
       "    </tr>\n",
       "  </tbody>\n",
       "</table>\n",
       "</div>"
      ],
      "text/plain": [
       "             Name   Fueltype     Technology Set  Country     Capacity  \\\n",
       "id                                                                      \n",
       "194     Kozienice  Hard Coal  Steam Turbine  PP   Poland  3682.216205   \n",
       "3652  Vuglegirska  Hard Coal           CCGT  PP  Ukraine  3600.000000   \n",
       "767         Opole  Hard Coal  Steam Turbine  PP   Poland  3071.893939   \n",
       "\n",
       "      Efficiency  DateIn  DateRetrofit  DateOut      lat      lon  Duration  \\\n",
       "id                                                                            \n",
       "194          NaN  1972.0           NaN   2042.0  51.6647  21.4667       NaN   \n",
       "3652         NaN  1972.0           NaN      NaN  48.4652  38.2027       NaN   \n",
       "767          NaN  1993.0           NaN   2020.0  50.7518  17.8820       NaN   \n",
       "\n",
       "      Volume_Mm3  DamHeight_m  StorageCapacity_MWh  \\\n",
       "id                                                   \n",
       "194          0.0          0.0                  0.0   \n",
       "3652         0.0          0.0                  0.0   \n",
       "767          0.0          0.0                  0.0   \n",
       "\n",
       "                                           EIC  \\\n",
       "id                                               \n",
       "194   {'19W000000000104I', '19W000000000095U'}   \n",
       "3652                                     {nan}   \n",
       "767                       {'19W0000000001292'}   \n",
       "\n",
       "                                              projectID  \n",
       "id                                                       \n",
       "194   {'BEYONDCOAL': {'BEYOND-PL-96'}, 'ENTSOE': {'1...  \n",
       "3652      {'GPD': {'WRI1005107'}, 'GEO': {'GEO-43001'}}  \n",
       "767   {'BEYONDCOAL': {'BEYOND-PL-16'}, 'ENTSOE': {'1...  "
      ]
     },
     "execution_count": 41,
     "metadata": {},
     "output_type": "execute_result"
    }
   ],
   "source": [
    "coal.loc[coal.Capacity.nlargest(3).index]"
   ]
  },
  {
   "cell_type": "markdown",
   "metadata": {},
   "source": [
    "**Task 4:** What is the average \"DateIn\" of each \"Fueltype\"? Which type of power plants is the oldest on average?"
   ]
  },
  {
   "cell_type": "code",
   "execution_count": 42,
   "metadata": {
    "tags": [
     "hide-cell"
    ]
   },
   "outputs": [
    {
     "data": {
      "text/plain": [
       "Fueltype\n",
       "Hard Coal        52.092593\n",
       "Hydro            51.232471\n",
       "Nuclear          48.214953\n",
       "Lignite          47.184211\n",
       "Other            31.543103\n",
       "Waste            26.845588\n",
       "Geothermal       23.857143\n",
       "Oil              23.410138\n",
       "Solid Biomass    22.516588\n",
       "Natural Gas      22.081505\n",
       "Wind             14.483789\n",
       "Biogas           11.415730\n",
       "Solar             8.584491\n",
       "Name: DateIn, dtype: float64"
      ]
     },
     "execution_count": 42,
     "metadata": {},
     "output_type": "execute_result"
    }
   ],
   "source": [
    "2024 - df.groupby(\"Fueltype\").DateIn.mean().sort_values()"
   ]
  },
  {
   "cell_type": "markdown",
   "metadata": {},
   "source": [
    "**Task 5:** In the time series provided, calculate the annual average capacity factors of wind and solar."
   ]
  },
  {
   "cell_type": "code",
   "execution_count": 43,
   "metadata": {
    "tags": [
     "hide-cell"
    ]
   },
   "outputs": [
    {
     "data": {
      "text/plain": [
       "load       54.736992\n",
       "onwind      0.205556\n",
       "offwind     0.362993\n",
       "solar       0.122621\n",
       "prices     31.835717\n",
       "dtype: float64"
      ]
     },
     "execution_count": 43,
     "metadata": {},
     "output_type": "execute_result"
    }
   ],
   "source": [
    "ts.mean()"
   ]
  },
  {
   "cell_type": "markdown",
   "metadata": {},
   "source": [
    "**Task 6:** In the time series provided, calculate and plot the monthly average electricity price."
   ]
  },
  {
   "cell_type": "code",
   "execution_count": 45,
   "metadata": {
    "tags": [
     "hide-cell"
    ]
   },
   "outputs": [
    {
     "data": {
      "text/plain": [
       "<Axes: >"
      ]
     },
     "execution_count": 45,
     "metadata": {},
     "output_type": "execute_result"
    },
    {
     "data": {
      "image/png": "[encoded data removed]",
      "text/plain": [
       "<Figure size 640x480 with 1 Axes>"
      ]
     },
     "metadata": {},
     "output_type": "display_data"
    }
   ],
   "source": [
    "ts[\"prices\"].resample(\"ME\").mean().plot()"
   ]
  },
  {
   "cell_type": "code",
   "execution_count": null,
   "metadata": {},
   "outputs": [],
   "source": []
  }
 ],
 "metadata": {
  "kernelspec": {
   "display_name": "dare",
   "language": "python",
   "name": "python3"
  },
  "language_info": {
   "codemirror_mode": {
    "name": "ipython",
    "version": 3
   },
   "file_extension": ".py",
   "mimetype": "text/x-python",
   "name": "python",
   "nbconvert_exporter": "python",
   "pygments_lexer": "ipython3",
   "version": "3.12.0"
  }
 },
 "nbformat": 4,
 "nbformat_minor": 4
}
