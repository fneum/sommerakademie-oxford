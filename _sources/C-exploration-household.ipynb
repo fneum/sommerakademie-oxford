{
 "cells": [
  {
   "cell_type": "markdown",
   "id": "39958609",
   "metadata": {},
   "source": [
    "# Models for Households"
   ]
  },
  {
   "cell_type": "markdown",
   "id": "db7dc787",
   "metadata": {},
   "source": [
    "This section builds the foundation of an electricity and hydrogen model with power lines and pipelines connecting different countries. The goal is to assess different balancing mechanisms for the large-scale integration of variable renewables and identifying trade-offs between balancing them spatially with networks or temporally with storage.\n",
    "\n",
    "![network-model](_assets/households.png)"
   ]
  },
  {
   "cell_type": "markdown",
   "id": "ec993a86",
   "metadata": {},
   "source": []
  }
 ],
 "metadata": {
  "language_info": {
   "name": "python"
  }
 },
 "nbformat": 4,
 "nbformat_minor": 5
}
