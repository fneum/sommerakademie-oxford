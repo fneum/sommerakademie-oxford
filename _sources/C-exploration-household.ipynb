{
 "cells": [
  {
   "cell_type": "markdown",
   "id": "39958609",
   "metadata": {},
   "source": [
    "# Models for Households"
   ]
  },
  {
   "cell_type": "markdown",
   "id": "db7dc787",
   "metadata": {},
   "source": []
  }
 ],
 "metadata": {
  "language_info": {
   "name": "python"
  }
 },
 "nbformat": 4,
 "nbformat_minor": 5
}
