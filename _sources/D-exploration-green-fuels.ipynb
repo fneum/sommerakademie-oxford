{
 "cells": [
  {
   "cell_type": "markdown",
   "id": "b6bb4613",
   "metadata": {},
   "source": [
    "# Models for E-Fuel Production"
   ]
  },
  {
   "cell_type": "markdown",
   "id": "92dfdc27",
   "metadata": {},
   "source": [
    "This section builds the foundation of a simple model to assess the economics of islanded methanol production in a region of choice.\n",
    "The model can optimise investment and operation of wind and solar, electrolysers, turbine, hydrogen and battery storage, direct air capture, CO$_2$ storage, methanolisation and methanol stores to supply a constant methanol demand of 1 TWh/a.\n",
    "\n",
    "![Methanol production plant](_assets/fuel-plant.jpeg)\n",
    "\n",
    "## Model Foundation"
   ]
  },
  {
   "cell_type": "code",
   "execution_count": null,
   "id": "d376ffa5",
   "metadata": {},
   "outputs": [],
   "source": [
    "import pandas as pd\n",
    "\n",
    "import pypsa\n",
    "\n",
    "def annuity(r, n):\n",
    "    return r / (1.0 - 1.0 / (1.0 + r) ** n)\n"
   ]
  },
  {
   "cell_type": "markdown",
   "id": "9eba42de",
   "metadata": {},
   "source": [
    "### Cost Assumptions"
   ]
  },
  {
   "cell_type": "markdown",
   "id": "aec2d62f",
   "metadata": {},
   "source": [
    "We take techno-economic assumptions from the [technology-data](https://github.com/PyPSA/technology-data) repository which collects assumptions on costs and efficiencies:"
   ]
  },
  {
   "cell_type": "code",
   "execution_count": null,
   "id": "7bb2ba76",
   "metadata": {},
   "outputs": [],
   "source": [
    "YEAR = 2030\n",
    "url = f\"https://raw.githubusercontent.com/PyPSA/technology-data/master/outputs/costs_{YEAR}.csv\"\n",
    "costs = pd.read_csv(url, index_col=[0, 1])\n",
    "costs.loc[costs.unit.str.contains(\"/kW\"), \"value\"] *= 1e3\n",
    "costs = costs.value.unstack().fillna({\"discount rate\": 0.07, \"lifetime\": 20, \"FOM\": 0})"
   ]
  },
  {
   "cell_type": "markdown",
   "id": "fb58c31d",
   "metadata": {},
   "source": [
    "We calculate the capital costs (i.e. annualised investment costs, €/MW/a or €/MWh/a for storage), using the discount rate and lifetime."
   ]
  },
  {
   "cell_type": "code",
   "execution_count": null,
   "id": "388bea76",
   "metadata": {},
   "outputs": [],
   "source": [
    "a = costs.apply(lambda x: annuity(x[\"discount rate\"], x[\"lifetime\"]), axis=1)\n",
    "costs[\"capital_cost\"] = (a + costs[\"FOM\"] / 100) * costs[\"investment\"]"
   ]
  },
  {
   "cell_type": "markdown",
   "id": "55fae9cd",
   "metadata": {},
   "source": [
    "### Time Series"
   ]
  },
  {
   "cell_type": "markdown",
   "id": "9ec2343e",
   "metadata": {},
   "source": [
    "The wind and solar capacity factor time series have been retrieved from [model.energy](https://model.energy). Go there to find more time series for other countries and plug them in here."
   ]
  },
  {
   "cell_type": "code",
   "execution_count": null,
   "id": "d746edd8",
   "metadata": {},
   "outputs": [],
   "source": [
    "RESOLUTION = 3  # hours\n",
    "url = \"https://model.energy/data/time-series-ca2bcb9e843aeb286cd6295854c885b6.csv\"  # South of Argentina\n",
    "ts = pd.read_csv(url, index_col=0, parse_dates=True)[::RESOLUTION]#\n",
    "ts.head(3)"
   ]
  },
  {
   "cell_type": "markdown",
   "id": "c08fa0cc",
   "metadata": {},
   "source": [
    "### Model Initialisation\n",
    "\n",
    "Add buses, carriers and set snapshots."
   ]
  },
  {
   "cell_type": "code",
   "execution_count": null,
   "id": "05b4892d",
   "metadata": {},
   "outputs": [],
   "source": [
    "n = pypsa.Network()\n",
    "for carrier in [\"electricity\", \"hydrogen\", \"co2\", \"methanol\"]:\n",
    "    n.add(\"Bus\", carrier, carrier=carrier, unit=\"t/h\" if carrier == \"co2\" else \"MW\")\n",
    "n.set_snapshots(ts.index)\n",
    "n.snapshot_weightings.loc[:, :] = RESOLUTION"
   ]
  },
  {
   "cell_type": "code",
   "execution_count": null,
   "id": "a3a06a0c",
   "metadata": {},
   "outputs": [],
   "source": [
    "carriers = {\n",
    "    \"wind\": \"dodgerblue\",\n",
    "    \"solar\": \"gold\",\n",
    "    \"hydrogen storage\": \"blueviolet\",\n",
    "    \"battery storage 3h\": \"yellowgreen\",\n",
    "    \"battery storage 6h\": \"yellowgreen\",\n",
    "    \"electrolysis\": \"magenta\",\n",
    "    \"turbine\": \"darkorange\",\n",
    "    \"methanolisation\": \"cyan\",\n",
    "    \"direct air capture\": \"coral\",\n",
    "    \"co2 storage\": \"black\",\n",
    "    \"methanol storage\": \"cadetblue\",\n",
    "    \"electricity\": \"grey\",\n",
    "    \"hydrogen\": \"grey\",\n",
    "    \"co2\": \"grey\",\n",
    "    \"methanol\": \"grey\",\n",
    "}\n",
    "n.add(\"Carrier\", carriers.keys(), color=carriers.values());"
   ]
  },
  {
   "cell_type": "markdown",
   "id": "2842db5f",
   "metadata": {},
   "source": [
    "### Demand\n",
    "\n",
    "Add a constant methanol demand adding up to an annual target production of 1 TWh of methanol:"
   ]
  },
  {
   "cell_type": "code",
   "execution_count": null,
   "id": "fe0de406",
   "metadata": {},
   "outputs": [],
   "source": [
    "n.add(\n",
    "    \"Load\",\n",
    "    \"demand\",\n",
    "    bus=\"methanol\",\n",
    "    p_set=1e6 / 8760,\n",
    ");"
   ]
  },
  {
   "cell_type": "markdown",
   "id": "f7c49ed4",
   "metadata": {},
   "source": [
    "### Wind and Solar"
   ]
  },
  {
   "cell_type": "markdown",
   "id": "90c62220",
   "metadata": {},
   "source": [
    "Add the wind and solar generators:"
   ]
  },
  {
   "cell_type": "code",
   "execution_count": null,
   "id": "41bd757e",
   "metadata": {},
   "outputs": [],
   "source": [
    "n.add(\n",
    "    \"Generator\",\n",
    "    \"wind\",\n",
    "    bus=\"electricity\",\n",
    "    carrier=\"wind\",\n",
    "    p_max_pu=ts.onwind,\n",
    "    capital_cost=costs.at[\"onwind\", \"capital_cost\"],\n",
    "    p_nom_extendable=True,\n",
    ");"
   ]
  },
  {
   "cell_type": "code",
   "execution_count": null,
   "id": "1516dd7d",
   "metadata": {},
   "outputs": [],
   "source": [
    "n.add(\n",
    "    \"Generator\",\n",
    "    \"solar\",\n",
    "    bus=\"electricity\",\n",
    "    carrier=\"solar\",\n",
    "    p_max_pu=ts.solar,\n",
    "    capital_cost=costs.at[\"solar\", \"capital_cost\"],\n",
    "    p_nom_extendable=True,\n",
    ");"
   ]
  },
  {
   "cell_type": "markdown",
   "id": "1c379d5d",
   "metadata": {},
   "source": [
    "### Batteries\n",
    "\n",
    "Add a 3-hour and a 6-hour battery storage:"
   ]
  },
  {
   "cell_type": "code",
   "execution_count": null,
   "id": "b0d9c1d8",
   "metadata": {},
   "outputs": [],
   "source": [
    "for max_hours in [3, 6]:\n",
    "    n.add(\n",
    "        \"StorageUnit\",\n",
    "        f\"battery storage {max_hours}h\",\n",
    "        bus=\"electricity\",\n",
    "        carrier=f\"battery storage {max_hours}h\",\n",
    "        max_hours=max_hours,\n",
    "        capital_cost=costs.at[\"battery inverter\", \"capital_cost\"]\n",
    "        + max_hours * costs.at[\"battery storage\", \"capital_cost\"],\n",
    "        efficiency_store=costs.at[\"battery inverter\", \"efficiency\"],\n",
    "        efficiency_dispatch=costs.at[\"battery inverter\", \"efficiency\"],\n",
    "        p_nom_extendable=True,\n",
    "        cyclic_state_of_charge=True,\n",
    "    );"
   ]
  },
  {
   "cell_type": "markdown",
   "id": "3c8fa0e4",
   "metadata": {},
   "source": [
    "### Hydrogen\n",
    "\n",
    "Add electrolysers, hydrogen storage (steel tank), hydrogen turbine:"
   ]
  },
  {
   "cell_type": "code",
   "execution_count": null,
   "id": "c126da23",
   "metadata": {},
   "outputs": [],
   "source": [
    "n.add(\n",
    "    \"Link\",\n",
    "    \"electrolysis\",\n",
    "    bus0=\"electricity\",\n",
    "    bus1=\"hydrogen\",\n",
    "    carrier=\"electrolysis\",\n",
    "    p_nom_extendable=True,\n",
    "    efficiency=costs.at[\"electrolysis\", \"efficiency\"],\n",
    "    capital_cost=costs.at[\"electrolysis\", \"capital_cost\"],\n",
    ");"
   ]
  },
  {
   "cell_type": "code",
   "execution_count": null,
   "id": "9ec974b1",
   "metadata": {},
   "outputs": [],
   "source": [
    "n.add(\n",
    "    \"Link\",\n",
    "    \"turbine\",\n",
    "    bus0=\"hydrogen\",\n",
    "    bus1=\"electricity\",\n",
    "    carrier=\"turbine\",\n",
    "    p_nom_extendable=True,\n",
    "    efficiency=costs.at[\"OCGT\", \"efficiency\"],\n",
    "    capital_cost=costs.at[\"OCGT\", \"capital_cost\"] / costs.at[\"OCGT\", \"efficiency\"],\n",
    ");"
   ]
  },
  {
   "cell_type": "code",
   "execution_count": null,
   "id": "1aa93520",
   "metadata": {},
   "outputs": [],
   "source": [
    "tech = \"hydrogen storage tank type 1 including compressor\"\n",
    "\n",
    "n.add(\n",
    "    \"Store\",\n",
    "    \"hydrogen storage\",\n",
    "    bus=\"hydrogen\",\n",
    "    carrier=\"hydrogen storage\",\n",
    "    capital_cost=costs.at[tech, \"capital_cost\"],\n",
    "    e_nom_extendable=True,\n",
    "    e_cyclic=True,\n",
    ");"
   ]
  },
  {
   "cell_type": "markdown",
   "id": "72a7094c",
   "metadata": {},
   "source": [
    "### Carbon Dioxide\n",
    "\n",
    "Add liquid carbon dioxide storage and direct air capture, assuming for simplicity an electricity demand 2 MWh/tCO2 for heat and electricity needs of the process.\n",
    "More detailed modelling would also model the heat supply for the direct air capture."
   ]
  },
  {
   "cell_type": "code",
   "execution_count": null,
   "id": "490e24f9",
   "metadata": {},
   "outputs": [],
   "source": [
    "electricity_input = 2  # MWh/tCO2\n",
    "\n",
    "n.add(\n",
    "    \"Link\",\n",
    "    \"direct air capture\",\n",
    "    bus0=\"electricity\",\n",
    "    bus1=\"co2\",\n",
    "    carrier=\"direct air capture\",\n",
    "    p_nom_extendable=True,\n",
    "    efficiency=1 / electricity_input,\n",
    "    capital_cost=costs.at[\"direct air capture\", \"capital_cost\"] / electricity_input,\n",
    ");"
   ]
  },
  {
   "cell_type": "code",
   "execution_count": null,
   "id": "ba0f7aec",
   "metadata": {},
   "outputs": [],
   "source": [
    "n.add(\n",
    "    \"Store\",\n",
    "    \"co2 storage\",\n",
    "    bus=\"co2\",\n",
    "    carrier=\"co2 storage\",\n",
    "    capital_cost=costs.at[\"CO2 storage tank\", \"capital_cost\"],\n",
    "    e_nom_extendable=True,\n",
    "    e_cyclic=True,\n",
    ");"
   ]
  },
  {
   "cell_type": "markdown",
   "id": "bdb9f578",
   "metadata": {},
   "source": [
    "### Methanol\n",
    "\n",
    "Add methanolisation unit, which takes hydrogen, electricity and carbon dioxide as input, and methanol storage.\n",
    "Efficiencies and capital costs need to be expressed in units of `bus0`."
   ]
  },
  {
   "cell_type": "code",
   "execution_count": null,
   "id": "438264e2",
   "metadata": {},
   "outputs": [],
   "source": [
    "eff_h2 = 1 / costs.at[\"methanolisation\", \"hydrogen-input\"]\n",
    "\n",
    "n.add(\n",
    "    \"Link\",\n",
    "    \"methanolisation\",\n",
    "    bus0=\"hydrogen\",\n",
    "    bus1=\"methanol\",\n",
    "    bus2=\"electricity\",\n",
    "    bus3=\"co2\",\n",
    "    carrier=\"methanolisation\",\n",
    "    p_nom_extendable=True,\n",
    "    capital_cost=costs.at[\"methanolisation\", \"capital_cost\"] * eff_h2,\n",
    "    efficiency=eff_h2,\n",
    "    efficiency2=-costs.at[\"methanolisation\", \"electricity-input\"] * eff_h2,\n",
    "    efficiency3=-costs.at[\"methanolisation\", \"carbondioxide-input\"] * eff_h2,\n",
    ");"
   ]
  },
  {
   "cell_type": "markdown",
   "id": "c7d4b553",
   "metadata": {},
   "source": [
    "Costs for g is given in €/m³. We need to convert it to €/MWh, using the volumetric energy density of methanol (15.6 MJ/L)."
   ]
  },
  {
   "cell_type": "code",
   "execution_count": null,
   "id": "84c41767",
   "metadata": {},
   "outputs": [],
   "source": [
    "capital_cost = costs.at[\n",
    "    \"General liquid hydrocarbon storage (crude)\", \"capital_cost\"\n",
    "] / (15.6 * 1000 / 3600)\n",
    "\n",
    "n.add(\n",
    "    \"Store\",\n",
    "    \"methanol storage\",\n",
    "    bus=\"co2\",\n",
    "    carrier=\"methanol storage\",\n",
    "    capital_cost=capital_cost,\n",
    "    e_nom_extendable=True,\n",
    "    e_cyclic=True,\n",
    ");"
   ]
  },
  {
   "cell_type": "markdown",
   "id": "dfafa487",
   "metadata": {},
   "source": [
    "## Exploration\n",
    "\n",
    "We could now already run the optimisation and look at a first set of results."
   ]
  },
  {
   "cell_type": "code",
   "execution_count": null,
   "id": "6d830761",
   "metadata": {},
   "outputs": [],
   "source": [
    "# n.optimize(solver_name=\"highs\", log_to_console=False)"
   ]
  },
  {
   "cell_type": "markdown",
   "id": "99dc8835",
   "metadata": {},
   "source": [
    "But the exploration is left to you! Here are some ideas for sensitivities to explore and metrics to look at:\n",
    "\n",
    "**Metrics:**\n",
    "\n",
    "- Cost per unit of methanol produced (€/MWh)\n",
    "- Installed capacities of wind, solar, electrolysers, hydrogen storage, methanol storage (MW or MWh)\n",
    "- Cost breakdown by technology (million €/a and % of total cost)\n",
    "- Operational patterns of key technologies (e.g. electrolysers, hydrogen turbine, methanolisation)\n",
    "- Energy balances of different carrier as time series (e.g. hydrogen, methanol, electricity)\n",
    "\n",
    "**Sensitivities:**\n",
    "\n",
    "- Choose different **locations** for wind and solar time series (e.g. Namibia, Argentina, Australia, Chile, Germany, UK, Morocco, etc.). Take these from [model.energy](https://model.energy).\n",
    "- Vary the cost assumptions for key technologies (e.g. electrolysers, direct air capture, methanolisation) or the overall projection year (e.g. 2030, 2040, 2050). This can be done when loading the cost data.\n",
    "- Vary the weighted average **cost of capital** (WACC). This can be done by changing the discount rate when loading the cost data.\n",
    "- Limit the **availability** of certain technologies (e.g. no hydrogen turbine, no battery storage, underground storage instead of steel tank storage) or their **flexibility** (e.g. by requiring a minimum part load for the electrolyser). This can be done by setting `p_min_pu` for the electrolyser. For instance, with `n.links.loc[\"electrolyser\", \"p_min_pu\"] = 0.5` for a minimum part load of 50%.\n",
    "- Add the option to use **CO$_2$ from biomass** in addition to direct air capture (e.g. at a cost of 50 €/tCO$_2$). This can be done by adding a generator to the `\"co2\"` bus with fixed `marginal_cost=50`.\n",
    "\n",
    "**Feel free to explore other ideas as well!**"
   ]
  },
  {
   "cell_type": "markdown",
   "id": "52b58765",
   "metadata": {},
   "source": []
  }
 ],
 "metadata": {
  "kernelspec": {
   "display_name": "sommerakademie-oxford (3.12.7)",
   "language": "python",
   "name": "python3"
  },
  "language_info": {
   "codemirror_mode": {
    "name": "ipython",
    "version": 3
   },
   "file_extension": ".py",
   "mimetype": "text/x-python",
   "name": "python",
   "nbconvert_exporter": "python",
   "pygments_lexer": "ipython3",
   "version": "3.12.7"
  }
 },
 "nbformat": 4,
 "nbformat_minor": 5
}
