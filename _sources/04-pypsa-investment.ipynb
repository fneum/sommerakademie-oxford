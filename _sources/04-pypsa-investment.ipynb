{
 "cells": [
  {
   "cell_type": "markdown",
   "metadata": {},
   "source": [
    "# Capacity Expansion"
   ]
  },
  {
   "cell_type": "markdown",
   "metadata": {},
   "source": [
    "\n",
    ":::{note}\n",
    "If you have not yet set up Python on your computer, you can execute this tutorial in your browser via [Google Colab](https://colab.research.google.com/). Click on the rocket in the top right corner and launch \"Colab\". If that doesn't work download the `.ipynb` file and import it in [Google Colab](https://colab.research.google.com/).\n",
    "Then install the following packages by executing the following command in a Jupyter cell at the top of the notebook.\n",
    "\n",
    "```sh\n",
    "!pip install -q pypsa pandas highspy \"plotly<6\"\n",
    "```\n",
    ":::"
   ]
  },
  {
   "cell_type": "markdown",
   "metadata": {},
   "source": [
    "**In this tutorial, we want to build a replica of [model.energy](https://model.energy) with PyPSA.** As previously shown in the slides, this tool calculates the cost of meeting a constant electricity demand from a combination of wind power, solar power and storage for different regions of the world. We deviate from [model.energy](https://model.energy) by including electricity demand profiles rather than a constant electricity demand.\n",
    "\n",
    "This type of problem follows the model of an investment planning optimisation problem as discussed in the slides.\n",
    "\n",
    ":::{note}\n",
    "See also https://model.energy.\n",
    ":::\n",
    "\n",
    ":::{note}\n",
    "For a full reference to the optimisation problem description, see the [PyPSA User Guide](https://pypsa--1250.org.readthedocs.build/en/1250/user-guide/optimization/overview/)\n",
    ":::"
   ]
  },
  {
   "cell_type": "markdown",
   "metadata": {
    "tags": []
   },
   "source": [
    "## Package Imports"
   ]
  },
  {
   "cell_type": "code",
   "execution_count": null,
   "metadata": {
    "jp-MarkdownHeadingCollapsed": true,
    "tags": []
   },
   "outputs": [],
   "source": [
    "import pypsa\n",
    "import pandas as pd\n",
    "import plotly.io as pio\n",
    "import plotly.offline as py\n",
    "\n",
    "pd.options.plotting.backend = \"plotly\"\n",
    "\n",
    "def annuity(r, n):\n",
    "    return r / (1.0 - 1.0 / (1.0 + r) ** n)"
   ]
  },
  {
   "cell_type": "markdown",
   "metadata": {},
   "source": [
    "## Capacity Factor & Load Time Series"
   ]
  },
  {
   "cell_type": "markdown",
   "metadata": {},
   "source": [
    "We are also going to need some time series for wind, solar and load."
   ]
  },
  {
   "cell_type": "code",
   "execution_count": 4,
   "metadata": {},
   "outputs": [
    {
     "data": {
      "text/html": [
       "<div>\n",
       "<style scoped>\n",
       "    .dataframe tbody tr th:only-of-type {\n",
       "        vertical-align: middle;\n",
       "    }\n",
       "\n",
       "    .dataframe tbody tr th {\n",
       "        vertical-align: top;\n",
       "    }\n",
       "\n",
       "    .dataframe thead th {\n",
       "        text-align: right;\n",
       "    }\n",
       "</style>\n",
       "<table border=\"1\" class=\"dataframe\">\n",
       "  <thead>\n",
       "    <tr style=\"text-align: right;\">\n",
       "      <th></th>\n",
       "      <th>load_mw</th>\n",
       "      <th>pv_pu</th>\n",
       "      <th>wind_pu</th>\n",
       "    </tr>\n",
       "    <tr>\n",
       "      <th>timestamp</th>\n",
       "      <th></th>\n",
       "      <th></th>\n",
       "      <th></th>\n",
       "    </tr>\n",
       "  </thead>\n",
       "  <tbody>\n",
       "    <tr>\n",
       "      <th>2019-01-01 00:00:00</th>\n",
       "      <td>5719.26</td>\n",
       "      <td>0.000</td>\n",
       "      <td>0.1846</td>\n",
       "    </tr>\n",
       "    <tr>\n",
       "      <th>2019-01-01 01:00:00</th>\n",
       "      <td>5677.73</td>\n",
       "      <td>0.000</td>\n",
       "      <td>0.2293</td>\n",
       "    </tr>\n",
       "    <tr>\n",
       "      <th>2019-01-01 02:00:00</th>\n",
       "      <td>5622.20</td>\n",
       "      <td>0.000</td>\n",
       "      <td>0.2718</td>\n",
       "    </tr>\n",
       "    <tr>\n",
       "      <th>2019-01-01 03:00:00</th>\n",
       "      <td>5474.74</td>\n",
       "      <td>0.000</td>\n",
       "      <td>0.3146</td>\n",
       "    </tr>\n",
       "    <tr>\n",
       "      <th>2019-01-01 04:00:00</th>\n",
       "      <td>5432.51</td>\n",
       "      <td>0.000</td>\n",
       "      <td>0.3552</td>\n",
       "    </tr>\n",
       "    <tr>\n",
       "      <th>2019-01-01 05:00:00</th>\n",
       "      <td>5446.35</td>\n",
       "      <td>0.000</td>\n",
       "      <td>0.4055</td>\n",
       "    </tr>\n",
       "    <tr>\n",
       "      <th>2019-01-01 06:00:00</th>\n",
       "      <td>5413.39</td>\n",
       "      <td>0.000</td>\n",
       "      <td>0.4957</td>\n",
       "    </tr>\n",
       "    <tr>\n",
       "      <th>2019-01-01 07:00:00</th>\n",
       "      <td>5450.17</td>\n",
       "      <td>0.004</td>\n",
       "      <td>0.5808</td>\n",
       "    </tr>\n",
       "    <tr>\n",
       "      <th>2019-01-01 08:00:00</th>\n",
       "      <td>5449.62</td>\n",
       "      <td>0.026</td>\n",
       "      <td>0.6450</td>\n",
       "    </tr>\n",
       "  </tbody>\n",
       "</table>\n",
       "</div>"
      ],
      "text/plain": [
       "                     load_mw  pv_pu  wind_pu\n",
       "timestamp                                   \n",
       "2019-01-01 00:00:00  5719.26  0.000   0.1846\n",
       "2019-01-01 01:00:00  5677.73  0.000   0.2293\n",
       "2019-01-01 02:00:00  5622.20  0.000   0.2718\n",
       "2019-01-01 03:00:00  5474.74  0.000   0.3146\n",
       "2019-01-01 04:00:00  5432.51  0.000   0.3552\n",
       "2019-01-01 05:00:00  5446.35  0.000   0.4055\n",
       "2019-01-01 06:00:00  5413.39  0.000   0.4957\n",
       "2019-01-01 07:00:00  5450.17  0.004   0.5808\n",
       "2019-01-01 08:00:00  5449.62  0.026   0.6450"
      ]
     },
     "execution_count": 4,
     "metadata": {},
     "output_type": "execute_result"
    }
   ],
   "source": [
    "url = \"https://tubcloud.tu-berlin.de/s/9toBssWEdaLgHzq/download/time-series.csv\"\n",
    "ts = pd.read_csv(url, index_col=0, parse_dates=True)\n",
    "ts.head(9)"
   ]
  },
  {
   "cell_type": "markdown",
   "metadata": {},
   "source": [
    "We are also going to adapt the temporal resolution of the time series, e.g. sample only every other hour, to save some time:"
   ]
  },
  {
   "cell_type": "code",
   "execution_count": 5,
   "metadata": {},
   "outputs": [
    {
     "data": {
      "text/html": [
       "<div>\n",
       "<style scoped>\n",
       "    .dataframe tbody tr th:only-of-type {\n",
       "        vertical-align: middle;\n",
       "    }\n",
       "\n",
       "    .dataframe tbody tr th {\n",
       "        vertical-align: top;\n",
       "    }\n",
       "\n",
       "    .dataframe thead th {\n",
       "        text-align: right;\n",
       "    }\n",
       "</style>\n",
       "<table border=\"1\" class=\"dataframe\">\n",
       "  <thead>\n",
       "    <tr style=\"text-align: right;\">\n",
       "      <th></th>\n",
       "      <th>load_mw</th>\n",
       "      <th>pv_pu</th>\n",
       "      <th>wind_pu</th>\n",
       "    </tr>\n",
       "    <tr>\n",
       "      <th>timestamp</th>\n",
       "      <th></th>\n",
       "      <th></th>\n",
       "      <th></th>\n",
       "    </tr>\n",
       "  </thead>\n",
       "  <tbody>\n",
       "    <tr>\n",
       "      <th>2019-01-01 00:00:00</th>\n",
       "      <td>5719.26</td>\n",
       "      <td>0.0</td>\n",
       "      <td>0.1846</td>\n",
       "    </tr>\n",
       "    <tr>\n",
       "      <th>2019-01-01 03:00:00</th>\n",
       "      <td>5474.74</td>\n",
       "      <td>0.0</td>\n",
       "      <td>0.3146</td>\n",
       "    </tr>\n",
       "    <tr>\n",
       "      <th>2019-01-01 06:00:00</th>\n",
       "      <td>5413.39</td>\n",
       "      <td>0.0</td>\n",
       "      <td>0.4957</td>\n",
       "    </tr>\n",
       "  </tbody>\n",
       "</table>\n",
       "</div>"
      ],
      "text/plain": [
       "                     load_mw  pv_pu  wind_pu\n",
       "timestamp                                   \n",
       "2019-01-01 00:00:00  5719.26    0.0   0.1846\n",
       "2019-01-01 03:00:00  5474.74    0.0   0.3146\n",
       "2019-01-01 06:00:00  5413.39    0.0   0.4957"
      ]
     },
     "execution_count": 5,
     "metadata": {},
     "output_type": "execute_result"
    }
   ],
   "source": [
    "resolution = 3\n",
    "ts = ts.resample(f\"{resolution}h\").first()\n",
    "ts.head(3)"
   ]
  },
  {
   "cell_type": "markdown",
   "metadata": {},
   "source": [
    "## Model Initialisation"
   ]
  },
  {
   "cell_type": "markdown",
   "metadata": {},
   "source": [
    "For building the model, we start again by initialising an empty network."
   ]
  },
  {
   "cell_type": "code",
   "execution_count": 6,
   "metadata": {},
   "outputs": [],
   "source": [
    "n = pypsa.Network()"
   ]
  },
  {
   "cell_type": "markdown",
   "metadata": {},
   "source": [
    "Then, we add a single bus..."
   ]
  },
  {
   "cell_type": "code",
   "execution_count": 7,
   "metadata": {},
   "outputs": [
    {
     "data": {
      "text/plain": [
       "Index(['electricity'], dtype='object')"
      ]
     },
     "execution_count": 7,
     "metadata": {},
     "output_type": "execute_result"
    }
   ],
   "source": [
    "n.add(\"Bus\", \"electricity\", carrier=\"electricity\")"
   ]
  },
  {
   "cell_type": "markdown",
   "metadata": {},
   "source": [
    "...and tell the `pypsa.Network` object `n` what the snapshots of the model will be using the utility function `n.set_snapshots()`."
   ]
  },
  {
   "cell_type": "code",
   "execution_count": null,
   "metadata": {},
   "outputs": [],
   "source": [
    "n.set_snapshots(ts.index)\n",
    "n.snapshots[:5]"
   ]
  },
  {
   "cell_type": "markdown",
   "metadata": {},
   "source": [
    "The weighting of the snapshots (e.g. how many hours they represent, see $w_t$ in problem formulation above) can be set in `n.snapshot_weightings`."
   ]
  },
  {
   "cell_type": "code",
   "execution_count": null,
   "metadata": {},
   "outputs": [],
   "source": [
    "n.snapshot_weightings.loc[:, :] = resolution\n",
    "n.snapshot_weightings.head(3)"
   ]
  },
  {
   "cell_type": "markdown",
   "metadata": {},
   "source": [
    "## Adding Components"
   ]
  },
  {
   "cell_type": "markdown",
   "metadata": {},
   "source": [
    "Then, we add all the technologies we are going to include as carriers."
   ]
  },
  {
   "cell_type": "code",
   "execution_count": null,
   "metadata": {},
   "outputs": [],
   "source": [
    "carriers = [\n",
    "    \"wind\",\n",
    "    \"solar\",\n",
    "    \"OCGT\",\n",
    "    \"hydrogen storage underground\",\n",
    "    \"battery storage\",\n",
    "    \"electricity\",\n",
    "]\n",
    "\n",
    "n.add(\n",
    "    \"Carrier\",\n",
    "    carriers,\n",
    "    color=[\"dodgerblue\", \"gold\", \"indianred\", \"magenta\", \"yellowgreen\", \"black\"],\n",
    "    co2_emissions=[0, 0, 0.2, 0, 0, 0],\n",
    ");"
   ]
  },
  {
   "cell_type": "markdown",
   "metadata": {},
   "source": [
    "Next, we add the demand time series to the model."
   ]
  },
  {
   "cell_type": "code",
   "execution_count": null,
   "metadata": {},
   "outputs": [],
   "source": [
    "n.add(\n",
    "    \"Load\",\n",
    "    \"demand\",\n",
    "    bus=\"electricity\",\n",
    "    carrier=\"electricity\",\n",
    "    p_set=ts.load_mw,\n",
    ");"
   ]
  },
  {
   "cell_type": "markdown",
   "metadata": {},
   "source": [
    "Let's have a check whether the data was read-in correctly."
   ]
  },
  {
   "cell_type": "code",
   "execution_count": null,
   "metadata": {},
   "outputs": [],
   "source": [
    "n.loads_t.p_set.plot()"
   ]
  },
  {
   "cell_type": "markdown",
   "metadata": {},
   "source": [
    "We are going to add one dispatchable generation technology to the model. This is an open-cycle gas turbine (OCGT) with CO$_2$ emissions of 0.2 t/MWh$_{th}$."
   ]
  },
  {
   "cell_type": "code",
   "execution_count": null,
   "metadata": {},
   "outputs": [],
   "source": [
    "n.add(\n",
    "    \"Generator\",\n",
    "    \"OCGT\",\n",
    "    bus=\"electricity\",\n",
    "    carrier=\"OCGT\",\n",
    "    capital_cost=annuity(0.07, 30) * 500_000,\n",
    "    marginal_cost=65,\n",
    "    efficiency=0.4,\n",
    "    p_nom_extendable=True,\n",
    ")"
   ]
  },
  {
   "cell_type": "markdown",
   "metadata": {},
   "source": [
    "Adding the variable renewable generators works almost identically, but we also need to supply the capacity factors to the model via the attribute `p_max_pu`."
   ]
  },
  {
   "cell_type": "code",
   "execution_count": null,
   "metadata": {},
   "outputs": [],
   "source": [
    "n.add(\n",
    "    \"Generator\",\n",
    "    \"wind\",\n",
    "    bus=\"electricity\",\n",
    "    carrier=\"wind\",\n",
    "    p_max_pu=ts.wind_pu,\n",
    "    capital_cost=annuity(0.07, 30) * 1_100_000,\n",
    "    marginal_cost=1,\n",
    "    p_nom_extendable=True,\n",
    ");"
   ]
  },
  {
   "cell_type": "code",
   "execution_count": null,
   "metadata": {},
   "outputs": [],
   "source": [
    "n.add(\n",
    "    \"Generator\",\n",
    "    \"solar\",\n",
    "    bus=\"electricity\",\n",
    "    carrier=\"solar\",\n",
    "    p_max_pu=ts.pv_pu,\n",
    "    capital_cost=annuity(0.05, 25) * 500_000,\n",
    "    marginal_cost=0.5,\n",
    "    p_nom_extendable=True,\n",
    ");"
   ]
  },
  {
   "cell_type": "markdown",
   "metadata": {},
   "source": [
    "So let's make sure the capacity factors are read-in correctly."
   ]
  },
  {
   "cell_type": "code",
   "execution_count": null,
   "metadata": {},
   "outputs": [],
   "source": [
    "n.generators_t.p_max_pu.loc[\"2019-03\"].plot()"
   ]
  },
  {
   "cell_type": "markdown",
   "metadata": {},
   "source": [
    "### Model Run"
   ]
  },
  {
   "cell_type": "markdown",
   "metadata": {},
   "source": [
    "Then, we can already solve the model for the first time. At this stage, the model does not have any storage or emission limits implemented. It's going to look for the least-cost combination of variable renewables and the gas turbine to supply demand."
   ]
  },
  {
   "cell_type": "code",
   "execution_count": null,
   "metadata": {},
   "outputs": [],
   "source": [
    "n.optimize(log_to_console=False)"
   ]
  },
  {
   "cell_type": "markdown",
   "metadata": {},
   "source": [
    "### Model Evaluation"
   ]
  },
  {
   "cell_type": "markdown",
   "metadata": {},
   "source": [
    "The total system cost in billion Euros per year:"
   ]
  },
  {
   "cell_type": "code",
   "execution_count": null,
   "metadata": {},
   "outputs": [],
   "source": [
    "n.objective / 1e9"
   ]
  },
  {
   "cell_type": "markdown",
   "metadata": {},
   "source": [
    "The optimised capacities in GW:"
   ]
  },
  {
   "cell_type": "code",
   "execution_count": null,
   "metadata": {},
   "outputs": [],
   "source": [
    "n.generators.p_nom_opt.div(1e3)  # GW"
   ]
  },
  {
   "cell_type": "markdown",
   "metadata": {},
   "source": [
    "The energy balance by component in TWh:"
   ]
  },
  {
   "cell_type": "code",
   "execution_count": null,
   "metadata": {},
   "outputs": [],
   "source": [
    "n.statistics.energy_balance().sort_values().div(1e6)  # TWh"
   ]
  },
  {
   "cell_type": "markdown",
   "metadata": {},
   "source": [
    "While we get the objective value through `n.objective`, in many cases we want to know how the costs are distributed across the technologies. We can use the statistics module for this:"
   ]
  },
  {
   "cell_type": "code",
   "execution_count": null,
   "metadata": {},
   "outputs": [],
   "source": [
    "(n.statistics.capex() + n.statistics.opex()).div(1e6)"
   ]
  },
  {
   "cell_type": "markdown",
   "metadata": {},
   "source": [
    "Possibly, we are also interested in the total emissions:"
   ]
  },
  {
   "cell_type": "code",
   "execution_count": null,
   "metadata": {},
   "outputs": [],
   "source": [
    "emissions = (\n",
    "    n.generators_t.p\n",
    "    / n.generators.efficiency\n",
    "    * n.generators.carrier.map(n.carriers.co2_emissions)\n",
    ")  # t/h"
   ]
  },
  {
   "cell_type": "code",
   "execution_count": null,
   "metadata": {},
   "outputs": [],
   "source": [
    "n.snapshot_weightings.generators @ emissions.sum(axis=1).div(1e6)  # Mt"
   ]
  },
  {
   "cell_type": "code",
   "execution_count": null,
   "metadata": {},
   "outputs": [],
   "source": [
    "n.statistics.energy_balance.iplot()"
   ]
  },
  {
   "cell_type": "markdown",
   "metadata": {},
   "source": [
    "## Adding Storage Units"
   ]
  },
  {
   "cell_type": "markdown",
   "metadata": {},
   "source": [
    "Alright, but there are a few important components missing for a system with high shares of renewables! What about short-term storage options (e.g. batteries) and long-term storage options (e.g. hydrogen storage)? Let's add them, too.\n",
    "\n",
    "First, the battery storage. We are going to assume a fixed energy-to-power ratio of 4 hours, i.e. if fully charged, the battery can discharge at full capacity for 4 hours.\n",
    "\n",
    "For the capital cost, we have to factor in both the capacity and energy cost of the storage. We are also going to enforce a cyclic state-of-charge condition, i.e. the state of charge at the beginning of the optimisation period must equal the final state of charge."
   ]
  },
  {
   "cell_type": "code",
   "execution_count": null,
   "metadata": {},
   "outputs": [],
   "source": [
    "n.add(\n",
    "    \"StorageUnit\",\n",
    "    \"battery storage\",\n",
    "    bus=\"electricity\",\n",
    "    carrier=\"battery storage\",\n",
    "    max_hours=4,\n",
    "    capital_cost=annuity(0.07, 10) * 150_000 + 4 * annuity(0.07, 20) * 150_000,\n",
    "    efficiency_store=0.95,\n",
    "    efficiency_dispatch=0.95,\n",
    "    p_nom_extendable=True,\n",
    "    cyclic_state_of_charge=True,\n",
    ");"
   ]
  },
  {
   "cell_type": "markdown",
   "metadata": {},
   "source": [
    "Second, the hydrogen storage. This one is composed of an electrolysis to convert electricity to hydrogen, a fuel cell (or hydrogen turbine) to re-convert hydrogen to electricity and underground storage (e.g. in salt caverns). We assume an energy-to-power ratio of 336 hours, such that this type of storage can be used for weekly balancing."
   ]
  },
  {
   "cell_type": "code",
   "execution_count": null,
   "metadata": {},
   "outputs": [],
   "source": [
    "capital_costs = (\n",
    "    annuity(0.07, 25) * 1_500_000\n",
    "    + annuity(0.07, 25) * 550_000\n",
    "    + 336 * annuity(0.07, 100) * 2_000\n",
    ")\n",
    "\n",
    "n.add(\n",
    "    \"StorageUnit\",\n",
    "    \"hydrogen storage underground\",\n",
    "    bus=\"electricity\",\n",
    "    carrier=\"hydrogen storage underground\",\n",
    "    max_hours=336,\n",
    "    capital_cost=capital_costs,\n",
    "    efficiency_store=0.65,\n",
    "    efficiency_dispatch=0.45,\n",
    "    p_nom_extendable=True,\n",
    "    cyclic_state_of_charge=True,\n",
    ");"
   ]
  },
  {
   "cell_type": "markdown",
   "metadata": {},
   "source": [
    "Ok, lets run the again, now with storage, and see what's changed."
   ]
  },
  {
   "cell_type": "code",
   "execution_count": null,
   "metadata": {
    "tags": [
     "hide-output"
    ]
   },
   "outputs": [],
   "source": [
    "n.optimize(log_to_console=False)"
   ]
  },
  {
   "cell_type": "code",
   "execution_count": null,
   "metadata": {},
   "outputs": [],
   "source": [
    "n.statistics.optimal_capacity().div(1e3)  # GW"
   ]
  },
  {
   "cell_type": "code",
   "execution_count": null,
   "metadata": {},
   "outputs": [],
   "source": [
    "n.statistics.energy_balance().sort_values().div(1e6)  # .sum()  # TWh"
   ]
  },
  {
   "cell_type": "code",
   "execution_count": null,
   "metadata": {},
   "outputs": [],
   "source": [
    "pd.concat(\n",
    "    {\n",
    "        \"capex\": n.statistics.capex(),\n",
    "        \"opex\": n.statistics.opex(),\n",
    "    },\n",
    "    axis=1,\n",
    ").div(1e9).round(\n",
    "    2\n",
    ")  # bn€/a"
   ]
  },
  {
   "cell_type": "code",
   "execution_count": null,
   "metadata": {},
   "outputs": [],
   "source": [
    "n.buses_t.marginal_price.sort_values(by=\"electricity\", ascending=False).reset_index(\n",
    "    drop=True\n",
    ").plot(title=\"price duration curve [€/MWh]\")"
   ]
  },
  {
   "cell_type": "markdown",
   "metadata": {},
   "source": [
    "### Adding emission limits"
   ]
  },
  {
   "cell_type": "markdown",
   "metadata": {},
   "source": [
    "Now, let's model a 100% renewable electricity system by adding a CO$_2$ emission limit as global constraint:"
   ]
  },
  {
   "cell_type": "code",
   "execution_count": null,
   "metadata": {},
   "outputs": [],
   "source": [
    "n.add(\n",
    "    \"GlobalConstraint\",\n",
    "    \"CO2Limit\",\n",
    "    carrier_attribute=\"co2_emissions\",\n",
    "    sense=\"<=\",\n",
    "    constant=0,\n",
    ");"
   ]
  },
  {
   "cell_type": "markdown",
   "metadata": {},
   "source": [
    "When we run the model now..."
   ]
  },
  {
   "cell_type": "code",
   "execution_count": null,
   "metadata": {
    "tags": [
     "hide-output"
    ]
   },
   "outputs": [],
   "source": [
    "n.optimize(log_to_console=False)"
   ]
  },
  {
   "cell_type": "code",
   "execution_count": null,
   "metadata": {},
   "outputs": [],
   "source": [
    "n.statistics.optimal_capacity().div(1e3)  # GW"
   ]
  },
  {
   "cell_type": "code",
   "execution_count": null,
   "metadata": {},
   "outputs": [],
   "source": [
    "n.statistics.energy_balance().sort_values().div(1e6)  # TWh"
   ]
  },
  {
   "cell_type": "code",
   "execution_count": null,
   "metadata": {},
   "outputs": [],
   "source": [
    "pd.concat(\n",
    "    {\n",
    "        \"capex\": n.statistics.capex(),\n",
    "        \"opex\": n.statistics.opex(),\n",
    "    },\n",
    "    axis=1,\n",
    ").div(1e9).round(\n",
    "    2\n",
    ")  # bn€/a"
   ]
  },
  {
   "cell_type": "code",
   "execution_count": null,
   "metadata": {},
   "outputs": [],
   "source": [
    "n.storage_units.p_nom_opt.div(1e3) * n.storage_units.max_hours  # GWh"
   ]
  },
  {
   "cell_type": "code",
   "execution_count": null,
   "metadata": {},
   "outputs": [],
   "source": [
    "n.statistics.energy_balance.iplot()"
   ]
  },
  {
   "cell_type": "code",
   "execution_count": null,
   "metadata": {},
   "outputs": [],
   "source": [
    "n.buses_t.marginal_price.sort_values(by=\"electricity\", ascending=False).reset_index(\n",
    "    drop=True\n",
    ").plot(title=\"price duration curve [€/MWh]\")"
   ]
  },
  {
   "cell_type": "markdown",
   "metadata": {},
   "source": [
    "Finally, we will export this network so that we can build on it when adding further sectors (e.g. electric vehicles and heat pumps) in the next tutorial:"
   ]
  },
  {
   "cell_type": "code",
   "execution_count": null,
   "metadata": {},
   "outputs": [],
   "source": [
    "n.export_to_netcdf(\"electricity-network.nc\");"
   ]
  },
  {
   "cell_type": "markdown",
   "metadata": {},
   "source": [
    "## Exercises"
   ]
  },
  {
   "cell_type": "markdown",
   "metadata": {},
   "source": [
    "Explore how the model reacts to changing assumptions and available technologies. Here are a few inspirations, but choose in any order according to your interests:\n",
    "\n",
    "- What if solar and batteries had 30% lower investment costs? You can alter the costs with `n.storage_units.loc[\"StorageName\", \"capital_cost\"] = new_value`.\n",
    "- What if either hydrogen or battery storage cannot be expanded? You can remove components with `n.remove(\"StorageUnit\", \"ComponentName\")`.\n",
    "- What if you could either only build solar or only build wind? You can remove components with `n.remove(\"Generator\", \"ComponentName\")`.\n",
    "- Vary the energy-to-power ratio of the hydrogen storage. What ratio leads to lowest costs? You can change the ratio with `n.storage_units.loc[\"StorageName\", \"max_hours\"] = new_value`.\n",
    "- On [model.energy](https://model.energy), you can download capacity factors for onshore wind and solar for any region in the world as CSV files. What changes if you select another region? You can read the CSV files from URL with `pd.read_csv(\"URL\", index_col=0, parse_dates=True)`."
   ]
  },
  {
   "cell_type": "code",
   "execution_count": null,
   "metadata": {},
   "outputs": [],
   "source": []
  }
 ],
 "metadata": {
  "kernelspec": {
   "display_name": "sommerakademie-oxford (3.12.7)",
   "language": "python",
   "name": "python3"
  },
  "language_info": {
   "codemirror_mode": {
    "name": "ipython",
    "version": 3
   },
   "file_extension": ".py",
   "mimetype": "text/x-python",
   "name": "python",
   "nbconvert_exporter": "python",
   "pygments_lexer": "ipython3",
   "version": "3.12.7"
  }
 },
 "nbformat": 4,
 "nbformat_minor": 4
}
