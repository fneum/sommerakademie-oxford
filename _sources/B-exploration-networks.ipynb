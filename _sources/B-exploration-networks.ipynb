{
 "cells": [
  {
   "cell_type": "markdown",
   "id": "0324e4ca",
   "metadata": {},
   "source": [
    "# Models with Networks"
   ]
  },
  {
   "cell_type": "markdown",
   "id": "0227b4dd",
   "metadata": {},
   "source": []
  },
  {
   "cell_type": "markdown",
   "id": "3dfb413c",
   "metadata": {},
   "source": []
  }
 ],
 "metadata": {
  "language_info": {
   "name": "python"
  }
 },
 "nbformat": 4,
 "nbformat_minor": 5
}
