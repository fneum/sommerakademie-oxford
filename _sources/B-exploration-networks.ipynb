{
 "cells": [
  {
   "cell_type": "markdown",
   "id": "0324e4ca",
   "metadata": {},
   "source": [
    "# Models with Networks"
   ]
  },
  {
   "cell_type": "markdown",
   "id": "cb485fd5",
   "metadata": {},
   "source": [
    "This section builds the foundation of an electricity and hydrogen model with power lines and pipelines connecting different countries. The goal is to assess different balancing mechanisms for the large-scale integration of variable renewables and identifying trade-offs between balancing them spatially with networks or temporally with storage.\n",
    "\n",
    "![network-model](_assets/networks.png)\n",
    "\n",
    "## Model Foundation"
   ]
  },
  {
   "cell_type": "code",
   "execution_count": null,
   "id": "0227b4dd",
   "metadata": {},
   "outputs": [],
   "source": [
    "import pandas as pd\n",
    "\n",
    "import pypsa\n",
    "\n",
    "RESOLUTION = 3  # 3-hourly\n",
    "SOLVER = \"highs\"  # or 'gurobi'"
   ]
  },
  {
   "cell_type": "markdown",
   "id": "f8439e9d",
   "metadata": {},
   "source": [
    "### Cost Assumptions"
   ]
  },
  {
   "cell_type": "markdown",
   "id": "d3bfb4bf",
   "metadata": {},
   "source": [
    "We take techno-economic assumptions from the [technology-data](https://github.com/PyPSA/technology-data) repository which collects assumptions on costs and efficiencies:"
   ]
  },
  {
   "cell_type": "code",
   "execution_count": 7,
   "id": "25591c68",
   "metadata": {},
   "outputs": [],
   "source": [
    "YEAR = 2040\n",
    "url = f\"https://raw.githubusercontent.com/PyPSA/technology-data/master/outputs/costs_{YEAR}.csv\"\n",
    "costs = pd.read_csv(url, index_col=[0, 1])\n",
    "costs.loc[costs.unit.str.contains(\"/kW\"), \"value\"] *= 1e3\n",
    "costs = costs.value.unstack().fillna({\"discount rate\": 0.07, \"lifetime\": 20, \"FOM\": 0})"
   ]
  },
  {
   "cell_type": "markdown",
   "id": "27b18fa0",
   "metadata": {},
   "source": [
    "We calculate the capital costs (i.e. annualised investment costs, €/MW/a or €/MWh/a for storage), using the discount rate and lifetime."
   ]
  },
  {
   "cell_type": "code",
   "execution_count": null,
   "id": "2dac6dfc",
   "metadata": {},
   "outputs": [],
   "source": [
    "def annuity(r, n):\n",
    "    return r / (1.0 - 1.0 / (1.0 + r) ** n)\n",
    "\n",
    "a = costs.apply(lambda x: annuity(x[\"discount rate\"], x[\"lifetime\"]), axis=1)\n",
    "costs[\"capital_cost\"] = (a + costs[\"FOM\"] / 100) * costs[\"investment\"]"
   ]
  },
  {
   "cell_type": "markdown",
   "id": "1d5ea5e8",
   "metadata": {},
   "source": [
    "### Time Series"
   ]
  },
  {
   "cell_type": "markdown",
   "id": "03a76fa9",
   "metadata": {},
   "source": [
    "The wind and solar capacity factor time series have been retrieved from [model.energy](https://model.energy). Go there to find more time series for other countries and plug them in here."
   ]
  },
  {
   "cell_type": "code",
   "execution_count": 9,
   "id": "f42cd8d1",
   "metadata": {},
   "outputs": [
    {
     "data": {
      "text/html": [
       "<div>\n",
       "<style scoped>\n",
       "    .dataframe tbody tr th:only-of-type {\n",
       "        vertical-align: middle;\n",
       "    }\n",
       "\n",
       "    .dataframe tbody tr th {\n",
       "        vertical-align: top;\n",
       "    }\n",
       "\n",
       "    .dataframe thead tr th {\n",
       "        text-align: left;\n",
       "    }\n",
       "</style>\n",
       "<table border=\"1\" class=\"dataframe\">\n",
       "  <thead>\n",
       "    <tr>\n",
       "      <th></th>\n",
       "      <th colspan=\"2\" halign=\"left\">Germany</th>\n",
       "      <th colspan=\"2\" halign=\"left\">Spain</th>\n",
       "      <th colspan=\"2\" halign=\"left\">United Kingdom</th>\n",
       "    </tr>\n",
       "    <tr>\n",
       "      <th></th>\n",
       "      <th>onwind</th>\n",
       "      <th>solar</th>\n",
       "      <th>onwind</th>\n",
       "      <th>solar</th>\n",
       "      <th>onwind</th>\n",
       "      <th>solar</th>\n",
       "    </tr>\n",
       "  </thead>\n",
       "  <tbody>\n",
       "    <tr>\n",
       "      <th>2013-01-01 00:00:00</th>\n",
       "      <td>0.848</td>\n",
       "      <td>0.0</td>\n",
       "      <td>0.236</td>\n",
       "      <td>0.0</td>\n",
       "      <td>0.605</td>\n",
       "      <td>0.0</td>\n",
       "    </tr>\n",
       "    <tr>\n",
       "      <th>2013-01-01 01:00:00</th>\n",
       "      <td>0.846</td>\n",
       "      <td>0.0</td>\n",
       "      <td>0.226</td>\n",
       "      <td>0.0</td>\n",
       "      <td>0.608</td>\n",
       "      <td>0.0</td>\n",
       "    </tr>\n",
       "    <tr>\n",
       "      <th>2013-01-01 02:00:00</th>\n",
       "      <td>0.831</td>\n",
       "      <td>0.0</td>\n",
       "      <td>0.219</td>\n",
       "      <td>0.0</td>\n",
       "      <td>0.624</td>\n",
       "      <td>0.0</td>\n",
       "    </tr>\n",
       "  </tbody>\n",
       "</table>\n",
       "</div>"
      ],
      "text/plain": [
       "                    Germany        Spain       United Kingdom      \n",
       "                     onwind solar onwind solar         onwind solar\n",
       "2013-01-01 00:00:00   0.848   0.0  0.236   0.0          0.605   0.0\n",
       "2013-01-01 01:00:00   0.846   0.0  0.226   0.0          0.608   0.0\n",
       "2013-01-01 02:00:00   0.831   0.0  0.219   0.0          0.624   0.0"
      ]
     },
     "execution_count": 9,
     "metadata": {},
     "output_type": "execute_result"
    }
   ],
   "source": [
    "url = {\n",
    "    \"Germany\": \"https://model.energy/data/time-series-dd07c6bb61a102ba3399f062230a24fc.csv\",\n",
    "    \"Spain\": \"https://model.energy/data/time-series-bb901ba96566f929463616e013936637.csv\",\n",
    "    \"United Kingdom\": \"https://model.energy/data/time-series-71c7fcaf08ed1eff68e14fdf0f28f738.csv\",\n",
    "}\n",
    "ts = pd.concat(\n",
    "    {c: pd.read_csv(url[c], index_col=0, parse_dates=True) for c in url},\n",
    "    axis=1,\n",
    ")\n",
    "ts.head(3)"
   ]
  },
  {
   "cell_type": "markdown",
   "id": "51a6ccf8",
   "metadata": {},
   "source": [
    "The demand time series are exported from the [ENTSO-E Transparency Platform](https://transparency.entsoe.eu/)."
   ]
  },
  {
   "cell_type": "code",
   "execution_count": 10,
   "id": "2cc89661",
   "metadata": {},
   "outputs": [
    {
     "data": {
      "text/html": [
       "<div>\n",
       "<style scoped>\n",
       "    .dataframe tbody tr th:only-of-type {\n",
       "        vertical-align: middle;\n",
       "    }\n",
       "\n",
       "    .dataframe tbody tr th {\n",
       "        vertical-align: top;\n",
       "    }\n",
       "\n",
       "    .dataframe thead th {\n",
       "        text-align: right;\n",
       "    }\n",
       "</style>\n",
       "<table border=\"1\" class=\"dataframe\">\n",
       "  <thead>\n",
       "    <tr style=\"text-align: right;\">\n",
       "      <th></th>\n",
       "      <th>AL</th>\n",
       "      <th>AT</th>\n",
       "      <th>BA</th>\n",
       "      <th>BE</th>\n",
       "      <th>BG</th>\n",
       "      <th>CH</th>\n",
       "      <th>CZ</th>\n",
       "      <th>Germany</th>\n",
       "      <th>DK</th>\n",
       "      <th>EE</th>\n",
       "      <th>...</th>\n",
       "      <th>NO</th>\n",
       "      <th>PL</th>\n",
       "      <th>PT</th>\n",
       "      <th>RO</th>\n",
       "      <th>RS</th>\n",
       "      <th>SE</th>\n",
       "      <th>SI</th>\n",
       "      <th>SK</th>\n",
       "      <th>UA</th>\n",
       "      <th>XK</th>\n",
       "    </tr>\n",
       "  </thead>\n",
       "  <tbody>\n",
       "    <tr>\n",
       "      <th>2013-01-01 00:00:00</th>\n",
       "      <td>845.172414</td>\n",
       "      <td>6376.0</td>\n",
       "      <td>1186.913580</td>\n",
       "      <td>8096.0</td>\n",
       "      <td>4388.8889</td>\n",
       "      <td>5995.0</td>\n",
       "      <td>5618.0</td>\n",
       "      <td>38617.5824</td>\n",
       "      <td>3339.0</td>\n",
       "      <td>844.0</td>\n",
       "      <td>...</td>\n",
       "      <td>14741.0</td>\n",
       "      <td>13134.0</td>\n",
       "      <td>4750.0</td>\n",
       "      <td>5779.0</td>\n",
       "      <td>5580.0</td>\n",
       "      <td>14610.0</td>\n",
       "      <td>1161.0</td>\n",
       "      <td>2785.0</td>\n",
       "      <td>15823.0</td>\n",
       "      <td>992.000000</td>\n",
       "    </tr>\n",
       "    <tr>\n",
       "      <th>2013-01-01 01:00:00</th>\n",
       "      <td>794.068966</td>\n",
       "      <td>6112.0</td>\n",
       "      <td>1104.753086</td>\n",
       "      <td>7607.0</td>\n",
       "      <td>4166.6667</td>\n",
       "      <td>5790.0</td>\n",
       "      <td>5574.0</td>\n",
       "      <td>37058.2418</td>\n",
       "      <td>3118.0</td>\n",
       "      <td>812.0</td>\n",
       "      <td>...</td>\n",
       "      <td>14555.0</td>\n",
       "      <td>12475.0</td>\n",
       "      <td>4557.0</td>\n",
       "      <td>5560.0</td>\n",
       "      <td>5288.0</td>\n",
       "      <td>14343.0</td>\n",
       "      <td>1110.0</td>\n",
       "      <td>2658.0</td>\n",
       "      <td>15357.0</td>\n",
       "      <td>940.088889</td>\n",
       "    </tr>\n",
       "    <tr>\n",
       "      <th>2013-01-01 02:00:00</th>\n",
       "      <td>741.000000</td>\n",
       "      <td>5785.0</td>\n",
       "      <td>1041.604938</td>\n",
       "      <td>7218.0</td>\n",
       "      <td>3985.8586</td>\n",
       "      <td>5448.0</td>\n",
       "      <td>5451.0</td>\n",
       "      <td>35576.9231</td>\n",
       "      <td>2970.0</td>\n",
       "      <td>788.0</td>\n",
       "      <td>...</td>\n",
       "      <td>14389.0</td>\n",
       "      <td>11994.0</td>\n",
       "      <td>4262.0</td>\n",
       "      <td>5403.0</td>\n",
       "      <td>4963.0</td>\n",
       "      <td>14117.0</td>\n",
       "      <td>1090.0</td>\n",
       "      <td>2571.0</td>\n",
       "      <td>15215.0</td>\n",
       "      <td>882.311111</td>\n",
       "    </tr>\n",
       "  </tbody>\n",
       "</table>\n",
       "<p>3 rows × 36 columns</p>\n",
       "</div>"
      ],
      "text/plain": [
       "                             AL      AT           BA      BE         BG  \\\n",
       "2013-01-01 00:00:00  845.172414  6376.0  1186.913580  8096.0  4388.8889   \n",
       "2013-01-01 01:00:00  794.068966  6112.0  1104.753086  7607.0  4166.6667   \n",
       "2013-01-01 02:00:00  741.000000  5785.0  1041.604938  7218.0  3985.8586   \n",
       "\n",
       "                         CH      CZ     Germany      DK     EE  ...       NO  \\\n",
       "2013-01-01 00:00:00  5995.0  5618.0  38617.5824  3339.0  844.0  ...  14741.0   \n",
       "2013-01-01 01:00:00  5790.0  5574.0  37058.2418  3118.0  812.0  ...  14555.0   \n",
       "2013-01-01 02:00:00  5448.0  5451.0  35576.9231  2970.0  788.0  ...  14389.0   \n",
       "\n",
       "                          PL      PT      RO      RS       SE      SI      SK  \\\n",
       "2013-01-01 00:00:00  13134.0  4750.0  5779.0  5580.0  14610.0  1161.0  2785.0   \n",
       "2013-01-01 01:00:00  12475.0  4557.0  5560.0  5288.0  14343.0  1110.0  2658.0   \n",
       "2013-01-01 02:00:00  11994.0  4262.0  5403.0  4963.0  14117.0  1090.0  2571.0   \n",
       "\n",
       "                          UA          XK  \n",
       "2013-01-01 00:00:00  15823.0  992.000000  \n",
       "2013-01-01 01:00:00  15357.0  940.088889  \n",
       "2013-01-01 02:00:00  15215.0  882.311111  \n",
       "\n",
       "[3 rows x 36 columns]"
      ]
     },
     "execution_count": 10,
     "metadata": {},
     "output_type": "execute_result"
    }
   ],
   "source": [
    "url = \"https://tubcloud.tu-berlin.de/s/5ZcfnfC7mEwEGWt/download/electricity-demand.csv\"\n",
    "demand = pd.read_csv(url, index_col=0, parse_dates=True)\n",
    "demand.rename(\n",
    "    columns={\"DE\": \"Germany\", \"ES\": \"Spain\", \"GB\": \"United Kingdom\"}, inplace=True\n",
    ")\n",
    "demand.head(3)"
   ]
  },
  {
   "cell_type": "markdown",
   "id": "ef4ae053",
   "metadata": {},
   "source": [
    "### Electricity Components"
   ]
  },
  {
   "cell_type": "markdown",
   "id": "64c3d8e3",
   "metadata": {},
   "source": [
    "In a fresh PyPSA network instance, we set the coordinates of each country as the coordinates of the electricity buses."
   ]
  },
  {
   "cell_type": "code",
   "execution_count": 11,
   "id": "4b5942be",
   "metadata": {},
   "outputs": [],
   "source": [
    "n = pypsa.Network()\n",
    "\n",
    "REGIONS = pd.Index([\"Germany\", \"Spain\", \"United Kingdom\"])\n",
    "LAT = [51.17, 40.42, 54.77]\n",
    "LON = [10.45, -3.70, -2.02]\n",
    "n.add(\"Bus\", REGIONS, x=LON, y=LAT, carrier=\"AC\", unit=\"MW\", location=REGIONS)\n",
    "n.set_snapshots(demand.index)"
   ]
  },
  {
   "cell_type": "markdown",
   "id": "e3885c6f",
   "metadata": {},
   "source": [
    "We also define a range of carriers (i.e. energy carriers or technologies) that we will use in the model. This will be useful later when plotting optimisation results."
   ]
  },
  {
   "cell_type": "code",
   "execution_count": 12,
   "id": "d8e9ed07",
   "metadata": {},
   "outputs": [],
   "source": [
    "CARRIERS = {\n",
    "    \"solar\": \"gold\",\n",
    "    \"wind\": \"steelblue\",\n",
    "    \"load shedding\": \"indianred\",\n",
    "    \"battery charger\": \"lightgreen\",\n",
    "    \"battery discharger\": \"lightgreen\",\n",
    "    \"battery storage\": \"grey\",\n",
    "    \"battery\": \"grey\",\n",
    "    \"electrolysis\": \"violet\",\n",
    "    \"turbine\": \"orange\",\n",
    "    \"hydrogen storage\": \"orchid\",\n",
    "    \"hydrogen\": \"orchid\",\n",
    "    \"hydrogen load\": \"magenta\",\n",
    "    \"hydrogen import\": \"black\",\n",
    "    \"AC\": \"black\",\n",
    "    \"HVDC\": \"lightseagreen\",\n",
    "    \"pipeline\": \"cyan\",\n",
    "    \"load\": \"slategrey\",\n",
    "}\n",
    "\n",
    "n.add(\n",
    "    \"Carrier\",\n",
    "    CARRIERS.keys(),\n",
    "    color=CARRIERS.values(),\n",
    ");"
   ]
  },
  {
   "cell_type": "markdown",
   "id": "f161f395",
   "metadata": {},
   "source": [
    "Then, we add the electricity demand time series for each region:"
   ]
  },
  {
   "cell_type": "code",
   "execution_count": 13,
   "id": "7895166a",
   "metadata": {},
   "outputs": [],
   "source": [
    "n.add(\n",
    "    \"Load\", REGIONS, suffix=\" load\", bus=REGIONS, p_set=demand[REGIONS], carrier=\"load\"\n",
    ");"
   ]
  },
  {
   "cell_type": "markdown",
   "id": "549932f8",
   "metadata": {},
   "source": [
    "For the wind and solar generators, we pass the capacity factors as `p_max_pu` and add the annuitized capital costs.\n",
    "\n",
    "As a trick for modelling curtailment, we add a small `marginal_cost` to the wind generators to nudge those to be curtailed first before solar."
   ]
  },
  {
   "cell_type": "code",
   "execution_count": 14,
   "id": "940aa248",
   "metadata": {},
   "outputs": [],
   "source": [
    "p_max_pu_wind = ts.xs(\"onwind\", level=1, axis=1).rename(columns=lambda s: s + \" wind\")\n",
    "\n",
    "n.add(\n",
    "    \"Generator\",\n",
    "    p_max_pu_wind.columns,\n",
    "    bus=REGIONS,\n",
    "    p_max_pu=p_max_pu_wind,\n",
    "    p_nom_extendable=True,\n",
    "    capital_cost=costs.at[\"onwind\", \"capital_cost\"],\n",
    "    marginal_cost=0.5,\n",
    "    carrier=\"wind\",\n",
    ")\n",
    "\n",
    "p_max_pu_solar = ts.xs(\"solar\", level=1, axis=1).rename(columns=lambda s: s + \" solar\")\n",
    "\n",
    "n.add(\n",
    "    \"Generator\",\n",
    "    p_max_pu_solar.columns,\n",
    "    bus=REGIONS,\n",
    "    p_max_pu=p_max_pu_solar,\n",
    "    p_nom_extendable=True,\n",
    "    capital_cost=costs.at[\"solar-utility\", \"capital_cost\"],\n",
    "    carrier=\"solar\",\n",
    ");"
   ]
  },
  {
   "cell_type": "markdown",
   "id": "33d3cb69",
   "metadata": {},
   "source": [
    "We also add a generator with a very high marginal cost to represent load shedding with a value of lost load (VoLL) of 3000 €/MWh."
   ]
  },
  {
   "cell_type": "code",
   "execution_count": 15,
   "id": "73434d0c",
   "metadata": {},
   "outputs": [],
   "source": [
    "n.add(\n",
    "    \"Generator\",\n",
    "    REGIONS,\n",
    "    suffix=\" load shedding\",\n",
    "    bus=REGIONS,\n",
    "    p_nom=demand[REGIONS].max(),\n",
    "    marginal_cost=3000,\n",
    "    carrier=\"load shedding\",\n",
    ");"
   ]
  },
  {
   "cell_type": "markdown",
   "id": "36696f4a",
   "metadata": {},
   "source": [
    "### Storage"
   ]
  },
  {
   "cell_type": "markdown",
   "id": "1ae9727d",
   "metadata": {},
   "source": [
    "Now, we add some storage options to each model region:\n",
    "\n",
    "- For **hydrogen storage**, we model the electrolyser, the hydrogen storage, and the turbine for re-electrification separately, so that these components can be independently sized. We also include some constant hydrogen demand at a rate of half of each regions' average electricity demand.\n",
    "\n",
    "- For **battery storage**, we separately model the battery inverter (charger and discharger) and the battery storage itself. This has the advantage that the power-to-energy ratio can be optimised."
   ]
  },
  {
   "cell_type": "code",
   "execution_count": 16,
   "id": "67c9eeb9",
   "metadata": {},
   "outputs": [],
   "source": [
    "n.add(\"Bus\", REGIONS, suffix=\" hydrogen\", carrier=\"hydrogen\", x=LON, y=LAT, unit=\"MW\", location=REGIONS)\n",
    "\n",
    "n.add(\n",
    "    \"Load\",\n",
    "    REGIONS,\n",
    "    suffix=\" hydrogen load\",\n",
    "    bus=REGIONS + \" hydrogen\",\n",
    "    p_set=demand[REGIONS].mean() / 2,\n",
    "    carrier=\"hydrogen load\",\n",
    ");\n",
    "\n",
    "n.add(\n",
    "    \"Link\",\n",
    "    REGIONS,\n",
    "    suffix=\" electrolysis\",\n",
    "    bus0=REGIONS,\n",
    "    bus1=pd.Index(REGIONS) + \" hydrogen\",\n",
    "    carrier=\"electrolysis\",\n",
    "    p_nom_extendable=True,\n",
    "    efficiency=costs.at[\"electrolysis\", \"efficiency\"],\n",
    "    capital_cost=costs.at[\"electrolysis\", \"capital_cost\"],\n",
    ")\n",
    "\n",
    "n.add(\n",
    "    \"Link\",\n",
    "    REGIONS,\n",
    "    suffix=\" turbine\",\n",
    "    bus0=pd.Index(REGIONS) + \" hydrogen\",\n",
    "    bus1=REGIONS,\n",
    "    carrier=\"turbine\",\n",
    "    p_nom_extendable=True,\n",
    "    efficiency=costs.at[\"OCGT\", \"efficiency\"],\n",
    "    capital_cost=costs.at[\"OCGT\", \"capital_cost\"],\n",
    ")\n",
    "\n",
    "n.add(\n",
    "    \"Store\",\n",
    "    REGIONS,\n",
    "    suffix=\" hydrogen storage\",\n",
    "    bus=pd.Index(REGIONS) + \" hydrogen\",\n",
    "    carrier=\"hydrogen storage\",\n",
    "    capital_cost=costs.at[\"hydrogen storage underground\", \"capital_cost\"],\n",
    "    e_nom_extendable=True,\n",
    "    e_cyclic=True,\n",
    ")\n",
    "\n",
    "n.add(\"Bus\", REGIONS, suffix=\" battery\", carrier=\"battery\", x=LON, y=LAT, unit=\"MW\", location=REGIONS)\n",
    "\n",
    "n.add(\n",
    "    \"Link\",\n",
    "    REGIONS,\n",
    "    suffix=\" battery charger\",\n",
    "    bus0=REGIONS,\n",
    "    bus1=REGIONS + \" battery\",\n",
    "    carrier=\"battery charger\",\n",
    "    p_nom_extendable=True,\n",
    "    efficiency=0.95,\n",
    "    capital_cost=costs.at[\"battery inverter\", \"capital_cost\"],\n",
    ")\n",
    "\n",
    "n.add(\n",
    "    \"Link\",\n",
    "    REGIONS,\n",
    "    suffix=\" battery discharger\",\n",
    "    bus0=REGIONS + \" battery\",\n",
    "    bus1=REGIONS,\n",
    "    carrier=\"battery discharger\",\n",
    "    p_nom_extendable=True,\n",
    "    efficiency=0.95,\n",
    ")\n",
    "\n",
    "n.add(\n",
    "    \"Store\",\n",
    "    REGIONS,\n",
    "    suffix=\" battery storage\",\n",
    "    bus=REGIONS + \" battery\",\n",
    "    carrier=\"battery storage\",\n",
    "    capital_cost=costs.at[\"battery storage\", \"capital_cost\"],\n",
    "    e_nom_extendable=True,\n",
    "    e_cyclic=True,\n",
    ");"
   ]
  },
  {
   "cell_type": "markdown",
   "id": "74b56824",
   "metadata": {},
   "source": [
    "For the battery storage, we need to take special care of the inverter. As the same component can be used for charging and discharging, the capacities of our battery charger and discharger component must be linked.\n",
    "This is not done automatically by PyPSA, so we have to add an extra constraint, which we can pass as `extra_functionality` to the optimisation."
   ]
  },
  {
   "cell_type": "code",
   "execution_count": 17,
   "id": "e49d591e",
   "metadata": {},
   "outputs": [],
   "source": [
    "def battery_constraint(n: pypsa.Network, sns: pd.Index) -> None:\n",
    "    \"\"\"Constraint to ensure that the nominal capacity of battery chargers and dischargers are in a fixed ratio.\"\"\"\n",
    "    dischargers_i = n.links[n.links.index.str.contains(\" discharger\")].index\n",
    "    chargers_i = n.links[n.links.index.str.contains(\" charger\")].index\n",
    "\n",
    "    eff = n.links.efficiency[dischargers_i].values\n",
    "    lhs = n.model[\"Link-p_nom\"].loc[chargers_i]\n",
    "    rhs = n.model[\"Link-p_nom\"].loc[dischargers_i] * eff\n",
    "\n",
    "    n.model.add_constraints(lhs == rhs, name=\"Link-charger_ratio\")\n"
   ]
  },
  {
   "cell_type": "markdown",
   "id": "f06e86b6",
   "metadata": {},
   "source": [
    "### Transmission and Pipelines"
   ]
  },
  {
   "cell_type": "markdown",
   "id": "e09ed462",
   "metadata": {},
   "source": [
    "As the next modelling step, we will now add transmission links and hydrogen pipelines between the regions as expansion options. By modelling the interconnectors as bidirectional links, we will assume that they are controllable point-to-point HVDC connections. They are also assumed to be lossless, otherwise a similar workaround with two unidirectional links as for battery inverters has to be implemented. The cost of grids and pipelines is length-dependent."
   ]
  },
  {
   "cell_type": "code",
   "execution_count": 18,
   "id": "b0593b1f",
   "metadata": {},
   "outputs": [],
   "source": [
    "# Define connections between regions with approximate distances\n",
    "connections = [\n",
    "    (\"Germany\", \"United Kingdom\", 1000),  # km\n",
    "    (\"Germany\", \"Spain\", 1700),  # km\n",
    "    (\"Spain\", \"United Kingdom\", 1600),  # km\n",
    "]\n",
    "\n",
    "for bus0, bus1, length in connections:\n",
    "    n.add(\n",
    "        \"Link\",\n",
    "        f\"{bus0}-{bus1} HVDC\",\n",
    "        bus0=bus0,\n",
    "        bus1=bus1,\n",
    "        carrier=\"HVDC\",\n",
    "        p_nom_extendable=True,\n",
    "        capital_cost=costs.at[\"HVDC overhead\", \"capital_cost\"] * length,\n",
    "        p_min_pu=-1,  # bidirectional\n",
    "    )\n",
    "\n",
    "    n.add(\n",
    "        \"Link\",\n",
    "        f\"{bus0}-{bus1} pipeline\",\n",
    "        bus0=bus0 + \" hydrogen\",\n",
    "        bus1=bus1 + \" hydrogen\",\n",
    "        carrier=\"pipeline\",\n",
    "        p_nom_extendable=True,\n",
    "        capital_cost=costs.at[\"H2 (g) pipeline\", \"capital_cost\"] * length,\n",
    "        p_min_pu=-1,  # bidirectional\n",
    "    )"
   ]
  },
  {
   "cell_type": "markdown",
   "id": "6472616e",
   "metadata": {},
   "source": [
    "Finally, we add the option to import hydrogen from outside the model scope at a fixed cost. This could represent imports from dedicated renewable energy regions (e.g. North Africa, Australia, etc.)."
   ]
  },
  {
   "cell_type": "code",
   "execution_count": 19,
   "id": "276fd222",
   "metadata": {},
   "outputs": [],
   "source": [
    "import_costs = pd.Series(\n",
    "    {\n",
    "        \"Germany\": 100,\n",
    "        \"Spain\": 90,\n",
    "        \"United Kingdom\": 105,\n",
    "    }\n",
    ")\n",
    "\n",
    "n.add(\n",
    "    \"Generator\",\n",
    "    import_costs.index,\n",
    "    suffix=\" hydrogen import\",\n",
    "    bus=REGIONS,\n",
    "    p_nom=10_000,  # large value\n",
    "    marginal_cost=import_costs,\n",
    "    carrier=\"hydrogen import\",\n",
    ");"
   ]
  },
  {
   "cell_type": "markdown",
   "id": "e610af5a",
   "metadata": {},
   "source": [
    "### Temporal Clustering"
   ]
  },
  {
   "cell_type": "markdown",
   "id": "2e0d6109",
   "metadata": {},
   "source": [
    "To save some computation time, we only sample every third snapshot, which corresponds to a temporal resolution of 3 hours. Note that the snapshot weightings (the duration each time step represents) have to be adjusted accordingly."
   ]
  },
  {
   "cell_type": "code",
   "execution_count": 20,
   "id": "77d82143",
   "metadata": {},
   "outputs": [],
   "source": [
    "n.set_snapshots(n.snapshots[::RESOLUTION])\n",
    "n.snapshot_weightings.loc[:, :] = RESOLUTION\n"
   ]
  },
  {
   "cell_type": "markdown",
   "id": "ebbd5ae5",
   "metadata": {},
   "source": [
    "## Exploration\n",
    "\n",
    "We could now already run the optimisation and look at a first set of results."
   ]
  },
  {
   "cell_type": "code",
   "execution_count": null,
   "id": "4214f5c6",
   "metadata": {},
   "outputs": [],
   "source": [
    "# n.optimize(\n",
    "#     solver_name=SOLVER,\n",
    "#     log_to_console=False,\n",
    "#     extra_functionality=battery_constraint,\n",
    "#     method=2, # Use barrier method to solve model (faster)\n",
    "# )"
   ]
  },
  {
   "cell_type": "markdown",
   "id": "35e18d5f",
   "metadata": {},
   "source": [
    "But the exploration is left to you! Here are some ideas for sensitivities to explore and metrics to look at:\n",
    "\n",
    "**Metrics:**\n",
    "\n",
    "- Installed capacities of wind, solar, electrolysers, hydrogen storage, etc. (MW or MWh)\n",
    "- Total annual system costs and breakdown by technology (billion €/a and % of total cost). This can be built from `n.statistics.opex(groupby=[\"location\", \"carrier\"])` and `n.statistics.capex(groupby=[\"location\", \"carrier\"])`.\n",
    "- Energy balances of different carrier as time series (electricity, hydrogen) to identify key operational patterns. This can be accessed from `n.statistics.energy_balance(groupby=[\"bus\", \"carrier\"])` and plotted intereactively with `n.statistics.energy_balance.iplot.area(bus_carrier=\"AC\")`.\n",
    "- Electricity and hydrogen prices in each country. These can be accessed under `n.buses_t.marginal_price`.\n",
    "- Net imports of electricity and hydrogen by country and size of transmission/pipeline capacities. This can be accessed from `n.links_t.p0` and `n.links.p_nom_opt`. Hydrogen imports from outside the model scope can be accessed from `n.statistics.energy_balance(groupby=[\"bus\", \"carrier\"])`.\n",
    "- Storage filling levels per region over time. This can be accessed from `n.stores_t.e`.\n",
    "\n",
    "**Sensitivities:**\n",
    "\n",
    "- Choose a different triplet of countries (e.g. Belgium, Netherlands, Germany) and see how it affects the level of electricity and hydrogen trade. This can be done by retrieving alternative wind and solar time series form [model.energy](https://model.energy), changing the coordinates of the buses, and accessing different columns in the `demand` dataframe.\n",
    "- Omit the option to build transmission or hydrogen pipelines or both. This can be done by removing the respective `Link` components with `n.remove(\"Link\", ...)`.\n",
    "- Vary the cost assumptions by changing the overall projection year (e.g. 2030, 2040, 2050). This can be done when loading the cost data.\n",
    "- Vary the import costs for hydrogen and observe the impact on domestic electrolysis and storage. This can be done by changing `n.generators.loc[\"hydrogen import\", \"marginal_cost\"] *= 0.7` (to reduce import costs by 30%).\n",
    "- Make hydrogen storage more expensive (e.g. by assuming steel tank storage instead of underground storage). This can be done by changing `n.stores.loc[\"hydrogen storage\", \"capital_cost\"] *= 10` (to increase the capital costs by factor 10).\n",
    "- Vary the cost of hydrogen pipelines and power transmission lines. Do you see tipping points where suddenly a lot more or less capacity is built? This can be done by changing `n.links.loc[\"pipeline, \"capital_cost\"] *= 0.5` (to reduce the capital costs of pipeline by 50%).\n",
    "- Increase or decrease the hydrogen demand. What effect does it have on electricity prices? This can be done by changing `n.loads.loc[\"hydrogen load\", \"p_set\"] *= 1.5` (to increase the demand by 50%).\n",
    "\n",
    "**Feel free to explore other ideas as well!**"
   ]
  }
 ],
 "metadata": {
  "kernelspec": {
   "display_name": "sommerakademie-oxford (3.12.7)",
   "language": "python",
   "name": "python3"
  },
  "language_info": {
   "codemirror_mode": {
    "name": "ipython",
    "version": 3
   },
   "file_extension": ".py",
   "mimetype": "text/x-python",
   "name": "python",
   "nbconvert_exporter": "python",
   "pygments_lexer": "ipython3",
   "version": "3.12.7"
  }
 },
 "nbformat": 4,
 "nbformat_minor": 5
}
