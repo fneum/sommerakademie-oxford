{
 "cells": [
  {
   "cell_type": "markdown",
   "id": "39958609",
   "metadata": {},
   "source": [
    "# Models for Households"
   ]
  },
  {
   "cell_type": "markdown",
   "id": "db7dc787",
   "metadata": {},
   "source": [
    "This section builds the foundation of a household energy system model to explore the household-level integration of sector coupling technologies such as heat pumps, batteries and electric vehicles and interactions with the electricity grid.\n",
    "\n",
    "![network-model](_assets/households.png)\n",
    "\n",
    "## Model Foundation"
   ]
  },
  {
   "cell_type": "code",
   "execution_count": 20,
   "id": "530aa0d9",
   "metadata": {},
   "outputs": [],
   "source": [
    "from demandlib import bdew\n",
    "import datetime\n",
    "import pandas as pd\n",
    "import numpy as np\n",
    "import pypsa\n",
    "\n",
    "RESOLUTION = 2  # 3-hourly\n",
    "SOLVER = \"highs\"  # or 'gurobi'"
   ]
  },
  {
   "cell_type": "markdown",
   "id": "30650fdc",
   "metadata": {},
   "source": [
    "### Cost Assumptions"
   ]
  },
  {
   "cell_type": "markdown",
   "id": "28ba48e5",
   "metadata": {},
   "source": [
    "We take techno-economic assumptions from the [technology-data](https://github.com/PyPSA/technology-data) repository which collects assumptions on costs and efficiencies:"
   ]
  },
  {
   "cell_type": "code",
   "execution_count": 3,
   "id": "3036e4d4",
   "metadata": {},
   "outputs": [],
   "source": [
    "YEAR = 2030\n",
    "url = f\"https://raw.githubusercontent.com/PyPSA/technology-data/master/outputs/costs_{YEAR}.csv\"\n",
    "costs = pd.read_csv(url, index_col=[0, 1])\n",
    "costs.loc[costs.unit.str.contains(\"/kW\"), \"value\"] *= 1e3\n",
    "costs = costs.value.unstack().fillna({\"discount rate\": 0.07, \"lifetime\": 20, \"FOM\": 0})"
   ]
  },
  {
   "cell_type": "markdown",
   "id": "33fae127",
   "metadata": {},
   "source": [
    "We calculate the capital costs (i.e. annualised investment costs, €/MW/a or €/MWh/a for storage), using the discount rate and lifetime."
   ]
  },
  {
   "cell_type": "code",
   "execution_count": 4,
   "id": "786edac5",
   "metadata": {},
   "outputs": [],
   "source": [
    "def annuity(r, n):\n",
    "    return r / (1.0 - 1.0 / (1.0 + r) ** n)\n",
    "\n",
    "a = costs.apply(lambda x: annuity(x[\"discount rate\"], x[\"lifetime\"]), axis=1)\n",
    "costs[\"capital_cost\"] = (a + costs[\"FOM\"] / 100) * costs[\"investment\"]"
   ]
  },
  {
   "cell_type": "code",
   "execution_count": 5,
   "id": "4d450b3e",
   "metadata": {},
   "outputs": [
    {
     "data": {
      "text/html": [
       "<div>\n",
       "<style scoped>\n",
       "    .dataframe tbody tr th:only-of-type {\n",
       "        vertical-align: middle;\n",
       "    }\n",
       "\n",
       "    .dataframe tbody tr th {\n",
       "        vertical-align: top;\n",
       "    }\n",
       "\n",
       "    .dataframe thead th {\n",
       "        text-align: right;\n",
       "    }\n",
       "</style>\n",
       "<table border=\"1\" class=\"dataframe\">\n",
       "  <thead>\n",
       "    <tr style=\"text-align: right;\">\n",
       "      <th></th>\n",
       "      <th>DE30</th>\n",
       "    </tr>\n",
       "    <tr>\n",
       "      <th>time</th>\n",
       "      <th></th>\n",
       "    </tr>\n",
       "  </thead>\n",
       "  <tbody>\n",
       "    <tr>\n",
       "      <th>2013-01-01 00:00:00</th>\n",
       "      <td>3.162</td>\n",
       "    </tr>\n",
       "    <tr>\n",
       "      <th>2013-01-01 01:00:00</th>\n",
       "      <td>3.041</td>\n",
       "    </tr>\n",
       "    <tr>\n",
       "      <th>2013-01-01 02:00:00</th>\n",
       "      <td>2.659</td>\n",
       "    </tr>\n",
       "  </tbody>\n",
       "</table>\n",
       "</div>"
      ],
      "text/plain": [
       "                      DE30\n",
       "time                      \n",
       "2013-01-01 00:00:00  3.162\n",
       "2013-01-01 01:00:00  3.041\n",
       "2013-01-01 02:00:00  2.659"
      ]
     },
     "execution_count": 5,
     "metadata": {},
     "output_type": "execute_result"
    }
   ],
   "source": [
    "url = \"https://tubcloud.tu-berlin.de/s/QWWKYrgMbpHAXEX/download/ninja-weather-DE30-2013.csv\"\n",
    "temperature = pd.read_csv(url, index_col=0)\n",
    "temperature.head(3)"
   ]
  },
  {
   "cell_type": "markdown",
   "id": "85d50c3b",
   "metadata": {},
   "source": [
    "### Heat and Electricity Demand\n",
    "\n",
    "Hourly demand and electricity demand time series are generated using the [demandlib](https://demandlib.readthedocs.io/en/latest/bdew.html#) tool, which uses standard load profiles. Let's assume an electricity demand of 3000 kWh per year and heat demand of 15,000 kWh per year."
   ]
  },
  {
   "cell_type": "code",
   "execution_count": 6,
   "id": "18b1261e",
   "metadata": {},
   "outputs": [],
   "source": [
    "HOLIDAYS = {\n",
    "    datetime.date(2013, 1, 1): \"New Year's Day\",\n",
    "    datetime.date(2013, 1, 6): \"Epiphany\",\n",
    "    datetime.date(2013, 3, 29): \"Good Friday\",\n",
    "    datetime.date(2013, 4, 1): \"Easter Monday\",\n",
    "    datetime.date(2013, 5, 1): \"Labour Day\",\n",
    "    datetime.date(2013, 5, 9): \"Ascension Day\",\n",
    "    datetime.date(2013, 5, 20): \"Whit Monday\",\n",
    "    datetime.date(2013, 5, 30): \"Corpus Christi\",\n",
    "    datetime.date(2013, 10, 3): \"Day of German Unity\",\n",
    "    datetime.date(2013, 10, 31): \"Reformation Day\",\n",
    "    datetime.date(2013, 12, 25): \"Christmas Day\",\n",
    "    datetime.date(2013, 12, 26): \"St. Stephen's Day\",\n",
    "}"
   ]
  },
  {
   "cell_type": "code",
   "execution_count": 7,
   "id": "6d414f29",
   "metadata": {},
   "outputs": [
    {
     "data": {
      "text/plain": [
       "2013-01-01 00:00:00    0.234655\n",
       "2013-01-01 01:00:00    0.169026\n",
       "2013-01-01 02:00:00    0.135311\n",
       "Freq: h, Name: h0, dtype: float64"
      ]
     },
     "execution_count": 7,
     "metadata": {},
     "output_type": "execute_result"
    }
   ],
   "source": [
    "e_slp = bdew.ElecSlp(year=2013, holidays=HOLIDAYS)\n",
    "elec = (\n",
    "    e_slp.get_scaled_power_profiles({\"h0\": 3000}).resample(\"h\").mean().squeeze(axis=1)\n",
    ")\n",
    "elec.head(3)"
   ]
  },
  {
   "cell_type": "code",
   "execution_count": 8,
   "id": "16615321",
   "metadata": {},
   "outputs": [
    {
     "data": {
      "text/plain": [
       "2013-01-01 00:00:00    1.537562\n",
       "2013-01-01 01:00:00    1.584357\n",
       "2013-01-01 02:00:00    1.624467\n",
       "Freq: h, Name: temperature_geo, dtype: float64"
      ]
     },
     "execution_count": 8,
     "metadata": {},
     "output_type": "execute_result"
    }
   ],
   "source": [
    "index = pd.date_range(start=\"2013-01-01\", periods=8760, freq=\"h\")\n",
    "\n",
    "heat = bdew.HeatBuilding(\n",
    "    index,\n",
    "    holidays=HOLIDAYS,\n",
    "    temperature=temperature,\n",
    "    shlp_type=\"EFH\",\n",
    "    building_class=11,\n",
    "    wind_class=1,\n",
    "    annual_heat_demand=15000,\n",
    "    name=\"EFH\",\n",
    "    ww_incl=True,\n",
    ").get_bdew_profile()\n",
    "heat.head(3)"
   ]
  },
  {
   "cell_type": "markdown",
   "id": "951f6db9",
   "metadata": {},
   "source": [
    "### Wind and Solar Time Series\n",
    "\n",
    "Capacity factor time series for wind and solar we take again from [model.energy](https://model.energy) for a location around Berlin."
   ]
  },
  {
   "cell_type": "code",
   "execution_count": 9,
   "id": "ab626375",
   "metadata": {},
   "outputs": [
    {
     "data": {
      "text/html": [
       "<div>\n",
       "<style scoped>\n",
       "    .dataframe tbody tr th:only-of-type {\n",
       "        vertical-align: middle;\n",
       "    }\n",
       "\n",
       "    .dataframe tbody tr th {\n",
       "        vertical-align: top;\n",
       "    }\n",
       "\n",
       "    .dataframe thead th {\n",
       "        text-align: right;\n",
       "    }\n",
       "</style>\n",
       "<table border=\"1\" class=\"dataframe\">\n",
       "  <thead>\n",
       "    <tr style=\"text-align: right;\">\n",
       "      <th></th>\n",
       "      <th>solar</th>\n",
       "      <th>onwind</th>\n",
       "    </tr>\n",
       "    <tr>\n",
       "      <th>time</th>\n",
       "      <th></th>\n",
       "      <th></th>\n",
       "    </tr>\n",
       "  </thead>\n",
       "  <tbody>\n",
       "    <tr>\n",
       "      <th>2013-01-01 00:00:00</th>\n",
       "      <td>0.0</td>\n",
       "      <td>0.792</td>\n",
       "    </tr>\n",
       "    <tr>\n",
       "      <th>2013-01-01 01:00:00</th>\n",
       "      <td>0.0</td>\n",
       "      <td>0.758</td>\n",
       "    </tr>\n",
       "    <tr>\n",
       "      <th>2013-01-01 02:00:00</th>\n",
       "      <td>0.0</td>\n",
       "      <td>0.735</td>\n",
       "    </tr>\n",
       "  </tbody>\n",
       "</table>\n",
       "</div>"
      ],
      "text/plain": [
       "                     solar  onwind\n",
       "time                              \n",
       "2013-01-01 00:00:00    0.0   0.792\n",
       "2013-01-01 01:00:00    0.0   0.758\n",
       "2013-01-01 02:00:00    0.0   0.735"
      ]
     },
     "execution_count": 9,
     "metadata": {},
     "output_type": "execute_result"
    }
   ],
   "source": [
    "url = \"https://model.energy/data/time-series-77710a0d1997bc060695fbe92f4c55c3.csv\"\n",
    "ts = pd.read_csv(url, index_col=0, parse_dates=True)\n",
    "ts.head(3)"
   ]
  },
  {
   "cell_type": "markdown",
   "id": "ec68cb1a",
   "metadata": {},
   "source": [
    "### Electricity Price Time Series\n",
    "\n",
    "Hourly wholesale electricity price time series for the German bidding zone we take from the [OPSD Platform](https://data.open-power-system-data.org/time_series/2019-06-05). We will not use these time series directly, but add 30 €ct/kWh of static charges and levies to approximate household electricity tariffs with some dynamic component."
   ]
  },
  {
   "cell_type": "code",
   "execution_count": 10,
   "id": "c0374072",
   "metadata": {},
   "outputs": [
    {
     "data": {
      "text/plain": [
       "2013-01-01 00:00:00    0.01403\n",
       "2013-01-01 01:00:00    0.01106\n",
       "2013-01-01 02:00:00    0.00850\n",
       "Freq: h, Name: DE_price_day_ahead, dtype: float64"
      ]
     },
     "execution_count": 10,
     "metadata": {},
     "output_type": "execute_result"
    }
   ],
   "source": [
    "url = \"https://tubcloud.tu-berlin.de/s/osPQXnBYk4RrNSR/download/price-time-series-DE-2013.csv\"\n",
    "prices = pd.read_csv(url)[\"DE_price_day_ahead\"] / 1000 # €/kWh\n",
    "prices.index = index\n",
    "prices.head(3)"
   ]
  },
  {
   "cell_type": "markdown",
   "id": "4f788939",
   "metadata": {},
   "source": [
    "### Model Setup\n",
    "\n",
    "Let's start by initialising the network with buses for electricity, heat and an electric vehicle and hourly snapshots."
   ]
  },
  {
   "cell_type": "code",
   "execution_count": 11,
   "id": "1a4000be",
   "metadata": {},
   "outputs": [],
   "source": [
    "n = pypsa.Network()\n",
    "\n",
    "buses_i = [\"electricity\", \"heat\", \"EV\"]\n",
    "n.add(\"Bus\", buses_i, carrier=buses_i, unit=\"kW\")\n",
    "\n",
    "n.set_snapshots(ts.index)\n",
    "\n",
    "CARRIERS = {\n",
    "    \"solar\": \"gold\",\n",
    "    \"battery storage 1h\": \"magenta\",\n",
    "    \"battery storage 3h\": \"magenta\",\n",
    "    \"battery storage 6h\": \"magenta\",\n",
    "    \"electricity demand\": \"grey\",\n",
    "    \"heat demand\": \"indianred\",\n",
    "    \"gas boiler\": \"brown\",\n",
    "    \"ground heat pump\": \"forestgreen\",\n",
    "    \"air heat pump\": \"lightgreen\",\n",
    "    \"resistive heater\": \"orange\",\n",
    "    \"hot water storage\": \"red\",\n",
    "    \"from grid\": \"steelblue\",\n",
    "    \"to grid\": \"steelblue\",\n",
    "    \"electricity\": \"grey\",\n",
    "    \"heat\": \"indianred\",\n",
    "    \"EV\": \"cadetblue\",\n",
    "    \"EV demand\": \"cadetblue\",\n",
    "    \"EV charger\": \"limegreen\",\n",
    "    \"V2G\": \"limegreen\",\n",
    "    \"EV battery\": \"teal\",\n",
    "}\n",
    "\n",
    "n.add(\n",
    "    \"Carrier\",\n",
    "    CARRIERS.keys(),\n",
    "    color=CARRIERS.values(),\n",
    ");"
   ]
  },
  {
   "cell_type": "markdown",
   "id": "c832e603",
   "metadata": {},
   "source": [
    "Now, we add the electricity demand, the option to build up to 10 kW of rooftop PV, the option to import from the grid at 30 €ct/kWh plus the dynamic wholesale electricity price, the option to export to the grid for a feed-in tariff of 4 €ct/kWh. Batteries can be built with an energy-to-power ratio of 1h, 3h and 6h. "
   ]
  },
  {
   "cell_type": "code",
   "execution_count": 12,
   "id": "92412140",
   "metadata": {},
   "outputs": [],
   "source": [
    "n.add(\n",
    "    \"Load\",\n",
    "    \"electricity demand\",\n",
    "    bus=\"electricity\",\n",
    "    p_set=elec, # kW\n",
    "    carrier=\"electricity demand\",\n",
    ")\n",
    "\n",
    "\n",
    "n.add(\n",
    "    \"Generator\",\n",
    "    \"solar\",\n",
    "    bus=\"electricity\",\n",
    "    p_nom_extendable=True,\n",
    "    capital_cost=costs.at[\"solar-rooftop\", \"capital_cost\"] / 1000,\n",
    "    p_max_pu=ts.solar,\n",
    "    p_nom_max=10, # kW\n",
    "    carrier=\"solar\",\n",
    ")\n",
    "\n",
    "n.add(\n",
    "    \"Generator\",\n",
    "    \"from grid\",\n",
    "    bus=\"electricity\",\n",
    "    marginal_cost=prices + 0.3, # €/kWh\n",
    "    p_nom=20, # kW\n",
    "    carrier=\"from grid\",\n",
    ")\n",
    "\n",
    "n.add(\n",
    "    \"Generator\",\n",
    "    \"to grid\",\n",
    "    bus=\"electricity\",\n",
    "    carrier=\"to grid\",\n",
    "    p_nom=20, # kW\n",
    "    marginal_cost=0.04, # €/kWh feed-in tariff\n",
    "    p_min_pu=-1,\n",
    "    p_max_pu=0,\n",
    ")\n",
    "\n",
    "\n",
    "for max_hours in [1, 3, 6]:\n",
    "    n.add(\n",
    "        \"StorageUnit\",\n",
    "        f\"battery storage {max_hours}h\",\n",
    "        bus=\"electricity\",\n",
    "        carrier=f\"battery storage {max_hours}h\",\n",
    "        max_hours=max_hours,\n",
    "        capital_cost=costs.at[\"battery inverter\", \"capital_cost\"] / 1000\n",
    "        + max_hours * costs.at[\"battery storage\", \"capital_cost\"] / 1000,\n",
    "        efficiency_store=costs.at[\"battery inverter\", \"efficiency\"],\n",
    "        efficiency_dispatch=costs.at[\"battery inverter\", \"efficiency\"],\n",
    "        p_nom_extendable=True,\n",
    "        cyclic_state_of_charge=True,\n",
    "    )\n"
   ]
  },
  {
   "cell_type": "markdown",
   "id": "72006076",
   "metadata": {},
   "source": [
    "Now, we add the heat demand as well as several technologies to supply heat. This includes a fossil gas boiler option at a cost of 9 €ct/kWh. The gas boiler must follow the heat load profile and cannot be mixed with the heat pump (no hybrid setup allowed). We have two heat pump options: a ground-sourced heat pump with a constant higher coefficient of performance (but higher cost) and an air-sourced heat pump with time-varying coefficient of performance depending on ambient weather conditions (but lower cost). Additionally, there is a cheap resistive heater option and the option to build a small hot water storage tank for buffering heat supply."
   ]
  },
  {
   "cell_type": "code",
   "execution_count": 13,
   "id": "b547df4f",
   "metadata": {},
   "outputs": [],
   "source": [
    "\n",
    "n.add(\"Load\", \"heat demand\", bus=\"heat\", p_set=heat, carrier=\"heat demand\")\n",
    "\n",
    "\n",
    "n.add(\n",
    "    \"Generator\",\n",
    "    \"gas boiler\",\n",
    "    bus=\"heat\",\n",
    "    marginal_cost=0.09, # €/kWh\n",
    "    p_nom_extendable=True,\n",
    "    capital_cost=costs.at[\"decentral gas boiler\", \"capital_cost\"] / 1000, # €/kW/a\n",
    "    carrier='gas boiler',\n",
    "    p_min_pu=heat / heat.max(), # load-following\n",
    ")\n",
    "\n",
    "n.add(\n",
    "    \"Link\",\n",
    "    \"ground heat pump\",\n",
    "    bus0=\"electricity\",\n",
    "    bus1=\"heat\",\n",
    "    p_nom_extendable=True,\n",
    "    capital_cost=costs.at[\"decentral ground-sourced heat pump\", \"capital_cost\"] / 1000,\n",
    "    efficiency=costs.at[\"decentral ground-sourced heat pump\", \"efficiency\"],\n",
    "    carrier=\"ground heat pump\",\n",
    ")\n",
    "\n",
    "def cop(t_source, t_sink=55):\n",
    "    delta_t = t_sink - t_source\n",
    "    return 1.3 * (6.81 - 0.121 * delta_t + 0.000630 * delta_t**2)\n",
    "\n",
    "n.add(\n",
    "    \"Link\",\n",
    "    \"air heat pump\",\n",
    "    bus0=\"electricity\",\n",
    "    bus1=\"heat\",\n",
    "    p_nom_extendable=True,\n",
    "    capital_cost=costs.at[\"decentral air-sourced heat pump\", \"capital_cost\"] / 1000,\n",
    "    efficiency=cop(temperature.squeeze()).values,\n",
    "    carrier=\"air heat pump\",\n",
    ")\n",
    "\n",
    "n.add(\n",
    "    \"Link\",\n",
    "    \"resitive heater\",\n",
    "    bus0=\"electricity\",\n",
    "    bus1=\"heat\",\n",
    "    p_nom_extendable=True,\n",
    "    capital_cost=costs.at[\"decentral resistive heater\", \"capital_cost\"] / 1000,\n",
    "    efficiency=costs.at[\"decentral resistive heater\", \"efficiency\"],\n",
    "    carrier=\"resistive heater\",\n",
    ")\n",
    "\n",
    "n.add(\n",
    "    \"Store\",\n",
    "    \"hot water storage\",\n",
    "    bus=\"heat\",\n",
    "    carrier=\"hot water storage\",\n",
    "    capital_cost=costs.at[\"decentral water tank storage\", \"capital_cost\"] / 1000,\n",
    "    standing_loss=costs.at[\"decentral water tank storage\", \"standing losses\"] / 100,\n",
    "    e_nom_extendable=True,\n",
    ");"
   ]
  },
  {
   "cell_type": "markdown",
   "id": "36a0af3c",
   "metadata": {},
   "source": [
    "### Electric Vehicles\n",
    "\n",
    "Here, we add an electric vehicle (EV) as previously shown in the sector-coupling tutorial, just narrowed down to a single vehicle. The vehicle has an availability profile for when it is connected to the grid, and a requirement profile for the minimum state of charge it should have at certain times of the day (e.g. 75% at 6 AM). The charging power is assumed to be 11 kW and the battery size is assumed to be 50 kWh."
   ]
  },
  {
   "cell_type": "code",
   "execution_count": null,
   "id": "15bc5538",
   "metadata": {},
   "outputs": [
    {
     "name": "stderr",
     "output_type": "stream",
     "text": [
      "WARNING:pypsa.network.io:The following buses are already defined and will be skipped (use overwrite=True to overwrite): EV\n"
     ]
    }
   ],
   "source": [
    "number_cars = 40e6  #  number of EV cars\n",
    "bev_charger_rate = 11  # 3-phase EV charger with 11 kW\n",
    "bev_energy = 50  # EV battery size in kWh\n",
    "\n",
    "url = \"https://tubcloud.tu-berlin.de/s/9r5bMSbzzQiqG7H/download/electric-vehicle-profile-example.csv\"\n",
    "p_set = pd.read_csv(url, index_col=0, parse_dates=True).squeeze().div(number_cars)\n",
    "p_set = p_set.resample(\"1h\").mean().interpolate()\n",
    "p_set.index = p_set.index.shift(-(2 * 365), freq=\"D\")\n",
    "p_set = p_set.reindex(n.snapshots).ffill()\n"
   ]
  },
  {
   "cell_type": "markdown",
   "id": "516c2a9e",
   "metadata": {},
   "source": [
    "For the availability time series, with a single vehicle, we now have to work with discrete values. We can achieve this by using a binomial distribution to simulate the availability of the vehicle over time, taking into account the hours of the day and the day of the week and implement some additional hard constraints."
   ]
  },
  {
   "cell_type": "code",
   "execution_count": null,
   "id": "98349edd",
   "metadata": {},
   "outputs": [],
   "source": [
    "url = \"https://tubcloud.tu-berlin.de/s/E3PBWPfYaWwCq7a/download/electric-vehicle-availability-example.csv\"\n",
    "available = pd.read_csv(url, index_col=0, parse_dates=True).squeeze()\n",
    "available = available.resample(\"1h\").mean().interpolate()\n",
    "available.index = available.index.shift(-(2 * 365), freq=\"D\")\n",
    "available = available.reindex(n.snapshots).ffill()\n",
    "\n",
    "rng = np.random.default_rng(42)  # seed for reproducibility\n",
    "available = pd.Series(rng.binomial(1, available), index=available.index)\n",
    "hours = available.index.hour\n",
    "weekday = available.index.weekday\n",
    "available[(hours >= 23) | (hours < 5)] = 1   # always at home 23–05\n",
    "available[(hours >= 10) & (hours < 15) & (weekday < 5)] = 0  # always away 10–15\n",
    "available.loc[\"2013-01-01\":\"2013-01-07\"].plot()"
   ]
  },
  {
   "cell_type": "markdown",
   "id": "5ad8fb6f",
   "metadata": {},
   "source": [
    "Then, we can add the PyPSA components just as before:"
   ]
  },
  {
   "cell_type": "code",
   "execution_count": null,
   "id": "e51f6b52",
   "metadata": {},
   "outputs": [],
   "source": [
    "n.add(\"Load\", \"EV demand\", bus=\"EV\", carrier=\"EV demand\", p_set=p_set)\n",
    "\n",
    "n.add(\n",
    "    \"Link\",\n",
    "    \"EV charger\",\n",
    "    bus0=\"electricity\",\n",
    "    bus1=\"EV\",\n",
    "    p_nom=bev_charger_rate,\n",
    "    carrier=\"EV charger\",\n",
    "    p_max_pu=available,\n",
    "    efficiency=0.9,\n",
    ")\n",
    "\n",
    "n.add(\n",
    "    \"Link\",\n",
    "    \"V2G\",\n",
    "    bus0=\"EV\",\n",
    "    bus1=\"electricity\",\n",
    "    p_nom=bev_charger_rate,\n",
    "    carrier=\"V2G\",\n",
    "    p_max_pu=available,\n",
    "    efficiency=0.9,\n",
    ")\n",
    "\n",
    "requirement = pd.Series(0., index=n.snapshots)\n",
    "requirement.where(requirement.index.hour != 6, 0.75, inplace=True)\n",
    "\n",
    "n.add(\n",
    "    \"Store\",\n",
    "    \"EV battery\",\n",
    "    bus=\"EV\",\n",
    "    carrier=\"EV battery\",\n",
    "    e_cyclic=True,  # state of charge at beginning = state of charge at the end\n",
    "    e_nom=bev_energy,\n",
    "    e_min_pu=requirement,\n",
    ");"
   ]
  },
  {
   "cell_type": "markdown",
   "id": "69ff6a6f",
   "metadata": {},
   "source": [
    "### Temporal Clustering"
   ]
  },
  {
   "cell_type": "markdown",
   "id": "816ff3bb",
   "metadata": {},
   "source": [
    "To save some computation time, we only sample every third snapshot, which corresponds to a temporal resolution of 3 hours. Note that the snapshot weightings (the duration each time step represents) have to be adjusted accordingly."
   ]
  },
  {
   "cell_type": "code",
   "execution_count": 15,
   "id": "36b38c25",
   "metadata": {},
   "outputs": [],
   "source": [
    "n.set_snapshots(n.snapshots[::RESOLUTION])\n",
    "n.snapshot_weightings.loc[:, :] = RESOLUTION\n"
   ]
  },
  {
   "cell_type": "code",
   "execution_count": null,
   "id": "ad94294f",
   "metadata": {},
   "outputs": [
    {
     "data": {
      "text/plain": [
       "<Axes: xlabel='snapshot'>"
      ]
     },
     "execution_count": 31,
     "metadata": {},
     "output_type": "execute_result"
    },
    {
     "data": {
      "image/png": "[encoded data removed]",
      "text/plain": [
       "<Figure size 640x480 with 1 Axes>"
      ]
     },
     "metadata": {},
     "output_type": "display_data"
    }
   ],
   "source": []
  },
  {
   "cell_type": "markdown",
   "id": "3b6d7f22",
   "metadata": {},
   "source": [
    "## Exploration\n",
    "\n",
    "We could now already run the optimisation and look at a first set of results."
   ]
  },
  {
   "cell_type": "code",
   "execution_count": 16,
   "id": "3f1f7485",
   "metadata": {},
   "outputs": [],
   "source": [
    "# n.optimize(\n",
    "#     solver_name=SOLVER,\n",
    "#     log_to_console=False,\n",
    "# )"
   ]
  },
  {
   "cell_type": "markdown",
   "id": "6a12a1bc",
   "metadata": {},
   "source": [
    "But the exploration is left to you! Here are some ideas for sensitivities to explore and metrics to look at:\n",
    "\n",
    "**Metrics:**\n",
    "\n",
    "- Total annual energy cost for the household and breakdown by technology (billion €/a and % of total cost). This can be built from `n.statistics.opex(groupby=[\"bus\", \"carrier\"])` and `n.statistics.capex(groupby=[\"bus\", \"carrier\"])`.\n",
    "- Energy balances of the household. This can be accessed from `n.statistics.energy_balance(groupby=[\"bus\", \"carrier\"], bus_carrier='electricity')` and plotted intereactively with `n.statistics.energy_balance.iplot.area(bus_carrier=\"electricity\")`.\n",
    "\n",
    "**Sensitivities:**\n",
    "\n",
    "- Disable ground water heat pumps.\n",
    "- Make battery storage cheaper.\n",
    "- Do not allow exports to the grid.\n",
    "- Reduce feed-in tariff to zero, but still allow exports to the grid (for zero compensation).\n",
    "- Make the household autarkic and disconnect it from the grid (both import and export).\n",
    "- Reduce the gas price.\n",
    "- Reduce the heat demand to mimic building renovation measure for higher energy efficiency.\n",
    "- Remove the battery electric vehicle.\n",
    "- Allow hybrid heat supply with heat pumps and a gas boiler as a backup by removing the `p_min_pu` attribute for the gas boiler.\n",
    "\n",
    "\n",
    "**Feel free to explore other ideas as well!**"
   ]
  }
 ],
 "metadata": {
  "kernelspec": {
   "display_name": "sommerakademie-oxford (3.12.7)",
   "language": "python",
   "name": "python3"
  },
  "language_info": {
   "codemirror_mode": {
    "name": "ipython",
    "version": 3
   },
   "file_extension": ".py",
   "mimetype": "text/x-python",
   "name": "python",
   "nbconvert_exporter": "python",
   "pygments_lexer": "ipython3",
   "version": "3.12.7"
  }
 },
 "nbformat": 4,
 "nbformat_minor": 5
}
