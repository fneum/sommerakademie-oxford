{
 "cells": [
  {
   "cell_type": "markdown",
   "metadata": {},
   "source": [
    "# Basics `pandas`"
   ]
  },
  {
   "cell_type": "markdown",
   "metadata": {},
   "source": [
    ":::{note}\n",
    "If you have not yet set up Python on your computer, you can execute this tutorial in your browser via [Google Colab](https://colab.research.google.com/). Click on the rocket in the top right corner and launch \"Colab\". If that doesn't work download the `.ipynb` file and import it in [Google Colab](https://colab.research.google.com/).\n",
    "Then install `pandas` and `numpy` by executing the following command in a Jupyter cell at the top of the notebook.\n",
    "\n",
    "```sh\n",
    "!pip install -q pandas numpy\n",
    "```\n",
    ":::"
   ]
  },
  {
   "cell_type": "markdown",
   "metadata": {},
   "source": [
    "[Pandas](http://pandas.pydata.org/) is a an open source library providing tabular data structures and data analysis tools. In other words, if you can imagine the data in an Excel spreadsheet, then Pandas is the tool for the job."
   ]
  },
  {
   "cell_type": "markdown",
   "metadata": {},
   "source": [
    "<img src=\"https://media.geeksforgeeks.org/wp-content/cdn-uploads/creating_dataframe1.png\" width=\"720px\" />"
   ]
  },
  {
   "cell_type": "markdown",
   "metadata": {},
   "source": [
    ":::{note}\n",
    "Documentation for this package is available at https://pandas.pydata.org/docs/.\n",
    ":::"
   ]
  },
  {
   "cell_type": "markdown",
   "metadata": {},
   "source": [
    "## Package Imports\n",
    "\n",
    "This will be our first experience with _importing_ a package.\n",
    "\n",
    "Usually we import `pandas` with the _alias_ `pd`.\n",
    "\n",
    "We might also need `numpy`, Python's main library for numerical computations."
   ]
  },
  {
   "cell_type": "code",
   "execution_count": 2,
   "metadata": {},
   "outputs": [],
   "source": [
    "import pandas as pd\n",
    "import numpy as np\n",
    "import plotly.io as pio\n",
    "import plotly.offline as py\n",
    "pd.options.plotting.backend = \"plotly\""
   ]
  },
  {
   "cell_type": "markdown",
   "metadata": {
    "tags": []
   },
   "source": [
    "## Series\n",
    "\n",
    "A Series represents a one-dimensional array of data. It is similar to a dictionary consisting of an **index** and **values**, but has more functions. \n",
    "\n",
    ":::{note}\n",
    "Example data on Germany's final six nuclear power plants is from [Wikipedia](https://en.wikipedia.org/wiki/List_of_power_stations_in_Germany#Nuclear).\n",
    ":::"
   ]
  },
  {
   "cell_type": "code",
   "execution_count": 3,
   "metadata": {},
   "outputs": [
    {
     "data": {
      "text/plain": [
       "Neckarwestheim    1269\n",
       "Isar 2            1365\n",
       "Emsland           1290\n",
       "dtype: int64"
      ]
     },
     "execution_count": 3,
     "metadata": {},
     "output_type": "execute_result"
    }
   ],
   "source": [
    "dictionary = {\n",
    "    \"Neckarwestheim\": 1269,\n",
    "    \"Isar 2\": 1365,\n",
    "    \"Emsland\": 1290,\n",
    "}\n",
    "s = pd.Series(dictionary)\n",
    "s"
   ]
  },
  {
   "cell_type": "markdown",
   "metadata": {},
   "source": [
    "Arithmetic operations can be applied to the whole `pd.Series`."
   ]
  },
  {
   "cell_type": "code",
   "execution_count": 4,
   "metadata": {},
   "outputs": [
    {
     "data": {
      "text/plain": [
       "Neckarwestheim    35.623026\n",
       "Isar 2            36.945906\n",
       "Emsland           35.916570\n",
       "dtype: float64"
      ]
     },
     "execution_count": 4,
     "metadata": {},
     "output_type": "execute_result"
    }
   ],
   "source": [
    "s**0.5"
   ]
  },
  {
   "cell_type": "markdown",
   "metadata": {},
   "source": [
    "We can access the underlying index object if we need to:"
   ]
  },
  {
   "cell_type": "code",
   "execution_count": 5,
   "metadata": {},
   "outputs": [
    {
     "data": {
      "text/plain": [
       "Index(['Neckarwestheim', 'Isar 2', 'Emsland'], dtype='object')"
      ]
     },
     "execution_count": 5,
     "metadata": {},
     "output_type": "execute_result"
    }
   ],
   "source": [
    "s.index"
   ]
  },
  {
   "cell_type": "markdown",
   "metadata": {},
   "source": [
    "We can get values back out using the index via the `.loc` attribute"
   ]
  },
  {
   "cell_type": "code",
   "execution_count": 6,
   "metadata": {},
   "outputs": [
    {
     "data": {
      "text/plain": [
       "np.int64(1365)"
      ]
     },
     "execution_count": 6,
     "metadata": {},
     "output_type": "execute_result"
    }
   ],
   "source": [
    "s.loc[\"Isar 2\"]"
   ]
  },
  {
   "cell_type": "markdown",
   "metadata": {},
   "source": [
    "We can pass a list or array to loc to get multiple rows back:"
   ]
  },
  {
   "cell_type": "code",
   "execution_count": 7,
   "metadata": {},
   "outputs": [
    {
     "data": {
      "text/plain": [
       "Neckarwestheim    1269\n",
       "Emsland           1290\n",
       "dtype: int64"
      ]
     },
     "execution_count": 7,
     "metadata": {},
     "output_type": "execute_result"
    }
   ],
   "source": [
    "s.loc[[\"Neckarwestheim\", \"Emsland\"]]"
   ]
  },
  {
   "cell_type": "markdown",
   "metadata": {},
   "source": [
    "## DataFrame\n",
    "\n",
    "Series are limited to a single **column**. A more useful Pandas data structure is the **DataFrame**. A DataFrame is basically a bunch of series that share the same index."
   ]
  },
  {
   "cell_type": "code",
   "execution_count": 8,
   "metadata": {},
   "outputs": [
    {
     "data": {
      "text/html": [
       "<div>\n",
       "<style scoped>\n",
       "    .dataframe tbody tr th:only-of-type {\n",
       "        vertical-align: middle;\n",
       "    }\n",
       "\n",
       "    .dataframe tbody tr th {\n",
       "        vertical-align: top;\n",
       "    }\n",
       "\n",
       "    .dataframe thead th {\n",
       "        text-align: right;\n",
       "    }\n",
       "</style>\n",
       "<table border=\"1\" class=\"dataframe\">\n",
       "  <thead>\n",
       "    <tr style=\"text-align: right;\">\n",
       "      <th></th>\n",
       "      <th>capacity</th>\n",
       "      <th>type</th>\n",
       "      <th>start_year</th>\n",
       "      <th>end_year</th>\n",
       "    </tr>\n",
       "  </thead>\n",
       "  <tbody>\n",
       "    <tr>\n",
       "      <th>Neckarwestheim</th>\n",
       "      <td>1269</td>\n",
       "      <td>PWR</td>\n",
       "      <td>1989</td>\n",
       "      <td>NaN</td>\n",
       "    </tr>\n",
       "    <tr>\n",
       "      <th>Isar 2</th>\n",
       "      <td>1365</td>\n",
       "      <td>PWR</td>\n",
       "      <td>1988</td>\n",
       "      <td>NaN</td>\n",
       "    </tr>\n",
       "    <tr>\n",
       "      <th>Emsland</th>\n",
       "      <td>1290</td>\n",
       "      <td>PWR</td>\n",
       "      <td>1988</td>\n",
       "      <td>NaN</td>\n",
       "    </tr>\n",
       "  </tbody>\n",
       "</table>\n",
       "</div>"
      ],
      "text/plain": [
       "                capacity type  start_year  end_year\n",
       "Neckarwestheim      1269  PWR        1989       NaN\n",
       "Isar 2              1365  PWR        1988       NaN\n",
       "Emsland             1290  PWR        1988       NaN"
      ]
     },
     "execution_count": 8,
     "metadata": {},
     "output_type": "execute_result"
    }
   ],
   "source": [
    "data = {\n",
    "    \"capacity\": [1269, 1365, 1290],  # MW\n",
    "    \"type\": [\"PWR\", \"PWR\", \"PWR\"],\n",
    "    \"start_year\": [1989, 1988, 1988],\n",
    "    \"end_year\": [np.nan, np.nan, np.nan],\n",
    "}\n",
    "df = pd.DataFrame(data, index=[\"Neckarwestheim\", \"Isar 2\", \"Emsland\"])\n",
    "df"
   ]
  },
  {
   "cell_type": "markdown",
   "metadata": {},
   "source": [
    "A wide range of statistical functions are available on both Series and DataFrames."
   ]
  },
  {
   "cell_type": "code",
   "execution_count": 9,
   "metadata": {},
   "outputs": [
    {
     "data": {
      "text/plain": [
       "capacity      1269\n",
       "type           PWR\n",
       "start_year    1988\n",
       "end_year       NaN\n",
       "dtype: object"
      ]
     },
     "execution_count": 9,
     "metadata": {},
     "output_type": "execute_result"
    }
   ],
   "source": [
    "df.min()"
   ]
  },
  {
   "cell_type": "markdown",
   "metadata": {},
   "source": [
    "We can get a single column as a Series using python's getitem syntax on the DataFrame object."
   ]
  },
  {
   "cell_type": "code",
   "execution_count": 10,
   "metadata": {},
   "outputs": [
    {
     "data": {
      "text/plain": [
       "Neckarwestheim    1269\n",
       "Isar 2            1365\n",
       "Emsland           1290\n",
       "Name: capacity, dtype: int64"
      ]
     },
     "execution_count": 10,
     "metadata": {},
     "output_type": "execute_result"
    }
   ],
   "source": [
    "df[\"capacity\"]"
   ]
  },
  {
   "cell_type": "markdown",
   "metadata": {},
   "source": [
    "Indexing works very similar to series"
   ]
  },
  {
   "cell_type": "code",
   "execution_count": 11,
   "metadata": {},
   "outputs": [
    {
     "data": {
      "text/plain": [
       "capacity      1290\n",
       "type           PWR\n",
       "start_year    1988\n",
       "end_year       NaN\n",
       "Name: Emsland, dtype: object"
      ]
     },
     "execution_count": 11,
     "metadata": {},
     "output_type": "execute_result"
    }
   ],
   "source": [
    "df.loc[\"Emsland\"]"
   ]
  },
  {
   "cell_type": "markdown",
   "metadata": {},
   "source": [
    "But we can also specify the column(s) and row(s) we want to access"
   ]
  },
  {
   "cell_type": "code",
   "execution_count": 12,
   "metadata": {},
   "outputs": [
    {
     "data": {
      "text/plain": [
       "np.int64(1988)"
      ]
     },
     "execution_count": 12,
     "metadata": {},
     "output_type": "execute_result"
    }
   ],
   "source": [
    "df.at[\"Emsland\", \"start_year\"]"
   ]
  },
  {
   "cell_type": "markdown",
   "metadata": {},
   "source": [
    "We can also add new columns to the DataFrame:"
   ]
  },
  {
   "cell_type": "code",
   "execution_count": 13,
   "metadata": {},
   "outputs": [
    {
     "data": {
      "text/html": [
       "<div>\n",
       "<style scoped>\n",
       "    .dataframe tbody tr th:only-of-type {\n",
       "        vertical-align: middle;\n",
       "    }\n",
       "\n",
       "    .dataframe tbody tr th {\n",
       "        vertical-align: top;\n",
       "    }\n",
       "\n",
       "    .dataframe thead th {\n",
       "        text-align: right;\n",
       "    }\n",
       "</style>\n",
       "<table border=\"1\" class=\"dataframe\">\n",
       "  <thead>\n",
       "    <tr style=\"text-align: right;\">\n",
       "      <th></th>\n",
       "      <th>capacity</th>\n",
       "      <th>type</th>\n",
       "      <th>start_year</th>\n",
       "      <th>end_year</th>\n",
       "      <th>reduced_capacity</th>\n",
       "    </tr>\n",
       "  </thead>\n",
       "  <tbody>\n",
       "    <tr>\n",
       "      <th>Neckarwestheim</th>\n",
       "      <td>1269</td>\n",
       "      <td>PWR</td>\n",
       "      <td>1989</td>\n",
       "      <td>NaN</td>\n",
       "      <td>1015.2</td>\n",
       "    </tr>\n",
       "    <tr>\n",
       "      <th>Isar 2</th>\n",
       "      <td>1365</td>\n",
       "      <td>PWR</td>\n",
       "      <td>1988</td>\n",
       "      <td>NaN</td>\n",
       "      <td>1092.0</td>\n",
       "    </tr>\n",
       "    <tr>\n",
       "      <th>Emsland</th>\n",
       "      <td>1290</td>\n",
       "      <td>PWR</td>\n",
       "      <td>1988</td>\n",
       "      <td>NaN</td>\n",
       "      <td>1032.0</td>\n",
       "    </tr>\n",
       "  </tbody>\n",
       "</table>\n",
       "</div>"
      ],
      "text/plain": [
       "                capacity type  start_year  end_year  reduced_capacity\n",
       "Neckarwestheim      1269  PWR        1989       NaN            1015.2\n",
       "Isar 2              1365  PWR        1988       NaN            1092.0\n",
       "Emsland             1290  PWR        1988       NaN            1032.0"
      ]
     },
     "execution_count": 13,
     "metadata": {},
     "output_type": "execute_result"
    }
   ],
   "source": [
    "df[\"reduced_capacity\"] = df.capacity * 0.8\n",
    "df"
   ]
  },
  {
   "cell_type": "markdown",
   "metadata": {},
   "source": [
    "## Sorting Data"
   ]
  },
  {
   "cell_type": "markdown",
   "metadata": {},
   "source": [
    "We can also sort the entries in dataframes, e.g. alphabetically by index or numerically by column values"
   ]
  },
  {
   "cell_type": "code",
   "execution_count": 14,
   "metadata": {},
   "outputs": [
    {
     "data": {
      "text/html": [
       "<div>\n",
       "<style scoped>\n",
       "    .dataframe tbody tr th:only-of-type {\n",
       "        vertical-align: middle;\n",
       "    }\n",
       "\n",
       "    .dataframe tbody tr th {\n",
       "        vertical-align: top;\n",
       "    }\n",
       "\n",
       "    .dataframe thead th {\n",
       "        text-align: right;\n",
       "    }\n",
       "</style>\n",
       "<table border=\"1\" class=\"dataframe\">\n",
       "  <thead>\n",
       "    <tr style=\"text-align: right;\">\n",
       "      <th></th>\n",
       "      <th>capacity</th>\n",
       "      <th>type</th>\n",
       "      <th>start_year</th>\n",
       "      <th>end_year</th>\n",
       "      <th>reduced_capacity</th>\n",
       "    </tr>\n",
       "  </thead>\n",
       "  <tbody>\n",
       "    <tr>\n",
       "      <th>Emsland</th>\n",
       "      <td>1290</td>\n",
       "      <td>PWR</td>\n",
       "      <td>1988</td>\n",
       "      <td>NaN</td>\n",
       "      <td>1032.0</td>\n",
       "    </tr>\n",
       "    <tr>\n",
       "      <th>Isar 2</th>\n",
       "      <td>1365</td>\n",
       "      <td>PWR</td>\n",
       "      <td>1988</td>\n",
       "      <td>NaN</td>\n",
       "      <td>1092.0</td>\n",
       "    </tr>\n",
       "    <tr>\n",
       "      <th>Neckarwestheim</th>\n",
       "      <td>1269</td>\n",
       "      <td>PWR</td>\n",
       "      <td>1989</td>\n",
       "      <td>NaN</td>\n",
       "      <td>1015.2</td>\n",
       "    </tr>\n",
       "  </tbody>\n",
       "</table>\n",
       "</div>"
      ],
      "text/plain": [
       "                capacity type  start_year  end_year  reduced_capacity\n",
       "Emsland             1290  PWR        1988       NaN            1032.0\n",
       "Isar 2              1365  PWR        1988       NaN            1092.0\n",
       "Neckarwestheim      1269  PWR        1989       NaN            1015.2"
      ]
     },
     "execution_count": 14,
     "metadata": {},
     "output_type": "execute_result"
    }
   ],
   "source": [
    "df.sort_index()"
   ]
  },
  {
   "cell_type": "code",
   "execution_count": 15,
   "metadata": {},
   "outputs": [
    {
     "data": {
      "text/html": [
       "<div>\n",
       "<style scoped>\n",
       "    .dataframe tbody tr th:only-of-type {\n",
       "        vertical-align: middle;\n",
       "    }\n",
       "\n",
       "    .dataframe tbody tr th {\n",
       "        vertical-align: top;\n",
       "    }\n",
       "\n",
       "    .dataframe thead th {\n",
       "        text-align: right;\n",
       "    }\n",
       "</style>\n",
       "<table border=\"1\" class=\"dataframe\">\n",
       "  <thead>\n",
       "    <tr style=\"text-align: right;\">\n",
       "      <th></th>\n",
       "      <th>capacity</th>\n",
       "      <th>type</th>\n",
       "      <th>start_year</th>\n",
       "      <th>end_year</th>\n",
       "      <th>reduced_capacity</th>\n",
       "    </tr>\n",
       "  </thead>\n",
       "  <tbody>\n",
       "    <tr>\n",
       "      <th>Neckarwestheim</th>\n",
       "      <td>1269</td>\n",
       "      <td>PWR</td>\n",
       "      <td>1989</td>\n",
       "      <td>NaN</td>\n",
       "      <td>1015.2</td>\n",
       "    </tr>\n",
       "    <tr>\n",
       "      <th>Emsland</th>\n",
       "      <td>1290</td>\n",
       "      <td>PWR</td>\n",
       "      <td>1988</td>\n",
       "      <td>NaN</td>\n",
       "      <td>1032.0</td>\n",
       "    </tr>\n",
       "    <tr>\n",
       "      <th>Isar 2</th>\n",
       "      <td>1365</td>\n",
       "      <td>PWR</td>\n",
       "      <td>1988</td>\n",
       "      <td>NaN</td>\n",
       "      <td>1092.0</td>\n",
       "    </tr>\n",
       "  </tbody>\n",
       "</table>\n",
       "</div>"
      ],
      "text/plain": [
       "                capacity type  start_year  end_year  reduced_capacity\n",
       "Neckarwestheim      1269  PWR        1989       NaN            1015.2\n",
       "Emsland             1290  PWR        1988       NaN            1032.0\n",
       "Isar 2              1365  PWR        1988       NaN            1092.0"
      ]
     },
     "execution_count": 15,
     "metadata": {},
     "output_type": "execute_result"
    }
   ],
   "source": [
    "df.sort_values(by=\"capacity\", ascending=True)"
   ]
  },
  {
   "cell_type": "markdown",
   "metadata": {
    "tags": []
   },
   "source": [
    "## Filtering Data"
   ]
  },
  {
   "cell_type": "markdown",
   "metadata": {},
   "source": [
    "We can also filter a DataFrame using a boolean series obtained from a condition. This is very useful to build subsets of the DataFrame."
   ]
  },
  {
   "cell_type": "code",
   "execution_count": 16,
   "metadata": {},
   "outputs": [
    {
     "data": {
      "text/plain": [
       "Neckarwestheim    False\n",
       "Isar 2             True\n",
       "Emsland           False\n",
       "Name: capacity, dtype: bool"
      ]
     },
     "execution_count": 16,
     "metadata": {},
     "output_type": "execute_result"
    }
   ],
   "source": [
    "df.capacity > 1300"
   ]
  },
  {
   "cell_type": "code",
   "execution_count": 17,
   "metadata": {},
   "outputs": [
    {
     "data": {
      "text/html": [
       "<div>\n",
       "<style scoped>\n",
       "    .dataframe tbody tr th:only-of-type {\n",
       "        vertical-align: middle;\n",
       "    }\n",
       "\n",
       "    .dataframe tbody tr th {\n",
       "        vertical-align: top;\n",
       "    }\n",
       "\n",
       "    .dataframe thead th {\n",
       "        text-align: right;\n",
       "    }\n",
       "</style>\n",
       "<table border=\"1\" class=\"dataframe\">\n",
       "  <thead>\n",
       "    <tr style=\"text-align: right;\">\n",
       "      <th></th>\n",
       "      <th>capacity</th>\n",
       "      <th>type</th>\n",
       "      <th>start_year</th>\n",
       "      <th>end_year</th>\n",
       "      <th>reduced_capacity</th>\n",
       "    </tr>\n",
       "  </thead>\n",
       "  <tbody>\n",
       "    <tr>\n",
       "      <th>Isar 2</th>\n",
       "      <td>1365</td>\n",
       "      <td>PWR</td>\n",
       "      <td>1988</td>\n",
       "      <td>NaN</td>\n",
       "      <td>1092.0</td>\n",
       "    </tr>\n",
       "  </tbody>\n",
       "</table>\n",
       "</div>"
      ],
      "text/plain": [
       "        capacity type  start_year  end_year  reduced_capacity\n",
       "Isar 2      1365  PWR        1988       NaN            1092.0"
      ]
     },
     "execution_count": 17,
     "metadata": {},
     "output_type": "execute_result"
    }
   ],
   "source": [
    "df[df.capacity > 1300]"
   ]
  },
  {
   "cell_type": "markdown",
   "metadata": {},
   "source": [
    "## Modifying Values\n",
    "\n",
    "In many cases, we want to modify values in a dataframe based on some rule. To modify values, we need to use `.loc` or `.iloc`"
   ]
  },
  {
   "cell_type": "code",
   "execution_count": 18,
   "metadata": {},
   "outputs": [
    {
     "data": {
      "text/html": [
       "<div>\n",
       "<style scoped>\n",
       "    .dataframe tbody tr th:only-of-type {\n",
       "        vertical-align: middle;\n",
       "    }\n",
       "\n",
       "    .dataframe tbody tr th {\n",
       "        vertical-align: top;\n",
       "    }\n",
       "\n",
       "    .dataframe thead th {\n",
       "        text-align: right;\n",
       "    }\n",
       "</style>\n",
       "<table border=\"1\" class=\"dataframe\">\n",
       "  <thead>\n",
       "    <tr style=\"text-align: right;\">\n",
       "      <th></th>\n",
       "      <th>capacity</th>\n",
       "      <th>type</th>\n",
       "      <th>start_year</th>\n",
       "      <th>end_year</th>\n",
       "      <th>reduced_capacity</th>\n",
       "    </tr>\n",
       "  </thead>\n",
       "  <tbody>\n",
       "    <tr>\n",
       "      <th>Neckarwestheim</th>\n",
       "      <td>1269</td>\n",
       "      <td>PWR</td>\n",
       "      <td>1989</td>\n",
       "      <td>NaN</td>\n",
       "      <td>1015.2</td>\n",
       "    </tr>\n",
       "    <tr>\n",
       "      <th>Isar 2</th>\n",
       "      <td>1366</td>\n",
       "      <td>PWR</td>\n",
       "      <td>1988</td>\n",
       "      <td>NaN</td>\n",
       "      <td>1092.0</td>\n",
       "    </tr>\n",
       "    <tr>\n",
       "      <th>Emsland</th>\n",
       "      <td>1290</td>\n",
       "      <td>PWR</td>\n",
       "      <td>1988</td>\n",
       "      <td>NaN</td>\n",
       "      <td>1032.0</td>\n",
       "    </tr>\n",
       "  </tbody>\n",
       "</table>\n",
       "</div>"
      ],
      "text/plain": [
       "                capacity type  start_year  end_year  reduced_capacity\n",
       "Neckarwestheim      1269  PWR        1989       NaN            1015.2\n",
       "Isar 2              1366  PWR        1988       NaN            1092.0\n",
       "Emsland             1290  PWR        1988       NaN            1032.0"
      ]
     },
     "execution_count": 18,
     "metadata": {},
     "output_type": "execute_result"
    }
   ],
   "source": [
    "df.loc[\"Isar 2\", \"capacity\"] = 1366\n",
    "df"
   ]
  },
  {
   "cell_type": "markdown",
   "metadata": {},
   "source": [
    "## Time Series\n",
    "\n",
    "Time indexes are great when handling time-dependent data.\n",
    "\n",
    "Let's first read some time series data, using the `pd.read_csv()` function, which takes a local file path or a link to an online resource.\n",
    "\n",
    "The example data hourly time series for Germany in 2015 for:\n",
    "    \n",
    "1. electricity demand from [OPSD](https://open-power-system-data.org/) in GW\n",
    "2. onshore wind capacity factors from [renewables.ninja](https://www.renewables.ninja/) in per-unit of installed capacity\n",
    "3. offshore wind capacity factors from [renewables.ninja](https://www.renewables.ninja/) in per-unit of installed capacity\n",
    "4. solar PV capacity factors from [renewables.ninja](https://www.renewables.ninja/) in per-unit of installed capacity\n",
    "5. electricity day-ahead spot market prices in €/MWh from EPEX Spot zone DE/AT/LU retrieved via [SMARD platform](https://www.smard.de/home)"
   ]
  },
  {
   "cell_type": "code",
   "execution_count": 19,
   "metadata": {},
   "outputs": [
    {
     "data": {
      "text/plain": [
       "DatetimeIndex(['2015-01-01 00:00:00', '2015-01-01 01:00:00',\n",
       "               '2015-01-01 02:00:00', '2015-01-01 03:00:00',\n",
       "               '2015-01-01 04:00:00'],\n",
       "              dtype='datetime64[ns]', freq=None)"
      ]
     },
     "execution_count": 19,
     "metadata": {},
     "output_type": "execute_result"
    }
   ],
   "source": [
    "url = (\n",
    "    \"https://tubcloud.tu-berlin.de/s/pKttFadrbTKSJKF/download/time-series-lecture-2.csv\"\n",
    ")\n",
    "ts = pd.read_csv(url, index_col=0, parse_dates=True)\n",
    "ts.index[:5]"
   ]
  },
  {
   "cell_type": "markdown",
   "metadata": {},
   "source": [
    "We can use Python's _slicing_ notation inside `.loc` to select a date range, and then use the built-in plotting feature of Pandas:"
   ]
  },
  {
   "cell_type": "code",
   "execution_count": 20,
   "metadata": {},
   "outputs": [
    {
     "data": {
      "application/vnd.plotly.v1+json": {
       "config": {
        "plotlyServerURL": "https://plot.ly"
       },
       "data": [
        {
         "hovertemplate": "variable=onwind<br>index=%{x}<br>value=%{y}<extra></extra>",
         "legendgroup": "onwind",
         "line": {
          "color": "#636efa",
          "dash": "solid"
         },
         "marker": {
          "symbol": "circle"
         },
         "mode": "lines",
         "name": "onwind",
         "showlegend": true,
         "type": "scattergl",
         "x": [
          "2015-01-01T00:00:00",
          "2015-01-01T01:00:00",
          "2015-01-01T02:00:00",
          "2015-01-01T03:00:00",
          "2015-01-01T04:00:00",
          "2015-01-01T05:00:00",
          "2015-01-01T06:00:00",
          "2015-01-01T07:00:00",
          "2015-01-01T08:00:00",
          "2015-01-01T09:00:00",
          "2015-01-01T10:00:00",
          "2015-01-01T11:00:00",
          "2015-01-01T12:00:00",
          "2015-01-01T13:00:00",
          "2015-01-01T14:00:00",
          "2015-01-01T15:00:00",
          "2015-01-01T16:00:00",
          "2015-01-01T17:00:00",
          "2015-01-01T18:00:00",
          "2015-01-01T19:00:00",
          "2015-01-01T20:00:00",
          "2015-01-01T21:00:00",
          "2015-01-01T22:00:00",
          "2015-01-01T23:00:00",
          "2015-01-02T00:00:00",
          "2015-01-02T01:00:00",
          "2015-01-02T02:00:00",
          "2015-01-02T03:00:00",
          "2015-01-02T04:00:00",
          "2015-01-02T05:00:00",
          "2015-01-02T06:00:00",
          "2015-01-02T07:00:00",
          "2015-01-02T08:00:00",
          "2015-01-02T09:00:00",
          "2015-01-02T10:00:00",
          "2015-01-02T11:00:00",
          "2015-01-02T12:00:00",
          "2015-01-02T13:00:00",
          "2015-01-02T14:00:00",
          "2015-01-02T15:00:00",
          "2015-01-02T16:00:00",
          "2015-01-02T17:00:00",
          "2015-01-02T18:00:00",
          "2015-01-02T19:00:00",
          "2015-01-02T20:00:00",
          "2015-01-02T21:00:00",
          "2015-01-02T22:00:00",
          "2015-01-02T23:00:00",
          "2015-01-03T00:00:00",
          "2015-01-03T01:00:00",
          "2015-01-03T02:00:00",
          "2015-01-03T03:00:00",
          "2015-01-03T04:00:00",
          "2015-01-03T05:00:00",
          "2015-01-03T06:00:00",
          "2015-01-03T07:00:00",
          "2015-01-03T08:00:00",
          "2015-01-03T09:00:00",
          "2015-01-03T10:00:00",
          "2015-01-03T11:00:00",
          "2015-01-03T12:00:00",
          "2015-01-03T13:00:00",
          "2015-01-03T14:00:00",
          "2015-01-03T15:00:00",
          "2015-01-03T16:00:00",
          "2015-01-03T17:00:00",
          "2015-01-03T18:00:00",
          "2015-01-03T19:00:00",
          "2015-01-03T20:00:00",
          "2015-01-03T21:00:00",
          "2015-01-03T22:00:00",
          "2015-01-03T23:00:00",
          "2015-01-04T00:00:00",
          "2015-01-04T01:00:00",
          "2015-01-04T02:00:00",
          "2015-01-04T03:00:00",
          "2015-01-04T04:00:00",
          "2015-01-04T05:00:00",
          "2015-01-04T06:00:00",
          "2015-01-04T07:00:00",
          "2015-01-04T08:00:00",
          "2015-01-04T09:00:00",
          "2015-01-04T10:00:00",
          "2015-01-04T11:00:00",
          "2015-01-04T12:00:00",
          "2015-01-04T13:00:00",
          "2015-01-04T14:00:00",
          "2015-01-04T15:00:00",
          "2015-01-04T16:00:00",
          "2015-01-04T17:00:00",
          "2015-01-04T18:00:00",
          "2015-01-04T19:00:00",
          "2015-01-04T20:00:00",
          "2015-01-04T21:00:00",
          "2015-01-04T22:00:00",
          "2015-01-04T23:00:00",
          "2015-01-05T00:00:00",
          "2015-01-05T01:00:00",
          "2015-01-05T02:00:00",
          "2015-01-05T03:00:00",
          "2015-01-05T04:00:00",
          "2015-01-05T05:00:00",
          "2015-01-05T06:00:00",
          "2015-01-05T07:00:00",
          "2015-01-05T08:00:00",
          "2015-01-05T09:00:00",
          "2015-01-05T10:00:00",
          "2015-01-05T11:00:00",
          "2015-01-05T12:00:00",
          "2015-01-05T13:00:00",
          "2015-01-05T14:00:00",
          "2015-01-05T15:00:00",
          "2015-01-05T16:00:00",
          "2015-01-05T17:00:00",
          "2015-01-05T18:00:00",
          "2015-01-05T19:00:00",
          "2015-01-05T20:00:00",
          "2015-01-05T21:00:00",
          "2015-01-05T22:00:00",
          "2015-01-05T23:00:00",
          "2015-01-06T00:00:00",
          "2015-01-06T01:00:00",
          "2015-01-06T02:00:00",
          "2015-01-06T03:00:00",
          "2015-01-06T04:00:00",
          "2015-01-06T05:00:00",
          "2015-01-06T06:00:00",
          "2015-01-06T07:00:00",
          "2015-01-06T08:00:00",
          "2015-01-06T09:00:00",
          "2015-01-06T10:00:00",
          "2015-01-06T11:00:00",
          "2015-01-06T12:00:00",
          "2015-01-06T13:00:00",
          "2015-01-06T14:00:00",
          "2015-01-06T15:00:00",
          "2015-01-06T16:00:00",
          "2015-01-06T17:00:00",
          "2015-01-06T18:00:00",
          "2015-01-06T19:00:00",
          "2015-01-06T20:00:00",
          "2015-01-06T21:00:00",
          "2015-01-06T22:00:00",
          "2015-01-06T23:00:00",
          "2015-01-07T00:00:00",
          "2015-01-07T01:00:00",
          "2015-01-07T02:00:00",
          "2015-01-07T03:00:00",
          "2015-01-07T04:00:00",
          "2015-01-07T05:00:00",
          "2015-01-07T06:00:00",
          "2015-01-07T07:00:00",
          "2015-01-07T08:00:00",
          "2015-01-07T09:00:00",
          "2015-01-07T10:00:00",
          "2015-01-07T11:00:00",
          "2015-01-07T12:00:00",
          "2015-01-07T13:00:00",
          "2015-01-07T14:00:00",
          "2015-01-07T15:00:00",
          "2015-01-07T16:00:00",
          "2015-01-07T17:00:00",
          "2015-01-07T18:00:00",
          "2015-01-07T19:00:00",
          "2015-01-07T20:00:00",
          "2015-01-07T21:00:00",
          "2015-01-07T22:00:00",
          "2015-01-07T23:00:00",
          "2015-01-08T00:00:00",
          "2015-01-08T01:00:00",
          "2015-01-08T02:00:00",
          "2015-01-08T03:00:00",
          "2015-01-08T04:00:00",
          "2015-01-08T05:00:00",
          "2015-01-08T06:00:00",
          "2015-01-08T07:00:00",
          "2015-01-08T08:00:00",
          "2015-01-08T09:00:00",
          "2015-01-08T10:00:00",
          "2015-01-08T11:00:00",
          "2015-01-08T12:00:00",
          "2015-01-08T13:00:00",
          "2015-01-08T14:00:00",
          "2015-01-08T15:00:00",
          "2015-01-08T16:00:00",
          "2015-01-08T17:00:00",
          "2015-01-08T18:00:00",
          "2015-01-08T19:00:00",
          "2015-01-08T20:00:00",
          "2015-01-08T21:00:00",
          "2015-01-08T22:00:00",
          "2015-01-08T23:00:00",
          "2015-01-09T00:00:00",
          "2015-01-09T01:00:00",
          "2015-01-09T02:00:00",
          "2015-01-09T03:00:00",
          "2015-01-09T04:00:00",
          "2015-01-09T05:00:00",
          "2015-01-09T06:00:00",
          "2015-01-09T07:00:00",
          "2015-01-09T08:00:00",
          "2015-01-09T09:00:00",
          "2015-01-09T10:00:00",
          "2015-01-09T11:00:00",
          "2015-01-09T12:00:00",
          "2015-01-09T13:00:00",
          "2015-01-09T14:00:00",
          "2015-01-09T15:00:00",
          "2015-01-09T16:00:00",
          "2015-01-09T17:00:00",
          "2015-01-09T18:00:00",
          "2015-01-09T19:00:00",
          "2015-01-09T20:00:00",
          "2015-01-09T21:00:00",
          "2015-01-09T22:00:00",
          "2015-01-09T23:00:00",
          "2015-01-10T00:00:00",
          "2015-01-10T01:00:00",
          "2015-01-10T02:00:00",
          "2015-01-10T03:00:00",
          "2015-01-10T04:00:00",
          "2015-01-10T05:00:00",
          "2015-01-10T06:00:00",
          "2015-01-10T07:00:00",
          "2015-01-10T08:00:00",
          "2015-01-10T09:00:00",
          "2015-01-10T10:00:00",
          "2015-01-10T11:00:00",
          "2015-01-10T12:00:00",
          "2015-01-10T13:00:00",
          "2015-01-10T14:00:00",
          "2015-01-10T15:00:00",
          "2015-01-10T16:00:00",
          "2015-01-10T17:00:00",
          "2015-01-10T18:00:00",
          "2015-01-10T19:00:00",
          "2015-01-10T20:00:00",
          "2015-01-10T21:00:00",
          "2015-01-10T22:00:00",
          "2015-01-10T23:00:00",
          "2015-01-11T00:00:00",
          "2015-01-11T01:00:00",
          "2015-01-11T02:00:00",
          "2015-01-11T03:00:00",
          "2015-01-11T04:00:00",
          "2015-01-11T05:00:00",
          "2015-01-11T06:00:00",
          "2015-01-11T07:00:00",
          "2015-01-11T08:00:00",
          "2015-01-11T09:00:00",
          "2015-01-11T10:00:00",
          "2015-01-11T11:00:00",
          "2015-01-11T12:00:00",
          "2015-01-11T13:00:00",
          "2015-01-11T14:00:00",
          "2015-01-11T15:00:00",
          "2015-01-11T16:00:00",
          "2015-01-11T17:00:00",
          "2015-01-11T18:00:00",
          "2015-01-11T19:00:00",
          "2015-01-11T20:00:00",
          "2015-01-11T21:00:00",
          "2015-01-11T22:00:00",
          "2015-01-11T23:00:00",
          "2015-01-12T00:00:00",
          "2015-01-12T01:00:00",
          "2015-01-12T02:00:00",
          "2015-01-12T03:00:00",
          "2015-01-12T04:00:00",
          "2015-01-12T05:00:00",
          "2015-01-12T06:00:00",
          "2015-01-12T07:00:00",
          "2015-01-12T08:00:00",
          "2015-01-12T09:00:00",
          "2015-01-12T10:00:00",
          "2015-01-12T11:00:00",
          "2015-01-12T12:00:00",
          "2015-01-12T13:00:00",
          "2015-01-12T14:00:00",
          "2015-01-12T15:00:00",
          "2015-01-12T16:00:00",
          "2015-01-12T17:00:00",
          "2015-01-12T18:00:00",
          "2015-01-12T19:00:00",
          "2015-01-12T20:00:00",
          "2015-01-12T21:00:00",
          "2015-01-12T22:00:00",
          "2015-01-12T23:00:00",
          "2015-01-13T00:00:00",
          "2015-01-13T01:00:00",
          "2015-01-13T02:00:00",
          "2015-01-13T03:00:00",
          "2015-01-13T04:00:00",
          "2015-01-13T05:00:00",
          "2015-01-13T06:00:00",
          "2015-01-13T07:00:00",
          "2015-01-13T08:00:00",
          "2015-01-13T09:00:00",
          "2015-01-13T10:00:00",
          "2015-01-13T11:00:00",
          "2015-01-13T12:00:00",
          "2015-01-13T13:00:00",
          "2015-01-13T14:00:00",
          "2015-01-13T15:00:00",
          "2015-01-13T16:00:00",
          "2015-01-13T17:00:00",
          "2015-01-13T18:00:00",
          "2015-01-13T19:00:00",
          "2015-01-13T20:00:00",
          "2015-01-13T21:00:00",
          "2015-01-13T22:00:00",
          "2015-01-13T23:00:00",
          "2015-01-14T00:00:00",
          "2015-01-14T01:00:00",
          "2015-01-14T02:00:00",
          "2015-01-14T03:00:00",
          "2015-01-14T04:00:00",
          "2015-01-14T05:00:00",
          "2015-01-14T06:00:00",
          "2015-01-14T07:00:00",
          "2015-01-14T08:00:00",
          "2015-01-14T09:00:00",
          "2015-01-14T10:00:00",
          "2015-01-14T11:00:00",
          "2015-01-14T12:00:00",
          "2015-01-14T13:00:00",
          "2015-01-14T14:00:00",
          "2015-01-14T15:00:00",
          "2015-01-14T16:00:00",
          "2015-01-14T17:00:00",
          "2015-01-14T18:00:00",
          "2015-01-14T19:00:00",
          "2015-01-14T20:00:00",
          "2015-01-14T21:00:00",
          "2015-01-14T22:00:00",
          "2015-01-14T23:00:00",
          "2015-01-15T00:00:00",
          "2015-01-15T01:00:00",
          "2015-01-15T02:00:00",
          "2015-01-15T03:00:00",
          "2015-01-15T04:00:00",
          "2015-01-15T05:00:00",
          "2015-01-15T06:00:00",
          "2015-01-15T07:00:00",
          "2015-01-15T08:00:00",
          "2015-01-15T09:00:00",
          "2015-01-15T10:00:00",
          "2015-01-15T11:00:00",
          "2015-01-15T12:00:00",
          "2015-01-15T13:00:00",
          "2015-01-15T14:00:00",
          "2015-01-15T15:00:00",
          "2015-01-15T16:00:00",
          "2015-01-15T17:00:00",
          "2015-01-15T18:00:00",
          "2015-01-15T19:00:00",
          "2015-01-15T20:00:00",
          "2015-01-15T21:00:00",
          "2015-01-15T22:00:00",
          "2015-01-15T23:00:00",
          "2015-01-16T00:00:00",
          "2015-01-16T01:00:00",
          "2015-01-16T02:00:00",
          "2015-01-16T03:00:00",
          "2015-01-16T04:00:00",
          "2015-01-16T05:00:00",
          "2015-01-16T06:00:00",
          "2015-01-16T07:00:00",
          "2015-01-16T08:00:00",
          "2015-01-16T09:00:00",
          "2015-01-16T10:00:00",
          "2015-01-16T11:00:00",
          "2015-01-16T12:00:00",
          "2015-01-16T13:00:00",
          "2015-01-16T14:00:00",
          "2015-01-16T15:00:00",
          "2015-01-16T16:00:00",
          "2015-01-16T17:00:00",
          "2015-01-16T18:00:00",
          "2015-01-16T19:00:00",
          "2015-01-16T20:00:00",
          "2015-01-16T21:00:00",
          "2015-01-16T22:00:00",
          "2015-01-16T23:00:00",
          "2015-01-17T00:00:00",
          "2015-01-17T01:00:00",
          "2015-01-17T02:00:00",
          "2015-01-17T03:00:00",
          "2015-01-17T04:00:00",
          "2015-01-17T05:00:00",
          "2015-01-17T06:00:00",
          "2015-01-17T07:00:00",
          "2015-01-17T08:00:00",
          "2015-01-17T09:00:00",
          "2015-01-17T10:00:00",
          "2015-01-17T11:00:00",
          "2015-01-17T12:00:00",
          "2015-01-17T13:00:00",
          "2015-01-17T14:00:00",
          "2015-01-17T15:00:00",
          "2015-01-17T16:00:00",
          "2015-01-17T17:00:00",
          "2015-01-17T18:00:00",
          "2015-01-17T19:00:00",
          "2015-01-17T20:00:00",
          "2015-01-17T21:00:00",
          "2015-01-17T22:00:00",
          "2015-01-17T23:00:00",
          "2015-01-18T00:00:00",
          "2015-01-18T01:00:00",
          "2015-01-18T02:00:00",
          "2015-01-18T03:00:00",
          "2015-01-18T04:00:00",
          "2015-01-18T05:00:00",
          "2015-01-18T06:00:00",
          "2015-01-18T07:00:00",
          "2015-01-18T08:00:00",
          "2015-01-18T09:00:00",
          "2015-01-18T10:00:00",
          "2015-01-18T11:00:00",
          "2015-01-18T12:00:00",
          "2015-01-18T13:00:00",
          "2015-01-18T14:00:00",
          "2015-01-18T15:00:00",
          "2015-01-18T16:00:00",
          "2015-01-18T17:00:00",
          "2015-01-18T18:00:00",
          "2015-01-18T19:00:00",
          "2015-01-18T20:00:00",
          "2015-01-18T21:00:00",
          "2015-01-18T22:00:00",
          "2015-01-18T23:00:00",
          "2015-01-19T00:00:00",
          "2015-01-19T01:00:00",
          "2015-01-19T02:00:00",
          "2015-01-19T03:00:00",
          "2015-01-19T04:00:00",
          "2015-01-19T05:00:00",
          "2015-01-19T06:00:00",
          "2015-01-19T07:00:00",
          "2015-01-19T08:00:00",
          "2015-01-19T09:00:00",
          "2015-01-19T10:00:00",
          "2015-01-19T11:00:00",
          "2015-01-19T12:00:00",
          "2015-01-19T13:00:00",
          "2015-01-19T14:00:00",
          "2015-01-19T15:00:00",
          "2015-01-19T16:00:00",
          "2015-01-19T17:00:00",
          "2015-01-19T18:00:00",
          "2015-01-19T19:00:00",
          "2015-01-19T20:00:00",
          "2015-01-19T21:00:00",
          "2015-01-19T22:00:00",
          "2015-01-19T23:00:00",
          "2015-01-20T00:00:00",
          "2015-01-20T01:00:00",
          "2015-01-20T02:00:00",
          "2015-01-20T03:00:00",
          "2015-01-20T04:00:00",
          "2015-01-20T05:00:00",
          "2015-01-20T06:00:00",
          "2015-01-20T07:00:00",
          "2015-01-20T08:00:00",
          "2015-01-20T09:00:00",
          "2015-01-20T10:00:00",
          "2015-01-20T11:00:00",
          "2015-01-20T12:00:00",
          "2015-01-20T13:00:00",
          "2015-01-20T14:00:00",
          "2015-01-20T15:00:00",
          "2015-01-20T16:00:00",
          "2015-01-20T17:00:00",
          "2015-01-20T18:00:00",
          "2015-01-20T19:00:00",
          "2015-01-20T20:00:00",
          "2015-01-20T21:00:00",
          "2015-01-20T22:00:00",
          "2015-01-20T23:00:00",
          "2015-01-21T00:00:00",
          "2015-01-21T01:00:00",
          "2015-01-21T02:00:00",
          "2015-01-21T03:00:00",
          "2015-01-21T04:00:00",
          "2015-01-21T05:00:00",
          "2015-01-21T06:00:00",
          "2015-01-21T07:00:00",
          "2015-01-21T08:00:00",
          "2015-01-21T09:00:00",
          "2015-01-21T10:00:00",
          "2015-01-21T11:00:00",
          "2015-01-21T12:00:00",
          "2015-01-21T13:00:00",
          "2015-01-21T14:00:00",
          "2015-01-21T15:00:00",
          "2015-01-21T16:00:00",
          "2015-01-21T17:00:00",
          "2015-01-21T18:00:00",
          "2015-01-21T19:00:00",
          "2015-01-21T20:00:00",
          "2015-01-21T21:00:00",
          "2015-01-21T22:00:00",
          "2015-01-21T23:00:00",
          "2015-01-22T00:00:00",
          "2015-01-22T01:00:00",
          "2015-01-22T02:00:00",
          "2015-01-22T03:00:00",
          "2015-01-22T04:00:00",
          "2015-01-22T05:00:00",
          "2015-01-22T06:00:00",
          "2015-01-22T07:00:00",
          "2015-01-22T08:00:00",
          "2015-01-22T09:00:00",
          "2015-01-22T10:00:00",
          "2015-01-22T11:00:00",
          "2015-01-22T12:00:00",
          "2015-01-22T13:00:00",
          "2015-01-22T14:00:00",
          "2015-01-22T15:00:00",
          "2015-01-22T16:00:00",
          "2015-01-22T17:00:00",
          "2015-01-22T18:00:00",
          "2015-01-22T19:00:00",
          "2015-01-22T20:00:00",
          "2015-01-22T21:00:00",
          "2015-01-22T22:00:00",
          "2015-01-22T23:00:00",
          "2015-01-23T00:00:00",
          "2015-01-23T01:00:00",
          "2015-01-23T02:00:00",
          "2015-01-23T03:00:00",
          "2015-01-23T04:00:00",
          "2015-01-23T05:00:00",
          "2015-01-23T06:00:00",
          "2015-01-23T07:00:00",
          "2015-01-23T08:00:00",
          "2015-01-23T09:00:00",
          "2015-01-23T10:00:00",
          "2015-01-23T11:00:00",
          "2015-01-23T12:00:00",
          "2015-01-23T13:00:00",
          "2015-01-23T14:00:00",
          "2015-01-23T15:00:00",
          "2015-01-23T16:00:00",
          "2015-01-23T17:00:00",
          "2015-01-23T18:00:00",
          "2015-01-23T19:00:00",
          "2015-01-23T20:00:00",
          "2015-01-23T21:00:00",
          "2015-01-23T22:00:00",
          "2015-01-23T23:00:00",
          "2015-01-24T00:00:00",
          "2015-01-24T01:00:00",
          "2015-01-24T02:00:00",
          "2015-01-24T03:00:00",
          "2015-01-24T04:00:00",
          "2015-01-24T05:00:00",
          "2015-01-24T06:00:00",
          "2015-01-24T07:00:00",
          "2015-01-24T08:00:00",
          "2015-01-24T09:00:00",
          "2015-01-24T10:00:00",
          "2015-01-24T11:00:00",
          "2015-01-24T12:00:00",
          "2015-01-24T13:00:00",
          "2015-01-24T14:00:00",
          "2015-01-24T15:00:00",
          "2015-01-24T16:00:00",
          "2015-01-24T17:00:00",
          "2015-01-24T18:00:00",
          "2015-01-24T19:00:00",
          "2015-01-24T20:00:00",
          "2015-01-24T21:00:00",
          "2015-01-24T22:00:00",
          "2015-01-24T23:00:00",
          "2015-01-25T00:00:00",
          "2015-01-25T01:00:00",
          "2015-01-25T02:00:00",
          "2015-01-25T03:00:00",
          "2015-01-25T04:00:00",
          "2015-01-25T05:00:00",
          "2015-01-25T06:00:00",
          "2015-01-25T07:00:00",
          "2015-01-25T08:00:00",
          "2015-01-25T09:00:00",
          "2015-01-25T10:00:00",
          "2015-01-25T11:00:00",
          "2015-01-25T12:00:00",
          "2015-01-25T13:00:00",
          "2015-01-25T14:00:00",
          "2015-01-25T15:00:00",
          "2015-01-25T16:00:00",
          "2015-01-25T17:00:00",
          "2015-01-25T18:00:00",
          "2015-01-25T19:00:00",
          "2015-01-25T20:00:00",
          "2015-01-25T21:00:00",
          "2015-01-25T22:00:00",
          "2015-01-25T23:00:00",
          "2015-01-26T00:00:00",
          "2015-01-26T01:00:00",
          "2015-01-26T02:00:00",
          "2015-01-26T03:00:00",
          "2015-01-26T04:00:00",
          "2015-01-26T05:00:00",
          "2015-01-26T06:00:00",
          "2015-01-26T07:00:00",
          "2015-01-26T08:00:00",
          "2015-01-26T09:00:00",
          "2015-01-26T10:00:00",
          "2015-01-26T11:00:00",
          "2015-01-26T12:00:00",
          "2015-01-26T13:00:00",
          "2015-01-26T14:00:00",
          "2015-01-26T15:00:00",
          "2015-01-26T16:00:00",
          "2015-01-26T17:00:00",
          "2015-01-26T18:00:00",
          "2015-01-26T19:00:00",
          "2015-01-26T20:00:00",
          "2015-01-26T21:00:00",
          "2015-01-26T22:00:00",
          "2015-01-26T23:00:00",
          "2015-01-27T00:00:00",
          "2015-01-27T01:00:00",
          "2015-01-27T02:00:00",
          "2015-01-27T03:00:00",
          "2015-01-27T04:00:00",
          "2015-01-27T05:00:00",
          "2015-01-27T06:00:00",
          "2015-01-27T07:00:00",
          "2015-01-27T08:00:00",
          "2015-01-27T09:00:00",
          "2015-01-27T10:00:00",
          "2015-01-27T11:00:00",
          "2015-01-27T12:00:00",
          "2015-01-27T13:00:00",
          "2015-01-27T14:00:00",
          "2015-01-27T15:00:00",
          "2015-01-27T16:00:00",
          "2015-01-27T17:00:00",
          "2015-01-27T18:00:00",
          "2015-01-27T19:00:00",
          "2015-01-27T20:00:00",
          "2015-01-27T21:00:00",
          "2015-01-27T22:00:00",
          "2015-01-27T23:00:00",
          "2015-01-28T00:00:00",
          "2015-01-28T01:00:00",
          "2015-01-28T02:00:00",
          "2015-01-28T03:00:00",
          "2015-01-28T04:00:00",
          "2015-01-28T05:00:00",
          "2015-01-28T06:00:00",
          "2015-01-28T07:00:00",
          "2015-01-28T08:00:00",
          "2015-01-28T09:00:00",
          "2015-01-28T10:00:00",
          "2015-01-28T11:00:00",
          "2015-01-28T12:00:00",
          "2015-01-28T13:00:00",
          "2015-01-28T14:00:00",
          "2015-01-28T15:00:00",
          "2015-01-28T16:00:00",
          "2015-01-28T17:00:00",
          "2015-01-28T18:00:00",
          "2015-01-28T19:00:00",
          "2015-01-28T20:00:00",
          "2015-01-28T21:00:00",
          "2015-01-28T22:00:00",
          "2015-01-28T23:00:00",
          "2015-01-29T00:00:00",
          "2015-01-29T01:00:00",
          "2015-01-29T02:00:00",
          "2015-01-29T03:00:00",
          "2015-01-29T04:00:00",
          "2015-01-29T05:00:00",
          "2015-01-29T06:00:00",
          "2015-01-29T07:00:00",
          "2015-01-29T08:00:00",
          "2015-01-29T09:00:00",
          "2015-01-29T10:00:00",
          "2015-01-29T11:00:00",
          "2015-01-29T12:00:00",
          "2015-01-29T13:00:00",
          "2015-01-29T14:00:00",
          "2015-01-29T15:00:00",
          "2015-01-29T16:00:00",
          "2015-01-29T17:00:00",
          "2015-01-29T18:00:00",
          "2015-01-29T19:00:00",
          "2015-01-29T20:00:00",
          "2015-01-29T21:00:00",
          "2015-01-29T22:00:00",
          "2015-01-29T23:00:00",
          "2015-01-30T00:00:00",
          "2015-01-30T01:00:00",
          "2015-01-30T02:00:00",
          "2015-01-30T03:00:00",
          "2015-01-30T04:00:00",
          "2015-01-30T05:00:00",
          "2015-01-30T06:00:00",
          "2015-01-30T07:00:00",
          "2015-01-30T08:00:00",
          "2015-01-30T09:00:00",
          "2015-01-30T10:00:00",
          "2015-01-30T11:00:00",
          "2015-01-30T12:00:00",
          "2015-01-30T13:00:00",
          "2015-01-30T14:00:00",
          "2015-01-30T15:00:00",
          "2015-01-30T16:00:00",
          "2015-01-30T17:00:00",
          "2015-01-30T18:00:00",
          "2015-01-30T19:00:00",
          "2015-01-30T20:00:00",
          "2015-01-30T21:00:00",
          "2015-01-30T22:00:00",
          "2015-01-30T23:00:00",
          "2015-01-31T00:00:00",
          "2015-01-31T01:00:00",
          "2015-01-31T02:00:00",
          "2015-01-31T03:00:00",
          "2015-01-31T04:00:00",
          "2015-01-31T05:00:00",
          "2015-01-31T06:00:00",
          "2015-01-31T07:00:00",
          "2015-01-31T08:00:00",
          "2015-01-31T09:00:00",
          "2015-01-31T10:00:00",
          "2015-01-31T11:00:00",
          "2015-01-31T12:00:00",
          "2015-01-31T13:00:00",
          "2015-01-31T14:00:00",
          "2015-01-31T15:00:00",
          "2015-01-31T16:00:00",
          "2015-01-31T17:00:00",
          "2015-01-31T18:00:00",
          "2015-01-31T19:00:00",
          "2015-01-31T20:00:00",
          "2015-01-31T21:00:00",
          "2015-01-31T22:00:00",
          "2015-01-31T23:00:00",
          "2015-02-01T00:00:00",
          "2015-02-01T01:00:00",
          "2015-02-01T02:00:00",
          "2015-02-01T03:00:00",
          "2015-02-01T04:00:00",
          "2015-02-01T05:00:00",
          "2015-02-01T06:00:00",
          "2015-02-01T07:00:00",
          "2015-02-01T08:00:00",
          "2015-02-01T09:00:00",
          "2015-02-01T10:00:00",
          "2015-02-01T11:00:00",
          "2015-02-01T12:00:00",
          "2015-02-01T13:00:00",
          "2015-02-01T14:00:00",
          "2015-02-01T15:00:00",
          "2015-02-01T16:00:00",
          "2015-02-01T17:00:00",
          "2015-02-01T18:00:00",
          "2015-02-01T19:00:00",
          "2015-02-01T20:00:00",
          "2015-02-01T21:00:00",
          "2015-02-01T22:00:00",
          "2015-02-01T23:00:00",
          "2015-02-02T00:00:00",
          "2015-02-02T01:00:00",
          "2015-02-02T02:00:00",
          "2015-02-02T03:00:00",
          "2015-02-02T04:00:00",
          "2015-02-02T05:00:00",
          "2015-02-02T06:00:00",
          "2015-02-02T07:00:00",
          "2015-02-02T08:00:00",
          "2015-02-02T09:00:00",
          "2015-02-02T10:00:00",
          "2015-02-02T11:00:00",
          "2015-02-02T12:00:00",
          "2015-02-02T13:00:00",
          "2015-02-02T14:00:00",
          "2015-02-02T15:00:00",
          "2015-02-02T16:00:00",
          "2015-02-02T17:00:00",
          "2015-02-02T18:00:00",
          "2015-02-02T19:00:00",
          "2015-02-02T20:00:00",
          "2015-02-02T21:00:00",
          "2015-02-02T22:00:00",
          "2015-02-02T23:00:00",
          "2015-02-03T00:00:00",
          "2015-02-03T01:00:00",
          "2015-02-03T02:00:00",
          "2015-02-03T03:00:00",
          "2015-02-03T04:00:00",
          "2015-02-03T05:00:00",
          "2015-02-03T06:00:00",
          "2015-02-03T07:00:00",
          "2015-02-03T08:00:00",
          "2015-02-03T09:00:00",
          "2015-02-03T10:00:00",
          "2015-02-03T11:00:00",
          "2015-02-03T12:00:00",
          "2015-02-03T13:00:00",
          "2015-02-03T14:00:00",
          "2015-02-03T15:00:00",
          "2015-02-03T16:00:00",
          "2015-02-03T17:00:00",
          "2015-02-03T18:00:00",
          "2015-02-03T19:00:00",
          "2015-02-03T20:00:00",
          "2015-02-03T21:00:00",
          "2015-02-03T22:00:00",
          "2015-02-03T23:00:00",
          "2015-02-04T00:00:00",
          "2015-02-04T01:00:00",
          "2015-02-04T02:00:00",
          "2015-02-04T03:00:00",
          "2015-02-04T04:00:00",
          "2015-02-04T05:00:00",
          "2015-02-04T06:00:00",
          "2015-02-04T07:00:00",
          "2015-02-04T08:00:00",
          "2015-02-04T09:00:00",
          "2015-02-04T10:00:00",
          "2015-02-04T11:00:00",
          "2015-02-04T12:00:00",
          "2015-02-04T13:00:00",
          "2015-02-04T14:00:00",
          "2015-02-04T15:00:00",
          "2015-02-04T16:00:00",
          "2015-02-04T17:00:00",
          "2015-02-04T18:00:00",
          "2015-02-04T19:00:00",
          "2015-02-04T20:00:00",
          "2015-02-04T21:00:00",
          "2015-02-04T22:00:00",
          "2015-02-04T23:00:00",
          "2015-02-05T00:00:00",
          "2015-02-05T01:00:00",
          "2015-02-05T02:00:00",
          "2015-02-05T03:00:00",
          "2015-02-05T04:00:00",
          "2015-02-05T05:00:00",
          "2015-02-05T06:00:00",
          "2015-02-05T07:00:00",
          "2015-02-05T08:00:00",
          "2015-02-05T09:00:00",
          "2015-02-05T10:00:00",
          "2015-02-05T11:00:00",
          "2015-02-05T12:00:00",
          "2015-02-05T13:00:00",
          "2015-02-05T14:00:00",
          "2015-02-05T15:00:00",
          "2015-02-05T16:00:00",
          "2015-02-05T17:00:00",
          "2015-02-05T18:00:00",
          "2015-02-05T19:00:00",
          "2015-02-05T20:00:00",
          "2015-02-05T21:00:00",
          "2015-02-05T22:00:00",
          "2015-02-05T23:00:00",
          "2015-02-06T00:00:00",
          "2015-02-06T01:00:00",
          "2015-02-06T02:00:00",
          "2015-02-06T03:00:00",
          "2015-02-06T04:00:00",
          "2015-02-06T05:00:00",
          "2015-02-06T06:00:00",
          "2015-02-06T07:00:00",
          "2015-02-06T08:00:00",
          "2015-02-06T09:00:00",
          "2015-02-06T10:00:00",
          "2015-02-06T11:00:00",
          "2015-02-06T12:00:00",
          "2015-02-06T13:00:00",
          "2015-02-06T14:00:00",
          "2015-02-06T15:00:00",
          "2015-02-06T16:00:00",
          "2015-02-06T17:00:00",
          "2015-02-06T18:00:00",
          "2015-02-06T19:00:00",
          "2015-02-06T20:00:00",
          "2015-02-06T21:00:00",
          "2015-02-06T22:00:00",
          "2015-02-06T23:00:00",
          "2015-02-07T00:00:00",
          "2015-02-07T01:00:00",
          "2015-02-07T02:00:00",
          "2015-02-07T03:00:00",
          "2015-02-07T04:00:00",
          "2015-02-07T05:00:00",
          "2015-02-07T06:00:00",
          "2015-02-07T07:00:00",
          "2015-02-07T08:00:00",
          "2015-02-07T09:00:00",
          "2015-02-07T10:00:00",
          "2015-02-07T11:00:00",
          "2015-02-07T12:00:00",
          "2015-02-07T13:00:00",
          "2015-02-07T14:00:00",
          "2015-02-07T15:00:00",
          "2015-02-07T16:00:00",
          "2015-02-07T17:00:00",
          "2015-02-07T18:00:00",
          "2015-02-07T19:00:00",
          "2015-02-07T20:00:00",
          "2015-02-07T21:00:00",
          "2015-02-07T22:00:00",
          "2015-02-07T23:00:00",
          "2015-02-08T00:00:00",
          "2015-02-08T01:00:00",
          "2015-02-08T02:00:00",
          "2015-02-08T03:00:00",
          "2015-02-08T04:00:00",
          "2015-02-08T05:00:00",
          "2015-02-08T06:00:00",
          "2015-02-08T07:00:00",
          "2015-02-08T08:00:00",
          "2015-02-08T09:00:00",
          "2015-02-08T10:00:00",
          "2015-02-08T11:00:00",
          "2015-02-08T12:00:00",
          "2015-02-08T13:00:00",
          "2015-02-08T14:00:00",
          "2015-02-08T15:00:00",
          "2015-02-08T16:00:00",
          "2015-02-08T17:00:00",
          "2015-02-08T18:00:00",
          "2015-02-08T19:00:00",
          "2015-02-08T20:00:00",
          "2015-02-08T21:00:00",
          "2015-02-08T22:00:00",
          "2015-02-08T23:00:00",
          "2015-02-09T00:00:00",
          "2015-02-09T01:00:00",
          "2015-02-09T02:00:00",
          "2015-02-09T03:00:00",
          "2015-02-09T04:00:00",
          "2015-02-09T05:00:00",
          "2015-02-09T06:00:00",
          "2015-02-09T07:00:00",
          "2015-02-09T08:00:00",
          "2015-02-09T09:00:00",
          "2015-02-09T10:00:00",
          "2015-02-09T11:00:00",
          "2015-02-09T12:00:00",
          "2015-02-09T13:00:00",
          "2015-02-09T14:00:00",
          "2015-02-09T15:00:00",
          "2015-02-09T16:00:00",
          "2015-02-09T17:00:00",
          "2015-02-09T18:00:00",
          "2015-02-09T19:00:00",
          "2015-02-09T20:00:00",
          "2015-02-09T21:00:00",
          "2015-02-09T22:00:00",
          "2015-02-09T23:00:00",
          "2015-02-10T00:00:00",
          "2015-02-10T01:00:00",
          "2015-02-10T02:00:00",
          "2015-02-10T03:00:00",
          "2015-02-10T04:00:00",
          "2015-02-10T05:00:00",
          "2015-02-10T06:00:00",
          "2015-02-10T07:00:00",
          "2015-02-10T08:00:00",
          "2015-02-10T09:00:00",
          "2015-02-10T10:00:00",
          "2015-02-10T11:00:00",
          "2015-02-10T12:00:00",
          "2015-02-10T13:00:00",
          "2015-02-10T14:00:00",
          "2015-02-10T15:00:00",
          "2015-02-10T16:00:00",
          "2015-02-10T17:00:00",
          "2015-02-10T18:00:00",
          "2015-02-10T19:00:00",
          "2015-02-10T20:00:00",
          "2015-02-10T21:00:00",
          "2015-02-10T22:00:00",
          "2015-02-10T23:00:00",
          "2015-02-11T00:00:00",
          "2015-02-11T01:00:00",
          "2015-02-11T02:00:00",
          "2015-02-11T03:00:00",
          "2015-02-11T04:00:00",
          "2015-02-11T05:00:00",
          "2015-02-11T06:00:00",
          "2015-02-11T07:00:00",
          "2015-02-11T08:00:00",
          "2015-02-11T09:00:00",
          "2015-02-11T10:00:00",
          "2015-02-11T11:00:00",
          "2015-02-11T12:00:00",
          "2015-02-11T13:00:00",
          "2015-02-11T14:00:00",
          "2015-02-11T15:00:00",
          "2015-02-11T16:00:00",
          "2015-02-11T17:00:00",
          "2015-02-11T18:00:00",
          "2015-02-11T19:00:00",
          "2015-02-11T20:00:00",
          "2015-02-11T21:00:00",
          "2015-02-11T22:00:00",
          "2015-02-11T23:00:00",
          "2015-02-12T00:00:00",
          "2015-02-12T01:00:00",
          "2015-02-12T02:00:00",
          "2015-02-12T03:00:00",
          "2015-02-12T04:00:00",
          "2015-02-12T05:00:00",
          "2015-02-12T06:00:00",
          "2015-02-12T07:00:00",
          "2015-02-12T08:00:00",
          "2015-02-12T09:00:00",
          "2015-02-12T10:00:00",
          "2015-02-12T11:00:00",
          "2015-02-12T12:00:00",
          "2015-02-12T13:00:00",
          "2015-02-12T14:00:00",
          "2015-02-12T15:00:00",
          "2015-02-12T16:00:00",
          "2015-02-12T17:00:00",
          "2015-02-12T18:00:00",
          "2015-02-12T19:00:00",
          "2015-02-12T20:00:00",
          "2015-02-12T21:00:00",
          "2015-02-12T22:00:00",
          "2015-02-12T23:00:00",
          "2015-02-13T00:00:00",
          "2015-02-13T01:00:00",
          "2015-02-13T02:00:00",
          "2015-02-13T03:00:00",
          "2015-02-13T04:00:00",
          "2015-02-13T05:00:00",
          "2015-02-13T06:00:00",
          "2015-02-13T07:00:00",
          "2015-02-13T08:00:00",
          "2015-02-13T09:00:00",
          "2015-02-13T10:00:00",
          "2015-02-13T11:00:00",
          "2015-02-13T12:00:00",
          "2015-02-13T13:00:00",
          "2015-02-13T14:00:00",
          "2015-02-13T15:00:00",
          "2015-02-13T16:00:00",
          "2015-02-13T17:00:00",
          "2015-02-13T18:00:00",
          "2015-02-13T19:00:00",
          "2015-02-13T20:00:00",
          "2015-02-13T21:00:00",
          "2015-02-13T22:00:00",
          "2015-02-13T23:00:00",
          "2015-02-14T00:00:00",
          "2015-02-14T01:00:00",
          "2015-02-14T02:00:00",
          "2015-02-14T03:00:00",
          "2015-02-14T04:00:00",
          "2015-02-14T05:00:00",
          "2015-02-14T06:00:00",
          "2015-02-14T07:00:00",
          "2015-02-14T08:00:00",
          "2015-02-14T09:00:00",
          "2015-02-14T10:00:00",
          "2015-02-14T11:00:00",
          "2015-02-14T12:00:00",
          "2015-02-14T13:00:00",
          "2015-02-14T14:00:00",
          "2015-02-14T15:00:00",
          "2015-02-14T16:00:00",
          "2015-02-14T17:00:00",
          "2015-02-14T18:00:00",
          "2015-02-14T19:00:00",
          "2015-02-14T20:00:00",
          "2015-02-14T21:00:00",
          "2015-02-14T22:00:00",
          "2015-02-14T23:00:00",
          "2015-02-15T00:00:00",
          "2015-02-15T01:00:00",
          "2015-02-15T02:00:00",
          "2015-02-15T03:00:00",
          "2015-02-15T04:00:00",
          "2015-02-15T05:00:00",
          "2015-02-15T06:00:00",
          "2015-02-15T07:00:00",
          "2015-02-15T08:00:00",
          "2015-02-15T09:00:00",
          "2015-02-15T10:00:00",
          "2015-02-15T11:00:00",
          "2015-02-15T12:00:00",
          "2015-02-15T13:00:00",
          "2015-02-15T14:00:00",
          "2015-02-15T15:00:00",
          "2015-02-15T16:00:00",
          "2015-02-15T17:00:00",
          "2015-02-15T18:00:00",
          "2015-02-15T19:00:00",
          "2015-02-15T20:00:00",
          "2015-02-15T21:00:00",
          "2015-02-15T22:00:00",
          "2015-02-15T23:00:00",
          "2015-02-16T00:00:00",
          "2015-02-16T01:00:00",
          "2015-02-16T02:00:00",
          "2015-02-16T03:00:00",
          "2015-02-16T04:00:00",
          "2015-02-16T05:00:00",
          "2015-02-16T06:00:00",
          "2015-02-16T07:00:00",
          "2015-02-16T08:00:00",
          "2015-02-16T09:00:00",
          "2015-02-16T10:00:00",
          "2015-02-16T11:00:00",
          "2015-02-16T12:00:00",
          "2015-02-16T13:00:00",
          "2015-02-16T14:00:00",
          "2015-02-16T15:00:00",
          "2015-02-16T16:00:00",
          "2015-02-16T17:00:00",
          "2015-02-16T18:00:00",
          "2015-02-16T19:00:00",
          "2015-02-16T20:00:00",
          "2015-02-16T21:00:00",
          "2015-02-16T22:00:00",
          "2015-02-16T23:00:00",
          "2015-02-17T00:00:00",
          "2015-02-17T01:00:00",
          "2015-02-17T02:00:00",
          "2015-02-17T03:00:00",
          "2015-02-17T04:00:00",
          "2015-02-17T05:00:00",
          "2015-02-17T06:00:00",
          "2015-02-17T07:00:00",
          "2015-02-17T08:00:00",
          "2015-02-17T09:00:00",
          "2015-02-17T10:00:00",
          "2015-02-17T11:00:00",
          "2015-02-17T12:00:00",
          "2015-02-17T13:00:00",
          "2015-02-17T14:00:00",
          "2015-02-17T15:00:00",
          "2015-02-17T16:00:00",
          "2015-02-17T17:00:00",
          "2015-02-17T18:00:00",
          "2015-02-17T19:00:00",
          "2015-02-17T20:00:00",
          "2015-02-17T21:00:00",
          "2015-02-17T22:00:00",
          "2015-02-17T23:00:00",
          "2015-02-18T00:00:00",
          "2015-02-18T01:00:00",
          "2015-02-18T02:00:00",
          "2015-02-18T03:00:00",
          "2015-02-18T04:00:00",
          "2015-02-18T05:00:00",
          "2015-02-18T06:00:00",
          "2015-02-18T07:00:00",
          "2015-02-18T08:00:00",
          "2015-02-18T09:00:00",
          "2015-02-18T10:00:00",
          "2015-02-18T11:00:00",
          "2015-02-18T12:00:00",
          "2015-02-18T13:00:00",
          "2015-02-18T14:00:00",
          "2015-02-18T15:00:00",
          "2015-02-18T16:00:00",
          "2015-02-18T17:00:00",
          "2015-02-18T18:00:00",
          "2015-02-18T19:00:00",
          "2015-02-18T20:00:00",
          "2015-02-18T21:00:00",
          "2015-02-18T22:00:00",
          "2015-02-18T23:00:00",
          "2015-02-19T00:00:00",
          "2015-02-19T01:00:00",
          "2015-02-19T02:00:00",
          "2015-02-19T03:00:00",
          "2015-02-19T04:00:00",
          "2015-02-19T05:00:00",
          "2015-02-19T06:00:00",
          "2015-02-19T07:00:00",
          "2015-02-19T08:00:00",
          "2015-02-19T09:00:00",
          "2015-02-19T10:00:00",
          "2015-02-19T11:00:00",
          "2015-02-19T12:00:00",
          "2015-02-19T13:00:00",
          "2015-02-19T14:00:00",
          "2015-02-19T15:00:00",
          "2015-02-19T16:00:00",
          "2015-02-19T17:00:00",
          "2015-02-19T18:00:00",
          "2015-02-19T19:00:00",
          "2015-02-19T20:00:00",
          "2015-02-19T21:00:00",
          "2015-02-19T22:00:00",
          "2015-02-19T23:00:00",
          "2015-02-20T00:00:00",
          "2015-02-20T01:00:00",
          "2015-02-20T02:00:00",
          "2015-02-20T03:00:00",
          "2015-02-20T04:00:00",
          "2015-02-20T05:00:00",
          "2015-02-20T06:00:00",
          "2015-02-20T07:00:00",
          "2015-02-20T08:00:00",
          "2015-02-20T09:00:00",
          "2015-02-20T10:00:00",
          "2015-02-20T11:00:00",
          "2015-02-20T12:00:00",
          "2015-02-20T13:00:00",
          "2015-02-20T14:00:00",
          "2015-02-20T15:00:00",
          "2015-02-20T16:00:00",
          "2015-02-20T17:00:00",
          "2015-02-20T18:00:00",
          "2015-02-20T19:00:00",
          "2015-02-20T20:00:00",
          "2015-02-20T21:00:00",
          "2015-02-20T22:00:00",
          "2015-02-20T23:00:00",
          "2015-02-21T00:00:00",
          "2015-02-21T01:00:00",
          "2015-02-21T02:00:00",
          "2015-02-21T03:00:00",
          "2015-02-21T04:00:00",
          "2015-02-21T05:00:00",
          "2015-02-21T06:00:00",
          "2015-02-21T07:00:00",
          "2015-02-21T08:00:00",
          "2015-02-21T09:00:00",
          "2015-02-21T10:00:00",
          "2015-02-21T11:00:00",
          "2015-02-21T12:00:00",
          "2015-02-21T13:00:00",
          "2015-02-21T14:00:00",
          "2015-02-21T15:00:00",
          "2015-02-21T16:00:00",
          "2015-02-21T17:00:00",
          "2015-02-21T18:00:00",
          "2015-02-21T19:00:00",
          "2015-02-21T20:00:00",
          "2015-02-21T21:00:00",
          "2015-02-21T22:00:00",
          "2015-02-21T23:00:00",
          "2015-02-22T00:00:00",
          "2015-02-22T01:00:00",
          "2015-02-22T02:00:00",
          "2015-02-22T03:00:00",
          "2015-02-22T04:00:00",
          "2015-02-22T05:00:00",
          "2015-02-22T06:00:00",
          "2015-02-22T07:00:00",
          "2015-02-22T08:00:00",
          "2015-02-22T09:00:00",
          "2015-02-22T10:00:00",
          "2015-02-22T11:00:00",
          "2015-02-22T12:00:00",
          "2015-02-22T13:00:00",
          "2015-02-22T14:00:00",
          "2015-02-22T15:00:00",
          "2015-02-22T16:00:00",
          "2015-02-22T17:00:00",
          "2015-02-22T18:00:00",
          "2015-02-22T19:00:00",
          "2015-02-22T20:00:00",
          "2015-02-22T21:00:00",
          "2015-02-22T22:00:00",
          "2015-02-22T23:00:00",
          "2015-02-23T00:00:00",
          "2015-02-23T01:00:00",
          "2015-02-23T02:00:00",
          "2015-02-23T03:00:00",
          "2015-02-23T04:00:00",
          "2015-02-23T05:00:00",
          "2015-02-23T06:00:00",
          "2015-02-23T07:00:00",
          "2015-02-23T08:00:00",
          "2015-02-23T09:00:00",
          "2015-02-23T10:00:00",
          "2015-02-23T11:00:00",
          "2015-02-23T12:00:00",
          "2015-02-23T13:00:00",
          "2015-02-23T14:00:00",
          "2015-02-23T15:00:00",
          "2015-02-23T16:00:00",
          "2015-02-23T17:00:00",
          "2015-02-23T18:00:00",
          "2015-02-23T19:00:00",
          "2015-02-23T20:00:00",
          "2015-02-23T21:00:00",
          "2015-02-23T22:00:00",
          "2015-02-23T23:00:00",
          "2015-02-24T00:00:00",
          "2015-02-24T01:00:00",
          "2015-02-24T02:00:00",
          "2015-02-24T03:00:00",
          "2015-02-24T04:00:00",
          "2015-02-24T05:00:00",
          "2015-02-24T06:00:00",
          "2015-02-24T07:00:00",
          "2015-02-24T08:00:00",
          "2015-02-24T09:00:00",
          "2015-02-24T10:00:00",
          "2015-02-24T11:00:00",
          "2015-02-24T12:00:00",
          "2015-02-24T13:00:00",
          "2015-02-24T14:00:00",
          "2015-02-24T15:00:00",
          "2015-02-24T16:00:00",
          "2015-02-24T17:00:00",
          "2015-02-24T18:00:00",
          "2015-02-24T19:00:00",
          "2015-02-24T20:00:00",
          "2015-02-24T21:00:00",
          "2015-02-24T22:00:00",
          "2015-02-24T23:00:00",
          "2015-02-25T00:00:00",
          "2015-02-25T01:00:00",
          "2015-02-25T02:00:00",
          "2015-02-25T03:00:00",
          "2015-02-25T04:00:00",
          "2015-02-25T05:00:00",
          "2015-02-25T06:00:00",
          "2015-02-25T07:00:00",
          "2015-02-25T08:00:00",
          "2015-02-25T09:00:00",
          "2015-02-25T10:00:00",
          "2015-02-25T11:00:00",
          "2015-02-25T12:00:00",
          "2015-02-25T13:00:00",
          "2015-02-25T14:00:00",
          "2015-02-25T15:00:00",
          "2015-02-25T16:00:00",
          "2015-02-25T17:00:00",
          "2015-02-25T18:00:00",
          "2015-02-25T19:00:00",
          "2015-02-25T20:00:00",
          "2015-02-25T21:00:00",
          "2015-02-25T22:00:00",
          "2015-02-25T23:00:00",
          "2015-02-26T00:00:00",
          "2015-02-26T01:00:00",
          "2015-02-26T02:00:00",
          "2015-02-26T03:00:00",
          "2015-02-26T04:00:00",
          "2015-02-26T05:00:00",
          "2015-02-26T06:00:00",
          "2015-02-26T07:00:00",
          "2015-02-26T08:00:00",
          "2015-02-26T09:00:00",
          "2015-02-26T10:00:00",
          "2015-02-26T11:00:00",
          "2015-02-26T12:00:00",
          "2015-02-26T13:00:00",
          "2015-02-26T14:00:00",
          "2015-02-26T15:00:00",
          "2015-02-26T16:00:00",
          "2015-02-26T17:00:00",
          "2015-02-26T18:00:00",
          "2015-02-26T19:00:00",
          "2015-02-26T20:00:00",
          "2015-02-26T21:00:00",
          "2015-02-26T22:00:00",
          "2015-02-26T23:00:00",
          "2015-02-27T00:00:00",
          "2015-02-27T01:00:00",
          "2015-02-27T02:00:00",
          "2015-02-27T03:00:00",
          "2015-02-27T04:00:00",
          "2015-02-27T05:00:00",
          "2015-02-27T06:00:00",
          "2015-02-27T07:00:00",
          "2015-02-27T08:00:00",
          "2015-02-27T09:00:00",
          "2015-02-27T10:00:00",
          "2015-02-27T11:00:00",
          "2015-02-27T12:00:00",
          "2015-02-27T13:00:00",
          "2015-02-27T14:00:00",
          "2015-02-27T15:00:00",
          "2015-02-27T16:00:00",
          "2015-02-27T17:00:00",
          "2015-02-27T18:00:00",
          "2015-02-27T19:00:00",
          "2015-02-27T20:00:00",
          "2015-02-27T21:00:00",
          "2015-02-27T22:00:00",
          "2015-02-27T23:00:00",
          "2015-02-28T00:00:00",
          "2015-02-28T01:00:00",
          "2015-02-28T02:00:00",
          "2015-02-28T03:00:00",
          "2015-02-28T04:00:00",
          "2015-02-28T05:00:00",
          "2015-02-28T06:00:00",
          "2015-02-28T07:00:00",
          "2015-02-28T08:00:00",
          "2015-02-28T09:00:00",
          "2015-02-28T10:00:00",
          "2015-02-28T11:00:00",
          "2015-02-28T12:00:00",
          "2015-02-28T13:00:00",
          "2015-02-28T14:00:00",
          "2015-02-28T15:00:00",
          "2015-02-28T16:00:00",
          "2015-02-28T17:00:00",
          "2015-02-28T18:00:00",
          "2015-02-28T19:00:00",
          "2015-02-28T20:00:00",
          "2015-02-28T21:00:00",
          "2015-02-28T22:00:00",
          "2015-02-28T23:00:00",
          "2015-03-01T00:00:00",
          "2015-03-01T01:00:00",
          "2015-03-01T02:00:00",
          "2015-03-01T03:00:00",
          "2015-03-01T04:00:00",
          "2015-03-01T05:00:00",
          "2015-03-01T06:00:00",
          "2015-03-01T07:00:00",
          "2015-03-01T08:00:00",
          "2015-03-01T09:00:00",
          "2015-03-01T10:00:00",
          "2015-03-01T11:00:00",
          "2015-03-01T12:00:00",
          "2015-03-01T13:00:00",
          "2015-03-01T14:00:00",
          "2015-03-01T15:00:00",
          "2015-03-01T16:00:00",
          "2015-03-01T17:00:00",
          "2015-03-01T18:00:00",
          "2015-03-01T19:00:00",
          "2015-03-01T20:00:00",
          "2015-03-01T21:00:00",
          "2015-03-01T22:00:00",
          "2015-03-01T23:00:00"
         ],
         "xaxis": "x",
         "y": [
          0.1566,
          0.1659,
          0.1746,
          0.1745,
          0.1826,
          0.1869,
          0.1999,
          0.212,
          0.2281,
          0.2452,
          0.2272,
          0.2265,
          0.2384,
          0.2719,
          0.3264,
          0.3656,
          0.3828,
          0.4049,
          0.4376,
          0.4792,
          0.5201,
          0.5529,
          0.5842,
          0.6113,
          0.6391,
          0.6732,
          0.71,
          0.7425,
          0.7704,
          0.8006,
          0.8038,
          0.7997,
          0.7918,
          0.7818,
          0.7643,
          0.7576,
          0.7435,
          0.7346,
          0.7266,
          0.7328,
          0.7368,
          0.7401,
          0.7363,
          0.7301,
          0.7246,
          0.7285,
          0.7319,
          0.7294,
          0.713,
          0.6784,
          0.6293,
          0.5751,
          0.5138,
          0.4968,
          0.511,
          0.5292,
          0.541,
          0.5326,
          0.5282,
          0.5243,
          0.5024,
          0.4624,
          0.4233,
          0.4013,
          0.3807,
          0.3737,
          0.3761,
          0.3781,
          0.3939,
          0.4087,
          0.4467,
          0.4677,
          0.4867,
          0.4996,
          0.5051,
          0.4899,
          0.4778,
          0.4616,
          0.4508,
          0.4521,
          0.442,
          0.4212,
          0.4246,
          0.431,
          0.4459,
          0.4447,
          0.4391,
          0.4249,
          0.3993,
          0.3699,
          0.3401,
          0.3091,
          0.2732,
          0.2536,
          0.24,
          0.2387,
          0.2382,
          0.2533,
          0.266,
          0.2803,
          0.288,
          0.3037,
          0.3225,
          0.3261,
          0.3308,
          0.3291,
          0.3147,
          0.2892,
          0.2527,
          0.204,
          0.1761,
          0.1585,
          0.1342,
          0.1111,
          0.0955,
          0.0844,
          0.0712,
          0.0607,
          0.0518,
          0.0455,
          0.0396,
          0.0346,
          0.0339,
          0.0348,
          0.038,
          0.046,
          0.0605,
          0.0789,
          0.0848,
          0.073,
          0.0722,
          0.0823,
          0.0942,
          0.1029,
          0.1465,
          0.2137,
          0.2382,
          0.2402,
          0.2397,
          0.2348,
          0.2312,
          0.232,
          0.2284,
          0.2199,
          0.2115,
          0.2088,
          0.2128,
          0.2192,
          0.223,
          0.2194,
          0.2086,
          0.2048,
          0.1938,
          0.1695,
          0.1557,
          0.1696,
          0.173,
          0.1741,
          0.1996,
          0.234,
          0.2487,
          0.2601,
          0.2675,
          0.2702,
          0.2815,
          0.2909,
          0.3101,
          0.3327,
          0.3482,
          0.3677,
          0.3901,
          0.4087,
          0.419,
          0.4262,
          0.4358,
          0.4428,
          0.4325,
          0.4331,
          0.4459,
          0.4672,
          0.4581,
          0.4326,
          0.4171,
          0.4218,
          0.4254,
          0.4366,
          0.4632,
          0.4841,
          0.505,
          0.5337,
          0.5576,
          0.5618,
          0.5556,
          0.5524,
          0.5797,
          0.6406,
          0.7008,
          0.7822,
          0.8543,
          0.8934,
          0.9301,
          0.9471,
          0.9492,
          0.9462,
          0.9395,
          0.9316,
          0.9224,
          0.914,
          0.8929,
          0.87,
          0.8342,
          0.7709,
          0.692,
          0.6234,
          0.5743,
          0.557,
          0.5664,
          0.5774,
          0.6069,
          0.6646,
          0.7222,
          0.778,
          0.8331,
          0.8731,
          0.9143,
          0.9326,
          0.9473,
          0.9591,
          0.9643,
          0.9659,
          0.964,
          0.957,
          0.9413,
          0.9203,
          0.885,
          0.8503,
          0.8201,
          0.8006,
          0.7865,
          0.7658,
          0.742,
          0.7215,
          0.7045,
          0.6988,
          0.7048,
          0.7216,
          0.7455,
          0.7704,
          0.7948,
          0.8247,
          0.8491,
          0.8661,
          0.8733,
          0.8722,
          0.865,
          0.8589,
          0.8519,
          0.8443,
          0.8318,
          0.8157,
          0.7948,
          0.765,
          0.732,
          0.7041,
          0.6809,
          0.6584,
          0.6405,
          0.6283,
          0.6268,
          0.6488,
          0.6833,
          0.7178,
          0.762,
          0.7974,
          0.8186,
          0.8381,
          0.8476,
          0.8514,
          0.8484,
          0.8437,
          0.8411,
          0.831,
          0.8112,
          0.7824,
          0.7545,
          0.7274,
          0.6965,
          0.6709,
          0.6456,
          0.6283,
          0.622,
          0.6132,
          0.6303,
          0.6589,
          0.6898,
          0.7245,
          0.7295,
          0.7214,
          0.7214,
          0.7279,
          0.7177,
          0.6959,
          0.6651,
          0.6268,
          0.5869,
          0.5445,
          0.5119,
          0.4941,
          0.4801,
          0.4732,
          0.4587,
          0.4516,
          0.4304,
          0.4044,
          0.3941,
          0.395,
          0.4083,
          0.4343,
          0.4714,
          0.5171,
          0.5698,
          0.6162,
          0.6308,
          0.6078,
          0.5453,
          0.4615,
          0.4108,
          0.3912,
          0.371,
          0.3577,
          0.3573,
          0.3607,
          0.3649,
          0.3674,
          0.3466,
          0.3364,
          0.3321,
          0.3495,
          0.3856,
          0.4328,
          0.4904,
          0.5422,
          0.5919,
          0.6287,
          0.6546,
          0.6892,
          0.7196,
          0.7337,
          0.7257,
          0.7208,
          0.7159,
          0.7131,
          0.7095,
          0.7032,
          0.7047,
          0.7026,
          0.6948,
          0.6951,
          0.6749,
          0.6313,
          0.5799,
          0.5453,
          0.5253,
          0.5175,
          0.5009,
          0.479,
          0.4459,
          0.4056,
          0.347,
          0.2792,
          0.2396,
          0.2204,
          0.189,
          0.1585,
          0.1484,
          0.1587,
          0.1611,
          0.1496,
          0.1359,
          0.1223,
          0.1122,
          0.099,
          0.0857,
          0.0796,
          0.0829,
          0.0878,
          0.0971,
          0.108,
          0.12,
          0.1269,
          0.1309,
          0.1279,
          0.1219,
          0.1083,
          0.1104,
          0.1257,
          0.1354,
          0.124,
          0.1231,
          0.1433,
          0.1647,
          0.1748,
          0.1798,
          0.1815,
          0.1815,
          0.1834,
          0.1846,
          0.1866,
          0.1818,
          0.1776,
          0.1739,
          0.1663,
          0.1587,
          0.1501,
          0.147,
          0.1465,
          0.1301,
          0.1185,
          0.1353,
          0.1383,
          0.1249,
          0.1011,
          0.1028,
          0.127,
          0.147,
          0.1513,
          0.1506,
          0.1442,
          0.136,
          0.1313,
          0.1253,
          0.1106,
          0.0908,
          0.0711,
          0.0529,
          0.0405,
          0.0342,
          0.0321,
          0.0321,
          0.0308,
          0.0219,
          0.0178,
          0.0183,
          0.0171,
          0.0142,
          0.0148,
          0.029,
          0.05,
          0.0617,
          0.062,
          0.0575,
          0.0504,
          0.045,
          0.0391,
          0.0348,
          0.0305,
          0.0274,
          0.025,
          0.0233,
          0.023,
          0.0225,
          0.0219,
          0.0208,
          0.019,
          0.0134,
          0.0097,
          0.0089,
          0.008,
          0.0077,
          0.0082,
          0.011,
          0.015,
          0.0166,
          0.0177,
          0.0205,
          0.0249,
          0.0291,
          0.0323,
          0.0352,
          0.036,
          0.0346,
          0.0328,
          0.0311,
          0.0294,
          0.0283,
          0.028,
          0.0283,
          0.0281,
          0.0233,
          0.024,
          0.0279,
          0.0288,
          0.0296,
          0.032,
          0.0368,
          0.0641,
          0.0946,
          0.1097,
          0.1136,
          0.1099,
          0.1011,
          0.0935,
          0.0847,
          0.0773,
          0.0713,
          0.0697,
          0.0722,
          0.0722,
          0.0712,
          0.0771,
          0.082,
          0.084,
          0.0832,
          0.0894,
          0.0915,
          0.0884,
          0.0846,
          0.0777,
          0.0795,
          0.1037,
          0.1152,
          0.1082,
          0.0944,
          0.0809,
          0.0712,
          0.0669,
          0.0679,
          0.0669,
          0.0639,
          0.0628,
          0.0599,
          0.0571,
          0.0574,
          0.0561,
          0.0533,
          0.05,
          0.042,
          0.04,
          0.0344,
          0.0283,
          0.0242,
          0.0219,
          0.0208,
          0.0267,
          0.0338,
          0.0381,
          0.0433,
          0.0507,
          0.0624,
          0.0791,
          0.1023,
          0.1307,
          0.1471,
          0.1557,
          0.1617,
          0.1687,
          0.1784,
          0.1889,
          0.1939,
          0.1898,
          0.1757,
          0.1658,
          0.1573,
          0.1432,
          0.1238,
          0.1134,
          0.1236,
          0.1536,
          0.1764,
          0.179,
          0.1755,
          0.1702,
          0.1598,
          0.163,
          0.1703,
          0.1731,
          0.1766,
          0.1791,
          0.1753,
          0.1789,
          0.1746,
          0.1627,
          0.1538,
          0.1441,
          0.1273,
          0.1062,
          0.0976,
          0.093,
          0.0874,
          0.0792,
          0.0806,
          0.0958,
          0.1006,
          0.0931,
          0.0821,
          0.0728,
          0.068,
          0.0653,
          0.0657,
          0.0691,
          0.0748,
          0.0824,
          0.0951,
          0.1049,
          0.119,
          0.1373,
          0.1586,
          0.1741,
          0.1745,
          0.1878,
          0.2428,
          0.2808,
          0.2847,
          0.2883,
          0.3149,
          0.3539,
          0.376,
          0.3786,
          0.3745,
          0.3531,
          0.3462,
          0.3513,
          0.3671,
          0.3835,
          0.4003,
          0.3969,
          0.3803,
          0.3717,
          0.3702,
          0.373,
          0.3862,
          0.3774,
          0.3421,
          0.3095,
          0.3022,
          0.3168,
          0.306,
          0.2923,
          0.2885,
          0.2965,
          0.2831,
          0.2508,
          0.217,
          0.1801,
          0.1511,
          0.1325,
          0.124,
          0.125,
          0.1324,
          0.1449,
          0.1705,
          0.1809,
          0.2009,
          0.2393,
          0.2714,
          0.3145,
          0.344,
          0.3959,
          0.4818,
          0.5833,
          0.6464,
          0.7055,
          0.7582,
          0.8006,
          0.8156,
          0.8063,
          0.7975,
          0.7871,
          0.7599,
          0.7269,
          0.6948,
          0.6629,
          0.6406,
          0.6136,
          0.5862,
          0.5636,
          0.5565,
          0.5419,
          0.5485,
          0.5517,
          0.567,
          0.6047,
          0.6307,
          0.6345,
          0.6035,
          0.5431,
          0.4745,
          0.4104,
          0.3539,
          0.3266,
          0.3102,
          0.3034,
          0.2792,
          0.2526,
          0.2263,
          0.2048,
          0.187,
          0.1592,
          0.1402,
          0.1449,
          0.1568,
          0.1639,
          0.1691,
          0.16,
          0.1346,
          0.1345,
          0.1493,
          0.1491,
          0.1279,
          0.0962,
          0.0772,
          0.0908,
          0.1077,
          0.1173,
          0.123,
          0.1246,
          0.1245,
          0.1237,
          0.1255,
          0.1313,
          0.138,
          0.1466,
          0.1535,
          0.1534,
          0.1514,
          0.149,
          0.1523,
          0.1422,
          0.1177,
          0.1229,
          0.1486,
          0.1585,
          0.1476,
          0.1201,
          0.1133,
          0.139,
          0.1658,
          0.1685,
          0.168,
          0.1657,
          0.1604,
          0.1572,
          0.1478,
          0.1385,
          0.1267,
          0.1161,
          0.1082,
          0.1009,
          0.0974,
          0.0984,
          0.1014,
          0.0976,
          0.0796,
          0.0736,
          0.0919,
          0.1113,
          0.1229,
          0.1159,
          0.1116,
          0.1498,
          0.191,
          0.2108,
          0.2133,
          0.2124,
          0.2105,
          0.2107,
          0.2143,
          0.2122,
          0.211,
          0.2084,
          0.2105,
          0.2089,
          0.2119,
          0.2112,
          0.2179,
          0.2179,
          0.2021,
          0.2032,
          0.2341,
          0.2668,
          0.2641,
          0.2362,
          0.2239,
          0.2318,
          0.2363,
          0.2252,
          0.2162,
          0.2055,
          0.2025,
          0.1998,
          0.1922,
          0.1804,
          0.1739,
          0.1693,
          0.1648,
          0.1566,
          0.1499,
          0.1422,
          0.1356,
          0.1279,
          0.1116,
          0.1181,
          0.1207,
          0.1196,
          0.1065,
          0.0851,
          0.0707,
          0.0803,
          0.0944,
          0.0938,
          0.0854,
          0.0784,
          0.0714,
          0.0681,
          0.0658,
          0.0638,
          0.0596,
          0.0563,
          0.0544,
          0.0506,
          0.0493,
          0.0478,
          0.0462,
          0.0401,
          0.0337,
          0.0358,
          0.0382,
          0.0427,
          0.0488,
          0.053,
          0.0508,
          0.0561,
          0.0669,
          0.0664,
          0.0568,
          0.0448,
          0.034,
          0.0278,
          0.025,
          0.0238,
          0.0235,
          0.025,
          0.027,
          0.0291,
          0.0326,
          0.0375,
          0.0435,
          0.0472,
          0.0483,
          0.0684,
          0.0896,
          0.1059,
          0.126,
          0.1431,
          0.1426,
          0.1725,
          0.2296,
          0.2513,
          0.2481,
          0.2345,
          0.2218,
          0.2071,
          0.1892,
          0.1754,
          0.1649,
          0.1543,
          0.1529,
          0.1632,
          0.1677,
          0.1713,
          0.1685,
          0.1692,
          0.1853,
          0.2019,
          0.2018,
          0.1968,
          0.1904,
          0.1824,
          0.1649,
          0.1562,
          0.1605,
          0.1503,
          0.1336,
          0.118,
          0.1032,
          0.0916,
          0.083,
          0.0788,
          0.0781,
          0.0814,
          0.0887,
          0.0991,
          0.1103,
          0.1219,
          0.1366,
          0.1526,
          0.1528,
          0.1651,
          0.1944,
          0.2353,
          0.276,
          0.3212,
          0.3633,
          0.4116,
          0.462,
          0.5002,
          0.533,
          0.5803,
          0.6171,
          0.6517,
          0.6793,
          0.7032,
          0.7248,
          0.7259,
          0.7161,
          0.6935,
          0.6554,
          0.6142,
          0.5702,
          0.5093,
          0.457,
          0.4927,
          0.5342,
          0.5252,
          0.4944,
          0.4442,
          0.3815,
          0.3673,
          0.3608,
          0.3281,
          0.3067,
          0.3037,
          0.3144,
          0.331,
          0.3491,
          0.3745,
          0.4026,
          0.4355,
          0.4663,
          0.4641,
          0.473,
          0.4814,
          0.4727,
          0.4577,
          0.454,
          0.4493,
          0.4411,
          0.4401,
          0.4361,
          0.4024,
          0.3912,
          0.3938,
          0.3931,
          0.3739,
          0.3411,
          0.3204,
          0.302,
          0.2846,
          0.2693,
          0.2578,
          0.2494,
          0.2428,
          0.2515,
          0.2513,
          0.2461,
          0.2324,
          0.2154,
          0.1914,
          0.1599,
          0.1404,
          0.1525,
          0.167,
          0.158,
          0.1465,
          0.1447,
          0.162,
          0.1726,
          0.1627,
          0.1468,
          0.1287,
          0.1106,
          0.0975,
          0.0871,
          0.0768,
          0.0656,
          0.0531,
          0.0417,
          0.0327,
          0.0274,
          0.0242,
          0.023,
          0.0192,
          0.015,
          0.0122,
          0.0097,
          0.0088,
          0.0082,
          0.0078,
          0.0081,
          0.0129,
          0.024,
          0.039,
          0.0548,
          0.069,
          0.0775,
          0.0778,
          0.0721,
          0.0646,
          0.0569,
          0.0492,
          0.0425,
          0.0368,
          0.035,
          0.0363,
          0.0382,
          0.0314,
          0.0231,
          0.0184,
          0.0156,
          0.0134,
          0.0112,
          0.0096,
          0.0094,
          0.0142,
          0.0274,
          0.0473,
          0.0683,
          0.0794,
          0.0793,
          0.0716,
          0.0636,
          0.0595,
          0.057,
          0.0573,
          0.0613,
          0.0657,
          0.0706,
          0.0767,
          0.0812,
          0.069,
          0.0575,
          0.0595,
          0.0599,
          0.0618,
          0.0679,
          0.0774,
          0.0817,
          0.1207,
          0.2008,
          0.2385,
          0.2394,
          0.2256,
          0.2053,
          0.1872,
          0.1708,
          0.1547,
          0.142,
          0.13,
          0.1234,
          0.1191,
          0.1153,
          0.1153,
          0.1145,
          0.0884,
          0.0554,
          0.0463,
          0.0426,
          0.0383,
          0.0376,
          0.041,
          0.0525,
          0.0856,
          0.1361,
          0.1659,
          0.1691,
          0.1572,
          0.142,
          0.129,
          0.1188,
          0.1151,
          0.1149,
          0.1141,
          0.1218,
          0.1217,
          0.1272,
          0.1398,
          0.1453,
          0.1462,
          0.1475,
          0.1562,
          0.1671,
          0.1756,
          0.18,
          0.1733,
          0.1748,
          0.2289,
          0.3187,
          0.339,
          0.3231,
          0.2904,
          0.2478,
          0.2206,
          0.1925,
          0.1661,
          0.1532,
          0.1444,
          0.1396,
          0.1435,
          0.1542,
          0.1636,
          0.1792,
          0.2014,
          0.207,
          0.2128,
          0.2112,
          0.2046,
          0.1972,
          0.187,
          0.1618,
          0.1853,
          0.2326,
          0.2445,
          0.2317,
          0.2084,
          0.173,
          0.1371,
          0.1116,
          0.092,
          0.0762,
          0.0651,
          0.0544,
          0.0469,
          0.0419,
          0.0396,
          0.0382,
          0.0293,
          0.0307,
          0.0315,
          0.0302,
          0.0314,
          0.0339,
          0.0358,
          0.039,
          0.0536,
          0.0759,
          0.093,
          0.0993,
          0.0966,
          0.0903,
          0.0849,
          0.0804,
          0.0729,
          0.0635,
          0.0579,
          0.0573,
          0.0579,
          0.0606,
          0.0628,
          0.0655,
          0.0691,
          0.0851,
          0.0955,
          0.1115,
          0.1316,
          0.1488,
          0.1565,
          0.1453,
          0.1519,
          0.1992,
          0.2368,
          0.2565,
          0.2663,
          0.2723,
          0.272,
          0.2687,
          0.263,
          0.2505,
          0.2353,
          0.223,
          0.2004,
          0.1956,
          0.1926,
          0.1988,
          0.1991,
          0.2475,
          0.2714,
          0.2755,
          0.2737,
          0.2713,
          0.2681,
          0.2563,
          0.2481,
          0.2895,
          0.3248,
          0.3217,
          0.3117,
          0.2944,
          0.2886,
          0.2855,
          0.2706,
          0.2666,
          0.2639,
          0.2668,
          0.2777,
          0.2962,
          0.3093,
          0.3282,
          0.339,
          0.4052,
          0.4761,
          0.5104,
          0.5066,
          0.4777,
          0.4204,
          0.3629,
          0.3509,
          0.3556,
          0.3563,
          0.3491,
          0.3364,
          0.3329,
          0.3354,
          0.3365,
          0.3486,
          0.3616,
          0.3645,
          0.3569,
          0.3505,
          0.3466,
          0.3524,
          0.3428,
          0.2886,
          0.2602,
          0.2851,
          0.355,
          0.4011,
          0.4128,
          0.3869,
          0.3135,
          0.2535,
          0.2216,
          0.1897,
          0.1696,
          0.1592,
          0.1479,
          0.1399,
          0.1282,
          0.1118,
          0.095,
          0.0842,
          0.0798,
          0.0782,
          0.0791,
          0.0835,
          0.0823,
          0.0774,
          0.0763,
          0.0863,
          0.1082,
          0.114,
          0.1094,
          0.1052,
          0.096,
          0.089,
          0.1126,
          0.1539,
          0.2025,
          0.2517,
          0.2985,
          0.3305,
          0.3609,
          0.3931,
          0.4185,
          0.4492,
          0.4625,
          0.4946,
          0.5142,
          0.5221,
          0.4911,
          0.4541,
          0.434,
          0.4315,
          0.4175,
          0.3477,
          0.2896,
          0.2386,
          0.2068,
          0.1935,
          0.2217,
          0.2479,
          0.2571,
          0.2547,
          0.252,
          0.2538,
          0.2572,
          0.2564,
          0.2623,
          0.2727,
          0.2784,
          0.2854,
          0.297,
          0.3054,
          0.3189,
          0.3263,
          0.3736,
          0.4274,
          0.4406,
          0.4317,
          0.4161,
          0.3764,
          0.3086,
          0.2798,
          0.3015,
          0.308,
          0.2976,
          0.2824,
          0.2614,
          0.2286,
          0.1962,
          0.1644,
          0.1406,
          0.1223,
          0.1131,
          0.1086,
          0.1057,
          0.1003,
          0.0955,
          0.0842,
          0.0884,
          0.0947,
          0.1027,
          0.1077,
          0.1,
          0.0824,
          0.0606,
          0.0458,
          0.0437,
          0.0477,
          0.0519,
          0.0562,
          0.0602,
          0.0648,
          0.0651,
          0.0622,
          0.0612,
          0.0654,
          0.0726,
          0.0773,
          0.081,
          0.0873,
          0.0911,
          0.0661,
          0.0664,
          0.1193,
          0.1722,
          0.1914,
          0.2003,
          0.209,
          0.2094,
          0.2161,
          0.278,
          0.3376,
          0.362,
          0.3732,
          0.3494,
          0.3227,
          0.2907,
          0.2562,
          0.2256,
          0.2016,
          0.1818,
          0.167,
          0.1549,
          0.1437,
          0.1192,
          0.0749,
          0.0665,
          0.0884,
          0.103,
          0.1123,
          0.1203,
          0.1177,
          0.1138,
          0.1118,
          0.1183,
          0.1323,
          0.137,
          0.1348,
          0.1245,
          0.1117,
          0.0981,
          0.0917,
          0.0872,
          0.0873,
          0.0837,
          0.077,
          0.0784,
          0.0769,
          0.0763,
          0.0727,
          0.0949,
          0.1156,
          0.131,
          0.1463,
          0.1603,
          0.1704,
          0.1703,
          0.1591,
          0.191,
          0.2583,
          0.31,
          0.3547,
          0.3938,
          0.4099,
          0.4067,
          0.4131,
          0.4179,
          0.4321,
          0.4532,
          0.4787,
          0.5101,
          0.541,
          0.5409,
          0.5458,
          0.566,
          0.59,
          0.5955,
          0.5945,
          0.5858,
          0.5455,
          0.4794,
          0.4365,
          0.437,
          0.4248,
          0.3835,
          0.3463,
          0.3299,
          0.3334,
          0.3308,
          0.3387
         ],
         "yaxis": "y"
        }
       ],
       "layout": {
        "legend": {
         "title": {
          "text": "variable"
         },
         "tracegroupgap": 0
        },
        "margin": {
         "t": 60
        },
        "template": {
         "data": {
          "bar": [
           {
            "error_x": {
             "color": "#2a3f5f"
            },
            "error_y": {
             "color": "#2a3f5f"
            },
            "marker": {
             "line": {
              "color": "#E5ECF6",
              "width": 0.5
             },
             "pattern": {
              "fillmode": "overlay",
              "size": 10,
              "solidity": 0.2
             }
            },
            "type": "bar"
           }
          ],
          "barpolar": [
           {
            "marker": {
             "line": {
              "color": "#E5ECF6",
              "width": 0.5
             },
             "pattern": {
              "fillmode": "overlay",
              "size": 10,
              "solidity": 0.2
             }
            },
            "type": "barpolar"
           }
          ],
          "carpet": [
           {
            "aaxis": {
             "endlinecolor": "#2a3f5f",
             "gridcolor": "white",
             "linecolor": "white",
             "minorgridcolor": "white",
             "startlinecolor": "#2a3f5f"
            },
            "baxis": {
             "endlinecolor": "#2a3f5f",
             "gridcolor": "white",
             "linecolor": "white",
             "minorgridcolor": "white",
             "startlinecolor": "#2a3f5f"
            },
            "type": "carpet"
           }
          ],
          "choropleth": [
           {
            "colorbar": {
             "outlinewidth": 0,
             "ticks": ""
            },
            "type": "choropleth"
           }
          ],
          "contour": [
           {
            "colorbar": {
             "outlinewidth": 0,
             "ticks": ""
            },
            "colorscale": [
             [
              0,
              "#0d0887"
             ],
             [
              0.1111111111111111,
              "#46039f"
             ],
             [
              0.2222222222222222,
              "#7201a8"
             ],
             [
              0.3333333333333333,
              "#9c179e"
             ],
             [
              0.4444444444444444,
              "#bd3786"
             ],
             [
              0.5555555555555556,
              "#d8576b"
             ],
             [
              0.6666666666666666,
              "#ed7953"
             ],
             [
              0.7777777777777778,
              "#fb9f3a"
             ],
             [
              0.8888888888888888,
              "#fdca26"
             ],
             [
              1,
              "#f0f921"
             ]
            ],
            "type": "contour"
           }
          ],
          "contourcarpet": [
           {
            "colorbar": {
             "outlinewidth": 0,
             "ticks": ""
            },
            "type": "contourcarpet"
           }
          ],
          "heatmap": [
           {
            "colorbar": {
             "outlinewidth": 0,
             "ticks": ""
            },
            "colorscale": [
             [
              0,
              "#0d0887"
             ],
             [
              0.1111111111111111,
              "#46039f"
             ],
             [
              0.2222222222222222,
              "#7201a8"
             ],
             [
              0.3333333333333333,
              "#9c179e"
             ],
             [
              0.4444444444444444,
              "#bd3786"
             ],
             [
              0.5555555555555556,
              "#d8576b"
             ],
             [
              0.6666666666666666,
              "#ed7953"
             ],
             [
              0.7777777777777778,
              "#fb9f3a"
             ],
             [
              0.8888888888888888,
              "#fdca26"
             ],
             [
              1,
              "#f0f921"
             ]
            ],
            "type": "heatmap"
           }
          ],
          "heatmapgl": [
           {
            "colorbar": {
             "outlinewidth": 0,
             "ticks": ""
            },
            "colorscale": [
             [
              0,
              "#0d0887"
             ],
             [
              0.1111111111111111,
              "#46039f"
             ],
             [
              0.2222222222222222,
              "#7201a8"
             ],
             [
              0.3333333333333333,
              "#9c179e"
             ],
             [
              0.4444444444444444,
              "#bd3786"
             ],
             [
              0.5555555555555556,
              "#d8576b"
             ],
             [
              0.6666666666666666,
              "#ed7953"
             ],
             [
              0.7777777777777778,
              "#fb9f3a"
             ],
             [
              0.8888888888888888,
              "#fdca26"
             ],
             [
              1,
              "#f0f921"
             ]
            ],
            "type": "heatmapgl"
           }
          ],
          "histogram": [
           {
            "marker": {
             "pattern": {
              "fillmode": "overlay",
              "size": 10,
              "solidity": 0.2
             }
            },
            "type": "histogram"
           }
          ],
          "histogram2d": [
           {
            "colorbar": {
             "outlinewidth": 0,
             "ticks": ""
            },
            "colorscale": [
             [
              0,
              "#0d0887"
             ],
             [
              0.1111111111111111,
              "#46039f"
             ],
             [
              0.2222222222222222,
              "#7201a8"
             ],
             [
              0.3333333333333333,
              "#9c179e"
             ],
             [
              0.4444444444444444,
              "#bd3786"
             ],
             [
              0.5555555555555556,
              "#d8576b"
             ],
             [
              0.6666666666666666,
              "#ed7953"
             ],
             [
              0.7777777777777778,
              "#fb9f3a"
             ],
             [
              0.8888888888888888,
              "#fdca26"
             ],
             [
              1,
              "#f0f921"
             ]
            ],
            "type": "histogram2d"
           }
          ],
          "histogram2dcontour": [
           {
            "colorbar": {
             "outlinewidth": 0,
             "ticks": ""
            },
            "colorscale": [
             [
              0,
              "#0d0887"
             ],
             [
              0.1111111111111111,
              "#46039f"
             ],
             [
              0.2222222222222222,
              "#7201a8"
             ],
             [
              0.3333333333333333,
              "#9c179e"
             ],
             [
              0.4444444444444444,
              "#bd3786"
             ],
             [
              0.5555555555555556,
              "#d8576b"
             ],
             [
              0.6666666666666666,
              "#ed7953"
             ],
             [
              0.7777777777777778,
              "#fb9f3a"
             ],
             [
              0.8888888888888888,
              "#fdca26"
             ],
             [
              1,
              "#f0f921"
             ]
            ],
            "type": "histogram2dcontour"
           }
          ],
          "mesh3d": [
           {
            "colorbar": {
             "outlinewidth": 0,
             "ticks": ""
            },
            "type": "mesh3d"
           }
          ],
          "parcoords": [
           {
            "line": {
             "colorbar": {
              "outlinewidth": 0,
              "ticks": ""
             }
            },
            "type": "parcoords"
           }
          ],
          "pie": [
           {
            "automargin": true,
            "type": "pie"
           }
          ],
          "scatter": [
           {
            "fillpattern": {
             "fillmode": "overlay",
             "size": 10,
             "solidity": 0.2
            },
            "type": "scatter"
           }
          ],
          "scatter3d": [
           {
            "line": {
             "colorbar": {
              "outlinewidth": 0,
              "ticks": ""
             }
            },
            "marker": {
             "colorbar": {
              "outlinewidth": 0,
              "ticks": ""
             }
            },
            "type": "scatter3d"
           }
          ],
          "scattercarpet": [
           {
            "marker": {
             "colorbar": {
              "outlinewidth": 0,
              "ticks": ""
             }
            },
            "type": "scattercarpet"
           }
          ],
          "scattergeo": [
           {
            "marker": {
             "colorbar": {
              "outlinewidth": 0,
              "ticks": ""
             }
            },
            "type": "scattergeo"
           }
          ],
          "scattergl": [
           {
            "marker": {
             "colorbar": {
              "outlinewidth": 0,
              "ticks": ""
             }
            },
            "type": "scattergl"
           }
          ],
          "scattermapbox": [
           {
            "marker": {
             "colorbar": {
              "outlinewidth": 0,
              "ticks": ""
             }
            },
            "type": "scattermapbox"
           }
          ],
          "scatterpolar": [
           {
            "marker": {
             "colorbar": {
              "outlinewidth": 0,
              "ticks": ""
             }
            },
            "type": "scatterpolar"
           }
          ],
          "scatterpolargl": [
           {
            "marker": {
             "colorbar": {
              "outlinewidth": 0,
              "ticks": ""
             }
            },
            "type": "scatterpolargl"
           }
          ],
          "scatterternary": [
           {
            "marker": {
             "colorbar": {
              "outlinewidth": 0,
              "ticks": ""
             }
            },
            "type": "scatterternary"
           }
          ],
          "surface": [
           {
            "colorbar": {
             "outlinewidth": 0,
             "ticks": ""
            },
            "colorscale": [
             [
              0,
              "#0d0887"
             ],
             [
              0.1111111111111111,
              "#46039f"
             ],
             [
              0.2222222222222222,
              "#7201a8"
             ],
             [
              0.3333333333333333,
              "#9c179e"
             ],
             [
              0.4444444444444444,
              "#bd3786"
             ],
             [
              0.5555555555555556,
              "#d8576b"
             ],
             [
              0.6666666666666666,
              "#ed7953"
             ],
             [
              0.7777777777777778,
              "#fb9f3a"
             ],
             [
              0.8888888888888888,
              "#fdca26"
             ],
             [
              1,
              "#f0f921"
             ]
            ],
            "type": "surface"
           }
          ],
          "table": [
           {
            "cells": {
             "fill": {
              "color": "#EBF0F8"
             },
             "line": {
              "color": "white"
             }
            },
            "header": {
             "fill": {
              "color": "#C8D4E3"
             },
             "line": {
              "color": "white"
             }
            },
            "type": "table"
           }
          ]
         },
         "layout": {
          "annotationdefaults": {
           "arrowcolor": "#2a3f5f",
           "arrowhead": 0,
           "arrowwidth": 1
          },
          "autotypenumbers": "strict",
          "coloraxis": {
           "colorbar": {
            "outlinewidth": 0,
            "ticks": ""
           }
          },
          "colorscale": {
           "diverging": [
            [
             0,
             "#8e0152"
            ],
            [
             0.1,
             "#c51b7d"
            ],
            [
             0.2,
             "#de77ae"
            ],
            [
             0.3,
             "#f1b6da"
            ],
            [
             0.4,
             "#fde0ef"
            ],
            [
             0.5,
             "#f7f7f7"
            ],
            [
             0.6,
             "#e6f5d0"
            ],
            [
             0.7,
             "#b8e186"
            ],
            [
             0.8,
             "#7fbc41"
            ],
            [
             0.9,
             "#4d9221"
            ],
            [
             1,
             "#276419"
            ]
           ],
           "sequential": [
            [
             0,
             "#0d0887"
            ],
            [
             0.1111111111111111,
             "#46039f"
            ],
            [
             0.2222222222222222,
             "#7201a8"
            ],
            [
             0.3333333333333333,
             "#9c179e"
            ],
            [
             0.4444444444444444,
             "#bd3786"
            ],
            [
             0.5555555555555556,
             "#d8576b"
            ],
            [
             0.6666666666666666,
             "#ed7953"
            ],
            [
             0.7777777777777778,
             "#fb9f3a"
            ],
            [
             0.8888888888888888,
             "#fdca26"
            ],
            [
             1,
             "#f0f921"
            ]
           ],
           "sequentialminus": [
            [
             0,
             "#0d0887"
            ],
            [
             0.1111111111111111,
             "#46039f"
            ],
            [
             0.2222222222222222,
             "#7201a8"
            ],
            [
             0.3333333333333333,
             "#9c179e"
            ],
            [
             0.4444444444444444,
             "#bd3786"
            ],
            [
             0.5555555555555556,
             "#d8576b"
            ],
            [
             0.6666666666666666,
             "#ed7953"
            ],
            [
             0.7777777777777778,
             "#fb9f3a"
            ],
            [
             0.8888888888888888,
             "#fdca26"
            ],
            [
             1,
             "#f0f921"
            ]
           ]
          },
          "colorway": [
           "#636efa",
           "#EF553B",
           "#00cc96",
           "#ab63fa",
           "#FFA15A",
           "#19d3f3",
           "#FF6692",
           "#B6E880",
           "#FF97FF",
           "#FECB52"
          ],
          "font": {
           "color": "#2a3f5f"
          },
          "geo": {
           "bgcolor": "white",
           "lakecolor": "white",
           "landcolor": "#E5ECF6",
           "showlakes": true,
           "showland": true,
           "subunitcolor": "white"
          },
          "hoverlabel": {
           "align": "left"
          },
          "hovermode": "closest",
          "mapbox": {
           "style": "light"
          },
          "paper_bgcolor": "white",
          "plot_bgcolor": "#E5ECF6",
          "polar": {
           "angularaxis": {
            "gridcolor": "white",
            "linecolor": "white",
            "ticks": ""
           },
           "bgcolor": "#E5ECF6",
           "radialaxis": {
            "gridcolor": "white",
            "linecolor": "white",
            "ticks": ""
           }
          },
          "scene": {
           "xaxis": {
            "backgroundcolor": "#E5ECF6",
            "gridcolor": "white",
            "gridwidth": 2,
            "linecolor": "white",
            "showbackground": true,
            "ticks": "",
            "zerolinecolor": "white"
           },
           "yaxis": {
            "backgroundcolor": "#E5ECF6",
            "gridcolor": "white",
            "gridwidth": 2,
            "linecolor": "white",
            "showbackground": true,
            "ticks": "",
            "zerolinecolor": "white"
           },
           "zaxis": {
            "backgroundcolor": "#E5ECF6",
            "gridcolor": "white",
            "gridwidth": 2,
            "linecolor": "white",
            "showbackground": true,
            "ticks": "",
            "zerolinecolor": "white"
           }
          },
          "shapedefaults": {
           "line": {
            "color": "#2a3f5f"
           }
          },
          "ternary": {
           "aaxis": {
            "gridcolor": "white",
            "linecolor": "white",
            "ticks": ""
           },
           "baxis": {
            "gridcolor": "white",
            "linecolor": "white",
            "ticks": ""
           },
           "bgcolor": "#E5ECF6",
           "caxis": {
            "gridcolor": "white",
            "linecolor": "white",
            "ticks": ""
           }
          },
          "title": {
           "x": 0.05
          },
          "xaxis": {
           "automargin": true,
           "gridcolor": "white",
           "linecolor": "white",
           "ticks": "",
           "title": {
            "standoff": 15
           },
           "zerolinecolor": "white",
           "zerolinewidth": 2
          },
          "yaxis": {
           "automargin": true,
           "gridcolor": "white",
           "linecolor": "white",
           "ticks": "",
           "title": {
            "standoff": 15
           },
           "zerolinecolor": "white",
           "zerolinewidth": 2
          }
         }
        },
        "xaxis": {
         "anchor": "y",
         "domain": [
          0,
          1
         ],
         "title": {
          "text": "index"
         }
        },
        "yaxis": {
         "anchor": "x",
         "domain": [
          0,
          1
         ],
         "title": {
          "text": "value"
         }
        }
       }
      }
     },
     "metadata": {},
     "output_type": "display_data"
    }
   ],
   "source": [
    "ts.loc[\"2015-01-01\":\"2015-03-01\", \"onwind\"].plot()"
   ]
  },
  {
   "cell_type": "markdown",
   "metadata": {},
   "source": [
    "A common operation is to change the resolution of a dataset by resampling in time, which Pandas exposes through the [resample](http://pandas.pydata.org/pandas-docs/stable/timeseries.html#resampling) function.\n",
    "\n",
    ":::{note}\n",
    "The resample periods are specified using pandas [offset index](http://pandas.pydata.org/pandas-docs/stable/timeseries.html#offset-aliases) syntax.\n",
    ":::"
   ]
  },
  {
   "cell_type": "code",
   "execution_count": 21,
   "metadata": {},
   "outputs": [
    {
     "data": {
      "application/vnd.plotly.v1+json": {
       "config": {
        "plotlyServerURL": "https://plot.ly"
       },
       "data": [
        {
         "hovertemplate": "variable=onwind<br>index=%{x}<br>value=%{y}<extra></extra>",
         "legendgroup": "onwind",
         "line": {
          "color": "#636efa",
          "dash": "solid"
         },
         "marker": {
          "symbol": "circle"
         },
         "mode": "lines",
         "name": "onwind",
         "orientation": "v",
         "showlegend": true,
         "type": "scatter",
         "x": [
          "2015-01-01T00:00:00",
          "2015-01-02T00:00:00",
          "2015-01-03T00:00:00",
          "2015-01-04T00:00:00",
          "2015-01-05T00:00:00",
          "2015-01-06T00:00:00",
          "2015-01-07T00:00:00",
          "2015-01-08T00:00:00",
          "2015-01-09T00:00:00",
          "2015-01-10T00:00:00",
          "2015-01-11T00:00:00",
          "2015-01-12T00:00:00",
          "2015-01-13T00:00:00",
          "2015-01-14T00:00:00",
          "2015-01-15T00:00:00",
          "2015-01-16T00:00:00",
          "2015-01-17T00:00:00",
          "2015-01-18T00:00:00",
          "2015-01-19T00:00:00",
          "2015-01-20T00:00:00",
          "2015-01-21T00:00:00",
          "2015-01-22T00:00:00",
          "2015-01-23T00:00:00",
          "2015-01-24T00:00:00",
          "2015-01-25T00:00:00",
          "2015-01-26T00:00:00",
          "2015-01-27T00:00:00",
          "2015-01-28T00:00:00",
          "2015-01-29T00:00:00",
          "2015-01-30T00:00:00",
          "2015-01-31T00:00:00",
          "2015-02-01T00:00:00",
          "2015-02-02T00:00:00",
          "2015-02-03T00:00:00",
          "2015-02-04T00:00:00",
          "2015-02-05T00:00:00",
          "2015-02-06T00:00:00",
          "2015-02-07T00:00:00",
          "2015-02-08T00:00:00",
          "2015-02-09T00:00:00",
          "2015-02-10T00:00:00",
          "2015-02-11T00:00:00",
          "2015-02-12T00:00:00",
          "2015-02-13T00:00:00",
          "2015-02-14T00:00:00",
          "2015-02-15T00:00:00",
          "2015-02-16T00:00:00",
          "2015-02-17T00:00:00",
          "2015-02-18T00:00:00",
          "2015-02-19T00:00:00",
          "2015-02-20T00:00:00",
          "2015-02-21T00:00:00",
          "2015-02-22T00:00:00",
          "2015-02-23T00:00:00",
          "2015-02-24T00:00:00",
          "2015-02-25T00:00:00",
          "2015-02-26T00:00:00",
          "2015-02-27T00:00:00",
          "2015-02-28T00:00:00",
          "2015-03-01T00:00:00",
          "2015-03-02T00:00:00",
          "2015-03-03T00:00:00",
          "2015-03-04T00:00:00",
          "2015-03-05T00:00:00",
          "2015-03-06T00:00:00",
          "2015-03-07T00:00:00",
          "2015-03-08T00:00:00",
          "2015-03-09T00:00:00",
          "2015-03-10T00:00:00",
          "2015-03-11T00:00:00",
          "2015-03-12T00:00:00",
          "2015-03-13T00:00:00",
          "2015-03-14T00:00:00",
          "2015-03-15T00:00:00",
          "2015-03-16T00:00:00",
          "2015-03-17T00:00:00",
          "2015-03-18T00:00:00",
          "2015-03-19T00:00:00",
          "2015-03-20T00:00:00",
          "2015-03-21T00:00:00",
          "2015-03-22T00:00:00",
          "2015-03-23T00:00:00",
          "2015-03-24T00:00:00",
          "2015-03-25T00:00:00",
          "2015-03-26T00:00:00",
          "2015-03-27T00:00:00",
          "2015-03-28T00:00:00",
          "2015-03-29T00:00:00",
          "2015-03-30T00:00:00",
          "2015-03-31T00:00:00",
          "2015-04-01T00:00:00",
          "2015-04-02T00:00:00",
          "2015-04-03T00:00:00",
          "2015-04-04T00:00:00",
          "2015-04-05T00:00:00",
          "2015-04-06T00:00:00",
          "2015-04-07T00:00:00",
          "2015-04-08T00:00:00",
          "2015-04-09T00:00:00",
          "2015-04-10T00:00:00",
          "2015-04-11T00:00:00",
          "2015-04-12T00:00:00",
          "2015-04-13T00:00:00",
          "2015-04-14T00:00:00",
          "2015-04-15T00:00:00",
          "2015-04-16T00:00:00",
          "2015-04-17T00:00:00",
          "2015-04-18T00:00:00",
          "2015-04-19T00:00:00",
          "2015-04-20T00:00:00",
          "2015-04-21T00:00:00",
          "2015-04-22T00:00:00",
          "2015-04-23T00:00:00",
          "2015-04-24T00:00:00",
          "2015-04-25T00:00:00",
          "2015-04-26T00:00:00",
          "2015-04-27T00:00:00",
          "2015-04-28T00:00:00",
          "2015-04-29T00:00:00",
          "2015-04-30T00:00:00",
          "2015-05-01T00:00:00",
          "2015-05-02T00:00:00",
          "2015-05-03T00:00:00",
          "2015-05-04T00:00:00",
          "2015-05-05T00:00:00",
          "2015-05-06T00:00:00",
          "2015-05-07T00:00:00",
          "2015-05-08T00:00:00",
          "2015-05-09T00:00:00",
          "2015-05-10T00:00:00",
          "2015-05-11T00:00:00",
          "2015-05-12T00:00:00",
          "2015-05-13T00:00:00",
          "2015-05-14T00:00:00",
          "2015-05-15T00:00:00",
          "2015-05-16T00:00:00",
          "2015-05-17T00:00:00",
          "2015-05-18T00:00:00",
          "2015-05-19T00:00:00",
          "2015-05-20T00:00:00",
          "2015-05-21T00:00:00",
          "2015-05-22T00:00:00",
          "2015-05-23T00:00:00",
          "2015-05-24T00:00:00",
          "2015-05-25T00:00:00",
          "2015-05-26T00:00:00",
          "2015-05-27T00:00:00",
          "2015-05-28T00:00:00",
          "2015-05-29T00:00:00",
          "2015-05-30T00:00:00",
          "2015-05-31T00:00:00",
          "2015-06-01T00:00:00",
          "2015-06-02T00:00:00",
          "2015-06-03T00:00:00",
          "2015-06-04T00:00:00",
          "2015-06-05T00:00:00",
          "2015-06-06T00:00:00",
          "2015-06-07T00:00:00",
          "2015-06-08T00:00:00",
          "2015-06-09T00:00:00",
          "2015-06-10T00:00:00",
          "2015-06-11T00:00:00",
          "2015-06-12T00:00:00",
          "2015-06-13T00:00:00",
          "2015-06-14T00:00:00",
          "2015-06-15T00:00:00",
          "2015-06-16T00:00:00",
          "2015-06-17T00:00:00",
          "2015-06-18T00:00:00",
          "2015-06-19T00:00:00",
          "2015-06-20T00:00:00",
          "2015-06-21T00:00:00",
          "2015-06-22T00:00:00",
          "2015-06-23T00:00:00",
          "2015-06-24T00:00:00",
          "2015-06-25T00:00:00",
          "2015-06-26T00:00:00",
          "2015-06-27T00:00:00",
          "2015-06-28T00:00:00",
          "2015-06-29T00:00:00",
          "2015-06-30T00:00:00",
          "2015-07-01T00:00:00",
          "2015-07-02T00:00:00",
          "2015-07-03T00:00:00",
          "2015-07-04T00:00:00",
          "2015-07-05T00:00:00",
          "2015-07-06T00:00:00",
          "2015-07-07T00:00:00",
          "2015-07-08T00:00:00",
          "2015-07-09T00:00:00",
          "2015-07-10T00:00:00",
          "2015-07-11T00:00:00",
          "2015-07-12T00:00:00",
          "2015-07-13T00:00:00",
          "2015-07-14T00:00:00",
          "2015-07-15T00:00:00",
          "2015-07-16T00:00:00",
          "2015-07-17T00:00:00",
          "2015-07-18T00:00:00",
          "2015-07-19T00:00:00",
          "2015-07-20T00:00:00",
          "2015-07-21T00:00:00",
          "2015-07-22T00:00:00",
          "2015-07-23T00:00:00",
          "2015-07-24T00:00:00",
          "2015-07-25T00:00:00",
          "2015-07-26T00:00:00",
          "2015-07-27T00:00:00",
          "2015-07-28T00:00:00",
          "2015-07-29T00:00:00",
          "2015-07-30T00:00:00",
          "2015-07-31T00:00:00",
          "2015-08-01T00:00:00",
          "2015-08-02T00:00:00",
          "2015-08-03T00:00:00",
          "2015-08-04T00:00:00",
          "2015-08-05T00:00:00",
          "2015-08-06T00:00:00",
          "2015-08-07T00:00:00",
          "2015-08-08T00:00:00",
          "2015-08-09T00:00:00",
          "2015-08-10T00:00:00",
          "2015-08-11T00:00:00",
          "2015-08-12T00:00:00",
          "2015-08-13T00:00:00",
          "2015-08-14T00:00:00",
          "2015-08-15T00:00:00",
          "2015-08-16T00:00:00",
          "2015-08-17T00:00:00",
          "2015-08-18T00:00:00",
          "2015-08-19T00:00:00",
          "2015-08-20T00:00:00",
          "2015-08-21T00:00:00",
          "2015-08-22T00:00:00",
          "2015-08-23T00:00:00",
          "2015-08-24T00:00:00",
          "2015-08-25T00:00:00",
          "2015-08-26T00:00:00",
          "2015-08-27T00:00:00",
          "2015-08-28T00:00:00",
          "2015-08-29T00:00:00",
          "2015-08-30T00:00:00",
          "2015-08-31T00:00:00",
          "2015-09-01T00:00:00",
          "2015-09-02T00:00:00",
          "2015-09-03T00:00:00",
          "2015-09-04T00:00:00",
          "2015-09-05T00:00:00",
          "2015-09-06T00:00:00",
          "2015-09-07T00:00:00",
          "2015-09-08T00:00:00",
          "2015-09-09T00:00:00",
          "2015-09-10T00:00:00",
          "2015-09-11T00:00:00",
          "2015-09-12T00:00:00",
          "2015-09-13T00:00:00",
          "2015-09-14T00:00:00",
          "2015-09-15T00:00:00",
          "2015-09-16T00:00:00",
          "2015-09-17T00:00:00",
          "2015-09-18T00:00:00",
          "2015-09-19T00:00:00",
          "2015-09-20T00:00:00",
          "2015-09-21T00:00:00",
          "2015-09-22T00:00:00",
          "2015-09-23T00:00:00",
          "2015-09-24T00:00:00",
          "2015-09-25T00:00:00",
          "2015-09-26T00:00:00",
          "2015-09-27T00:00:00",
          "2015-09-28T00:00:00",
          "2015-09-29T00:00:00",
          "2015-09-30T00:00:00",
          "2015-10-01T00:00:00",
          "2015-10-02T00:00:00",
          "2015-10-03T00:00:00",
          "2015-10-04T00:00:00",
          "2015-10-05T00:00:00",
          "2015-10-06T00:00:00",
          "2015-10-07T00:00:00",
          "2015-10-08T00:00:00",
          "2015-10-09T00:00:00",
          "2015-10-10T00:00:00",
          "2015-10-11T00:00:00",
          "2015-10-12T00:00:00",
          "2015-10-13T00:00:00",
          "2015-10-14T00:00:00",
          "2015-10-15T00:00:00",
          "2015-10-16T00:00:00",
          "2015-10-17T00:00:00",
          "2015-10-18T00:00:00",
          "2015-10-19T00:00:00",
          "2015-10-20T00:00:00",
          "2015-10-21T00:00:00",
          "2015-10-22T00:00:00",
          "2015-10-23T00:00:00",
          "2015-10-24T00:00:00",
          "2015-10-25T00:00:00",
          "2015-10-26T00:00:00",
          "2015-10-27T00:00:00",
          "2015-10-28T00:00:00",
          "2015-10-29T00:00:00",
          "2015-10-30T00:00:00",
          "2015-10-31T00:00:00",
          "2015-11-01T00:00:00",
          "2015-11-02T00:00:00",
          "2015-11-03T00:00:00",
          "2015-11-04T00:00:00",
          "2015-11-05T00:00:00",
          "2015-11-06T00:00:00",
          "2015-11-07T00:00:00",
          "2015-11-08T00:00:00",
          "2015-11-09T00:00:00",
          "2015-11-10T00:00:00",
          "2015-11-11T00:00:00",
          "2015-11-12T00:00:00",
          "2015-11-13T00:00:00",
          "2015-11-14T00:00:00",
          "2015-11-15T00:00:00",
          "2015-11-16T00:00:00",
          "2015-11-17T00:00:00",
          "2015-11-18T00:00:00",
          "2015-11-19T00:00:00",
          "2015-11-20T00:00:00",
          "2015-11-21T00:00:00",
          "2015-11-22T00:00:00",
          "2015-11-23T00:00:00",
          "2015-11-24T00:00:00",
          "2015-11-25T00:00:00",
          "2015-11-26T00:00:00",
          "2015-11-27T00:00:00",
          "2015-11-28T00:00:00",
          "2015-11-29T00:00:00",
          "2015-11-30T00:00:00",
          "2015-12-01T00:00:00",
          "2015-12-02T00:00:00",
          "2015-12-03T00:00:00",
          "2015-12-04T00:00:00",
          "2015-12-05T00:00:00",
          "2015-12-06T00:00:00",
          "2015-12-07T00:00:00",
          "2015-12-08T00:00:00",
          "2015-12-09T00:00:00",
          "2015-12-10T00:00:00",
          "2015-12-11T00:00:00",
          "2015-12-12T00:00:00",
          "2015-12-13T00:00:00",
          "2015-12-14T00:00:00",
          "2015-12-15T00:00:00",
          "2015-12-16T00:00:00",
          "2015-12-17T00:00:00",
          "2015-12-18T00:00:00",
          "2015-12-19T00:00:00",
          "2015-12-20T00:00:00",
          "2015-12-21T00:00:00",
          "2015-12-22T00:00:00",
          "2015-12-23T00:00:00",
          "2015-12-24T00:00:00",
          "2015-12-25T00:00:00",
          "2015-12-26T00:00:00",
          "2015-12-27T00:00:00",
          "2015-12-28T00:00:00",
          "2015-12-29T00:00:00",
          "2015-12-30T00:00:00",
          "2015-12-31T00:00:00"
         ],
         "xaxis": "x",
         "y": [
          0.31480416666666666,
          0.7429166666666666,
          0.4911541666666666,
          0.4050375,
          0.20781666666666665,
          0.12917916666666665,
          0.22662916666666666,
          0.446425,
          0.785575,
          0.8331708333333333,
          0.7897,
          0.7502916666666667,
          0.6174708333333333,
          0.4396,
          0.6225791666666667,
          0.2785666666666667,
          0.13793750000000002,
          0.140675,
          0.039525,
          0.019879166666666667,
          0.053812500000000006,
          0.08205416666666666,
          0.05163333333333334,
          0.16282916666666666,
          0.11370416666666666,
          0.250175,
          0.2905625,
          0.5175625,
          0.472,
          0.13409583333333333,
          0.14691666666666667,
          0.14077083333333332,
          0.21741666666666667,
          0.11057916666666667,
          0.046204166666666664,
          0.12161666666666666,
          0.1546125,
          0.3214666666666667,
          0.4822583333333333,
          0.40014583333333337,
          0.1705875,
          0.03535,
          0.039066666666666666,
          0.11447916666666667,
          0.10335416666666668,
          0.18885833333333335,
          0.17820416666666664,
          0.057125,
          0.14815,
          0.25808333333333333,
          0.3586958333333334,
          0.27916250000000004,
          0.14781666666666668,
          0.3485958333333334,
          0.31002916666666663,
          0.08351666666666667,
          0.1898291666666667,
          0.12712083333333332,
          0.1885375,
          0.4682208333333333,
          0.5619583333333333,
          0.42425,
          0.3851833333333334,
          0.16452083333333334,
          0.14322500000000002,
          0.27760833333333335,
          0.22027916666666666,
          0.0769375,
          0.1328125,
          0.11219166666666668,
          0.07803333333333333,
          0.12177083333333333,
          0.13899166666666665,
          0.2393875,
          0.3363125,
          0.1889125,
          0.12001250000000001,
          0.040383333333333334,
          0.03209583333333333,
          0.15924583333333334,
          0.135525,
          0.059208333333333335,
          0.022766666666666668,
          0.13346666666666665,
          0.09409583333333334,
          0.22517916666666668,
          0.19786666666666666,
          0.580275,
          0.7148333333333333,
          0.797125,
          0.6585708333333333,
          0.43379999999999996,
          0.15945833333333334,
          0.07889583333333333,
          0.07374583333333333,
          0.08152916666666667,
          0.15188333333333334,
          0.0807125,
          0.020916666666666667,
          0.04780416666666667,
          0.34531666666666666,
          0.2965333333333333,
          0.3736375,
          0.23517083333333333,
          0.31629583333333333,
          0.14382916666666667,
          0.14877083333333332,
          0.08065,
          0.04777083333333334,
          0.12169166666666666,
          0.2469083333333333,
          0.08765,
          0.05087083333333334,
          0.072925,
          0.15352083333333333,
          0.07009583333333333,
          0.13622916666666665,
          0.12837916666666668,
          0.12930416666666666,
          0.128825,
          0.06251666666666666,
          0.0323125,
          0.22090416666666668,
          0.18421666666666667,
          0.3982583333333333,
          0.29502083333333334,
          0.2584708333333333,
          0.04619583333333333,
          0.2658375,
          0.2605,
          0.16673749999999998,
          0.27929166666666666,
          0.22800416666666667,
          0.0695875,
          0.04977500000000001,
          0.20235833333333333,
          0.23524583333333335,
          0.14452916666666668,
          0.22524166666666667,
          0.07778333333333333,
          0.06779166666666667,
          0.03329583333333334,
          0.07594583333333334,
          0.0151,
          0.06810000000000001,
          0.14067916666666666,
          0.13293333333333332,
          0.25082916666666666,
          0.14528749999999999,
          0.294525,
          0.27599999999999997,
          0.11670416666666666,
          0.5435666666666666,
          0.36146666666666666,
          0.05708333333333334,
          0.15060416666666668,
          0.17337916666666667,
          0.09557083333333333,
          0.13726666666666668,
          0.0974,
          0.07242083333333334,
          0.049370833333333336,
          0.04090833333333333,
          0.11629583333333333,
          0.10719583333333334,
          0.10379583333333332,
          0.07892083333333334,
          0.09125833333333333,
          0.21832916666666666,
          0.21127916666666668,
          0.11241250000000001,
          0.06974999999999999,
          0.12916666666666668,
          0.18165833333333334,
          0.18466249999999998,
          0.04626666666666667,
          0.0331375,
          0.16631666666666667,
          0.04885,
          0.05632916666666667,
          0.05104166666666667,
          0.14023333333333335,
          0.20199583333333335,
          0.0650375,
          0.07502083333333333,
          0.07739583333333333,
          0.17679583333333335,
          0.08577916666666667,
          0.4339291666666667,
          0.4607375,
          0.24297500000000002,
          0.045000000000000005,
          0.10598333333333333,
          0.12536250000000002,
          0.1355375,
          0.0494625,
          0.03974166666666667,
          0.14612083333333334,
          0.12638333333333332,
          0.16357083333333333,
          0.11254583333333333,
          0.1925,
          0.07347916666666666,
          0.07317083333333334,
          0.0862,
          0.5004458333333334,
          0.2657,
          0.2994125,
          0.45078749999999995,
          0.42493749999999997,
          0.42058749999999995,
          0.11852916666666667,
          0.0411625,
          0.048329166666666666,
          0.09752916666666667,
          0.13575416666666668,
          0.06565833333333333,
          0.07113333333333334,
          0.0471875,
          0.10303333333333332,
          0.06578333333333333,
          0.06684166666666667,
          0.06958750000000001,
          0.07329583333333334,
          0.16708749999999997,
          0.1653125,
          0.04544583333333333,
          0.075,
          0.13479166666666667,
          0.08237083333333334,
          0.0245625,
          0.023866666666666665,
          0.03975416666666667,
          0.10592083333333334,
          0.25808333333333333,
          0.21943333333333334,
          0.385,
          0.2524541666666667,
          0.17037083333333333,
          0.06589166666666667,
          0.029412499999999998,
          0.046920833333333335,
          0.08935833333333333,
          0.19734583333333333,
          0.15234583333333332,
          0.05005833333333334,
          0.2043,
          0.4496,
          0.5173333333333333,
          0.14631249999999998,
          0.07145833333333333,
          0.08797916666666666,
          0.13483333333333333,
          0.12742083333333334,
          0.12805416666666666,
          0.12415416666666668,
          0.2143625,
          0.3511458333333333,
          0.2935625,
          0.4027416666666667,
          0.16439166666666669,
          0.08504583333333333,
          0.17028333333333334,
          0.08612916666666666,
          0.15010833333333332,
          0.07185416666666666,
          0.17300833333333332,
          0.06521666666666666,
          0.0684625,
          0.08097916666666667,
          0.08610416666666666,
          0.15631666666666666,
          0.12267499999999999,
          0.07287083333333333,
          0.06213333333333334,
          0.0465625,
          0.05585416666666667,
          0.10604999999999999,
          0.2434333333333333,
          0.16836666666666666,
          0.041362499999999996,
          0.05412083333333333,
          0.17306666666666667,
          0.25632083333333333,
          0.1549375,
          0.08716666666666667,
          0.098675,
          0.12524166666666667,
          0.0335125,
          0.012945833333333332,
          0.022870833333333337,
          0.023095833333333333,
          0.030762499999999998,
          0.09788333333333334,
          0.23437916666666667,
          0.15379166666666666,
          0.09974583333333333,
          0.08556666666666667,
          0.1155875,
          0.12481666666666667,
          0.11400833333333334,
          0.017833333333333333,
          0.0657125,
          0.14823333333333333,
          0.05910416666666667,
          0.043116666666666664,
          0.0327125,
          0.0795625,
          0.091225,
          0.19869166666666668,
          0.3287791666666667,
          0.2867416666666667,
          0.5588208333333333,
          0.6049833333333333,
          0.32572083333333335,
          0.23936666666666664,
          0.4204666666666667,
          0.5438458333333334,
          0.5149458333333333,
          0.3797916666666667,
          0.4620041666666667,
          0.7875083333333334,
          0.7088666666666666,
          0.25942916666666666,
          0.13106666666666666,
          0.23412083333333333,
          0.1152875,
          0.34132500000000005,
          0.13473333333333334,
          0.07161666666666668,
          0.17939583333333334,
          0.3973708333333333,
          0.7435833333333334,
          0.632525,
          0.3378541666666666,
          0.33039583333333333,
          0.221475,
          0.4495541666666667,
          0.5716083333333334,
          0.6268375,
          0.1014125,
          0.17045,
          0.2146458333333333,
          0.33955416666666666,
          0.43806666666666666,
          0.33097916666666666,
          0.313175,
          0.080825,
          0.055858333333333336,
          0.19092916666666668,
          0.2892125,
          0.2709333333333333,
          0.23449166666666665,
          0.2733666666666667,
          0.5224291666666666,
          0.6275666666666667,
          0.521125,
          0.3374458333333333,
          0.3264708333333333,
          0.6076458333333333,
          0.3732958333333333,
          0.14432083333333334,
          0.22512916666666669,
          0.28200416666666667,
          0.264175
         ],
         "yaxis": "y"
        }
       ],
       "layout": {
        "legend": {
         "title": {
          "text": "variable"
         },
         "tracegroupgap": 0
        },
        "margin": {
         "t": 60
        },
        "template": {
         "data": {
          "bar": [
           {
            "error_x": {
             "color": "#2a3f5f"
            },
            "error_y": {
             "color": "#2a3f5f"
            },
            "marker": {
             "line": {
              "color": "#E5ECF6",
              "width": 0.5
             },
             "pattern": {
              "fillmode": "overlay",
              "size": 10,
              "solidity": 0.2
             }
            },
            "type": "bar"
           }
          ],
          "barpolar": [
           {
            "marker": {
             "line": {
              "color": "#E5ECF6",
              "width": 0.5
             },
             "pattern": {
              "fillmode": "overlay",
              "size": 10,
              "solidity": 0.2
             }
            },
            "type": "barpolar"
           }
          ],
          "carpet": [
           {
            "aaxis": {
             "endlinecolor": "#2a3f5f",
             "gridcolor": "white",
             "linecolor": "white",
             "minorgridcolor": "white",
             "startlinecolor": "#2a3f5f"
            },
            "baxis": {
             "endlinecolor": "#2a3f5f",
             "gridcolor": "white",
             "linecolor": "white",
             "minorgridcolor": "white",
             "startlinecolor": "#2a3f5f"
            },
            "type": "carpet"
           }
          ],
          "choropleth": [
           {
            "colorbar": {
             "outlinewidth": 0,
             "ticks": ""
            },
            "type": "choropleth"
           }
          ],
          "contour": [
           {
            "colorbar": {
             "outlinewidth": 0,
             "ticks": ""
            },
            "colorscale": [
             [
              0,
              "#0d0887"
             ],
             [
              0.1111111111111111,
              "#46039f"
             ],
             [
              0.2222222222222222,
              "#7201a8"
             ],
             [
              0.3333333333333333,
              "#9c179e"
             ],
             [
              0.4444444444444444,
              "#bd3786"
             ],
             [
              0.5555555555555556,
              "#d8576b"
             ],
             [
              0.6666666666666666,
              "#ed7953"
             ],
             [
              0.7777777777777778,
              "#fb9f3a"
             ],
             [
              0.8888888888888888,
              "#fdca26"
             ],
             [
              1,
              "#f0f921"
             ]
            ],
            "type": "contour"
           }
          ],
          "contourcarpet": [
           {
            "colorbar": {
             "outlinewidth": 0,
             "ticks": ""
            },
            "type": "contourcarpet"
           }
          ],
          "heatmap": [
           {
            "colorbar": {
             "outlinewidth": 0,
             "ticks": ""
            },
            "colorscale": [
             [
              0,
              "#0d0887"
             ],
             [
              0.1111111111111111,
              "#46039f"
             ],
             [
              0.2222222222222222,
              "#7201a8"
             ],
             [
              0.3333333333333333,
              "#9c179e"
             ],
             [
              0.4444444444444444,
              "#bd3786"
             ],
             [
              0.5555555555555556,
              "#d8576b"
             ],
             [
              0.6666666666666666,
              "#ed7953"
             ],
             [
              0.7777777777777778,
              "#fb9f3a"
             ],
             [
              0.8888888888888888,
              "#fdca26"
             ],
             [
              1,
              "#f0f921"
             ]
            ],
            "type": "heatmap"
           }
          ],
          "heatmapgl": [
           {
            "colorbar": {
             "outlinewidth": 0,
             "ticks": ""
            },
            "colorscale": [
             [
              0,
              "#0d0887"
             ],
             [
              0.1111111111111111,
              "#46039f"
             ],
             [
              0.2222222222222222,
              "#7201a8"
             ],
             [
              0.3333333333333333,
              "#9c179e"
             ],
             [
              0.4444444444444444,
              "#bd3786"
             ],
             [
              0.5555555555555556,
              "#d8576b"
             ],
             [
              0.6666666666666666,
              "#ed7953"
             ],
             [
              0.7777777777777778,
              "#fb9f3a"
             ],
             [
              0.8888888888888888,
              "#fdca26"
             ],
             [
              1,
              "#f0f921"
             ]
            ],
            "type": "heatmapgl"
           }
          ],
          "histogram": [
           {
            "marker": {
             "pattern": {
              "fillmode": "overlay",
              "size": 10,
              "solidity": 0.2
             }
            },
            "type": "histogram"
           }
          ],
          "histogram2d": [
           {
            "colorbar": {
             "outlinewidth": 0,
             "ticks": ""
            },
            "colorscale": [
             [
              0,
              "#0d0887"
             ],
             [
              0.1111111111111111,
              "#46039f"
             ],
             [
              0.2222222222222222,
              "#7201a8"
             ],
             [
              0.3333333333333333,
              "#9c179e"
             ],
             [
              0.4444444444444444,
              "#bd3786"
             ],
             [
              0.5555555555555556,
              "#d8576b"
             ],
             [
              0.6666666666666666,
              "#ed7953"
             ],
             [
              0.7777777777777778,
              "#fb9f3a"
             ],
             [
              0.8888888888888888,
              "#fdca26"
             ],
             [
              1,
              "#f0f921"
             ]
            ],
            "type": "histogram2d"
           }
          ],
          "histogram2dcontour": [
           {
            "colorbar": {
             "outlinewidth": 0,
             "ticks": ""
            },
            "colorscale": [
             [
              0,
              "#0d0887"
             ],
             [
              0.1111111111111111,
              "#46039f"
             ],
             [
              0.2222222222222222,
              "#7201a8"
             ],
             [
              0.3333333333333333,
              "#9c179e"
             ],
             [
              0.4444444444444444,
              "#bd3786"
             ],
             [
              0.5555555555555556,
              "#d8576b"
             ],
             [
              0.6666666666666666,
              "#ed7953"
             ],
             [
              0.7777777777777778,
              "#fb9f3a"
             ],
             [
              0.8888888888888888,
              "#fdca26"
             ],
             [
              1,
              "#f0f921"
             ]
            ],
            "type": "histogram2dcontour"
           }
          ],
          "mesh3d": [
           {
            "colorbar": {
             "outlinewidth": 0,
             "ticks": ""
            },
            "type": "mesh3d"
           }
          ],
          "parcoords": [
           {
            "line": {
             "colorbar": {
              "outlinewidth": 0,
              "ticks": ""
             }
            },
            "type": "parcoords"
           }
          ],
          "pie": [
           {
            "automargin": true,
            "type": "pie"
           }
          ],
          "scatter": [
           {
            "fillpattern": {
             "fillmode": "overlay",
             "size": 10,
             "solidity": 0.2
            },
            "type": "scatter"
           }
          ],
          "scatter3d": [
           {
            "line": {
             "colorbar": {
              "outlinewidth": 0,
              "ticks": ""
             }
            },
            "marker": {
             "colorbar": {
              "outlinewidth": 0,
              "ticks": ""
             }
            },
            "type": "scatter3d"
           }
          ],
          "scattercarpet": [
           {
            "marker": {
             "colorbar": {
              "outlinewidth": 0,
              "ticks": ""
             }
            },
            "type": "scattercarpet"
           }
          ],
          "scattergeo": [
           {
            "marker": {
             "colorbar": {
              "outlinewidth": 0,
              "ticks": ""
             }
            },
            "type": "scattergeo"
           }
          ],
          "scattergl": [
           {
            "marker": {
             "colorbar": {
              "outlinewidth": 0,
              "ticks": ""
             }
            },
            "type": "scattergl"
           }
          ],
          "scattermapbox": [
           {
            "marker": {
             "colorbar": {
              "outlinewidth": 0,
              "ticks": ""
             }
            },
            "type": "scattermapbox"
           }
          ],
          "scatterpolar": [
           {
            "marker": {
             "colorbar": {
              "outlinewidth": 0,
              "ticks": ""
             }
            },
            "type": "scatterpolar"
           }
          ],
          "scatterpolargl": [
           {
            "marker": {
             "colorbar": {
              "outlinewidth": 0,
              "ticks": ""
             }
            },
            "type": "scatterpolargl"
           }
          ],
          "scatterternary": [
           {
            "marker": {
             "colorbar": {
              "outlinewidth": 0,
              "ticks": ""
             }
            },
            "type": "scatterternary"
           }
          ],
          "surface": [
           {
            "colorbar": {
             "outlinewidth": 0,
             "ticks": ""
            },
            "colorscale": [
             [
              0,
              "#0d0887"
             ],
             [
              0.1111111111111111,
              "#46039f"
             ],
             [
              0.2222222222222222,
              "#7201a8"
             ],
             [
              0.3333333333333333,
              "#9c179e"
             ],
             [
              0.4444444444444444,
              "#bd3786"
             ],
             [
              0.5555555555555556,
              "#d8576b"
             ],
             [
              0.6666666666666666,
              "#ed7953"
             ],
             [
              0.7777777777777778,
              "#fb9f3a"
             ],
             [
              0.8888888888888888,
              "#fdca26"
             ],
             [
              1,
              "#f0f921"
             ]
            ],
            "type": "surface"
           }
          ],
          "table": [
           {
            "cells": {
             "fill": {
              "color": "#EBF0F8"
             },
             "line": {
              "color": "white"
             }
            },
            "header": {
             "fill": {
              "color": "#C8D4E3"
             },
             "line": {
              "color": "white"
             }
            },
            "type": "table"
           }
          ]
         },
         "layout": {
          "annotationdefaults": {
           "arrowcolor": "#2a3f5f",
           "arrowhead": 0,
           "arrowwidth": 1
          },
          "autotypenumbers": "strict",
          "coloraxis": {
           "colorbar": {
            "outlinewidth": 0,
            "ticks": ""
           }
          },
          "colorscale": {
           "diverging": [
            [
             0,
             "#8e0152"
            ],
            [
             0.1,
             "#c51b7d"
            ],
            [
             0.2,
             "#de77ae"
            ],
            [
             0.3,
             "#f1b6da"
            ],
            [
             0.4,
             "#fde0ef"
            ],
            [
             0.5,
             "#f7f7f7"
            ],
            [
             0.6,
             "#e6f5d0"
            ],
            [
             0.7,
             "#b8e186"
            ],
            [
             0.8,
             "#7fbc41"
            ],
            [
             0.9,
             "#4d9221"
            ],
            [
             1,
             "#276419"
            ]
           ],
           "sequential": [
            [
             0,
             "#0d0887"
            ],
            [
             0.1111111111111111,
             "#46039f"
            ],
            [
             0.2222222222222222,
             "#7201a8"
            ],
            [
             0.3333333333333333,
             "#9c179e"
            ],
            [
             0.4444444444444444,
             "#bd3786"
            ],
            [
             0.5555555555555556,
             "#d8576b"
            ],
            [
             0.6666666666666666,
             "#ed7953"
            ],
            [
             0.7777777777777778,
             "#fb9f3a"
            ],
            [
             0.8888888888888888,
             "#fdca26"
            ],
            [
             1,
             "#f0f921"
            ]
           ],
           "sequentialminus": [
            [
             0,
             "#0d0887"
            ],
            [
             0.1111111111111111,
             "#46039f"
            ],
            [
             0.2222222222222222,
             "#7201a8"
            ],
            [
             0.3333333333333333,
             "#9c179e"
            ],
            [
             0.4444444444444444,
             "#bd3786"
            ],
            [
             0.5555555555555556,
             "#d8576b"
            ],
            [
             0.6666666666666666,
             "#ed7953"
            ],
            [
             0.7777777777777778,
             "#fb9f3a"
            ],
            [
             0.8888888888888888,
             "#fdca26"
            ],
            [
             1,
             "#f0f921"
            ]
           ]
          },
          "colorway": [
           "#636efa",
           "#EF553B",
           "#00cc96",
           "#ab63fa",
           "#FFA15A",
           "#19d3f3",
           "#FF6692",
           "#B6E880",
           "#FF97FF",
           "#FECB52"
          ],
          "font": {
           "color": "#2a3f5f"
          },
          "geo": {
           "bgcolor": "white",
           "lakecolor": "white",
           "landcolor": "#E5ECF6",
           "showlakes": true,
           "showland": true,
           "subunitcolor": "white"
          },
          "hoverlabel": {
           "align": "left"
          },
          "hovermode": "closest",
          "mapbox": {
           "style": "light"
          },
          "paper_bgcolor": "white",
          "plot_bgcolor": "#E5ECF6",
          "polar": {
           "angularaxis": {
            "gridcolor": "white",
            "linecolor": "white",
            "ticks": ""
           },
           "bgcolor": "#E5ECF6",
           "radialaxis": {
            "gridcolor": "white",
            "linecolor": "white",
            "ticks": ""
           }
          },
          "scene": {
           "xaxis": {
            "backgroundcolor": "#E5ECF6",
            "gridcolor": "white",
            "gridwidth": 2,
            "linecolor": "white",
            "showbackground": true,
            "ticks": "",
            "zerolinecolor": "white"
           },
           "yaxis": {
            "backgroundcolor": "#E5ECF6",
            "gridcolor": "white",
            "gridwidth": 2,
            "linecolor": "white",
            "showbackground": true,
            "ticks": "",
            "zerolinecolor": "white"
           },
           "zaxis": {
            "backgroundcolor": "#E5ECF6",
            "gridcolor": "white",
            "gridwidth": 2,
            "linecolor": "white",
            "showbackground": true,
            "ticks": "",
            "zerolinecolor": "white"
           }
          },
          "shapedefaults": {
           "line": {
            "color": "#2a3f5f"
           }
          },
          "ternary": {
           "aaxis": {
            "gridcolor": "white",
            "linecolor": "white",
            "ticks": ""
           },
           "baxis": {
            "gridcolor": "white",
            "linecolor": "white",
            "ticks": ""
           },
           "bgcolor": "#E5ECF6",
           "caxis": {
            "gridcolor": "white",
            "linecolor": "white",
            "ticks": ""
           }
          },
          "title": {
           "x": 0.05
          },
          "xaxis": {
           "automargin": true,
           "gridcolor": "white",
           "linecolor": "white",
           "ticks": "",
           "title": {
            "standoff": 15
           },
           "zerolinecolor": "white",
           "zerolinewidth": 2
          },
          "yaxis": {
           "automargin": true,
           "gridcolor": "white",
           "linecolor": "white",
           "ticks": "",
           "title": {
            "standoff": 15
           },
           "zerolinecolor": "white",
           "zerolinewidth": 2
          }
         }
        },
        "xaxis": {
         "anchor": "y",
         "domain": [
          0,
          1
         ],
         "title": {
          "text": "index"
         }
        },
        "yaxis": {
         "anchor": "x",
         "domain": [
          0,
          1
         ],
         "title": {
          "text": "value"
         }
        }
       }
      }
     },
     "metadata": {},
     "output_type": "display_data"
    }
   ],
   "source": [
    "ts[\"onwind\"].resample(\"D\").mean().plot()"
   ]
  },
  {
   "cell_type": "markdown",
   "metadata": {},
   "source": [
    "## Groupby Functionality"
   ]
  },
  {
   "cell_type": "markdown",
   "metadata": {},
   "source": [
    "`DataFrame` objects have a `groupby` method. The simplest way to think about it is that you pass another series, whose values are used to split the original object into different groups.\n",
    "\n",
    "Here's an example which retrieves the total generation capacity per country:"
   ]
  },
  {
   "cell_type": "code",
   "execution_count": 22,
   "metadata": {},
   "outputs": [],
   "source": [
    "fn = \"https://raw.githubusercontent.com/PyPSA/powerplantmatching/master/powerplants.csv\""
   ]
  },
  {
   "cell_type": "code",
   "execution_count": 23,
   "metadata": {},
   "outputs": [
    {
     "data": {
      "text/html": [
       "<div>\n",
       "<style scoped>\n",
       "    .dataframe tbody tr th:only-of-type {\n",
       "        vertical-align: middle;\n",
       "    }\n",
       "\n",
       "    .dataframe tbody tr th {\n",
       "        vertical-align: top;\n",
       "    }\n",
       "\n",
       "    .dataframe thead th {\n",
       "        text-align: right;\n",
       "    }\n",
       "</style>\n",
       "<table border=\"1\" class=\"dataframe\">\n",
       "  <thead>\n",
       "    <tr style=\"text-align: right;\">\n",
       "      <th></th>\n",
       "      <th>Name</th>\n",
       "      <th>Fueltype</th>\n",
       "      <th>Technology</th>\n",
       "      <th>Set</th>\n",
       "      <th>Country</th>\n",
       "      <th>Capacity</th>\n",
       "      <th>Efficiency</th>\n",
       "      <th>DateIn</th>\n",
       "      <th>DateRetrofit</th>\n",
       "      <th>DateOut</th>\n",
       "    </tr>\n",
       "    <tr>\n",
       "      <th>id</th>\n",
       "      <th></th>\n",
       "      <th></th>\n",
       "      <th></th>\n",
       "      <th></th>\n",
       "      <th></th>\n",
       "      <th></th>\n",
       "      <th></th>\n",
       "      <th></th>\n",
       "      <th></th>\n",
       "      <th></th>\n",
       "    </tr>\n",
       "  </thead>\n",
       "  <tbody>\n",
       "    <tr>\n",
       "      <th>0</th>\n",
       "      <td>Kernkraftwerk Emsland</td>\n",
       "      <td>Nuclear</td>\n",
       "      <td>Steam Turbine</td>\n",
       "      <td>PP</td>\n",
       "      <td>Germany</td>\n",
       "      <td>1336.0</td>\n",
       "      <td>0.33</td>\n",
       "      <td>1988.0</td>\n",
       "      <td>1988.0</td>\n",
       "      <td>2023.0</td>\n",
       "    </tr>\n",
       "    <tr>\n",
       "      <th>1</th>\n",
       "      <td>Brokdorf</td>\n",
       "      <td>Nuclear</td>\n",
       "      <td>Steam Turbine</td>\n",
       "      <td>PP</td>\n",
       "      <td>Germany</td>\n",
       "      <td>1410.0</td>\n",
       "      <td>0.33</td>\n",
       "      <td>1986.0</td>\n",
       "      <td>1986.0</td>\n",
       "      <td>2021.0</td>\n",
       "    </tr>\n",
       "    <tr>\n",
       "      <th>2</th>\n",
       "      <td>Borssele</td>\n",
       "      <td>Hard Coal</td>\n",
       "      <td>Steam Turbine</td>\n",
       "      <td>PP</td>\n",
       "      <td>Netherlands</td>\n",
       "      <td>485.0</td>\n",
       "      <td>NaN</td>\n",
       "      <td>1973.0</td>\n",
       "      <td>NaN</td>\n",
       "      <td>2034.0</td>\n",
       "    </tr>\n",
       "    <tr>\n",
       "      <th>3</th>\n",
       "      <td>Gemeinschaftskernkraftwerk Neckarwestheim</td>\n",
       "      <td>Nuclear</td>\n",
       "      <td>Steam Turbine</td>\n",
       "      <td>PP</td>\n",
       "      <td>Germany</td>\n",
       "      <td>1310.0</td>\n",
       "      <td>0.33</td>\n",
       "      <td>1976.0</td>\n",
       "      <td>1989.0</td>\n",
       "      <td>2023.0</td>\n",
       "    </tr>\n",
       "    <tr>\n",
       "      <th>4</th>\n",
       "      <td>Isar</td>\n",
       "      <td>Nuclear</td>\n",
       "      <td>Steam Turbine</td>\n",
       "      <td>PP</td>\n",
       "      <td>Germany</td>\n",
       "      <td>1410.0</td>\n",
       "      <td>0.33</td>\n",
       "      <td>1979.0</td>\n",
       "      <td>1988.0</td>\n",
       "      <td>2023.0</td>\n",
       "    </tr>\n",
       "  </tbody>\n",
       "</table>\n",
       "</div>"
      ],
      "text/plain": [
       "                                         Name   Fueltype     Technology Set  \\\n",
       "id                                                                            \n",
       "0                       Kernkraftwerk Emsland    Nuclear  Steam Turbine  PP   \n",
       "1                                    Brokdorf    Nuclear  Steam Turbine  PP   \n",
       "2                                    Borssele  Hard Coal  Steam Turbine  PP   \n",
       "3   Gemeinschaftskernkraftwerk Neckarwestheim    Nuclear  Steam Turbine  PP   \n",
       "4                                        Isar    Nuclear  Steam Turbine  PP   \n",
       "\n",
       "        Country  Capacity  Efficiency  DateIn  DateRetrofit  DateOut  \n",
       "id                                                                    \n",
       "0       Germany    1336.0        0.33  1988.0        1988.0   2023.0  \n",
       "1       Germany    1410.0        0.33  1986.0        1986.0   2021.0  \n",
       "2   Netherlands     485.0         NaN  1973.0           NaN   2034.0  \n",
       "3       Germany    1310.0        0.33  1976.0        1989.0   2023.0  \n",
       "4       Germany    1410.0        0.33  1979.0        1988.0   2023.0  "
      ]
     },
     "execution_count": 23,
     "metadata": {},
     "output_type": "execute_result"
    }
   ],
   "source": [
    "df = pd.read_csv(fn, index_col=0)\n",
    "df.iloc[:5, :10]"
   ]
  },
  {
   "cell_type": "code",
   "execution_count": 24,
   "metadata": {},
   "outputs": [
    {
     "data": {
      "text/plain": [
       "Country\n",
       "Albania                    2370.400000\n",
       "Austria                   24643.200368\n",
       "Belgium                   21443.151009\n",
       "Bosnia and Herzegovina     4827.195964\n",
       "Bulgaria                  15699.186363\n",
       "Name: Capacity, dtype: float64"
      ]
     },
     "execution_count": 24,
     "metadata": {},
     "output_type": "execute_result"
    }
   ],
   "source": [
    "grouped = df.groupby(\"Country\").Capacity.sum()\n",
    "grouped.head()"
   ]
  },
  {
   "cell_type": "markdown",
   "metadata": {},
   "source": [
    "Let's break apart this operation a bit. The workflow with `groupby` can be divided into three general steps:\n",
    "\n",
    "1. **Split**: Partition the data into different groups based on some criterion.\n",
    "2. **Apply**: Do some caclulation within each group, e.g. minimum, maximum, sums.\n",
    "3. **Combine**: Put the results back together into a single object.\n",
    "\n",
    "<img src=\"https://miro.medium.com/max/1840/1*JbF6nhrQsn4f-TaSF6IR9g.png\" width=\"720px\" />"
   ]
  },
  {
   "cell_type": "markdown",
   "metadata": {},
   "source": [
    "Grouping is not only possible on a single columns, but also on multiple columns. For instance,\n",
    "we might want to group the capacities by country **and** fuel type. To achieve this, we pass a list of functions to the `groupby` functions."
   ]
  },
  {
   "cell_type": "code",
   "execution_count": 25,
   "metadata": {},
   "outputs": [
    {
     "data": {
      "text/html": [
       "<div>\n",
       "<style scoped>\n",
       "    .dataframe tbody tr th:only-of-type {\n",
       "        vertical-align: middle;\n",
       "    }\n",
       "\n",
       "    .dataframe tbody tr th {\n",
       "        vertical-align: top;\n",
       "    }\n",
       "\n",
       "    .dataframe thead th {\n",
       "        text-align: right;\n",
       "    }\n",
       "</style>\n",
       "<table border=\"1\" class=\"dataframe\">\n",
       "  <thead>\n",
       "    <tr style=\"text-align: right;\">\n",
       "      <th>Fueltype</th>\n",
       "      <th>Biogas</th>\n",
       "      <th>Geothermal</th>\n",
       "      <th>Hard Coal</th>\n",
       "      <th>Hydro</th>\n",
       "      <th>Lignite</th>\n",
       "      <th>Natural Gas</th>\n",
       "      <th>Nuclear</th>\n",
       "      <th>Oil</th>\n",
       "      <th>Other</th>\n",
       "      <th>Solar</th>\n",
       "      <th>Solid Biomass</th>\n",
       "      <th>Waste</th>\n",
       "      <th>Wind</th>\n",
       "    </tr>\n",
       "    <tr>\n",
       "      <th>Country</th>\n",
       "      <th></th>\n",
       "      <th></th>\n",
       "      <th></th>\n",
       "      <th></th>\n",
       "      <th></th>\n",
       "      <th></th>\n",
       "      <th></th>\n",
       "      <th></th>\n",
       "      <th></th>\n",
       "      <th></th>\n",
       "      <th></th>\n",
       "      <th></th>\n",
       "      <th></th>\n",
       "    </tr>\n",
       "  </thead>\n",
       "  <tbody>\n",
       "    <tr>\n",
       "      <th>Albania</th>\n",
       "      <td>NaN</td>\n",
       "      <td>NaN</td>\n",
       "      <td>NaN</td>\n",
       "      <td>1743.900000</td>\n",
       "      <td>NaN</td>\n",
       "      <td>NaN</td>\n",
       "      <td>NaN</td>\n",
       "      <td>NaN</td>\n",
       "      <td>98.00000</td>\n",
       "      <td>294.500000</td>\n",
       "      <td>NaN</td>\n",
       "      <td>NaN</td>\n",
       "      <td>234.0000</td>\n",
       "    </tr>\n",
       "    <tr>\n",
       "      <th>Austria</th>\n",
       "      <td>NaN</td>\n",
       "      <td>NaN</td>\n",
       "      <td>1331.400000</td>\n",
       "      <td>14205.500368</td>\n",
       "      <td>522.000000</td>\n",
       "      <td>4952.000000</td>\n",
       "      <td>NaN</td>\n",
       "      <td>NaN</td>\n",
       "      <td>NaN</td>\n",
       "      <td>388.300000</td>\n",
       "      <td>NaN</td>\n",
       "      <td>NaN</td>\n",
       "      <td>3244.0000</td>\n",
       "    </tr>\n",
       "    <tr>\n",
       "      <th>Belgium</th>\n",
       "      <td>NaN</td>\n",
       "      <td>NaN</td>\n",
       "      <td>3316.000000</td>\n",
       "      <td>1379.751009</td>\n",
       "      <td>NaN</td>\n",
       "      <td>5251.300000</td>\n",
       "      <td>5931.0</td>\n",
       "      <td>131.60000</td>\n",
       "      <td>NaN</td>\n",
       "      <td>484.100000</td>\n",
       "      <td>498.000</td>\n",
       "      <td>259.700</td>\n",
       "      <td>4191.7000</td>\n",
       "    </tr>\n",
       "    <tr>\n",
       "      <th>Bosnia and Herzegovina</th>\n",
       "      <td>NaN</td>\n",
       "      <td>NaN</td>\n",
       "      <td>NaN</td>\n",
       "      <td>2213.500000</td>\n",
       "      <td>1911.595964</td>\n",
       "      <td>NaN</td>\n",
       "      <td>NaN</td>\n",
       "      <td>NaN</td>\n",
       "      <td>NaN</td>\n",
       "      <td>267.100000</td>\n",
       "      <td>NaN</td>\n",
       "      <td>NaN</td>\n",
       "      <td>435.0000</td>\n",
       "    </tr>\n",
       "    <tr>\n",
       "      <th>Bulgaria</th>\n",
       "      <td>NaN</td>\n",
       "      <td>NaN</td>\n",
       "      <td>1909.191813</td>\n",
       "      <td>2899.540000</td>\n",
       "      <td>4807.354550</td>\n",
       "      <td>990.000000</td>\n",
       "      <td>2080.0</td>\n",
       "      <td>NaN</td>\n",
       "      <td>NaN</td>\n",
       "      <td>2405.100000</td>\n",
       "      <td>NaN</td>\n",
       "      <td>NaN</td>\n",
       "      <td>608.0000</td>\n",
       "    </tr>\n",
       "    <tr>\n",
       "      <th>Croatia</th>\n",
       "      <td>NaN</td>\n",
       "      <td>NaN</td>\n",
       "      <td>308.848880</td>\n",
       "      <td>2129.772189</td>\n",
       "      <td>NaN</td>\n",
       "      <td>1440.800000</td>\n",
       "      <td>NaN</td>\n",
       "      <td>NaN</td>\n",
       "      <td>NaN</td>\n",
       "      <td>96.300000</td>\n",
       "      <td>NaN</td>\n",
       "      <td>NaN</td>\n",
       "      <td>1140.0000</td>\n",
       "    </tr>\n",
       "    <tr>\n",
       "      <th>Czechia</th>\n",
       "      <td>NaN</td>\n",
       "      <td>NaN</td>\n",
       "      <td>1225.227500</td>\n",
       "      <td>1888.219836</td>\n",
       "      <td>7297.666121</td>\n",
       "      <td>1659.000000</td>\n",
       "      <td>4164.0</td>\n",
       "      <td>NaN</td>\n",
       "      <td>NaN</td>\n",
       "      <td>1293.600000</td>\n",
       "      <td>30.000</td>\n",
       "      <td>NaN</td>\n",
       "      <td>140.0000</td>\n",
       "    </tr>\n",
       "    <tr>\n",
       "      <th>Denmark</th>\n",
       "      <td>NaN</td>\n",
       "      <td>NaN</td>\n",
       "      <td>5658.885609</td>\n",
       "      <td>NaN</td>\n",
       "      <td>NaN</td>\n",
       "      <td>1813.200000</td>\n",
       "      <td>NaN</td>\n",
       "      <td>664.00000</td>\n",
       "      <td>70.00000</td>\n",
       "      <td>2256.700000</td>\n",
       "      <td>2542.000</td>\n",
       "      <td>NaN</td>\n",
       "      <td>5670.8000</td>\n",
       "    </tr>\n",
       "    <tr>\n",
       "      <th>Estonia</th>\n",
       "      <td>NaN</td>\n",
       "      <td>NaN</td>\n",
       "      <td>NaN</td>\n",
       "      <td>NaN</td>\n",
       "      <td>NaN</td>\n",
       "      <td>389.000000</td>\n",
       "      <td>NaN</td>\n",
       "      <td>1841.00000</td>\n",
       "      <td>NaN</td>\n",
       "      <td>446.200000</td>\n",
       "      <td>NaN</td>\n",
       "      <td>NaN</td>\n",
       "      <td>713.4000</td>\n",
       "    </tr>\n",
       "    <tr>\n",
       "      <th>Finland</th>\n",
       "      <td>1518.740000</td>\n",
       "      <td>NaN</td>\n",
       "      <td>3930.809044</td>\n",
       "      <td>3201.320000</td>\n",
       "      <td>965.000000</td>\n",
       "      <td>3134.800000</td>\n",
       "      <td>4362.0</td>\n",
       "      <td>1005.00000</td>\n",
       "      <td>143.10000</td>\n",
       "      <td>162.200000</td>\n",
       "      <td>2362.000</td>\n",
       "      <td>NaN</td>\n",
       "      <td>9681.1000</td>\n",
       "    </tr>\n",
       "    <tr>\n",
       "      <th>France</th>\n",
       "      <td>NaN</td>\n",
       "      <td>NaN</td>\n",
       "      <td>6918.344374</td>\n",
       "      <td>21054.763968</td>\n",
       "      <td>977.000000</td>\n",
       "      <td>9292.200000</td>\n",
       "      <td>64682.0</td>\n",
       "      <td>5130.00000</td>\n",
       "      <td>302.00000</td>\n",
       "      <td>11192.900000</td>\n",
       "      <td>348.000</td>\n",
       "      <td>NaN</td>\n",
       "      <td>26603.9000</td>\n",
       "    </tr>\n",
       "    <tr>\n",
       "      <th>Germany</th>\n",
       "      <td>2265.320979</td>\n",
       "      <td>NaN</td>\n",
       "      <td>30631.473898</td>\n",
       "      <td>12716.214837</td>\n",
       "      <td>23056.815081</td>\n",
       "      <td>39489.076894</td>\n",
       "      <td>23093.0</td>\n",
       "      <td>6850.84807</td>\n",
       "      <td>3156.36805</td>\n",
       "      <td>36716.919043</td>\n",
       "      <td>1071.699</td>\n",
       "      <td>2584.851</td>\n",
       "      <td>84571.1625</td>\n",
       "    </tr>\n",
       "    <tr>\n",
       "      <th>Greece</th>\n",
       "      <td>NaN</td>\n",
       "      <td>NaN</td>\n",
       "      <td>NaN</td>\n",
       "      <td>3368.100000</td>\n",
       "      <td>4786.794109</td>\n",
       "      <td>9562.000000</td>\n",
       "      <td>NaN</td>\n",
       "      <td>NaN</td>\n",
       "      <td>NaN</td>\n",
       "      <td>4166.300000</td>\n",
       "      <td>NaN</td>\n",
       "      <td>24.000</td>\n",
       "      <td>5155.0000</td>\n",
       "    </tr>\n",
       "    <tr>\n",
       "      <th>Hungary</th>\n",
       "      <td>NaN</td>\n",
       "      <td>NaN</td>\n",
       "      <td>745.484239</td>\n",
       "      <td>47.700000</td>\n",
       "      <td>815.171651</td>\n",
       "      <td>2859.400000</td>\n",
       "      <td>1898.9</td>\n",
       "      <td>170.00000</td>\n",
       "      <td>NaN</td>\n",
       "      <td>2582.700000</td>\n",
       "      <td>173.600</td>\n",
       "      <td>NaN</td>\n",
       "      <td>319.0000</td>\n",
       "    </tr>\n",
       "    <tr>\n",
       "      <th>Ireland</th>\n",
       "      <td>NaN</td>\n",
       "      <td>NaN</td>\n",
       "      <td>843.572315</td>\n",
       "      <td>609.000000</td>\n",
       "      <td>253.000000</td>\n",
       "      <td>5618.000000</td>\n",
       "      <td>NaN</td>\n",
       "      <td>1018.00000</td>\n",
       "      <td>NaN</td>\n",
       "      <td>1226.300000</td>\n",
       "      <td>68.000</td>\n",
       "      <td>NaN</td>\n",
       "      <td>4780.2000</td>\n",
       "    </tr>\n",
       "    <tr>\n",
       "      <th>Italy</th>\n",
       "      <td>NaN</td>\n",
       "      <td>806.0</td>\n",
       "      <td>10313.926461</td>\n",
       "      <td>20027.240000</td>\n",
       "      <td>NaN</td>\n",
       "      <td>51339.520000</td>\n",
       "      <td>1472.0</td>\n",
       "      <td>1016.00000</td>\n",
       "      <td>173.00000</td>\n",
       "      <td>5521.100000</td>\n",
       "      <td>770.000</td>\n",
       "      <td>NaN</td>\n",
       "      <td>10049.6000</td>\n",
       "    </tr>\n",
       "    <tr>\n",
       "      <th>Kosovo</th>\n",
       "      <td>NaN</td>\n",
       "      <td>NaN</td>\n",
       "      <td>NaN</td>\n",
       "      <td>65.200000</td>\n",
       "      <td>1187.716161</td>\n",
       "      <td>NaN</td>\n",
       "      <td>NaN</td>\n",
       "      <td>NaN</td>\n",
       "      <td>NaN</td>\n",
       "      <td>161.100000</td>\n",
       "      <td>NaN</td>\n",
       "      <td>NaN</td>\n",
       "      <td>135.0000</td>\n",
       "    </tr>\n",
       "    <tr>\n",
       "      <th>Latvia</th>\n",
       "      <td>NaN</td>\n",
       "      <td>NaN</td>\n",
       "      <td>NaN</td>\n",
       "      <td>1536.100000</td>\n",
       "      <td>NaN</td>\n",
       "      <td>1087.000000</td>\n",
       "      <td>NaN</td>\n",
       "      <td>NaN</td>\n",
       "      <td>NaN</td>\n",
       "      <td>44.000000</td>\n",
       "      <td>NaN</td>\n",
       "      <td>NaN</td>\n",
       "      <td>100.0000</td>\n",
       "    </tr>\n",
       "    <tr>\n",
       "      <th>Lithuania</th>\n",
       "      <td>NaN</td>\n",
       "      <td>NaN</td>\n",
       "      <td>NaN</td>\n",
       "      <td>1001.000000</td>\n",
       "      <td>NaN</td>\n",
       "      <td>1508.000000</td>\n",
       "      <td>2600.0</td>\n",
       "      <td>NaN</td>\n",
       "      <td>NaN</td>\n",
       "      <td>299.600000</td>\n",
       "      <td>70.000</td>\n",
       "      <td>NaN</td>\n",
       "      <td>1195.0000</td>\n",
       "    </tr>\n",
       "    <tr>\n",
       "      <th>Luxembourg</th>\n",
       "      <td>NaN</td>\n",
       "      <td>NaN</td>\n",
       "      <td>NaN</td>\n",
       "      <td>1294.000000</td>\n",
       "      <td>NaN</td>\n",
       "      <td>NaN</td>\n",
       "      <td>NaN</td>\n",
       "      <td>NaN</td>\n",
       "      <td>NaN</td>\n",
       "      <td>54.100000</td>\n",
       "      <td>NaN</td>\n",
       "      <td>NaN</td>\n",
       "      <td>148.1000</td>\n",
       "    </tr>\n",
       "    <tr>\n",
       "      <th>Moldova</th>\n",
       "      <td>NaN</td>\n",
       "      <td>NaN</td>\n",
       "      <td>2520.000000</td>\n",
       "      <td>48.000000</td>\n",
       "      <td>NaN</td>\n",
       "      <td>968.000000</td>\n",
       "      <td>NaN</td>\n",
       "      <td>NaN</td>\n",
       "      <td>NaN</td>\n",
       "      <td>24.800000</td>\n",
       "      <td>NaN</td>\n",
       "      <td>NaN</td>\n",
       "      <td>NaN</td>\n",
       "    </tr>\n",
       "    <tr>\n",
       "      <th>Montenegro</th>\n",
       "      <td>NaN</td>\n",
       "      <td>NaN</td>\n",
       "      <td>NaN</td>\n",
       "      <td>657.321000</td>\n",
       "      <td>207.481472</td>\n",
       "      <td>NaN</td>\n",
       "      <td>NaN</td>\n",
       "      <td>NaN</td>\n",
       "      <td>NaN</td>\n",
       "      <td>3.200000</td>\n",
       "      <td>NaN</td>\n",
       "      <td>NaN</td>\n",
       "      <td>118.0000</td>\n",
       "    </tr>\n",
       "    <tr>\n",
       "      <th>Netherlands</th>\n",
       "      <td>36.000000</td>\n",
       "      <td>NaN</td>\n",
       "      <td>9063.994952</td>\n",
       "      <td>NaN</td>\n",
       "      <td>NaN</td>\n",
       "      <td>16090.600000</td>\n",
       "      <td>60.0</td>\n",
       "      <td>NaN</td>\n",
       "      <td>548.00000</td>\n",
       "      <td>4839.600000</td>\n",
       "      <td>1307.000</td>\n",
       "      <td>NaN</td>\n",
       "      <td>11069.1000</td>\n",
       "    </tr>\n",
       "    <tr>\n",
       "      <th>North Macedonia</th>\n",
       "      <td>NaN</td>\n",
       "      <td>NaN</td>\n",
       "      <td>NaN</td>\n",
       "      <td>562.600000</td>\n",
       "      <td>737.711901</td>\n",
       "      <td>418.000000</td>\n",
       "      <td>NaN</td>\n",
       "      <td>NaN</td>\n",
       "      <td>NaN</td>\n",
       "      <td>296.900000</td>\n",
       "      <td>NaN</td>\n",
       "      <td>NaN</td>\n",
       "      <td>73.0000</td>\n",
       "    </tr>\n",
       "    <tr>\n",
       "      <th>Norway</th>\n",
       "      <td>NaN</td>\n",
       "      <td>NaN</td>\n",
       "      <td>NaN</td>\n",
       "      <td>32539.390000</td>\n",
       "      <td>NaN</td>\n",
       "      <td>968.100000</td>\n",
       "      <td>NaN</td>\n",
       "      <td>NaN</td>\n",
       "      <td>NaN</td>\n",
       "      <td>1.400000</td>\n",
       "      <td>NaN</td>\n",
       "      <td>NaN</td>\n",
       "      <td>6300.8000</td>\n",
       "    </tr>\n",
       "    <tr>\n",
       "      <th>Poland</th>\n",
       "      <td>NaN</td>\n",
       "      <td>NaN</td>\n",
       "      <td>22585.482921</td>\n",
       "      <td>2877.906738</td>\n",
       "      <td>8786.812855</td>\n",
       "      <td>6516.500000</td>\n",
       "      <td>NaN</td>\n",
       "      <td>55.00000</td>\n",
       "      <td>NaN</td>\n",
       "      <td>2712.100000</td>\n",
       "      <td>523.000</td>\n",
       "      <td>NaN</td>\n",
       "      <td>10271.9000</td>\n",
       "    </tr>\n",
       "    <tr>\n",
       "      <th>Portugal</th>\n",
       "      <td>NaN</td>\n",
       "      <td>NaN</td>\n",
       "      <td>1858.761004</td>\n",
       "      <td>8270.200000</td>\n",
       "      <td>NaN</td>\n",
       "      <td>4759.500000</td>\n",
       "      <td>NaN</td>\n",
       "      <td>NaN</td>\n",
       "      <td>NaN</td>\n",
       "      <td>3509.900000</td>\n",
       "      <td>210.000</td>\n",
       "      <td>NaN</td>\n",
       "      <td>5362.6000</td>\n",
       "    </tr>\n",
       "    <tr>\n",
       "      <th>Romania</th>\n",
       "      <td>NaN</td>\n",
       "      <td>NaN</td>\n",
       "      <td>1184.688989</td>\n",
       "      <td>7971.390000</td>\n",
       "      <td>5197.253348</td>\n",
       "      <td>4831.500000</td>\n",
       "      <td>1300.0</td>\n",
       "      <td>NaN</td>\n",
       "      <td>NaN</td>\n",
       "      <td>2026.700000</td>\n",
       "      <td>30.000</td>\n",
       "      <td>NaN</td>\n",
       "      <td>5505.7000</td>\n",
       "    </tr>\n",
       "    <tr>\n",
       "      <th>Serbia</th>\n",
       "      <td>NaN</td>\n",
       "      <td>NaN</td>\n",
       "      <td>NaN</td>\n",
       "      <td>3112.500000</td>\n",
       "      <td>5357.415458</td>\n",
       "      <td>554.000000</td>\n",
       "      <td>NaN</td>\n",
       "      <td>NaN</td>\n",
       "      <td>NaN</td>\n",
       "      <td>39.600000</td>\n",
       "      <td>30.000</td>\n",
       "      <td>NaN</td>\n",
       "      <td>772.1000</td>\n",
       "    </tr>\n",
       "    <tr>\n",
       "      <th>Slovakia</th>\n",
       "      <td>NaN</td>\n",
       "      <td>NaN</td>\n",
       "      <td>592.673970</td>\n",
       "      <td>2418.480000</td>\n",
       "      <td>317.863362</td>\n",
       "      <td>1004.870000</td>\n",
       "      <td>1940.0</td>\n",
       "      <td>NaN</td>\n",
       "      <td>NaN</td>\n",
       "      <td>449.200000</td>\n",
       "      <td>NaN</td>\n",
       "      <td>NaN</td>\n",
       "      <td>NaN</td>\n",
       "    </tr>\n",
       "    <tr>\n",
       "      <th>Slovenia</th>\n",
       "      <td>NaN</td>\n",
       "      <td>NaN</td>\n",
       "      <td>114.320183</td>\n",
       "      <td>1274.025000</td>\n",
       "      <td>1130.422184</td>\n",
       "      <td>600.000000</td>\n",
       "      <td>696.0</td>\n",
       "      <td>NaN</td>\n",
       "      <td>NaN</td>\n",
       "      <td>30.000000</td>\n",
       "      <td>NaN</td>\n",
       "      <td>NaN</td>\n",
       "      <td>NaN</td>\n",
       "    </tr>\n",
       "    <tr>\n",
       "      <th>Spain</th>\n",
       "      <td>NaN</td>\n",
       "      <td>NaN</td>\n",
       "      <td>11904.878478</td>\n",
       "      <td>26069.861248</td>\n",
       "      <td>1831.400000</td>\n",
       "      <td>28394.244000</td>\n",
       "      <td>7733.2</td>\n",
       "      <td>1854.37100</td>\n",
       "      <td>NaN</td>\n",
       "      <td>36998.200000</td>\n",
       "      <td>563.000</td>\n",
       "      <td>388.054</td>\n",
       "      <td>34371.6500</td>\n",
       "    </tr>\n",
       "    <tr>\n",
       "      <th>Sweden</th>\n",
       "      <td>NaN</td>\n",
       "      <td>NaN</td>\n",
       "      <td>291.000000</td>\n",
       "      <td>14273.686625</td>\n",
       "      <td>NaN</td>\n",
       "      <td>2358.000000</td>\n",
       "      <td>9859.0</td>\n",
       "      <td>1685.00000</td>\n",
       "      <td>NaN</td>\n",
       "      <td>281.800000</td>\n",
       "      <td>2432.600</td>\n",
       "      <td>NaN</td>\n",
       "      <td>16958.8000</td>\n",
       "    </tr>\n",
       "    <tr>\n",
       "      <th>Switzerland</th>\n",
       "      <td>NaN</td>\n",
       "      <td>NaN</td>\n",
       "      <td>NaN</td>\n",
       "      <td>20115.040800</td>\n",
       "      <td>NaN</td>\n",
       "      <td>55.000000</td>\n",
       "      <td>3355.0</td>\n",
       "      <td>NaN</td>\n",
       "      <td>NaN</td>\n",
       "      <td>96.800000</td>\n",
       "      <td>NaN</td>\n",
       "      <td>NaN</td>\n",
       "      <td>55.0000</td>\n",
       "    </tr>\n",
       "    <tr>\n",
       "      <th>Ukraine</th>\n",
       "      <td>NaN</td>\n",
       "      <td>NaN</td>\n",
       "      <td>24474.000000</td>\n",
       "      <td>6590.000000</td>\n",
       "      <td>NaN</td>\n",
       "      <td>4687.900000</td>\n",
       "      <td>17635.0</td>\n",
       "      <td>NaN</td>\n",
       "      <td>NaN</td>\n",
       "      <td>5628.700000</td>\n",
       "      <td>NaN</td>\n",
       "      <td>NaN</td>\n",
       "      <td>461.4000</td>\n",
       "    </tr>\n",
       "    <tr>\n",
       "      <th>United Kingdom</th>\n",
       "      <td>31.000000</td>\n",
       "      <td>NaN</td>\n",
       "      <td>33823.617061</td>\n",
       "      <td>4576.175000</td>\n",
       "      <td>NaN</td>\n",
       "      <td>36366.400000</td>\n",
       "      <td>19181.0</td>\n",
       "      <td>100.00000</td>\n",
       "      <td>55.00000</td>\n",
       "      <td>11668.600000</td>\n",
       "      <td>4919.000</td>\n",
       "      <td>288.900</td>\n",
       "      <td>38670.3000</td>\n",
       "    </tr>\n",
       "  </tbody>\n",
       "</table>\n",
       "</div>"
      ],
      "text/plain": [
       "Fueltype                     Biogas  Geothermal     Hard Coal         Hydro  \\\n",
       "Country                                                                       \n",
       "Albania                         NaN         NaN           NaN   1743.900000   \n",
       "Austria                         NaN         NaN   1331.400000  14205.500368   \n",
       "Belgium                         NaN         NaN   3316.000000   1379.751009   \n",
       "Bosnia and Herzegovina          NaN         NaN           NaN   2213.500000   \n",
       "Bulgaria                        NaN         NaN   1909.191813   2899.540000   \n",
       "Croatia                         NaN         NaN    308.848880   2129.772189   \n",
       "Czechia                         NaN         NaN   1225.227500   1888.219836   \n",
       "Denmark                         NaN         NaN   5658.885609           NaN   \n",
       "Estonia                         NaN         NaN           NaN           NaN   \n",
       "Finland                 1518.740000         NaN   3930.809044   3201.320000   \n",
       "France                          NaN         NaN   6918.344374  21054.763968   \n",
       "Germany                 2265.320979         NaN  30631.473898  12716.214837   \n",
       "Greece                          NaN         NaN           NaN   3368.100000   \n",
       "Hungary                         NaN         NaN    745.484239     47.700000   \n",
       "Ireland                         NaN         NaN    843.572315    609.000000   \n",
       "Italy                           NaN       806.0  10313.926461  20027.240000   \n",
       "Kosovo                          NaN         NaN           NaN     65.200000   \n",
       "Latvia                          NaN         NaN           NaN   1536.100000   \n",
       "Lithuania                       NaN         NaN           NaN   1001.000000   \n",
       "Luxembourg                      NaN         NaN           NaN   1294.000000   \n",
       "Moldova                         NaN         NaN   2520.000000     48.000000   \n",
       "Montenegro                      NaN         NaN           NaN    657.321000   \n",
       "Netherlands               36.000000         NaN   9063.994952           NaN   \n",
       "North Macedonia                 NaN         NaN           NaN    562.600000   \n",
       "Norway                          NaN         NaN           NaN  32539.390000   \n",
       "Poland                          NaN         NaN  22585.482921   2877.906738   \n",
       "Portugal                        NaN         NaN   1858.761004   8270.200000   \n",
       "Romania                         NaN         NaN   1184.688989   7971.390000   \n",
       "Serbia                          NaN         NaN           NaN   3112.500000   \n",
       "Slovakia                        NaN         NaN    592.673970   2418.480000   \n",
       "Slovenia                        NaN         NaN    114.320183   1274.025000   \n",
       "Spain                           NaN         NaN  11904.878478  26069.861248   \n",
       "Sweden                          NaN         NaN    291.000000  14273.686625   \n",
       "Switzerland                     NaN         NaN           NaN  20115.040800   \n",
       "Ukraine                         NaN         NaN  24474.000000   6590.000000   \n",
       "United Kingdom            31.000000         NaN  33823.617061   4576.175000   \n",
       "\n",
       "Fueltype                     Lignite   Natural Gas  Nuclear         Oil  \\\n",
       "Country                                                                   \n",
       "Albania                          NaN           NaN      NaN         NaN   \n",
       "Austria                   522.000000   4952.000000      NaN         NaN   \n",
       "Belgium                          NaN   5251.300000   5931.0   131.60000   \n",
       "Bosnia and Herzegovina   1911.595964           NaN      NaN         NaN   \n",
       "Bulgaria                 4807.354550    990.000000   2080.0         NaN   \n",
       "Croatia                          NaN   1440.800000      NaN         NaN   \n",
       "Czechia                  7297.666121   1659.000000   4164.0         NaN   \n",
       "Denmark                          NaN   1813.200000      NaN   664.00000   \n",
       "Estonia                          NaN    389.000000      NaN  1841.00000   \n",
       "Finland                   965.000000   3134.800000   4362.0  1005.00000   \n",
       "France                    977.000000   9292.200000  64682.0  5130.00000   \n",
       "Germany                 23056.815081  39489.076894  23093.0  6850.84807   \n",
       "Greece                   4786.794109   9562.000000      NaN         NaN   \n",
       "Hungary                   815.171651   2859.400000   1898.9   170.00000   \n",
       "Ireland                   253.000000   5618.000000      NaN  1018.00000   \n",
       "Italy                            NaN  51339.520000   1472.0  1016.00000   \n",
       "Kosovo                   1187.716161           NaN      NaN         NaN   \n",
       "Latvia                           NaN   1087.000000      NaN         NaN   \n",
       "Lithuania                        NaN   1508.000000   2600.0         NaN   \n",
       "Luxembourg                       NaN           NaN      NaN         NaN   \n",
       "Moldova                          NaN    968.000000      NaN         NaN   \n",
       "Montenegro                207.481472           NaN      NaN         NaN   \n",
       "Netherlands                      NaN  16090.600000     60.0         NaN   \n",
       "North Macedonia           737.711901    418.000000      NaN         NaN   \n",
       "Norway                           NaN    968.100000      NaN         NaN   \n",
       "Poland                   8786.812855   6516.500000      NaN    55.00000   \n",
       "Portugal                         NaN   4759.500000      NaN         NaN   \n",
       "Romania                  5197.253348   4831.500000   1300.0         NaN   \n",
       "Serbia                   5357.415458    554.000000      NaN         NaN   \n",
       "Slovakia                  317.863362   1004.870000   1940.0         NaN   \n",
       "Slovenia                 1130.422184    600.000000    696.0         NaN   \n",
       "Spain                    1831.400000  28394.244000   7733.2  1854.37100   \n",
       "Sweden                           NaN   2358.000000   9859.0  1685.00000   \n",
       "Switzerland                      NaN     55.000000   3355.0         NaN   \n",
       "Ukraine                          NaN   4687.900000  17635.0         NaN   \n",
       "United Kingdom                   NaN  36366.400000  19181.0   100.00000   \n",
       "\n",
       "Fueltype                     Other         Solar  Solid Biomass     Waste  \\\n",
       "Country                                                                     \n",
       "Albania                   98.00000    294.500000            NaN       NaN   \n",
       "Austria                        NaN    388.300000            NaN       NaN   \n",
       "Belgium                        NaN    484.100000        498.000   259.700   \n",
       "Bosnia and Herzegovina         NaN    267.100000            NaN       NaN   \n",
       "Bulgaria                       NaN   2405.100000            NaN       NaN   \n",
       "Croatia                        NaN     96.300000            NaN       NaN   \n",
       "Czechia                        NaN   1293.600000         30.000       NaN   \n",
       "Denmark                   70.00000   2256.700000       2542.000       NaN   \n",
       "Estonia                        NaN    446.200000            NaN       NaN   \n",
       "Finland                  143.10000    162.200000       2362.000       NaN   \n",
       "France                   302.00000  11192.900000        348.000       NaN   \n",
       "Germany                 3156.36805  36716.919043       1071.699  2584.851   \n",
       "Greece                         NaN   4166.300000            NaN    24.000   \n",
       "Hungary                        NaN   2582.700000        173.600       NaN   \n",
       "Ireland                        NaN   1226.300000         68.000       NaN   \n",
       "Italy                    173.00000   5521.100000        770.000       NaN   \n",
       "Kosovo                         NaN    161.100000            NaN       NaN   \n",
       "Latvia                         NaN     44.000000            NaN       NaN   \n",
       "Lithuania                      NaN    299.600000         70.000       NaN   \n",
       "Luxembourg                     NaN     54.100000            NaN       NaN   \n",
       "Moldova                        NaN     24.800000            NaN       NaN   \n",
       "Montenegro                     NaN      3.200000            NaN       NaN   \n",
       "Netherlands              548.00000   4839.600000       1307.000       NaN   \n",
       "North Macedonia                NaN    296.900000            NaN       NaN   \n",
       "Norway                         NaN      1.400000            NaN       NaN   \n",
       "Poland                         NaN   2712.100000        523.000       NaN   \n",
       "Portugal                       NaN   3509.900000        210.000       NaN   \n",
       "Romania                        NaN   2026.700000         30.000       NaN   \n",
       "Serbia                         NaN     39.600000         30.000       NaN   \n",
       "Slovakia                       NaN    449.200000            NaN       NaN   \n",
       "Slovenia                       NaN     30.000000            NaN       NaN   \n",
       "Spain                          NaN  36998.200000        563.000   388.054   \n",
       "Sweden                         NaN    281.800000       2432.600       NaN   \n",
       "Switzerland                    NaN     96.800000            NaN       NaN   \n",
       "Ukraine                        NaN   5628.700000            NaN       NaN   \n",
       "United Kingdom            55.00000  11668.600000       4919.000   288.900   \n",
       "\n",
       "Fueltype                      Wind  \n",
       "Country                             \n",
       "Albania                   234.0000  \n",
       "Austria                  3244.0000  \n",
       "Belgium                  4191.7000  \n",
       "Bosnia and Herzegovina    435.0000  \n",
       "Bulgaria                  608.0000  \n",
       "Croatia                  1140.0000  \n",
       "Czechia                   140.0000  \n",
       "Denmark                  5670.8000  \n",
       "Estonia                   713.4000  \n",
       "Finland                  9681.1000  \n",
       "France                  26603.9000  \n",
       "Germany                 84571.1625  \n",
       "Greece                   5155.0000  \n",
       "Hungary                   319.0000  \n",
       "Ireland                  4780.2000  \n",
       "Italy                   10049.6000  \n",
       "Kosovo                    135.0000  \n",
       "Latvia                    100.0000  \n",
       "Lithuania                1195.0000  \n",
       "Luxembourg                148.1000  \n",
       "Moldova                        NaN  \n",
       "Montenegro                118.0000  \n",
       "Netherlands             11069.1000  \n",
       "North Macedonia            73.0000  \n",
       "Norway                   6300.8000  \n",
       "Poland                  10271.9000  \n",
       "Portugal                 5362.6000  \n",
       "Romania                  5505.7000  \n",
       "Serbia                    772.1000  \n",
       "Slovakia                       NaN  \n",
       "Slovenia                       NaN  \n",
       "Spain                   34371.6500  \n",
       "Sweden                  16958.8000  \n",
       "Switzerland                55.0000  \n",
       "Ukraine                   461.4000  \n",
       "United Kingdom          38670.3000  "
      ]
     },
     "execution_count": 25,
     "metadata": {},
     "output_type": "execute_result"
    }
   ],
   "source": [
    "capacities = df.groupby([\"Country\", \"Fueltype\"]).Capacity.sum().unstack()\n",
    "capacities"
   ]
  },
  {
   "cell_type": "markdown",
   "metadata": {},
   "source": [
    "## Exercises"
   ]
  },
  {
   "cell_type": "markdown",
   "metadata": {},
   "source": [
    "**Task 1:** Provide a list of unique fuel types included in the power plants dataset."
   ]
  },
  {
   "cell_type": "code",
   "execution_count": 26,
   "metadata": {
    "tags": [
     "hide-cell"
    ]
   },
   "outputs": [
    {
     "data": {
      "text/plain": [
       "array(['Nuclear', 'Hard Coal', 'Hydro', 'Lignite', 'Natural Gas', 'Oil',\n",
       "       'Solid Biomass', 'Wind', 'Solar', 'Other', 'Biogas', 'Waste',\n",
       "       'Geothermal'], dtype=object)"
      ]
     },
     "execution_count": 26,
     "metadata": {},
     "output_type": "execute_result"
    }
   ],
   "source": [
    "df.Fueltype.unique()"
   ]
  },
  {
   "cell_type": "markdown",
   "metadata": {},
   "source": [
    "**Task 2:** Filter the dataset by power plants with the fuel type \"Hard Coal\". How many hard coal power plants are there?"
   ]
  },
  {
   "cell_type": "code",
   "execution_count": 27,
   "metadata": {
    "tags": [
     "hide-cell"
    ]
   },
   "outputs": [
    {
     "data": {
      "text/html": [
       "<div>\n",
       "<style scoped>\n",
       "    .dataframe tbody tr th:only-of-type {\n",
       "        vertical-align: middle;\n",
       "    }\n",
       "\n",
       "    .dataframe tbody tr th {\n",
       "        vertical-align: top;\n",
       "    }\n",
       "\n",
       "    .dataframe thead th {\n",
       "        text-align: right;\n",
       "    }\n",
       "</style>\n",
       "<table border=\"1\" class=\"dataframe\">\n",
       "  <thead>\n",
       "    <tr style=\"text-align: right;\">\n",
       "      <th></th>\n",
       "      <th>Name</th>\n",
       "      <th>Fueltype</th>\n",
       "      <th>Technology</th>\n",
       "      <th>Set</th>\n",
       "      <th>Country</th>\n",
       "      <th>Capacity</th>\n",
       "      <th>Efficiency</th>\n",
       "      <th>DateIn</th>\n",
       "      <th>DateRetrofit</th>\n",
       "      <th>DateOut</th>\n",
       "      <th>lat</th>\n",
       "      <th>lon</th>\n",
       "      <th>Duration</th>\n",
       "      <th>Volume_Mm3</th>\n",
       "      <th>DamHeight_m</th>\n",
       "      <th>StorageCapacity_MWh</th>\n",
       "      <th>EIC</th>\n",
       "      <th>projectID</th>\n",
       "    </tr>\n",
       "    <tr>\n",
       "      <th>id</th>\n",
       "      <th></th>\n",
       "      <th></th>\n",
       "      <th></th>\n",
       "      <th></th>\n",
       "      <th></th>\n",
       "      <th></th>\n",
       "      <th></th>\n",
       "      <th></th>\n",
       "      <th></th>\n",
       "      <th></th>\n",
       "      <th></th>\n",
       "      <th></th>\n",
       "      <th></th>\n",
       "      <th></th>\n",
       "      <th></th>\n",
       "      <th></th>\n",
       "      <th></th>\n",
       "      <th></th>\n",
       "    </tr>\n",
       "  </thead>\n",
       "  <tbody>\n",
       "    <tr>\n",
       "      <th>2</th>\n",
       "      <td>Borssele</td>\n",
       "      <td>Hard Coal</td>\n",
       "      <td>Steam Turbine</td>\n",
       "      <td>PP</td>\n",
       "      <td>Netherlands</td>\n",
       "      <td>485.000000</td>\n",
       "      <td>NaN</td>\n",
       "      <td>1973.0</td>\n",
       "      <td>NaN</td>\n",
       "      <td>2034.0</td>\n",
       "      <td>51.433200</td>\n",
       "      <td>3.716000</td>\n",
       "      <td>NaN</td>\n",
       "      <td>0.0</td>\n",
       "      <td>0.0</td>\n",
       "      <td>0.0</td>\n",
       "      <td>{'49W000000000054X'}</td>\n",
       "      <td>{'BEYONDCOAL': {'BEYOND-NL-2'}, 'ENTSOE': {'49...</td>\n",
       "    </tr>\n",
       "    <tr>\n",
       "      <th>98</th>\n",
       "      <td>Didcot</td>\n",
       "      <td>Hard Coal</td>\n",
       "      <td>CCGT</td>\n",
       "      <td>PP</td>\n",
       "      <td>United Kingdom</td>\n",
       "      <td>1490.000000</td>\n",
       "      <td>0.550000</td>\n",
       "      <td>1970.0</td>\n",
       "      <td>1998.0</td>\n",
       "      <td>2013.0</td>\n",
       "      <td>51.622300</td>\n",
       "      <td>-1.260800</td>\n",
       "      <td>NaN</td>\n",
       "      <td>0.0</td>\n",
       "      <td>0.0</td>\n",
       "      <td>0.0</td>\n",
       "      <td>{'48WSTN0000DIDCBC'}</td>\n",
       "      <td>{'BEYONDCOAL': {'BEYOND-UK-22'}, 'ENTSOE': {'4...</td>\n",
       "    </tr>\n",
       "    <tr>\n",
       "      <th>129</th>\n",
       "      <td>Mellach</td>\n",
       "      <td>Hard Coal</td>\n",
       "      <td>Steam Turbine</td>\n",
       "      <td>CHP</td>\n",
       "      <td>Austria</td>\n",
       "      <td>200.000000</td>\n",
       "      <td>NaN</td>\n",
       "      <td>1986.0</td>\n",
       "      <td>1986.0</td>\n",
       "      <td>2020.0</td>\n",
       "      <td>46.911700</td>\n",
       "      <td>15.488300</td>\n",
       "      <td>NaN</td>\n",
       "      <td>0.0</td>\n",
       "      <td>0.0</td>\n",
       "      <td>0.0</td>\n",
       "      <td>{'14W-WML-KW-----0'}</td>\n",
       "      <td>{'BEYONDCOAL': {'BEYOND-AT-11'}, 'ENTSOE': {'1...</td>\n",
       "    </tr>\n",
       "    <tr>\n",
       "      <th>150</th>\n",
       "      <td>Emile Huchet</td>\n",
       "      <td>Hard Coal</td>\n",
       "      <td>CCGT</td>\n",
       "      <td>PP</td>\n",
       "      <td>France</td>\n",
       "      <td>596.493211</td>\n",
       "      <td>NaN</td>\n",
       "      <td>1958.0</td>\n",
       "      <td>2010.0</td>\n",
       "      <td>2022.0</td>\n",
       "      <td>49.152500</td>\n",
       "      <td>6.698100</td>\n",
       "      <td>NaN</td>\n",
       "      <td>0.0</td>\n",
       "      <td>0.0</td>\n",
       "      <td>0.0</td>\n",
       "      <td>{'17W100P100P0344D', '17W100P100P0345B'}</td>\n",
       "      <td>{'BEYONDCOAL': {'BEYOND-FR-67'}, 'ENTSOE': {'1...</td>\n",
       "    </tr>\n",
       "    <tr>\n",
       "      <th>151</th>\n",
       "      <td>Amercoeur</td>\n",
       "      <td>Hard Coal</td>\n",
       "      <td>CCGT</td>\n",
       "      <td>PP</td>\n",
       "      <td>Belgium</td>\n",
       "      <td>451.000000</td>\n",
       "      <td>0.187765</td>\n",
       "      <td>1968.0</td>\n",
       "      <td>NaN</td>\n",
       "      <td>2009.0</td>\n",
       "      <td>50.431000</td>\n",
       "      <td>4.395500</td>\n",
       "      <td>NaN</td>\n",
       "      <td>0.0</td>\n",
       "      <td>0.0</td>\n",
       "      <td>0.0</td>\n",
       "      <td>{'22WAMERCO000010Y'}</td>\n",
       "      <td>{'BEYONDCOAL': {'BEYOND-BE-27'}, 'ENTSOE': {'2...</td>\n",
       "    </tr>\n",
       "    <tr>\n",
       "      <th>...</th>\n",
       "      <td>...</td>\n",
       "      <td>...</td>\n",
       "      <td>...</td>\n",
       "      <td>...</td>\n",
       "      <td>...</td>\n",
       "      <td>...</td>\n",
       "      <td>...</td>\n",
       "      <td>...</td>\n",
       "      <td>...</td>\n",
       "      <td>...</td>\n",
       "      <td>...</td>\n",
       "      <td>...</td>\n",
       "      <td>...</td>\n",
       "      <td>...</td>\n",
       "      <td>...</td>\n",
       "      <td>...</td>\n",
       "      <td>...</td>\n",
       "      <td>...</td>\n",
       "    </tr>\n",
       "    <tr>\n",
       "      <th>29779</th>\n",
       "      <td>St</td>\n",
       "      <td>Hard Coal</td>\n",
       "      <td>NaN</td>\n",
       "      <td>CHP</td>\n",
       "      <td>Germany</td>\n",
       "      <td>21.645000</td>\n",
       "      <td>NaN</td>\n",
       "      <td>1982.0</td>\n",
       "      <td>NaN</td>\n",
       "      <td>NaN</td>\n",
       "      <td>49.976593</td>\n",
       "      <td>9.068953</td>\n",
       "      <td>NaN</td>\n",
       "      <td>0.0</td>\n",
       "      <td>0.0</td>\n",
       "      <td>0.0</td>\n",
       "      <td>{nan}</td>\n",
       "      <td>{'MASTR': {'MASTR-SEE971943692655'}}</td>\n",
       "    </tr>\n",
       "    <tr>\n",
       "      <th>29804</th>\n",
       "      <td>Uer</td>\n",
       "      <td>Hard Coal</td>\n",
       "      <td>NaN</td>\n",
       "      <td>CHP</td>\n",
       "      <td>Germany</td>\n",
       "      <td>15.200000</td>\n",
       "      <td>NaN</td>\n",
       "      <td>1964.0</td>\n",
       "      <td>NaN</td>\n",
       "      <td>NaN</td>\n",
       "      <td>51.368132</td>\n",
       "      <td>6.662350</td>\n",
       "      <td>NaN</td>\n",
       "      <td>0.0</td>\n",
       "      <td>0.0</td>\n",
       "      <td>0.0</td>\n",
       "      <td>{nan}</td>\n",
       "      <td>{'MASTR': {'MASTR-SEE988421065542'}}</td>\n",
       "    </tr>\n",
       "    <tr>\n",
       "      <th>29813</th>\n",
       "      <td>Walheim</td>\n",
       "      <td>Hard Coal</td>\n",
       "      <td>NaN</td>\n",
       "      <td>PP</td>\n",
       "      <td>Germany</td>\n",
       "      <td>244.000000</td>\n",
       "      <td>NaN</td>\n",
       "      <td>1964.0</td>\n",
       "      <td>NaN</td>\n",
       "      <td>NaN</td>\n",
       "      <td>49.017585</td>\n",
       "      <td>9.157690</td>\n",
       "      <td>NaN</td>\n",
       "      <td>0.0</td>\n",
       "      <td>0.0</td>\n",
       "      <td>0.0</td>\n",
       "      <td>{nan, nan}</td>\n",
       "      <td>{'MASTR': {'MASTR-SEE937157344278', 'MASTR-SEE...</td>\n",
       "    </tr>\n",
       "    <tr>\n",
       "      <th>29830</th>\n",
       "      <td>Wd Ffw</td>\n",
       "      <td>Hard Coal</td>\n",
       "      <td>NaN</td>\n",
       "      <td>CHP</td>\n",
       "      <td>Germany</td>\n",
       "      <td>123.000000</td>\n",
       "      <td>NaN</td>\n",
       "      <td>1990.0</td>\n",
       "      <td>NaN</td>\n",
       "      <td>NaN</td>\n",
       "      <td>50.099000</td>\n",
       "      <td>8.653000</td>\n",
       "      <td>NaN</td>\n",
       "      <td>0.0</td>\n",
       "      <td>0.0</td>\n",
       "      <td>0.0</td>\n",
       "      <td>{nan, nan}</td>\n",
       "      <td>{'MASTR': {'MASTR-SEE915289541482', 'MASTR-SEE...</td>\n",
       "    </tr>\n",
       "    <tr>\n",
       "      <th>29835</th>\n",
       "      <td>West</td>\n",
       "      <td>Hard Coal</td>\n",
       "      <td>NaN</td>\n",
       "      <td>CHP</td>\n",
       "      <td>Germany</td>\n",
       "      <td>277.000000</td>\n",
       "      <td>NaN</td>\n",
       "      <td>1985.0</td>\n",
       "      <td>NaN</td>\n",
       "      <td>NaN</td>\n",
       "      <td>52.442456</td>\n",
       "      <td>10.762681</td>\n",
       "      <td>NaN</td>\n",
       "      <td>0.0</td>\n",
       "      <td>0.0</td>\n",
       "      <td>0.0</td>\n",
       "      <td>{nan, nan}</td>\n",
       "      <td>{'MASTR': {'MASTR-SEE917432813484', 'MASTR-SEE...</td>\n",
       "    </tr>\n",
       "  </tbody>\n",
       "</table>\n",
       "<p>332 rows × 18 columns</p>\n",
       "</div>"
      ],
      "text/plain": [
       "               Name   Fueltype     Technology  Set         Country  \\\n",
       "id                                                                   \n",
       "2          Borssele  Hard Coal  Steam Turbine   PP     Netherlands   \n",
       "98           Didcot  Hard Coal           CCGT   PP  United Kingdom   \n",
       "129         Mellach  Hard Coal  Steam Turbine  CHP         Austria   \n",
       "150    Emile Huchet  Hard Coal           CCGT   PP          France   \n",
       "151       Amercoeur  Hard Coal           CCGT   PP         Belgium   \n",
       "...             ...        ...            ...  ...             ...   \n",
       "29779            St  Hard Coal            NaN  CHP         Germany   \n",
       "29804           Uer  Hard Coal            NaN  CHP         Germany   \n",
       "29813       Walheim  Hard Coal            NaN   PP         Germany   \n",
       "29830        Wd Ffw  Hard Coal            NaN  CHP         Germany   \n",
       "29835          West  Hard Coal            NaN  CHP         Germany   \n",
       "\n",
       "          Capacity  Efficiency  DateIn  DateRetrofit  DateOut        lat  \\\n",
       "id                                                                         \n",
       "2       485.000000         NaN  1973.0           NaN   2034.0  51.433200   \n",
       "98     1490.000000    0.550000  1970.0        1998.0   2013.0  51.622300   \n",
       "129     200.000000         NaN  1986.0        1986.0   2020.0  46.911700   \n",
       "150     596.493211         NaN  1958.0        2010.0   2022.0  49.152500   \n",
       "151     451.000000    0.187765  1968.0           NaN   2009.0  50.431000   \n",
       "...            ...         ...     ...           ...      ...        ...   \n",
       "29779    21.645000         NaN  1982.0           NaN      NaN  49.976593   \n",
       "29804    15.200000         NaN  1964.0           NaN      NaN  51.368132   \n",
       "29813   244.000000         NaN  1964.0           NaN      NaN  49.017585   \n",
       "29830   123.000000         NaN  1990.0           NaN      NaN  50.099000   \n",
       "29835   277.000000         NaN  1985.0           NaN      NaN  52.442456   \n",
       "\n",
       "             lon  Duration  Volume_Mm3  DamHeight_m  StorageCapacity_MWh  \\\n",
       "id                                                                         \n",
       "2       3.716000       NaN         0.0          0.0                  0.0   \n",
       "98     -1.260800       NaN         0.0          0.0                  0.0   \n",
       "129    15.488300       NaN         0.0          0.0                  0.0   \n",
       "150     6.698100       NaN         0.0          0.0                  0.0   \n",
       "151     4.395500       NaN         0.0          0.0                  0.0   \n",
       "...          ...       ...         ...          ...                  ...   \n",
       "29779   9.068953       NaN         0.0          0.0                  0.0   \n",
       "29804   6.662350       NaN         0.0          0.0                  0.0   \n",
       "29813   9.157690       NaN         0.0          0.0                  0.0   \n",
       "29830   8.653000       NaN         0.0          0.0                  0.0   \n",
       "29835  10.762681       NaN         0.0          0.0                  0.0   \n",
       "\n",
       "                                            EIC  \\\n",
       "id                                                \n",
       "2                          {'49W000000000054X'}   \n",
       "98                         {'48WSTN0000DIDCBC'}   \n",
       "129                        {'14W-WML-KW-----0'}   \n",
       "150    {'17W100P100P0344D', '17W100P100P0345B'}   \n",
       "151                        {'22WAMERCO000010Y'}   \n",
       "...                                         ...   \n",
       "29779                                     {nan}   \n",
       "29804                                     {nan}   \n",
       "29813                                {nan, nan}   \n",
       "29830                                {nan, nan}   \n",
       "29835                                {nan, nan}   \n",
       "\n",
       "                                               projectID  \n",
       "id                                                        \n",
       "2      {'BEYONDCOAL': {'BEYOND-NL-2'}, 'ENTSOE': {'49...  \n",
       "98     {'BEYONDCOAL': {'BEYOND-UK-22'}, 'ENTSOE': {'4...  \n",
       "129    {'BEYONDCOAL': {'BEYOND-AT-11'}, 'ENTSOE': {'1...  \n",
       "150    {'BEYONDCOAL': {'BEYOND-FR-67'}, 'ENTSOE': {'1...  \n",
       "151    {'BEYONDCOAL': {'BEYOND-BE-27'}, 'ENTSOE': {'2...  \n",
       "...                                                  ...  \n",
       "29779               {'MASTR': {'MASTR-SEE971943692655'}}  \n",
       "29804               {'MASTR': {'MASTR-SEE988421065542'}}  \n",
       "29813  {'MASTR': {'MASTR-SEE937157344278', 'MASTR-SEE...  \n",
       "29830  {'MASTR': {'MASTR-SEE915289541482', 'MASTR-SEE...  \n",
       "29835  {'MASTR': {'MASTR-SEE917432813484', 'MASTR-SEE...  \n",
       "\n",
       "[332 rows x 18 columns]"
      ]
     },
     "execution_count": 27,
     "metadata": {},
     "output_type": "execute_result"
    }
   ],
   "source": [
    "coal = df.loc[df.Fueltype == \"Hard Coal\"]\n",
    "coal"
   ]
  },
  {
   "cell_type": "markdown",
   "metadata": {},
   "source": [
    "**Task 3:** Identify the three largest coal power plants. In which countries are they located? When were they built?"
   ]
  },
  {
   "cell_type": "code",
   "execution_count": 28,
   "metadata": {
    "tags": [
     "hide-cell"
    ]
   },
   "outputs": [
    {
     "data": {
      "text/html": [
       "<div>\n",
       "<style scoped>\n",
       "    .dataframe tbody tr th:only-of-type {\n",
       "        vertical-align: middle;\n",
       "    }\n",
       "\n",
       "    .dataframe tbody tr th {\n",
       "        vertical-align: top;\n",
       "    }\n",
       "\n",
       "    .dataframe thead th {\n",
       "        text-align: right;\n",
       "    }\n",
       "</style>\n",
       "<table border=\"1\" class=\"dataframe\">\n",
       "  <thead>\n",
       "    <tr style=\"text-align: right;\">\n",
       "      <th></th>\n",
       "      <th>Name</th>\n",
       "      <th>Fueltype</th>\n",
       "      <th>Technology</th>\n",
       "      <th>Set</th>\n",
       "      <th>Country</th>\n",
       "      <th>Capacity</th>\n",
       "      <th>Efficiency</th>\n",
       "      <th>DateIn</th>\n",
       "      <th>DateRetrofit</th>\n",
       "      <th>DateOut</th>\n",
       "      <th>lat</th>\n",
       "      <th>lon</th>\n",
       "      <th>Duration</th>\n",
       "      <th>Volume_Mm3</th>\n",
       "      <th>DamHeight_m</th>\n",
       "      <th>StorageCapacity_MWh</th>\n",
       "      <th>EIC</th>\n",
       "      <th>projectID</th>\n",
       "    </tr>\n",
       "    <tr>\n",
       "      <th>id</th>\n",
       "      <th></th>\n",
       "      <th></th>\n",
       "      <th></th>\n",
       "      <th></th>\n",
       "      <th></th>\n",
       "      <th></th>\n",
       "      <th></th>\n",
       "      <th></th>\n",
       "      <th></th>\n",
       "      <th></th>\n",
       "      <th></th>\n",
       "      <th></th>\n",
       "      <th></th>\n",
       "      <th></th>\n",
       "      <th></th>\n",
       "      <th></th>\n",
       "      <th></th>\n",
       "      <th></th>\n",
       "    </tr>\n",
       "  </thead>\n",
       "  <tbody>\n",
       "    <tr>\n",
       "      <th>194</th>\n",
       "      <td>Kozienice</td>\n",
       "      <td>Hard Coal</td>\n",
       "      <td>Steam Turbine</td>\n",
       "      <td>PP</td>\n",
       "      <td>Poland</td>\n",
       "      <td>3682.216205</td>\n",
       "      <td>NaN</td>\n",
       "      <td>1972.0</td>\n",
       "      <td>NaN</td>\n",
       "      <td>2042.0</td>\n",
       "      <td>51.6647</td>\n",
       "      <td>21.4667</td>\n",
       "      <td>NaN</td>\n",
       "      <td>0.0</td>\n",
       "      <td>0.0</td>\n",
       "      <td>0.0</td>\n",
       "      <td>{'19W000000000104I', '19W000000000095U'}</td>\n",
       "      <td>{'BEYONDCOAL': {'BEYOND-PL-96'}, 'ENTSOE': {'1...</td>\n",
       "    </tr>\n",
       "    <tr>\n",
       "      <th>3652</th>\n",
       "      <td>Vuglegirska</td>\n",
       "      <td>Hard Coal</td>\n",
       "      <td>CCGT</td>\n",
       "      <td>PP</td>\n",
       "      <td>Ukraine</td>\n",
       "      <td>3600.000000</td>\n",
       "      <td>NaN</td>\n",
       "      <td>1972.0</td>\n",
       "      <td>NaN</td>\n",
       "      <td>NaN</td>\n",
       "      <td>48.4652</td>\n",
       "      <td>38.2027</td>\n",
       "      <td>NaN</td>\n",
       "      <td>0.0</td>\n",
       "      <td>0.0</td>\n",
       "      <td>0.0</td>\n",
       "      <td>{nan}</td>\n",
       "      <td>{'GPD': {'WRI1005107'}, 'GEO': {'GEO-43001'}}</td>\n",
       "    </tr>\n",
       "    <tr>\n",
       "      <th>767</th>\n",
       "      <td>Opole</td>\n",
       "      <td>Hard Coal</td>\n",
       "      <td>Steam Turbine</td>\n",
       "      <td>PP</td>\n",
       "      <td>Poland</td>\n",
       "      <td>3071.893939</td>\n",
       "      <td>NaN</td>\n",
       "      <td>1993.0</td>\n",
       "      <td>NaN</td>\n",
       "      <td>2020.0</td>\n",
       "      <td>50.7518</td>\n",
       "      <td>17.8820</td>\n",
       "      <td>NaN</td>\n",
       "      <td>0.0</td>\n",
       "      <td>0.0</td>\n",
       "      <td>0.0</td>\n",
       "      <td>{'19W0000000001292'}</td>\n",
       "      <td>{'BEYONDCOAL': {'BEYOND-PL-16'}, 'ENTSOE': {'1...</td>\n",
       "    </tr>\n",
       "  </tbody>\n",
       "</table>\n",
       "</div>"
      ],
      "text/plain": [
       "             Name   Fueltype     Technology Set  Country     Capacity  \\\n",
       "id                                                                      \n",
       "194     Kozienice  Hard Coal  Steam Turbine  PP   Poland  3682.216205   \n",
       "3652  Vuglegirska  Hard Coal           CCGT  PP  Ukraine  3600.000000   \n",
       "767         Opole  Hard Coal  Steam Turbine  PP   Poland  3071.893939   \n",
       "\n",
       "      Efficiency  DateIn  DateRetrofit  DateOut      lat      lon  Duration  \\\n",
       "id                                                                            \n",
       "194          NaN  1972.0           NaN   2042.0  51.6647  21.4667       NaN   \n",
       "3652         NaN  1972.0           NaN      NaN  48.4652  38.2027       NaN   \n",
       "767          NaN  1993.0           NaN   2020.0  50.7518  17.8820       NaN   \n",
       "\n",
       "      Volume_Mm3  DamHeight_m  StorageCapacity_MWh  \\\n",
       "id                                                   \n",
       "194          0.0          0.0                  0.0   \n",
       "3652         0.0          0.0                  0.0   \n",
       "767          0.0          0.0                  0.0   \n",
       "\n",
       "                                           EIC  \\\n",
       "id                                               \n",
       "194   {'19W000000000104I', '19W000000000095U'}   \n",
       "3652                                     {nan}   \n",
       "767                       {'19W0000000001292'}   \n",
       "\n",
       "                                              projectID  \n",
       "id                                                       \n",
       "194   {'BEYONDCOAL': {'BEYOND-PL-96'}, 'ENTSOE': {'1...  \n",
       "3652      {'GPD': {'WRI1005107'}, 'GEO': {'GEO-43001'}}  \n",
       "767   {'BEYONDCOAL': {'BEYOND-PL-16'}, 'ENTSOE': {'1...  "
      ]
     },
     "execution_count": 28,
     "metadata": {},
     "output_type": "execute_result"
    }
   ],
   "source": [
    "coal.loc[coal.Capacity.nlargest(3).index]"
   ]
  },
  {
   "cell_type": "markdown",
   "metadata": {},
   "source": [
    "**Task 4:** What is the average \"DateIn\" of each \"Fueltype\"? Which type of power plants is the oldest on average?"
   ]
  },
  {
   "cell_type": "code",
   "execution_count": 29,
   "metadata": {
    "tags": [
     "hide-cell"
    ]
   },
   "outputs": [
    {
     "data": {
      "text/plain": [
       "Fueltype\n",
       "Hard Coal        52.092593\n",
       "Hydro            51.232471\n",
       "Nuclear          48.214953\n",
       "Lignite          47.184211\n",
       "Other            31.543103\n",
       "Waste            26.845588\n",
       "Geothermal       23.857143\n",
       "Oil              23.410138\n",
       "Solid Biomass    22.516588\n",
       "Natural Gas      22.081505\n",
       "Wind             14.483789\n",
       "Biogas           11.415730\n",
       "Solar             8.584491\n",
       "Name: DateIn, dtype: float64"
      ]
     },
     "execution_count": 29,
     "metadata": {},
     "output_type": "execute_result"
    }
   ],
   "source": [
    "2024 - df.groupby(\"Fueltype\").DateIn.mean().sort_values()"
   ]
  },
  {
   "cell_type": "markdown",
   "metadata": {},
   "source": [
    "**Task 5:** In the time series provided, calculate the annual average capacity factors of wind and solar."
   ]
  },
  {
   "cell_type": "code",
   "execution_count": 30,
   "metadata": {
    "tags": [
     "hide-cell"
    ]
   },
   "outputs": [
    {
     "data": {
      "text/plain": [
       "load       54.736992\n",
       "onwind      0.205556\n",
       "offwind     0.362993\n",
       "solar       0.122621\n",
       "prices     31.835717\n",
       "dtype: float64"
      ]
     },
     "execution_count": 30,
     "metadata": {},
     "output_type": "execute_result"
    }
   ],
   "source": [
    "ts.mean()"
   ]
  },
  {
   "cell_type": "markdown",
   "metadata": {},
   "source": [
    "**Task 6:** In the time series provided, calculate and plot the monthly average electricity price."
   ]
  },
  {
   "cell_type": "code",
   "execution_count": 31,
   "metadata": {
    "tags": [
     "hide-cell"
    ]
   },
   "outputs": [
    {
     "data": {
      "application/vnd.plotly.v1+json": {
       "config": {
        "plotlyServerURL": "https://plot.ly"
       },
       "data": [
        {
         "hovertemplate": "variable=prices<br>index=%{x}<br>value=%{y}<extra></extra>",
         "legendgroup": "prices",
         "line": {
          "color": "#636efa",
          "dash": "solid"
         },
         "marker": {
          "symbol": "circle"
         },
         "mode": "lines",
         "name": "prices",
         "orientation": "v",
         "showlegend": true,
         "type": "scatter",
         "x": [
          "2015-01-31T00:00:00",
          "2015-02-28T00:00:00",
          "2015-03-31T00:00:00",
          "2015-04-30T00:00:00",
          "2015-05-31T00:00:00",
          "2015-06-30T00:00:00",
          "2015-07-31T00:00:00",
          "2015-08-31T00:00:00",
          "2015-09-30T00:00:00",
          "2015-10-31T00:00:00",
          "2015-11-30T00:00:00",
          "2015-12-31T00:00:00"
         ],
         "xaxis": "x",
         "y": [
          31.05307098765432,
          36.71691964285714,
          31.34314939434724,
          29.724375,
          25.357916666666668,
          30.06438888888889,
          34.99568548387097,
          31.605094086021502,
          31.881319444444443,
          39.3815188172043,
          32.389375,
          27.780604838709678
         ],
         "yaxis": "y"
        }
       ],
       "layout": {
        "legend": {
         "title": {
          "text": "variable"
         },
         "tracegroupgap": 0
        },
        "margin": {
         "t": 60
        },
        "template": {
         "data": {
          "bar": [
           {
            "error_x": {
             "color": "#2a3f5f"
            },
            "error_y": {
             "color": "#2a3f5f"
            },
            "marker": {
             "line": {
              "color": "#E5ECF6",
              "width": 0.5
             },
             "pattern": {
              "fillmode": "overlay",
              "size": 10,
              "solidity": 0.2
             }
            },
            "type": "bar"
           }
          ],
          "barpolar": [
           {
            "marker": {
             "line": {
              "color": "#E5ECF6",
              "width": 0.5
             },
             "pattern": {
              "fillmode": "overlay",
              "size": 10,
              "solidity": 0.2
             }
            },
            "type": "barpolar"
           }
          ],
          "carpet": [
           {
            "aaxis": {
             "endlinecolor": "#2a3f5f",
             "gridcolor": "white",
             "linecolor": "white",
             "minorgridcolor": "white",
             "startlinecolor": "#2a3f5f"
            },
            "baxis": {
             "endlinecolor": "#2a3f5f",
             "gridcolor": "white",
             "linecolor": "white",
             "minorgridcolor": "white",
             "startlinecolor": "#2a3f5f"
            },
            "type": "carpet"
           }
          ],
          "choropleth": [
           {
            "colorbar": {
             "outlinewidth": 0,
             "ticks": ""
            },
            "type": "choropleth"
           }
          ],
          "contour": [
           {
            "colorbar": {
             "outlinewidth": 0,
             "ticks": ""
            },
            "colorscale": [
             [
              0,
              "#0d0887"
             ],
             [
              0.1111111111111111,
              "#46039f"
             ],
             [
              0.2222222222222222,
              "#7201a8"
             ],
             [
              0.3333333333333333,
              "#9c179e"
             ],
             [
              0.4444444444444444,
              "#bd3786"
             ],
             [
              0.5555555555555556,
              "#d8576b"
             ],
             [
              0.6666666666666666,
              "#ed7953"
             ],
             [
              0.7777777777777778,
              "#fb9f3a"
             ],
             [
              0.8888888888888888,
              "#fdca26"
             ],
             [
              1,
              "#f0f921"
             ]
            ],
            "type": "contour"
           }
          ],
          "contourcarpet": [
           {
            "colorbar": {
             "outlinewidth": 0,
             "ticks": ""
            },
            "type": "contourcarpet"
           }
          ],
          "heatmap": [
           {
            "colorbar": {
             "outlinewidth": 0,
             "ticks": ""
            },
            "colorscale": [
             [
              0,
              "#0d0887"
             ],
             [
              0.1111111111111111,
              "#46039f"
             ],
             [
              0.2222222222222222,
              "#7201a8"
             ],
             [
              0.3333333333333333,
              "#9c179e"
             ],
             [
              0.4444444444444444,
              "#bd3786"
             ],
             [
              0.5555555555555556,
              "#d8576b"
             ],
             [
              0.6666666666666666,
              "#ed7953"
             ],
             [
              0.7777777777777778,
              "#fb9f3a"
             ],
             [
              0.8888888888888888,
              "#fdca26"
             ],
             [
              1,
              "#f0f921"
             ]
            ],
            "type": "heatmap"
           }
          ],
          "heatmapgl": [
           {
            "colorbar": {
             "outlinewidth": 0,
             "ticks": ""
            },
            "colorscale": [
             [
              0,
              "#0d0887"
             ],
             [
              0.1111111111111111,
              "#46039f"
             ],
             [
              0.2222222222222222,
              "#7201a8"
             ],
             [
              0.3333333333333333,
              "#9c179e"
             ],
             [
              0.4444444444444444,
              "#bd3786"
             ],
             [
              0.5555555555555556,
              "#d8576b"
             ],
             [
              0.6666666666666666,
              "#ed7953"
             ],
             [
              0.7777777777777778,
              "#fb9f3a"
             ],
             [
              0.8888888888888888,
              "#fdca26"
             ],
             [
              1,
              "#f0f921"
             ]
            ],
            "type": "heatmapgl"
           }
          ],
          "histogram": [
           {
            "marker": {
             "pattern": {
              "fillmode": "overlay",
              "size": 10,
              "solidity": 0.2
             }
            },
            "type": "histogram"
           }
          ],
          "histogram2d": [
           {
            "colorbar": {
             "outlinewidth": 0,
             "ticks": ""
            },
            "colorscale": [
             [
              0,
              "#0d0887"
             ],
             [
              0.1111111111111111,
              "#46039f"
             ],
             [
              0.2222222222222222,
              "#7201a8"
             ],
             [
              0.3333333333333333,
              "#9c179e"
             ],
             [
              0.4444444444444444,
              "#bd3786"
             ],
             [
              0.5555555555555556,
              "#d8576b"
             ],
             [
              0.6666666666666666,
              "#ed7953"
             ],
             [
              0.7777777777777778,
              "#fb9f3a"
             ],
             [
              0.8888888888888888,
              "#fdca26"
             ],
             [
              1,
              "#f0f921"
             ]
            ],
            "type": "histogram2d"
           }
          ],
          "histogram2dcontour": [
           {
            "colorbar": {
             "outlinewidth": 0,
             "ticks": ""
            },
            "colorscale": [
             [
              0,
              "#0d0887"
             ],
             [
              0.1111111111111111,
              "#46039f"
             ],
             [
              0.2222222222222222,
              "#7201a8"
             ],
             [
              0.3333333333333333,
              "#9c179e"
             ],
             [
              0.4444444444444444,
              "#bd3786"
             ],
             [
              0.5555555555555556,
              "#d8576b"
             ],
             [
              0.6666666666666666,
              "#ed7953"
             ],
             [
              0.7777777777777778,
              "#fb9f3a"
             ],
             [
              0.8888888888888888,
              "#fdca26"
             ],
             [
              1,
              "#f0f921"
             ]
            ],
            "type": "histogram2dcontour"
           }
          ],
          "mesh3d": [
           {
            "colorbar": {
             "outlinewidth": 0,
             "ticks": ""
            },
            "type": "mesh3d"
           }
          ],
          "parcoords": [
           {
            "line": {
             "colorbar": {
              "outlinewidth": 0,
              "ticks": ""
             }
            },
            "type": "parcoords"
           }
          ],
          "pie": [
           {
            "automargin": true,
            "type": "pie"
           }
          ],
          "scatter": [
           {
            "fillpattern": {
             "fillmode": "overlay",
             "size": 10,
             "solidity": 0.2
            },
            "type": "scatter"
           }
          ],
          "scatter3d": [
           {
            "line": {
             "colorbar": {
              "outlinewidth": 0,
              "ticks": ""
             }
            },
            "marker": {
             "colorbar": {
              "outlinewidth": 0,
              "ticks": ""
             }
            },
            "type": "scatter3d"
           }
          ],
          "scattercarpet": [
           {
            "marker": {
             "colorbar": {
              "outlinewidth": 0,
              "ticks": ""
             }
            },
            "type": "scattercarpet"
           }
          ],
          "scattergeo": [
           {
            "marker": {
             "colorbar": {
              "outlinewidth": 0,
              "ticks": ""
             }
            },
            "type": "scattergeo"
           }
          ],
          "scattergl": [
           {
            "marker": {
             "colorbar": {
              "outlinewidth": 0,
              "ticks": ""
             }
            },
            "type": "scattergl"
           }
          ],
          "scattermapbox": [
           {
            "marker": {
             "colorbar": {
              "outlinewidth": 0,
              "ticks": ""
             }
            },
            "type": "scattermapbox"
           }
          ],
          "scatterpolar": [
           {
            "marker": {
             "colorbar": {
              "outlinewidth": 0,
              "ticks": ""
             }
            },
            "type": "scatterpolar"
           }
          ],
          "scatterpolargl": [
           {
            "marker": {
             "colorbar": {
              "outlinewidth": 0,
              "ticks": ""
             }
            },
            "type": "scatterpolargl"
           }
          ],
          "scatterternary": [
           {
            "marker": {
             "colorbar": {
              "outlinewidth": 0,
              "ticks": ""
             }
            },
            "type": "scatterternary"
           }
          ],
          "surface": [
           {
            "colorbar": {
             "outlinewidth": 0,
             "ticks": ""
            },
            "colorscale": [
             [
              0,
              "#0d0887"
             ],
             [
              0.1111111111111111,
              "#46039f"
             ],
             [
              0.2222222222222222,
              "#7201a8"
             ],
             [
              0.3333333333333333,
              "#9c179e"
             ],
             [
              0.4444444444444444,
              "#bd3786"
             ],
             [
              0.5555555555555556,
              "#d8576b"
             ],
             [
              0.6666666666666666,
              "#ed7953"
             ],
             [
              0.7777777777777778,
              "#fb9f3a"
             ],
             [
              0.8888888888888888,
              "#fdca26"
             ],
             [
              1,
              "#f0f921"
             ]
            ],
            "type": "surface"
           }
          ],
          "table": [
           {
            "cells": {
             "fill": {
              "color": "#EBF0F8"
             },
             "line": {
              "color": "white"
             }
            },
            "header": {
             "fill": {
              "color": "#C8D4E3"
             },
             "line": {
              "color": "white"
             }
            },
            "type": "table"
           }
          ]
         },
         "layout": {
          "annotationdefaults": {
           "arrowcolor": "#2a3f5f",
           "arrowhead": 0,
           "arrowwidth": 1
          },
          "autotypenumbers": "strict",
          "coloraxis": {
           "colorbar": {
            "outlinewidth": 0,
            "ticks": ""
           }
          },
          "colorscale": {
           "diverging": [
            [
             0,
             "#8e0152"
            ],
            [
             0.1,
             "#c51b7d"
            ],
            [
             0.2,
             "#de77ae"
            ],
            [
             0.3,
             "#f1b6da"
            ],
            [
             0.4,
             "#fde0ef"
            ],
            [
             0.5,
             "#f7f7f7"
            ],
            [
             0.6,
             "#e6f5d0"
            ],
            [
             0.7,
             "#b8e186"
            ],
            [
             0.8,
             "#7fbc41"
            ],
            [
             0.9,
             "#4d9221"
            ],
            [
             1,
             "#276419"
            ]
           ],
           "sequential": [
            [
             0,
             "#0d0887"
            ],
            [
             0.1111111111111111,
             "#46039f"
            ],
            [
             0.2222222222222222,
             "#7201a8"
            ],
            [
             0.3333333333333333,
             "#9c179e"
            ],
            [
             0.4444444444444444,
             "#bd3786"
            ],
            [
             0.5555555555555556,
             "#d8576b"
            ],
            [
             0.6666666666666666,
             "#ed7953"
            ],
            [
             0.7777777777777778,
             "#fb9f3a"
            ],
            [
             0.8888888888888888,
             "#fdca26"
            ],
            [
             1,
             "#f0f921"
            ]
           ],
           "sequentialminus": [
            [
             0,
             "#0d0887"
            ],
            [
             0.1111111111111111,
             "#46039f"
            ],
            [
             0.2222222222222222,
             "#7201a8"
            ],
            [
             0.3333333333333333,
             "#9c179e"
            ],
            [
             0.4444444444444444,
             "#bd3786"
            ],
            [
             0.5555555555555556,
             "#d8576b"
            ],
            [
             0.6666666666666666,
             "#ed7953"
            ],
            [
             0.7777777777777778,
             "#fb9f3a"
            ],
            [
             0.8888888888888888,
             "#fdca26"
            ],
            [
             1,
             "#f0f921"
            ]
           ]
          },
          "colorway": [
           "#636efa",
           "#EF553B",
           "#00cc96",
           "#ab63fa",
           "#FFA15A",
           "#19d3f3",
           "#FF6692",
           "#B6E880",
           "#FF97FF",
           "#FECB52"
          ],
          "font": {
           "color": "#2a3f5f"
          },
          "geo": {
           "bgcolor": "white",
           "lakecolor": "white",
           "landcolor": "#E5ECF6",
           "showlakes": true,
           "showland": true,
           "subunitcolor": "white"
          },
          "hoverlabel": {
           "align": "left"
          },
          "hovermode": "closest",
          "mapbox": {
           "style": "light"
          },
          "paper_bgcolor": "white",
          "plot_bgcolor": "#E5ECF6",
          "polar": {
           "angularaxis": {
            "gridcolor": "white",
            "linecolor": "white",
            "ticks": ""
           },
           "bgcolor": "#E5ECF6",
           "radialaxis": {
            "gridcolor": "white",
            "linecolor": "white",
            "ticks": ""
           }
          },
          "scene": {
           "xaxis": {
            "backgroundcolor": "#E5ECF6",
            "gridcolor": "white",
            "gridwidth": 2,
            "linecolor": "white",
            "showbackground": true,
            "ticks": "",
            "zerolinecolor": "white"
           },
           "yaxis": {
            "backgroundcolor": "#E5ECF6",
            "gridcolor": "white",
            "gridwidth": 2,
            "linecolor": "white",
            "showbackground": true,
            "ticks": "",
            "zerolinecolor": "white"
           },
           "zaxis": {
            "backgroundcolor": "#E5ECF6",
            "gridcolor": "white",
            "gridwidth": 2,
            "linecolor": "white",
            "showbackground": true,
            "ticks": "",
            "zerolinecolor": "white"
           }
          },
          "shapedefaults": {
           "line": {
            "color": "#2a3f5f"
           }
          },
          "ternary": {
           "aaxis": {
            "gridcolor": "white",
            "linecolor": "white",
            "ticks": ""
           },
           "baxis": {
            "gridcolor": "white",
            "linecolor": "white",
            "ticks": ""
           },
           "bgcolor": "#E5ECF6",
           "caxis": {
            "gridcolor": "white",
            "linecolor": "white",
            "ticks": ""
           }
          },
          "title": {
           "x": 0.05
          },
          "xaxis": {
           "automargin": true,
           "gridcolor": "white",
           "linecolor": "white",
           "ticks": "",
           "title": {
            "standoff": 15
           },
           "zerolinecolor": "white",
           "zerolinewidth": 2
          },
          "yaxis": {
           "automargin": true,
           "gridcolor": "white",
           "linecolor": "white",
           "ticks": "",
           "title": {
            "standoff": 15
           },
           "zerolinecolor": "white",
           "zerolinewidth": 2
          }
         }
        },
        "xaxis": {
         "anchor": "y",
         "domain": [
          0,
          1
         ],
         "title": {
          "text": "index"
         }
        },
        "yaxis": {
         "anchor": "x",
         "domain": [
          0,
          1
         ],
         "title": {
          "text": "value"
         }
        }
       }
      }
     },
     "metadata": {},
     "output_type": "display_data"
    }
   ],
   "source": [
    "ts[\"prices\"].resample(\"ME\").mean().plot()"
   ]
  },
  {
   "cell_type": "code",
   "execution_count": null,
   "metadata": {},
   "outputs": [],
   "source": []
  }
 ],
 "metadata": {
  "kernelspec": {
   "display_name": "sommerakademie-oxford (3.12.7)",
   "language": "python",
   "name": "python3"
  },
  "language_info": {
   "codemirror_mode": {
    "name": "ipython",
    "version": 3
   },
   "file_extension": ".py",
   "mimetype": "text/x-python",
   "name": "python",
   "nbconvert_exporter": "python",
   "pygments_lexer": "ipython3",
   "version": "3.12.7"
  }
 },
 "nbformat": 4,
 "nbformat_minor": 4
}
